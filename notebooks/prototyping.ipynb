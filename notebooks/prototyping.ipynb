{
 "cells": [
  {
   "cell_type": "code",
   "execution_count": 14,
   "metadata": {
    "ExecuteTime": {
     "end_time": "2018-03-19T11:11:11.110539Z",
     "start_time": "2018-03-19T11:11:10.220025Z"
    }
   },
   "outputs": [
    {
     "name": "stderr",
     "output_type": "stream",
     "text": [
      "/home/magas/.pyenv/versions/3.6.0/envs/general/lib/python3.6/site-packages/numpy/lib/arraysetops.py:472: FutureWarning: elementwise comparison failed; returning scalar instead, but in the future will perform elementwise comparison\n",
      "  mask |= (ar1 == a)\n"
     ]
    },
    {
     "data": {
      "text/html": [
       "<div>\n",
       "<style scoped>\n",
       "    .dataframe tbody tr th:only-of-type {\n",
       "        vertical-align: middle;\n",
       "    }\n",
       "\n",
       "    .dataframe tbody tr th {\n",
       "        vertical-align: top;\n",
       "    }\n",
       "\n",
       "    .dataframe thead th {\n",
       "        text-align: right;\n",
       "    }\n",
       "</style>\n",
       "<table border=\"1\" class=\"dataframe\">\n",
       "  <thead>\n",
       "    <tr style=\"text-align: right;\">\n",
       "      <th></th>\n",
       "      <th>chrom</th>\n",
       "      <th>start</th>\n",
       "      <th>end</th>\n",
       "      <th>peak_pos</th>\n",
       "      <th>score</th>\n",
       "    </tr>\n",
       "  </thead>\n",
       "  <tbody>\n",
       "    <tr>\n",
       "      <th>1037952</th>\n",
       "      <td>chr22</td>\n",
       "      <td>51240000</td>\n",
       "      <td>51240029</td>\n",
       "      <td>51240015</td>\n",
       "      <td>0.88</td>\n",
       "    </tr>\n",
       "    <tr>\n",
       "      <th>1037953</th>\n",
       "      <td>chr22</td>\n",
       "      <td>51240123</td>\n",
       "      <td>51240147</td>\n",
       "      <td>51240135</td>\n",
       "      <td>0.81</td>\n",
       "    </tr>\n",
       "    <tr>\n",
       "      <th>1037954</th>\n",
       "      <td>chr22</td>\n",
       "      <td>51240936</td>\n",
       "      <td>51240962</td>\n",
       "      <td>51240949</td>\n",
       "      <td>0.81</td>\n",
       "    </tr>\n",
       "    <tr>\n",
       "      <th>1037955</th>\n",
       "      <td>chr22</td>\n",
       "      <td>51242531</td>\n",
       "      <td>51242561</td>\n",
       "      <td>51242546</td>\n",
       "      <td>0.76</td>\n",
       "    </tr>\n",
       "    <tr>\n",
       "      <th>1037956</th>\n",
       "      <td>chr22</td>\n",
       "      <td>51243098</td>\n",
       "      <td>51243127</td>\n",
       "      <td>51243116</td>\n",
       "      <td>0.83</td>\n",
       "    </tr>\n",
       "  </tbody>\n",
       "</table>\n",
       "</div>"
      ],
      "text/plain": [
       "         chrom     start       end  peak_pos  score\n",
       "1037952  chr22  51240000  51240029  51240015   0.88\n",
       "1037953  chr22  51240123  51240147  51240135   0.81\n",
       "1037954  chr22  51240936  51240962  51240949   0.81\n",
       "1037955  chr22  51242531  51242561  51242546   0.76\n",
       "1037956  chr22  51243098  51243127  51243116   0.83"
      ]
     },
     "execution_count": 14,
     "metadata": {},
     "output_type": "execute_result"
    }
   ],
   "source": [
    "%matplotlib inline\n",
    "import matplotlib.pyplot as plt\n",
    "import seaborn as sns\n",
    "import numpy as np\n",
    "import os\n",
    "import pandas as pd\n",
    "from tqdm import tqdm_notebook as tqdm\n",
    "\n",
    "uplifted = pd.read_csv('../data/peaks.min_peak_score_0.6.thresh_0.5.csv', index_col=0)\n",
    "# uplifted.drop('Unnamed: 0', inplace=True, axis=1)\n",
    "uplifted.tail()"
   ]
  },
  {
   "cell_type": "code",
   "execution_count": 15,
   "metadata": {
    "ExecuteTime": {
     "end_time": "2018-03-19T11:11:15.008280Z",
     "start_time": "2018-03-19T11:11:11.111927Z"
    }
   },
   "outputs": [
    {
     "name": "stderr",
     "output_type": "stream",
     "text": [
      "/home/magas/.pyenv/versions/3.6.0/envs/general/lib/python3.6/site-packages/numpy/lib/arraysetops.py:472: FutureWarning: elementwise comparison failed; returning scalar instead, but in the future will perform elementwise comparison\n",
      "  mask |= (ar1 == a)\n"
     ]
    },
    {
     "data": {
      "text/html": [
       "<div>\n",
       "<style scoped>\n",
       "    .dataframe tbody tr th:only-of-type {\n",
       "        vertical-align: middle;\n",
       "    }\n",
       "\n",
       "    .dataframe tbody tr th {\n",
       "        vertical-align: top;\n",
       "    }\n",
       "\n",
       "    .dataframe thead th {\n",
       "        text-align: right;\n",
       "    }\n",
       "</style>\n",
       "<table border=\"1\" class=\"dataframe\">\n",
       "  <thead>\n",
       "    <tr style=\"text-align: right;\">\n",
       "      <th></th>\n",
       "      <th>start</th>\n",
       "      <th>end</th>\n",
       "      <th>len_stem</th>\n",
       "      <th>len_loop</th>\n",
       "    </tr>\n",
       "  </thead>\n",
       "  <tbody>\n",
       "    <tr>\n",
       "      <th>10941414</th>\n",
       "      <td>249239500</td>\n",
       "      <td>249239542</td>\n",
       "      <td>18</td>\n",
       "      <td>10</td>\n",
       "    </tr>\n",
       "    <tr>\n",
       "      <th>10941416</th>\n",
       "      <td>249239505</td>\n",
       "      <td>249239540</td>\n",
       "      <td>15</td>\n",
       "      <td>8</td>\n",
       "    </tr>\n",
       "    <tr>\n",
       "      <th>10941418</th>\n",
       "      <td>249239530</td>\n",
       "      <td>249239566</td>\n",
       "      <td>15</td>\n",
       "      <td>9</td>\n",
       "    </tr>\n",
       "    <tr>\n",
       "      <th>10941422</th>\n",
       "      <td>249239532</td>\n",
       "      <td>249239564</td>\n",
       "      <td>16</td>\n",
       "      <td>4</td>\n",
       "    </tr>\n",
       "    <tr>\n",
       "      <th>10941426</th>\n",
       "      <td>249239644</td>\n",
       "      <td>249239681</td>\n",
       "      <td>17</td>\n",
       "      <td>7</td>\n",
       "    </tr>\n",
       "  </tbody>\n",
       "</table>\n",
       "</div>"
      ],
      "text/plain": [
       "              start        end  len_stem  len_loop\n",
       "10941414  249239500  249239542        18        10\n",
       "10941416  249239505  249239540        15         8\n",
       "10941418  249239530  249239566        15         9\n",
       "10941422  249239532  249239564        16         4\n",
       "10941426  249239644  249239681        17         7"
      ]
     },
     "execution_count": 15,
     "metadata": {},
     "output_type": "execute_result"
    }
   ],
   "source": [
    "df = pd.read_csv('../data/chr1.S15-30.filtered.csv', index_col=0, dtype='int')\n",
    "df.tail()"
   ]
  },
  {
   "cell_type": "code",
   "execution_count": 16,
   "metadata": {
    "ExecuteTime": {
     "end_time": "2018-03-19T11:11:18.992271Z",
     "start_time": "2018-03-19T11:11:15.009464Z"
    }
   },
   "outputs": [
    {
     "data": {
      "text/html": [
       "<div>\n",
       "<style scoped>\n",
       "    .dataframe tbody tr th:only-of-type {\n",
       "        vertical-align: middle;\n",
       "    }\n",
       "\n",
       "    .dataframe tbody tr th {\n",
       "        vertical-align: top;\n",
       "    }\n",
       "\n",
       "    .dataframe thead th {\n",
       "        text-align: right;\n",
       "    }\n",
       "</style>\n",
       "<table border=\"1\" class=\"dataframe\">\n",
       "  <thead>\n",
       "    <tr style=\"text-align: right;\">\n",
       "      <th></th>\n",
       "      <th>start</th>\n",
       "      <th>end</th>\n",
       "      <th>len_stem</th>\n",
       "      <th>len_loop</th>\n",
       "      <th>center</th>\n",
       "      <th>struct</th>\n",
       "      <th>before</th>\n",
       "      <th>after</th>\n",
       "      <th>half_struct</th>\n",
       "    </tr>\n",
       "  </thead>\n",
       "  <tbody>\n",
       "    <tr>\n",
       "      <th>0</th>\n",
       "      <td>1354102</td>\n",
       "      <td>1354142</td>\n",
       "      <td>17</td>\n",
       "      <td>8</td>\n",
       "      <td>1354122</td>\n",
       "      <td>CAGGCAGGCGCAGGCCTGGTTTCGGGCCTAGCGCCAGGCT</td>\n",
       "      <td>TTCAACTACTGGGTTTAGGC</td>\n",
       "      <td>GCCTGCCTGTCTTTGGTTTT</td>\n",
       "      <td>CAGGCAGGCGCAGGCCTGGT</td>\n",
       "    </tr>\n",
       "    <tr>\n",
       "      <th>1</th>\n",
       "      <td>3773878</td>\n",
       "      <td>3773916</td>\n",
       "      <td>16</td>\n",
       "      <td>7</td>\n",
       "      <td>3773897</td>\n",
       "      <td>GGGGCCACGGCACCTGGGCACACCAGGTGGCGTCGCGC</td>\n",
       "      <td>CTCAGGGTTGTGTAGTTTCC</td>\n",
       "      <td>CTTTGCTTTCCTGAGCCTTC</td>\n",
       "      <td>GGGGCCACGGCACCTGGGC</td>\n",
       "    </tr>\n",
       "    <tr>\n",
       "      <th>2</th>\n",
       "      <td>4215013</td>\n",
       "      <td>4215053</td>\n",
       "      <td>17</td>\n",
       "      <td>9</td>\n",
       "      <td>4215033</td>\n",
       "      <td>AGGCTGGAGTGCAGTGGCACAGTCACAACTCACTGCAGCC</td>\n",
       "      <td>TTTAACAGGCTCCATTGCCC</td>\n",
       "      <td>TTGACCACCTGGGCTTAAGC</td>\n",
       "      <td>AGGCTGGAGTGCAGTGGCAC</td>\n",
       "    </tr>\n",
       "    <tr>\n",
       "      <th>3</th>\n",
       "      <td>9648647</td>\n",
       "      <td>9648689</td>\n",
       "      <td>17</td>\n",
       "      <td>10</td>\n",
       "      <td>9648668</td>\n",
       "      <td>GCCCTCCCCGCGCCGCCTTCCACCTCCGGCCGCGCGGGGGCG</td>\n",
       "      <td>CCTACAGGGCTCCGTGCCCC</td>\n",
       "      <td>CTCCCCGGCCGGCTCTGTCG</td>\n",
       "      <td>GCCCTCCCCGCGCCGCCTTCC</td>\n",
       "    </tr>\n",
       "    <tr>\n",
       "      <th>4</th>\n",
       "      <td>9898650</td>\n",
       "      <td>9898683</td>\n",
       "      <td>17</td>\n",
       "      <td>2</td>\n",
       "      <td>9898666</td>\n",
       "      <td>GATTGCAGTGAGCGGAGATCGCGCCACTGCACT</td>\n",
       "      <td>GCGTGAACCTGGGGGGCAGA</td>\n",
       "      <td>CCAGCCTGGGTGACAGAGCG</td>\n",
       "      <td>GATTGCAGTGAGCGGA</td>\n",
       "    </tr>\n",
       "  </tbody>\n",
       "</table>\n",
       "</div>"
      ],
      "text/plain": [
       "     start      end  len_stem  len_loop   center  \\\n",
       "0  1354102  1354142        17         8  1354122   \n",
       "1  3773878  3773916        16         7  3773897   \n",
       "2  4215013  4215053        17         9  4215033   \n",
       "3  9648647  9648689        17        10  9648668   \n",
       "4  9898650  9898683        17         2  9898666   \n",
       "\n",
       "                                       struct                before  \\\n",
       "0    CAGGCAGGCGCAGGCCTGGTTTCGGGCCTAGCGCCAGGCT  TTCAACTACTGGGTTTAGGC   \n",
       "1      GGGGCCACGGCACCTGGGCACACCAGGTGGCGTCGCGC  CTCAGGGTTGTGTAGTTTCC   \n",
       "2    AGGCTGGAGTGCAGTGGCACAGTCACAACTCACTGCAGCC  TTTAACAGGCTCCATTGCCC   \n",
       "3  GCCCTCCCCGCGCCGCCTTCCACCTCCGGCCGCGCGGGGGCG  CCTACAGGGCTCCGTGCCCC   \n",
       "4           GATTGCAGTGAGCGGAGATCGCGCCACTGCACT  GCGTGAACCTGGGGGGCAGA   \n",
       "\n",
       "                  after            half_struct  \n",
       "0  GCCTGCCTGTCTTTGGTTTT   CAGGCAGGCGCAGGCCTGGT  \n",
       "1  CTTTGCTTTCCTGAGCCTTC    GGGGCCACGGCACCTGGGC  \n",
       "2  TTGACCACCTGGGCTTAAGC   AGGCTGGAGTGCAGTGGCAC  \n",
       "3  CTCCCCGGCCGGCTCTGTCG  GCCCTCCCCGCGCCGCCTTCC  \n",
       "4  CCAGCCTGGGTGACAGAGCG       GATTGCAGTGAGCGGA  "
      ]
     },
     "execution_count": 16,
     "metadata": {},
     "output_type": "execute_result"
    }
   ],
   "source": [
    "ss10bp = pd.read_csv('../data/sec_struct_0-10bp_to_nucleosome.csv', dtype='int')\n",
    "\n",
    "def add_bp_according2_start_end(neg_example):\n",
    "    \"\"\"\n",
    "adds nucleotides string according to start-end columns\n",
    "    :param neg_example: DataFrame with start-end columns\n",
    "    \"\"\"\n",
    "    from Bio import SeqIO\n",
    "    first_record = str(next(SeqIO.parse(\"/home/shared/hg19/chr1.fna\", \"fasta\")).seq)\n",
    "\n",
    "    temp = pd.DataFrame(np.ndarray((neg_example.shape[0], 4)),\n",
    "                        columns=[\"struct\", \"before\", \"after\", 'half_struct'], dtype='str')\n",
    "    for idx, row in neg_example.iterrows():\n",
    "        temp.loc[idx][0] = first_record[row['start']:row['end']]\n",
    "        temp.loc[idx][1] = first_record[row['start'] - 20:row['start']]\n",
    "        temp.loc[idx][2] = first_record[row['end']:row['end']    + 20]\n",
    "        temp.loc[idx][3] = first_record[row['start']:row['start'] + (row['end'] - row['start'])//2]\n",
    "\n",
    "    return pd.concat([neg_example, temp], axis=1)\n",
    "\n",
    "ss10bp = add_bp_according2_start_end(ss10bp)\n",
    "ss10bp.head()"
   ]
  },
  {
   "cell_type": "code",
   "execution_count": 17,
   "metadata": {
    "ExecuteTime": {
     "end_time": "2018-03-19T11:11:28.716370Z",
     "start_time": "2018-03-19T11:11:18.993412Z"
    }
   },
   "outputs": [
    {
     "data": {
      "text/html": [
       "<div>\n",
       "<style scoped>\n",
       "    .dataframe tbody tr th:only-of-type {\n",
       "        vertical-align: middle;\n",
       "    }\n",
       "\n",
       "    .dataframe tbody tr th {\n",
       "        vertical-align: top;\n",
       "    }\n",
       "\n",
       "    .dataframe thead th {\n",
       "        text-align: right;\n",
       "    }\n",
       "</style>\n",
       "<table border=\"1\" class=\"dataframe\">\n",
       "  <thead>\n",
       "    <tr style=\"text-align: right;\">\n",
       "      <th></th>\n",
       "      <th>index</th>\n",
       "      <th>start</th>\n",
       "      <th>end</th>\n",
       "      <th>len_stem</th>\n",
       "      <th>len_loop</th>\n",
       "      <th>struct</th>\n",
       "      <th>before</th>\n",
       "      <th>after</th>\n",
       "      <th>half_struct</th>\n",
       "    </tr>\n",
       "  </thead>\n",
       "  <tbody>\n",
       "    <tr>\n",
       "      <th>0</th>\n",
       "      <td>4205072</td>\n",
       "      <td>52656821</td>\n",
       "      <td>52656853</td>\n",
       "      <td>18</td>\n",
       "      <td>1</td>\n",
       "      <td>GGCTGGTCTTGAACTCCTGGACTCAAGCAGTC</td>\n",
       "      <td>GGGTTTCACCATGTTGCCCA</td>\n",
       "      <td>CACCTGCTTTGGCCTCCCAA</td>\n",
       "      <td>GGCTGGTCTTGAACTC</td>\n",
       "    </tr>\n",
       "    <tr>\n",
       "      <th>1</th>\n",
       "      <td>4680350</td>\n",
       "      <td>185371268</td>\n",
       "      <td>185371299</td>\n",
       "      <td>16</td>\n",
       "      <td>4</td>\n",
       "      <td>CACTGAATTATTTATCTTTATAAATTGCTAG</td>\n",
       "      <td>TTGAATATTAAAAATATTTT</td>\n",
       "      <td>TGGTTTAAAAATACATAAAT</td>\n",
       "      <td>CACTGAATTATTTAT</td>\n",
       "    </tr>\n",
       "  </tbody>\n",
       "</table>\n",
       "</div>"
      ],
      "text/plain": [
       "     index      start        end  len_stem  len_loop  \\\n",
       "0  4205072   52656821   52656853        18         1   \n",
       "1  4680350  185371268  185371299        16         4   \n",
       "\n",
       "                             struct                before  \\\n",
       "0  GGCTGGTCTTGAACTCCTGGACTCAAGCAGTC  GGGTTTCACCATGTTGCCCA   \n",
       "1   CACTGAATTATTTATCTTTATAAATTGCTAG  TTGAATATTAAAAATATTTT   \n",
       "\n",
       "                  after       half_struct  \n",
       "0  CACCTGCTTTGGCCTCCCAA  GGCTGGTCTTGAACTC  \n",
       "1  TGGTTTAAAAATACATAAAT   CACTGAATTATTTAT  "
      ]
     },
     "execution_count": 17,
     "metadata": {},
     "output_type": "execute_result"
    }
   ],
   "source": [
    "neg_example = df.sample(15000).reset_index()\n",
    "\n",
    "from Bio import SeqIO\n",
    "first_record = str(next(SeqIO.parse(\"/home/shared/hg19/chr1.fna\", \"fasta\")).seq)\n",
    "\n",
    "temp = pd.DataFrame(np.ndarray((neg_example.shape[0], 4)), columns=[\"struct\", \"before\", \"after\", 'half_struct'], dtype='str')\n",
    "for idx, row in neg_example.iterrows():\n",
    "    temp.loc[idx][0] = first_record[row['start']:row['end']]\n",
    "    temp.loc[idx][1] = first_record[row['start'] - 20:row['start']]\n",
    "    temp.loc[idx][2] = first_record[row['end']:row['end']    + 20] \n",
    "    temp.loc[idx][3] = first_record[row['start']:row['start'] + (row['end'] - row['start'])//2]\n",
    "\n",
    "neg_example = pd.concat([neg_example, temp], axis=1)\n",
    "neg_example.head(2)"
   ]
  },
  {
   "cell_type": "code",
   "execution_count": 18,
   "metadata": {
    "ExecuteTime": {
     "end_time": "2018-03-19T11:11:28.837803Z",
     "start_time": "2018-03-19T11:11:28.717654Z"
    }
   },
   "outputs": [
    {
     "data": {
      "text/html": [
       "<div>\n",
       "<style scoped>\n",
       "    .dataframe tbody tr th:only-of-type {\n",
       "        vertical-align: middle;\n",
       "    }\n",
       "\n",
       "    .dataframe tbody tr th {\n",
       "        vertical-align: top;\n",
       "    }\n",
       "\n",
       "    .dataframe thead th {\n",
       "        text-align: right;\n",
       "    }\n",
       "</style>\n",
       "<table border=\"1\" class=\"dataframe\">\n",
       "  <thead>\n",
       "    <tr style=\"text-align: right;\">\n",
       "      <th></th>\n",
       "      <th>after</th>\n",
       "      <th>before</th>\n",
       "      <th>center</th>\n",
       "      <th>end</th>\n",
       "      <th>half_struct</th>\n",
       "      <th>index</th>\n",
       "      <th>len_loop</th>\n",
       "      <th>len_stem</th>\n",
       "      <th>start</th>\n",
       "      <th>struct</th>\n",
       "      <th>value</th>\n",
       "    </tr>\n",
       "  </thead>\n",
       "  <tbody>\n",
       "    <tr>\n",
       "      <th>18456</th>\n",
       "      <td>AAGTGAAAGAAAAACTGGGC</td>\n",
       "      <td>CCCCTCTACCCCTCCTTGTA</td>\n",
       "      <td>50160585.0</td>\n",
       "      <td>50160602</td>\n",
       "      <td>TAAGCTGTATAAAGAT</td>\n",
       "      <td>NaN</td>\n",
       "      <td>1</td>\n",
       "      <td>18</td>\n",
       "      <td>50160569</td>\n",
       "      <td>TAAGCTGTATAAAGATAATCTTTATAGACACTT</td>\n",
       "      <td>1</td>\n",
       "    </tr>\n",
       "    <tr>\n",
       "      <th>18457</th>\n",
       "      <td>TGAGGCTAGACCCACCTACG</td>\n",
       "      <td>TACATGAGAAATCCCAGGAA</td>\n",
       "      <td>50251575.0</td>\n",
       "      <td>50251593</td>\n",
       "      <td>AAAAAAAATATATATAT</td>\n",
       "      <td>NaN</td>\n",
       "      <td>4</td>\n",
       "      <td>16</td>\n",
       "      <td>50251558</td>\n",
       "      <td>AAAAAAAATATATATATATATATATATATATTTCC</td>\n",
       "      <td>1</td>\n",
       "    </tr>\n",
       "  </tbody>\n",
       "</table>\n",
       "</div>"
      ],
      "text/plain": [
       "                      after                before      center       end  \\\n",
       "18456  AAGTGAAAGAAAAACTGGGC  CCCCTCTACCCCTCCTTGTA  50160585.0  50160602   \n",
       "18457  TGAGGCTAGACCCACCTACG  TACATGAGAAATCCCAGGAA  50251575.0  50251593   \n",
       "\n",
       "             half_struct  index  len_loop  len_stem     start  \\\n",
       "18456   TAAGCTGTATAAAGAT    NaN         1        18  50160569   \n",
       "18457  AAAAAAAATATATATAT    NaN         4        16  50251558   \n",
       "\n",
       "                                    struct  value  \n",
       "18456    TAAGCTGTATAAAGATAATCTTTATAGACACTT      1  \n",
       "18457  AAAAAAAATATATATATATATATATATATATTTCC      1  "
      ]
     },
     "execution_count": 18,
     "metadata": {},
     "output_type": "execute_result"
    }
   ],
   "source": [
    "neg_example['value'] = 0\n",
    "ss10bp['value'] = 1\n",
    "concated = pd.concat([neg_example, ss10bp], ignore_index=True)\n",
    "concated.tail(2)"
   ]
  },
  {
   "cell_type": "code",
   "execution_count": 19,
   "metadata": {
    "ExecuteTime": {
     "end_time": "2018-03-19T11:11:28.851556Z",
     "start_time": "2018-03-19T11:11:28.838992Z"
    }
   },
   "outputs": [
    {
     "data": {
      "text/plain": [
       "after              0\n",
       "before             0\n",
       "center         15000\n",
       "end                0\n",
       "half_struct        0\n",
       "index           3458\n",
       "len_loop           0\n",
       "len_stem           0\n",
       "start              0\n",
       "struct             0\n",
       "value              0\n",
       "dtype: int64"
      ]
     },
     "execution_count": 19,
     "metadata": {},
     "output_type": "execute_result"
    }
   ],
   "source": [
    "import matplotlib.pyplot as plt\n",
    "import numpy as np\n",
    "import pandas as pd\n",
    "from tqdm import tqdm_notebook as tqdm\n",
    "import re\n",
    "from MulticoreTSNE import MulticoreTSNE as TSNE  # https://github.com/DmitryUlyanov/Multicore-TSNE\n",
    "concated.isnull().sum()"
   ]
  },
  {
   "cell_type": "code",
   "execution_count": 31,
   "metadata": {
    "ExecuteTime": {
     "end_time": "2018-03-19T11:22:42.097356Z",
     "start_time": "2018-03-19T11:18:57.233751Z"
    }
   },
   "outputs": [
    {
     "data": {
      "text/html": [
       "<p>Failed to display Jupyter Widget of type <code>HBox</code>.</p>\n",
       "<p>\n",
       "  If you're reading this message in the Jupyter Notebook or JupyterLab Notebook, it may mean\n",
       "  that the widgets JavaScript is still loading. If this message persists, it\n",
       "  likely means that the widgets JavaScript library is either not installed or\n",
       "  not enabled. See the <a href=\"https://ipywidgets.readthedocs.io/en/stable/user_install.html\">Jupyter\n",
       "  Widgets Documentation</a> for setup instructions.\n",
       "</p>\n",
       "<p>\n",
       "  If you're reading this message in another frontend (for example, a static\n",
       "  rendering on GitHub or <a href=\"https://nbviewer.jupyter.org/\">NBViewer</a>),\n",
       "  it may mean that your frontend doesn't currently support widgets.\n",
       "</p>\n"
      ],
      "text/plain": [
       "HBox(children=(IntProgress(value=0, max=18458), HTML(value='')))"
      ]
     },
     "metadata": {},
     "output_type": "execute_result"
    },
    {
     "name": "stdout",
     "output_type": "stream",
     "text": [
      "\n"
     ]
    },
    {
     "data": {
      "text/html": [
       "<div>\n",
       "<style scoped>\n",
       "    .dataframe tbody tr th:only-of-type {\n",
       "        vertical-align: middle;\n",
       "    }\n",
       "\n",
       "    .dataframe tbody tr th {\n",
       "        vertical-align: top;\n",
       "    }\n",
       "\n",
       "    .dataframe thead th {\n",
       "        text-align: right;\n",
       "    }\n",
       "</style>\n",
       "<table border=\"1\" class=\"dataframe\">\n",
       "  <thead>\n",
       "    <tr style=\"text-align: right;\">\n",
       "      <th></th>\n",
       "      <th>PropertyName</th>\n",
       "      <th>Twist</th>\n",
       "      <th>Stacking_energy</th>\n",
       "      <th>Rise</th>\n",
       "      <th>Bend</th>\n",
       "      <th>Tip</th>\n",
       "      <th>Inclination</th>\n",
       "      <th>Major_Groove_Width</th>\n",
       "      <th>Major_Groove_Depth</th>\n",
       "      <th>Major_Groove_Size</th>\n",
       "      <th>...</th>\n",
       "      <th>Roll.3</th>\n",
       "      <th>Tilt.3</th>\n",
       "      <th>Twist.5</th>\n",
       "      <th>Roll.4</th>\n",
       "      <th>Twist.6</th>\n",
       "      <th>Flexibility_slide</th>\n",
       "      <th>Flexibility_shift</th>\n",
       "      <th>Enthalpy.1</th>\n",
       "      <th>Entropy.1</th>\n",
       "      <th>Free_energy.8</th>\n",
       "    </tr>\n",
       "  </thead>\n",
       "  <tbody>\n",
       "    <tr>\n",
       "      <th>18453</th>\n",
       "      <td>TGCCTAGAGGAAGGCCATTATGGTTTCCTCAGGC</td>\n",
       "      <td>620.18</td>\n",
       "      <td>-188.4</td>\n",
       "      <td>61.28</td>\n",
       "      <td>53.54</td>\n",
       "      <td>27.16</td>\n",
       "      <td>-4.54</td>\n",
       "      <td>234.71</td>\n",
       "      <td>150.55</td>\n",
       "      <td>65.50</td>\n",
       "      <td>...</td>\n",
       "      <td>16.8</td>\n",
       "      <td>0.9</td>\n",
       "      <td>580.6</td>\n",
       "      <td>43.2</td>\n",
       "      <td>611.7</td>\n",
       "      <td>134.94</td>\n",
       "      <td>88.73</td>\n",
       "      <td>-136.2</td>\n",
       "      <td>-362.7</td>\n",
       "      <td>-23.70</td>\n",
       "    </tr>\n",
       "    <tr>\n",
       "      <th>18454</th>\n",
       "      <td>TAAAATATATATATACACATATATATAAAAATATATATATATATTTTT</td>\n",
       "      <td>830.98</td>\n",
       "      <td>-264.4</td>\n",
       "      <td>88.07</td>\n",
       "      <td>69.63</td>\n",
       "      <td>49.42</td>\n",
       "      <td>-1.65</td>\n",
       "      <td>303.73</td>\n",
       "      <td>217.38</td>\n",
       "      <td>106.32</td>\n",
       "      <td>...</td>\n",
       "      <td>-140.8</td>\n",
       "      <td>-5.9</td>\n",
       "      <td>846.7</td>\n",
       "      <td>-113.7</td>\n",
       "      <td>929.4</td>\n",
       "      <td>281.91</td>\n",
       "      <td>68.57</td>\n",
       "      <td>-177.2</td>\n",
       "      <td>-499.0</td>\n",
       "      <td>-22.54</td>\n",
       "    </tr>\n",
       "    <tr>\n",
       "      <th>18455</th>\n",
       "      <td>AAAATATATATATACACATATATATAAAAATATATATATATATT</td>\n",
       "      <td>776.52</td>\n",
       "      <td>-252.6</td>\n",
       "      <td>70.41</td>\n",
       "      <td>123.61</td>\n",
       "      <td>106.02</td>\n",
       "      <td>-1.67</td>\n",
       "      <td>272.71</td>\n",
       "      <td>206.94</td>\n",
       "      <td>76.76</td>\n",
       "      <td>...</td>\n",
       "      <td>106.6</td>\n",
       "      <td>-0.7</td>\n",
       "      <td>765.7</td>\n",
       "      <td>152.3</td>\n",
       "      <td>771.4</td>\n",
       "      <td>178.25</td>\n",
       "      <td>100.17</td>\n",
       "      <td>-163.0</td>\n",
       "      <td>-471.4</td>\n",
       "      <td>-16.60</td>\n",
       "    </tr>\n",
       "    <tr>\n",
       "      <th>18456</th>\n",
       "      <td>TAAGCTGTATAAAGATAATCTTTATAGACACT</td>\n",
       "      <td>567.91</td>\n",
       "      <td>-183.7</td>\n",
       "      <td>54.99</td>\n",
       "      <td>55.44</td>\n",
       "      <td>35.78</td>\n",
       "      <td>-0.01</td>\n",
       "      <td>207.00</td>\n",
       "      <td>145.52</td>\n",
       "      <td>64.40</td>\n",
       "      <td>...</td>\n",
       "      <td>5.5</td>\n",
       "      <td>2.6</td>\n",
       "      <td>556.7</td>\n",
       "      <td>33.3</td>\n",
       "      <td>583.6</td>\n",
       "      <td>147.73</td>\n",
       "      <td>92.29</td>\n",
       "      <td>-123.3</td>\n",
       "      <td>-342.1</td>\n",
       "      <td>-17.11</td>\n",
       "    </tr>\n",
       "    <tr>\n",
       "      <th>18457</th>\n",
       "      <td>AAAAAAAATATATATATATATATATATATATTTC</td>\n",
       "      <td>601.89</td>\n",
       "      <td>-194.6</td>\n",
       "      <td>54.58</td>\n",
       "      <td>92.00</td>\n",
       "      <td>83.85</td>\n",
       "      <td>-3.96</td>\n",
       "      <td>210.20</td>\n",
       "      <td>159.96</td>\n",
       "      <td>59.02</td>\n",
       "      <td>...</td>\n",
       "      <td>63.0</td>\n",
       "      <td>0.2</td>\n",
       "      <td>594.1</td>\n",
       "      <td>108.9</td>\n",
       "      <td>607.0</td>\n",
       "      <td>157.31</td>\n",
       "      <td>79.27</td>\n",
       "      <td>-125.4</td>\n",
       "      <td>-363.0</td>\n",
       "      <td>-12.68</td>\n",
       "    </tr>\n",
       "  </tbody>\n",
       "</table>\n",
       "<p>5 rows × 126 columns</p>\n",
       "</div>"
      ],
      "text/plain": [
       "                                           PropertyName   Twist  \\\n",
       "18453                TGCCTAGAGGAAGGCCATTATGGTTTCCTCAGGC  620.18   \n",
       "18454  TAAAATATATATATACACATATATATAAAAATATATATATATATTTTT  830.98   \n",
       "18455      AAAATATATATATACACATATATATAAAAATATATATATATATT  776.52   \n",
       "18456                  TAAGCTGTATAAAGATAATCTTTATAGACACT  567.91   \n",
       "18457                AAAAAAAATATATATATATATATATATATATTTC  601.89   \n",
       "\n",
       "       Stacking_energy   Rise    Bend     Tip  Inclination  \\\n",
       "18453           -188.4  61.28   53.54   27.16        -4.54   \n",
       "18454           -264.4  88.07   69.63   49.42        -1.65   \n",
       "18455           -252.6  70.41  123.61  106.02        -1.67   \n",
       "18456           -183.7  54.99   55.44   35.78        -0.01   \n",
       "18457           -194.6  54.58   92.00   83.85        -3.96   \n",
       "\n",
       "       Major_Groove_Width  Major_Groove_Depth  Major_Groove_Size  \\\n",
       "18453              234.71              150.55              65.50   \n",
       "18454              303.73              217.38             106.32   \n",
       "18455              272.71              206.94              76.76   \n",
       "18456              207.00              145.52              64.40   \n",
       "18457              210.20              159.96              59.02   \n",
       "\n",
       "           ...        Roll.3  Tilt.3  Twist.5  Roll.4  Twist.6  \\\n",
       "18453      ...          16.8     0.9    580.6    43.2    611.7   \n",
       "18454      ...        -140.8    -5.9    846.7  -113.7    929.4   \n",
       "18455      ...         106.6    -0.7    765.7   152.3    771.4   \n",
       "18456      ...           5.5     2.6    556.7    33.3    583.6   \n",
       "18457      ...          63.0     0.2    594.1   108.9    607.0   \n",
       "\n",
       "       Flexibility_slide  Flexibility_shift  Enthalpy.1  Entropy.1  \\\n",
       "18453             134.94              88.73      -136.2     -362.7   \n",
       "18454             281.91              68.57      -177.2     -499.0   \n",
       "18455             178.25             100.17      -163.0     -471.4   \n",
       "18456             147.73              92.29      -123.3     -342.1   \n",
       "18457             157.31              79.27      -125.4     -363.0   \n",
       "\n",
       "       Free_energy.8  \n",
       "18453         -23.70  \n",
       "18454         -22.54  \n",
       "18455         -16.60  \n",
       "18456         -17.11  \n",
       "18457         -12.68  \n",
       "\n",
       "[5 rows x 126 columns]"
      ]
     },
     "execution_count": 31,
     "metadata": {},
     "output_type": "execute_result"
    }
   ],
   "source": [
    "diprodb = pd.read_csv('../data/dprops.csv', index_col=0)\n",
    "\n",
    "features = []\n",
    "for struct in tqdm(concated.loc[:, concated.columns != 'value']['struct']):\n",
    "    strl = re.findall('..', struct)\n",
    "    temp = []\n",
    "    for dyad in strl:\n",
    "        temp.append(diprodb[diprodb['PropertyName'] == dyad].values.tolist()[0])\n",
    "    features.append(pd.DataFrame(temp, columns=diprodb.columns).sum())\n",
    "features = pd.DataFrame(features)\n",
    "features.tail()\n",
    "\n",
    "# tsne = TSNE(n_jobs=8)\n",
    "# transformed = tsne.fit_transform(features.loc[:, features.columns != 'PropertyName'])\n",
    "\n",
    "# vis_x = transformed[:, 0]\n",
    "# vis_y = transformed[:, 1]\n",
    "\n",
    "\n",
    "\n",
    "# plt.scatter(vis_x, vis_y, c=concated['value'].map({0: 'blue', 1: 'orange'}))\n",
    "# # plt.clim(-0.5, 9.5)\n",
    "# plt.show()"
   ]
  },
  {
   "cell_type": "code",
   "execution_count": null,
   "metadata": {
    "ExecuteTime": {
     "end_time": "2018-03-19T11:22:42.159279Z",
     "start_time": "2018-03-19T11:22:42.098643Z"
    }
   },
   "outputs": [],
   "source": [
    "# features.loc[concated[concated['value'] == 1].index]['Tilt_shift'].median()\n",
    "# pd.DataFrame(pd.concat([features, concated['value']], axis=1, ignore_index=True), columns=(features.columns.tolist() + ['target']))\n",
    "csv_feats = pd.concat([features, concated['value']], axis=1, ignore_index=True)\n",
    "csv_feats.columns = features.columns.tolist() + ['target']"
   ]
  },
  {
   "cell_type": "code",
   "execution_count": 34,
   "metadata": {
    "ExecuteTime": {
     "end_time": "2018-03-19T11:24:41.868492Z",
     "start_time": "2018-03-19T11:24:39.515664Z"
    }
   },
   "outputs": [],
   "source": [
    "csv_feats.to_csv('../data/features_df.csv', index=False)"
   ]
  },
  {
   "cell_type": "code",
   "execution_count": 35,
   "metadata": {
    "ExecuteTime": {
     "end_time": "2018-03-19T11:25:19.359788Z",
     "start_time": "2018-03-19T11:25:19.278991Z"
    }
   },
   "outputs": [
    {
     "name": "stderr",
     "output_type": "stream",
     "text": [
      "Use token 1260389131217015787.\n"
     ]
    }
   ],
   "source": [
    "from sklearn.model_selection import train_test_split\n",
    "x_train, x_test, y_train, y_test = train_test_split(\n",
    "    csv_feats.drop(['PropertyName', 'target'], axis=1).values, csv_feats['target'].values,\n",
    "    test_size=0.2)\n",
    "\n",
    "import telepyth # push notif in telegram\n",
    "\n",
    "%telepyth -t 1260389131217015787"
   ]
  },
  {
   "cell_type": "code",
   "execution_count": null,
   "metadata": {
    "ExecuteTime": {
     "end_time": "2018-03-19T11:29:37.300664Z",
     "start_time": "2018-03-19T11:29:33.875823Z"
    }
   },
   "outputs": [],
   "source": [
    "from sklearn.linear_model import LogisticRegression\n",
    "logreg = LogisticRegression(n_jobs=-1)\n",
    "logreg.fit(x_train, y_train)"
   ]
  },
  {
   "cell_type": "code",
   "execution_count": 53,
   "metadata": {
    "ExecuteTime": {
     "end_time": "2018-03-19T11:38:23.775510Z",
     "start_time": "2018-03-19T11:38:23.754562Z"
    }
   },
   "outputs": [
    {
     "name": "stdout",
     "output_type": "stream",
     "text": [
      "0.750769087608627\n",
      "0.23245296514713432\n"
     ]
    }
   ],
   "source": [
    "y_pred = logreg.predict_proba(x_test)[:, 1]\n",
    "print(roc_auc_score(y_test, y_pred))\n",
    "print(r2_score(y_test, y_pred))\n"
   ]
  },
  {
   "cell_type": "code",
   "execution_count": 70,
   "metadata": {
    "ExecuteTime": {
     "end_time": "2018-03-19T11:58:45.872819Z",
     "start_time": "2018-03-19T11:58:45.858938Z"
    }
   },
   "outputs": [
    {
     "name": "stdout",
     "output_type": "stream",
     "text": [
      "0.5\n",
      "-0.24603442456969282\n"
     ]
    }
   ],
   "source": [
    "all_zeros = np.zeros(3692)\n",
    "print(roc_auc_score(y_test, all_zeros))\n",
    "from sklearn.metrics import r2_score\n",
    "print(r2_score(y_test, all_zeros))"
   ]
  },
  {
   "cell_type": "code",
   "execution_count": null,
   "metadata": {
    "ExecuteTime": {
     "end_time": "2018-03-19T11:59:24.894540Z",
     "start_time": "2018-03-19T11:59:23.624665Z"
    }
   },
   "outputs": [],
   "source": [
    "def logit_pvalue(model, x):\n",
    "    \"\"\" Calculate z-scores for scikit-learn LogisticRegression.\n",
    "    parameters:\n",
    "        model: fitted sklearn.linear_model.LogisticRegression with intercept and large C\n",
    "        x:     matrix on which the model was fit\n",
    "    This function uses asymtptics for maximum likelihood estimates.\n",
    "    \"\"\"\n",
    "    from scipy.stats import norm\n",
    "    p = model.predict_proba(x)\n",
    "    n = len(p)\n",
    "    m = len(model.coef_[0]) + 1\n",
    "    coefs = np.concatenate([model.intercept_, model.coef_[0]])\n",
    "    x_full = np.matrix(np.insert(np.array(x), 0, 1, axis = 1))\n",
    "    ans = np.zeros((m, m))\n",
    "    for i in range(n):\n",
    "        ans = ans + np.dot(np.transpose(x_full[i, :]), x_full[i, :]) * p[i,1] * p[i, 0]\n",
    "    vcov = np.linalg.inv(np.matrix(ans))\n",
    "    se = np.sqrt(np.diag(vcov))\n",
    "    t =  coefs/se  \n",
    "    p = (1 - norm.cdf(abs(t))) * 2\n",
    "    return p\n",
    "logit_pvalue(logreg, x_train)"
   ]
  },
  {
   "cell_type": "code",
   "execution_count": 36,
   "metadata": {
    "ExecuteTime": {
     "end_time": "2018-03-19T11:27:54.307102Z",
     "start_time": "2018-03-19T11:25:39.177400Z"
    }
   },
   "outputs": [
    {
     "name": "stderr",
     "output_type": "stream",
     "text": [
      "/home/magas/.pyenv/versions/3.6.0/envs/general/lib/python3.6/site-packages/lightgbm/engine.py:99: UserWarning: Found `num_iterations` in params. Will use it instead of argument\n",
      "  warnings.warn(\"Found `{}` in params. Will use it instead of argument\".format(alias))\n"
     ]
    },
    {
     "name": "stdout",
     "output_type": "stream",
     "text": [
      "0.8126845173694588\n"
     ]
    },
    {
     "data": {
      "text/plain": [
       "<matplotlib.figure.Figure at 0x7fb10e6e94e0>"
      ]
     },
     "metadata": {},
     "output_type": "display_data"
    },
    {
     "data": {
      "image/png": "[encoded data removed]",
      "text/plain": [
       "<matplotlib.figure.Figure at 0x7fb10e6e9eb8>"
      ]
     },
     "metadata": {},
     "output_type": "display_data"
    },
    {
     "data": {
      "text/plain": [
       "'lgb! \\n'"
      ]
     },
     "execution_count": 36,
     "metadata": {},
     "output_type": "execute_result"
    }
   ],
   "source": [
    "import lightgbm as lgb\n",
    "from sklearn.metrics import roc_auc_score\n",
    "verbose = 1\n",
    "plot = 1\n",
    "params = {\n",
    "#     \"max_bin\": 1024,\n",
    "    \"learning_rate\": 0.01,\n",
    "    \"boosting_type\": \"goss\",\n",
    "    \"objective\": \"binary\",\n",
    "    'num_iterations':10000,\n",
    "    \"metric\": \"auc\",\n",
    "    \"num_leaves\": 10000,\n",
    "    \"verbose\": 1,\n",
    "#     \"min_data\": 100,\n",
    "#     \"boost_from_average\": True\n",
    "}\n",
    "\n",
    "d_train = lgb.Dataset(x_train, y_train)\n",
    "# d_valid = lgb.Dataset(X_test, label=y_test)\n",
    "model = lgb.train(params, d_train)\n",
    "# model.save_model('regressin')\n",
    "# model = lgb.Booster(model_file='regressin')\n",
    "\n",
    "y_pred = model.predict(x_test)\n",
    "print(roc_auc_score(y_test, y_pred))\n",
    "\n",
    "df_fi = pd.DataFrame(features.columns[1:], columns=['feature'])\n",
    "df_fi['importance'] = list(model.feature_importance('gain'))\n",
    "df_fi.sort_values('importance', ascending=False, inplace=True)\n",
    "# print(df_fi)\n",
    "if plot:\n",
    "    plt.figure()\n",
    "    df_fi.head(10).plot(kind='barh', x='feature', y='importance')\n",
    "    plt.title('Roc_auc is {}'.format(roc_auc_score(y_test, y_pred)))\n",
    "    plt.xlabel('relative importance')\n",
    "    plt.show()\n",
    "\n",
    "%telepyth 'lgb! \\n'"
   ]
  },
  {
   "cell_type": "code",
   "execution_count": null,
   "metadata": {
    "ExecuteTime": {
     "end_time": "2018-03-08T06:03:57.157745Z",
     "start_time": "2018-03-08T06:03:56.722648Z"
    }
   },
   "outputs": [],
   "source": [
    "all_quad_coords = pd.read_csv('/home/konovalovdmitry/results/all_quad_coords.tsv', sep='\\t', header=None)\n",
    "all_quad_coords = all_quad_coords[all_quad_coords[0] == 'chr1']\n",
    "cols = ['chr', 'start', 'end']\n",
    "all_quad_coords.columns = cols\n",
    "df = all_quad_coords.copy()\n",
    "df.head()"
   ]
  },
  {
   "cell_type": "code",
   "execution_count": null,
   "metadata": {
    "ExecuteTime": {
     "end_time": "2018-03-08T08:58:20.350337Z",
     "start_time": "2018-03-08T08:58:20.006012Z"
    }
   },
   "outputs": [],
   "source": [
    "quadparser = pd.read_csv('/home/konovalovdmitry/results/fna/chr1.qp', sep='\\t').reset_index()\n",
    "# pd.DataFrame(quadparser['level_0'].str.split('-').values.tolist(), columns=['start', 'end'])\n",
    "quadparser.drop(quadparser.tail(1).index, inplace=True)\n",
    "df_str = pd.DataFrame(quadparser['level_0'].str.split('-').values.tolist(), columns=['start', 'end'])\n",
    "df_str.drop(df_str[df_str['start'] == 'Found 10206:5547:5196 overlapping:sequences:lines'].index, inplace=True)\n",
    "df_str = df_str.astype(int)\n",
    "df = pd.concat([quadparser['chr1'], df_str], axis=1)\n"
   ]
  },
  {
   "cell_type": "code",
   "execution_count": null,
   "metadata": {
    "ExecuteTime": {
     "end_time": "2018-03-08T09:10:08.435926Z",
     "start_time": "2018-03-08T08:58:21.654299Z"
    }
   },
   "outputs": [],
   "source": [
    "cumsum_arr = np.zeros(1000)\n",
    "\n",
    "for peak_pos in tqdm(pd.to_numeric(uplifted.peak_pos)):\n",
    "    temp_df = df[(df['start'] > peak_pos - 500) & (df['end'] < peak_pos + 500)]\n",
    "    for ind, row in temp_df.iterrows():\n",
    "        for i in range(int(row['start']) - peak_pos + 500, int(row['end']) - peak_pos + 500):\n",
    "            cumsum_arr[i] += 1\n",
    "# cumsum_arr\n",
    "\n",
    "x = np.arange(-500, 500)\n",
    "plt.plot(x, cumsum_arr)\n",
    "plt.ylabel('Number of sec. structures')\n",
    "plt.xlabel('Centered position')"
   ]
  },
  {
   "cell_type": "code",
   "execution_count": null,
   "metadata": {
    "ExecuteTime": {
     "end_time": "2018-03-08T10:01:11.960308Z",
     "start_time": "2018-03-08T09:50:48.576006Z"
    }
   },
   "outputs": [],
   "source": [
    "def make_10bp(df, uplifted):\n",
    "    \"\"\"\n",
    "Выделить все структуры, у которых основание ножки находятся на расстоянии от 0 до 10 нуклеотидов от границы нуклеосомы.\n",
    "    :param df: sec. struct. df\n",
    "    :param uplifted: nucleosome df\n",
    "    \"\"\"\n",
    "    arr_4_rows = []\n",
    "    for start_upl in tqdm(pd.to_numeric(uplifted.start)):\n",
    "        temp_df = df[(df['end'] > start_upl - 10) & (df['end'] < start_upl)]\n",
    "        if not temp_df.empty:\n",
    "            for ind, row in temp_df.iterrows():\n",
    "                arr_4_rows.append(row)\n",
    "    ss10bp = pd.DataFrame(arr_4_rows)\n",
    "#     ss10bp.to_csv('sec_struct_0-10bp_to_nucleosome.csv', index=False)\n",
    "    return ss10bp\n",
    "\n",
    "quad10bp = make_10bp(df, uplifted)"
   ]
  },
  {
   "cell_type": "code",
   "execution_count": null,
   "metadata": {
    "ExecuteTime": {
     "end_time": "2018-03-08T10:01:12.163994Z",
     "start_time": "2018-03-08T10:01:11.961272Z"
    }
   },
   "outputs": [],
   "source": [
    "print(quad10bp.shape[0] / all_quad_coords.shape[0] * 100)"
   ]
  },
  {
   "cell_type": "code",
   "execution_count": null,
   "metadata": {
    "ExecuteTime": {
     "end_time": "2018-03-08T10:05:20.855724Z",
     "start_time": "2018-03-08T10:05:20.638766Z"
    }
   },
   "outputs": [],
   "source": [
    "quad10bp[['start', 'end']] = quad10bp[['start', 'end']].astype(int)\n",
    "quad10bp = quad10bp.reset_index(drop=True)"
   ]
  },
  {
   "cell_type": "markdown",
   "metadata": {},
   "source": [
    "5% out of all quadruplexes are near nucleosomes"
   ]
  },
  {
   "cell_type": "code",
   "execution_count": null,
   "metadata": {
    "ExecuteTime": {
     "end_time": "2018-03-08T09:29:00.275915Z",
     "start_time": "2018-03-08T09:28:58.207272Z"
    }
   },
   "outputs": [],
   "source": [
    "\n",
    "def make_go_terms(ss10bp, suffix='quad'):\n",
    "    \"\"\"\n",
    "makes go_terms.csv for pasting to http://revigo.irb.hr/ and getting genes and their types\n",
    "also makes relevant_goa_names.csv for names of this genes\n",
    "    :return:\n",
    "    \"\"\"\n",
    "    ptt = pd.read_csv('../data/ptt_hg19.txt', delimiter='\\t')\n",
    "    ptt1 = ptt[ptt['chrom'] == 'chr1']\n",
    "\n",
    "    def make_10bp_pr(df, uplifted):\n",
    "        arr_4_rows = []\n",
    "        for start_upl in tqdm(pd.to_numeric(uplifted.end)):\n",
    "            temp_df = df[(df['txStart'] - 1000 < start_upl) & (df['txEnd'] > start_upl) & (df.strand == '+')]\n",
    "            if not temp_df.empty:\n",
    "                for ind, row in temp_df.iterrows():\n",
    "                    arr_4_rows.append(row)\n",
    "        return pd.DataFrame(arr_4_rows)\n",
    "\n",
    "    relevant_ptt = make_10bp_pr(ptt1, ss10bp)\n",
    "\n",
    "    goa = pd.read_csv('../data/goa_human.gaf', delimiter='\\t', header=None)\n",
    "\n",
    "    relevant_goa = goa[goa[1].isin(relevant_ptt.proteinID)].drop_duplicates(1)\n",
    "    relevant_goa[9].to_csv('../data/relevant_goa_names_{}.csv'.format(suffix))\n",
    "    relevant_goa[4].to_csv('../data/go_terms_{}.csv'.format(suffix), index=False)\n",
    "\n",
    "make_go_terms(quad10bp)"
   ]
  },
  {
   "cell_type": "code",
   "execution_count": null,
   "metadata": {
    "ExecuteTime": {
     "end_time": "2018-03-08T10:05:35.511942Z",
     "start_time": "2018-03-08T10:05:33.009577Z"
    }
   },
   "outputs": [],
   "source": [
    "def add_bp_according2_start_end(neg_example):\n",
    "    \"\"\"\n",
    "adds nucleotides string according to start-end columns\n",
    "    :param neg_example: DataFrame with start-end columns\n",
    "    \"\"\"\n",
    "    from Bio import SeqIO\n",
    "    first_record = str(next(SeqIO.parse(\"/home/shared/hg19/chr1.fna\", \"fasta\")).seq)\n",
    "\n",
    "    temp = pd.DataFrame(np.ndarray((neg_example.shape[0], 4)),\n",
    "                        columns=[\"struct\", \"before\", \"after\", 'half_struct'], dtype='str')\n",
    "    for idx, row in neg_example.iterrows():\n",
    "        temp.loc[idx][0] = first_record[row['start']:row['end']]\n",
    "        temp.loc[idx][1] = first_record[row['start'] - 20:row['start']]\n",
    "        temp.loc[idx][2] = first_record[row['end']:row['end']    + 20]\n",
    "        temp.loc[idx][3] = first_record[row['start']:row['start'] + (row['end'] - row['start'])//2]\n",
    "\n",
    "    return pd.concat([neg_example, temp], axis=1)\n",
    "\n",
    "quad10with_bps = add_bp_according2_start_end(quad10bp)\n"
   ]
  },
  {
   "cell_type": "code",
   "execution_count": null,
   "metadata": {
    "ExecuteTime": {
     "end_time": "2018-03-08T10:10:09.946046Z",
     "start_time": "2018-03-08T10:10:05.285047Z"
    }
   },
   "outputs": [],
   "source": [
    "neg_example = all_quad_coords.sample(5000).reset_index(drop=True)\n",
    "neg_example = add_bp_according2_start_end(neg_example)\n",
    "neg_example['value'] = 0\n",
    "quad10with_bps['value'] = 1\n",
    "quad10with_bps.drop('chr1', inplace=True, axis=1)\n",
    "neg_example.drop('chr', inplace=True, axis=1)\n",
    "concated = pd.concat([neg_example, quad10with_bps])\n",
    "concated.head(2)"
   ]
  },
  {
   "cell_type": "code",
   "execution_count": null,
   "metadata": {
    "ExecuteTime": {
     "end_time": "2018-03-08T10:10:27.875403Z",
     "start_time": "2018-03-08T10:10:27.646440Z"
    }
   },
   "outputs": [],
   "source": [
    "concated.tail()"
   ]
  },
  {
   "cell_type": "code",
   "execution_count": null,
   "metadata": {
    "ExecuteTime": {
     "end_time": "2018-03-08T10:11:09.230631Z",
     "start_time": "2018-03-08T10:10:34.629037Z"
    }
   },
   "outputs": [],
   "source": [
    "def calc_feats(concated, position='half_struct'):\n",
    "    \"\"\"\n",
    "calculate features from diprodb\n",
    "    :param position: struct, before, after or half_struct\n",
    "    :param concated: df with bp as after add_bp_according2_start_end\n",
    "    \"\"\"\n",
    "    diprodb = pd.read_csv('../data/dprops.csv', index_col=0)\n",
    "    import re\n",
    "    features = []\n",
    "    for struct in tqdm(concated.loc[:, concated.columns != 'value'][position]):\n",
    "        strl = re.findall('..', struct)\n",
    "        temp = []\n",
    "        for dyad in strl:\n",
    "            temp.append(diprodb[diprodb['PropertyName'] == dyad].values.tolist()[0])\n",
    "        features.append(pd.DataFrame(temp, columns=diprodb.columns).sum())\n",
    "    return pd.DataFrame(features)\n",
    "feats = calc_feats(concated)"
   ]
  },
  {
   "cell_type": "code",
   "execution_count": null,
   "metadata": {
    "ExecuteTime": {
     "end_time": "2018-03-08T10:11:10.549700Z",
     "start_time": "2018-03-08T10:11:10.279939Z"
    }
   },
   "outputs": [],
   "source": [
    "feats.head(2).append(feats.tail(2))"
   ]
  },
  {
   "cell_type": "code",
   "execution_count": null,
   "metadata": {
    "ExecuteTime": {
     "end_time": "2018-03-08T10:11:14.090689Z",
     "start_time": "2018-03-08T10:11:13.744776Z"
    }
   },
   "outputs": [],
   "source": [
    "import matplotlib.pyplot as plt\n",
    "import numpy as np\n",
    "import pandas as pd\n",
    "from tqdm import tqdm_notebook as tqdm\n",
    "import re\n",
    "from MulticoreTSNE import MulticoreTSNE as TSNE  # https://github.com/DmitryUlyanov/Multicore-TSNE\n",
    "\n",
    "\n",
    "def plot_tsne(ss10bp, position='struct'):\n",
    "    \"\"\"\n",
    "form  physical features dataframe and use t-sne on it\n",
    "https://lvdmaaten.github.io/tsne/\n",
    "    :param position: before, after or struct for position relative to structure\n",
    "    :param ss10bp: see preprocessing.py, sec. structs within 10bp from nucleosome\n",
    "    :return: plt for plt.show()\n",
    "    \"\"\"\n",
    "    diprodb = pd.read_csv('../data/dprops.csv', index_col=0)\n",
    "\n",
    "    features = []\n",
    "    for struct in tqdm(ss10bp[position]):\n",
    "        strl = re.findall('..', struct)\n",
    "        temp = []\n",
    "        for dyad in strl:\n",
    "            temp.append(diprodb[diprodb['PropertyName'] == dyad].values.tolist()[0])\n",
    "        features.append(pd.DataFrame(temp, columns=diprodb.columns).sum())\n",
    "    features = pd.DataFrame(features)\n",
    "\n",
    "\n",
    "    tsne = TSNE(n_jobs=8)\n",
    "    transformed = tsne.fit_transform(features.loc[:, features.columns != 'PropertyName'])\n",
    "\n",
    "    vis_x = transformed[:, 0]\n",
    "    vis_y = transformed[:, 1]\n",
    "\n",
    "    plt.scatter(vis_x, vis_y, cmap=plt.cm.get_cmap(\"jet\", 10))\n",
    "    plt.clim(-0.5, 9.5)\n",
    "    return plt\n",
    "    # plt.show()\n",
    "    # or we can do this and label relevant vs random\n",
    "    # diprodb = pd.read_csv('../data/dprops.csv', index_col=0)\n",
    "    #\n",
    "    # features = []\n",
    "    # for struct in tqdm(concated.loc[:, concated.columns != 'value']['before']):\n",
    "    #     strl = re.findall('..', struct)\n",
    "    #     temp = []\n",
    "    #     for dyad in strl:\n",
    "    #         temp.append(diprodb[diprodb['PropertyName'] == dyad].values.tolist()[0])\n",
    "    #     features.append(pd.DataFrame(temp, columns=diprodb.columns).sum())\n",
    "    # features = pd.DataFrame(features)\n",
    "    #\n",
    "    # tsne = TSNE(n_jobs=8)\n",
    "    # transformed = tsne.fit_transform(features.loc[:, features.columns != 'PropertyName'])\n",
    "    #\n",
    "    # vis_x = transformed[:, 0]\n",
    "    # vis_y = transformed[:, 1]\n",
    "    #\n",
    "    # plt.scatter(vis_x, vis_y, c=concated['value'].map({0: 'blue', 1: 'orange'}))\n",
    "    # # plt.clim(-0.5, 9.5)\n",
    "    # plt.show()\n",
    "\n"
   ]
  },
  {
   "cell_type": "code",
   "execution_count": null,
   "metadata": {
    "ExecuteTime": {
     "end_time": "2018-03-08T10:11:21.463250Z",
     "start_time": "2018-03-08T10:11:14.797425Z"
    }
   },
   "outputs": [],
   "source": [
    "plot_tsne(quad10with_bps)"
   ]
  },
  {
   "cell_type": "code",
   "execution_count": null,
   "metadata": {
    "ExecuteTime": {
     "end_time": "2018-03-08T10:11:33.303843Z",
     "start_time": "2018-03-08T10:11:21.464510Z"
    }
   },
   "outputs": [],
   "source": [
    "\n",
    "tsne = TSNE(n_jobs=8)\n",
    "transformed = tsne.fit_transform(feats.loc[:, feats.columns != 'PropertyName'])\n",
    "\n",
    "vis_x = transformed[:, 0]\n",
    "vis_y = transformed[:, 1]\n",
    "\n",
    "plt.scatter(vis_x, vis_y, c=concated['value'].map({0: 'blue', 1: 'orange'}))\n",
    "# plt.clim(-0.5, 9.5)\n",
    "plt.show()"
   ]
  },
  {
   "cell_type": "code",
   "execution_count": null,
   "metadata": {
    "ExecuteTime": {
     "end_time": "2018-03-08T10:11:33.515986Z",
     "start_time": "2018-03-08T10:11:33.304818Z"
    }
   },
   "outputs": [],
   "source": [
    "from sklearn.model_selection import train_test_split\n",
    "x_train, x_test, y_train, y_test = train_test_split(\n",
    "    feats.drop('PropertyName', axis=1).values, concated['value'].values,\n",
    "    test_size=0.3)\n",
    "%load_ext wurlitzer  \n",
    "import telepyth # push notif in telegram\n",
    "\n",
    "%telepyth -t 1260389131217015787"
   ]
  },
  {
   "cell_type": "code",
   "execution_count": null,
   "metadata": {
    "ExecuteTime": {
     "end_time": "2018-03-08T10:11:33.948331Z",
     "start_time": "2018-03-08T10:11:33.517082Z"
    },
    "scrolled": true
   },
   "outputs": [],
   "source": [
    "import lightgbm as lgb\n",
    "from sklearn.metrics import roc_auc_score\n",
    "np.random.seed(42)\n",
    "verbose = 1\n",
    "plot = 1\n",
    "params = {\n",
    "#     \"max_bin\": 1024,\n",
    "#     \"learning_rate\": 0.01,\n",
    "    \"boosting_type\": \"goss\",\n",
    "    \"objective\": \"binary\",\n",
    "#     'num_iterations':10000,\n",
    "    \"metric\": \"auc\",\n",
    "#     \"num_leaves\": 10000,\n",
    "    \"verbose\": 1,\n",
    "#     \"min_data\": 100,\n",
    "#     \"boost_from_average\": True,\n",
    "    'early_stopping_round': 50\n",
    "}\n",
    "\n",
    "d_train = lgb.Dataset(x_train, y_train)\n",
    "d_valid = lgb.Dataset(x_test, label=y_test)\n",
    "model = lgb.train(params, d_train, valid_sets=d_valid)\n",
    "# model.save_model('regressin')\n",
    "# model = lgb.Booster(model_file='regressin')\n",
    "\n",
    "y_pred = model.predict(x_test)\n",
    "print(roc_auc_score(y_test, y_pred))"
   ]
  },
  {
   "cell_type": "code",
   "execution_count": null,
   "metadata": {
    "ExecuteTime": {
     "end_time": "2018-03-08T10:11:34.698745Z",
     "start_time": "2018-03-08T10:11:33.949622Z"
    }
   },
   "outputs": [],
   "source": [
    "df_fi = pd.DataFrame(features.columns[1:], columns=['feature'])\n",
    "df_fi['importance'] = list(model.feature_importance('gain'))\n",
    "df_fi.sort_values('importance', ascending=False, inplace=True)\n",
    "# print(df_fi)\n",
    "if plot:\n",
    "    plt.figure()\n",
    "    df_fi.head(10).plot(kind='barh', x='feature', y='importance')\n",
    "    plt.title('Roc_auc is {}'.format(roc_auc_score(y_test, y_pred)))\n",
    "    plt.xlabel('relative importance')\n",
    "    plt.show()\n",
    "\n",
    "%telepyth 'lgb! \\n'"
   ]
  },
  {
   "cell_type": "code",
   "execution_count": null,
   "metadata": {
    "ExecuteTime": {
     "end_time": "2018-03-09T05:37:39.971518Z",
     "start_time": "2018-03-09T05:37:38.903881Z"
    }
   },
   "outputs": [],
   "source": [
    "feats['Tilt_shift']"
   ]
  }
 ],
 "metadata": {
  "kernelspec": {
   "display_name": "Python 3",
   "language": "python",
   "name": "python3"
  },
  "language_info": {
   "codemirror_mode": {
    "name": "ipython",
    "version": 3
   },
   "file_extension": ".py",
   "mimetype": "text/x-python",
   "name": "python",
   "nbconvert_exporter": "python",
   "pygments_lexer": "ipython3",
   "version": "3.6.0"
  }
 },
 "nbformat": 4,
 "nbformat_minor": 2
}
