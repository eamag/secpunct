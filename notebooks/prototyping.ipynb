{
 "cells": [
  {
   "cell_type": "code",
   "execution_count": 1,
   "metadata": {
    "ExecuteTime": {
     "end_time": "2018-03-05T08:25:54.257832Z",
     "start_time": "2018-03-05T08:25:47.435145Z"
    }
   },
   "outputs": [
    {
     "name": "stderr",
     "output_type": "stream",
     "text": [
      "/home/magas/.pyenv/versions/3.6.0/envs/general/lib/python3.6/site-packages/numpy/lib/arraysetops.py:472: FutureWarning: elementwise comparison failed; returning scalar instead, but in the future will perform elementwise comparison\n",
      "  mask |= (ar1 == a)\n"
     ]
    },
    {
     "data": {
      "text/html": [
       "<div>\n",
       "<style scoped>\n",
       "    .dataframe tbody tr th:only-of-type {\n",
       "        vertical-align: middle;\n",
       "    }\n",
       "\n",
       "    .dataframe tbody tr th {\n",
       "        vertical-align: top;\n",
       "    }\n",
       "\n",
       "    .dataframe thead th {\n",
       "        text-align: right;\n",
       "    }\n",
       "</style>\n",
       "<table border=\"1\" class=\"dataframe\">\n",
       "  <thead>\n",
       "    <tr style=\"text-align: right;\">\n",
       "      <th></th>\n",
       "      <th>chrom</th>\n",
       "      <th>start</th>\n",
       "      <th>end</th>\n",
       "      <th>peak_pos</th>\n",
       "      <th>score</th>\n",
       "    </tr>\n",
       "  </thead>\n",
       "  <tbody>\n",
       "    <tr>\n",
       "      <th>1037952</th>\n",
       "      <td>chr22</td>\n",
       "      <td>51240000</td>\n",
       "      <td>51240029</td>\n",
       "      <td>51240015</td>\n",
       "      <td>0.88</td>\n",
       "    </tr>\n",
       "    <tr>\n",
       "      <th>1037953</th>\n",
       "      <td>chr22</td>\n",
       "      <td>51240123</td>\n",
       "      <td>51240147</td>\n",
       "      <td>51240135</td>\n",
       "      <td>0.81</td>\n",
       "    </tr>\n",
       "    <tr>\n",
       "      <th>1037954</th>\n",
       "      <td>chr22</td>\n",
       "      <td>51240936</td>\n",
       "      <td>51240962</td>\n",
       "      <td>51240949</td>\n",
       "      <td>0.81</td>\n",
       "    </tr>\n",
       "    <tr>\n",
       "      <th>1037955</th>\n",
       "      <td>chr22</td>\n",
       "      <td>51242531</td>\n",
       "      <td>51242561</td>\n",
       "      <td>51242546</td>\n",
       "      <td>0.76</td>\n",
       "    </tr>\n",
       "    <tr>\n",
       "      <th>1037956</th>\n",
       "      <td>chr22</td>\n",
       "      <td>51243098</td>\n",
       "      <td>51243127</td>\n",
       "      <td>51243116</td>\n",
       "      <td>0.83</td>\n",
       "    </tr>\n",
       "  </tbody>\n",
       "</table>\n",
       "</div>"
      ],
      "text/plain": [
       "         chrom     start       end  peak_pos  score\n",
       "1037952  chr22  51240000  51240029  51240015   0.88\n",
       "1037953  chr22  51240123  51240147  51240135   0.81\n",
       "1037954  chr22  51240936  51240962  51240949   0.81\n",
       "1037955  chr22  51242531  51242561  51242546   0.76\n",
       "1037956  chr22  51243098  51243127  51243116   0.83"
      ]
     },
     "execution_count": 1,
     "metadata": {},
     "output_type": "execute_result"
    }
   ],
   "source": [
    "%matplotlib inline\n",
    "import matplotlib.pyplot as plt\n",
    "import seaborn as sns\n",
    "import numpy as np\n",
    "import os\n",
    "import pandas as pd\n",
    "from tqdm import tqdm_notebook as tqdm\n",
    "\n",
    "uplifted = pd.read_csv('../data/peaks.min_peak_score_0.6.thresh_0.5.csv', index_col=0)\n",
    "# uplifted.drop('Unnamed: 0', inplace=True, axis=1)\n",
    "uplifted.tail()"
   ]
  },
  {
   "cell_type": "code",
   "execution_count": 2,
   "metadata": {
    "ExecuteTime": {
     "end_time": "2018-03-05T08:25:58.082879Z",
     "start_time": "2018-03-05T08:25:54.261006Z"
    }
   },
   "outputs": [
    {
     "name": "stderr",
     "output_type": "stream",
     "text": [
      "/home/magas/.pyenv/versions/3.6.0/envs/general/lib/python3.6/site-packages/numpy/lib/arraysetops.py:472: FutureWarning: elementwise comparison failed; returning scalar instead, but in the future will perform elementwise comparison\n",
      "  mask |= (ar1 == a)\n"
     ]
    },
    {
     "data": {
      "text/html": [
       "<div>\n",
       "<style scoped>\n",
       "    .dataframe tbody tr th:only-of-type {\n",
       "        vertical-align: middle;\n",
       "    }\n",
       "\n",
       "    .dataframe tbody tr th {\n",
       "        vertical-align: top;\n",
       "    }\n",
       "\n",
       "    .dataframe thead th {\n",
       "        text-align: right;\n",
       "    }\n",
       "</style>\n",
       "<table border=\"1\" class=\"dataframe\">\n",
       "  <thead>\n",
       "    <tr style=\"text-align: right;\">\n",
       "      <th></th>\n",
       "      <th>start</th>\n",
       "      <th>end</th>\n",
       "      <th>len_stem</th>\n",
       "      <th>len_loop</th>\n",
       "    </tr>\n",
       "  </thead>\n",
       "  <tbody>\n",
       "    <tr>\n",
       "      <th>10941414</th>\n",
       "      <td>249239500</td>\n",
       "      <td>249239542</td>\n",
       "      <td>18</td>\n",
       "      <td>10</td>\n",
       "    </tr>\n",
       "    <tr>\n",
       "      <th>10941416</th>\n",
       "      <td>249239505</td>\n",
       "      <td>249239540</td>\n",
       "      <td>15</td>\n",
       "      <td>8</td>\n",
       "    </tr>\n",
       "    <tr>\n",
       "      <th>10941418</th>\n",
       "      <td>249239530</td>\n",
       "      <td>249239566</td>\n",
       "      <td>15</td>\n",
       "      <td>9</td>\n",
       "    </tr>\n",
       "    <tr>\n",
       "      <th>10941422</th>\n",
       "      <td>249239532</td>\n",
       "      <td>249239564</td>\n",
       "      <td>16</td>\n",
       "      <td>4</td>\n",
       "    </tr>\n",
       "    <tr>\n",
       "      <th>10941426</th>\n",
       "      <td>249239644</td>\n",
       "      <td>249239681</td>\n",
       "      <td>17</td>\n",
       "      <td>7</td>\n",
       "    </tr>\n",
       "  </tbody>\n",
       "</table>\n",
       "</div>"
      ],
      "text/plain": [
       "              start        end  len_stem  len_loop\n",
       "10941414  249239500  249239542        18        10\n",
       "10941416  249239505  249239540        15         8\n",
       "10941418  249239530  249239566        15         9\n",
       "10941422  249239532  249239564        16         4\n",
       "10941426  249239644  249239681        17         7"
      ]
     },
     "execution_count": 2,
     "metadata": {},
     "output_type": "execute_result"
    }
   ],
   "source": [
    "df = pd.read_csv('../data/chr1.S15-30.filtered.csv', index_col=0, dtype='int')\n",
    "df.tail()"
   ]
  },
  {
   "cell_type": "code",
   "execution_count": 18,
   "metadata": {
    "ExecuteTime": {
     "end_time": "2018-03-05T08:56:16.886193Z",
     "start_time": "2018-03-05T08:56:13.191242Z"
    }
   },
   "outputs": [
    {
     "data": {
      "text/html": [
       "<div>\n",
       "<style scoped>\n",
       "    .dataframe tbody tr th:only-of-type {\n",
       "        vertical-align: middle;\n",
       "    }\n",
       "\n",
       "    .dataframe tbody tr th {\n",
       "        vertical-align: top;\n",
       "    }\n",
       "\n",
       "    .dataframe thead th {\n",
       "        text-align: right;\n",
       "    }\n",
       "</style>\n",
       "<table border=\"1\" class=\"dataframe\">\n",
       "  <thead>\n",
       "    <tr style=\"text-align: right;\">\n",
       "      <th></th>\n",
       "      <th>start</th>\n",
       "      <th>end</th>\n",
       "      <th>len_stem</th>\n",
       "      <th>len_loop</th>\n",
       "      <th>center</th>\n",
       "      <th>struct</th>\n",
       "      <th>before</th>\n",
       "      <th>after</th>\n",
       "      <th>half_struct</th>\n",
       "    </tr>\n",
       "  </thead>\n",
       "  <tbody>\n",
       "    <tr>\n",
       "      <th>0</th>\n",
       "      <td>1354102</td>\n",
       "      <td>1354142</td>\n",
       "      <td>17</td>\n",
       "      <td>8</td>\n",
       "      <td>1354122</td>\n",
       "      <td>CAGGCAGGCGCAGGCCTGGTTTCGGGCCTAGCGCCAGGCT</td>\n",
       "      <td>TTCAACTACTGGGTTTAGGC</td>\n",
       "      <td>GCCTGCCTGTCTTTGGTTTT</td>\n",
       "      <td>CAGGCAGGCGCAGGCCTGGT</td>\n",
       "    </tr>\n",
       "    <tr>\n",
       "      <th>1</th>\n",
       "      <td>3773878</td>\n",
       "      <td>3773916</td>\n",
       "      <td>16</td>\n",
       "      <td>7</td>\n",
       "      <td>3773897</td>\n",
       "      <td>GGGGCCACGGCACCTGGGCACACCAGGTGGCGTCGCGC</td>\n",
       "      <td>CTCAGGGTTGTGTAGTTTCC</td>\n",
       "      <td>CTTTGCTTTCCTGAGCCTTC</td>\n",
       "      <td>GGGGCCACGGCACCTGGGC</td>\n",
       "    </tr>\n",
       "    <tr>\n",
       "      <th>2</th>\n",
       "      <td>4215013</td>\n",
       "      <td>4215053</td>\n",
       "      <td>17</td>\n",
       "      <td>9</td>\n",
       "      <td>4215033</td>\n",
       "      <td>AGGCTGGAGTGCAGTGGCACAGTCACAACTCACTGCAGCC</td>\n",
       "      <td>TTTAACAGGCTCCATTGCCC</td>\n",
       "      <td>TTGACCACCTGGGCTTAAGC</td>\n",
       "      <td>AGGCTGGAGTGCAGTGGCAC</td>\n",
       "    </tr>\n",
       "    <tr>\n",
       "      <th>3</th>\n",
       "      <td>9648647</td>\n",
       "      <td>9648689</td>\n",
       "      <td>17</td>\n",
       "      <td>10</td>\n",
       "      <td>9648668</td>\n",
       "      <td>GCCCTCCCCGCGCCGCCTTCCACCTCCGGCCGCGCGGGGGCG</td>\n",
       "      <td>CCTACAGGGCTCCGTGCCCC</td>\n",
       "      <td>CTCCCCGGCCGGCTCTGTCG</td>\n",
       "      <td>GCCCTCCCCGCGCCGCCTTCC</td>\n",
       "    </tr>\n",
       "    <tr>\n",
       "      <th>4</th>\n",
       "      <td>9898650</td>\n",
       "      <td>9898683</td>\n",
       "      <td>17</td>\n",
       "      <td>2</td>\n",
       "      <td>9898666</td>\n",
       "      <td>GATTGCAGTGAGCGGAGATCGCGCCACTGCACT</td>\n",
       "      <td>GCGTGAACCTGGGGGGCAGA</td>\n",
       "      <td>CCAGCCTGGGTGACAGAGCG</td>\n",
       "      <td>GATTGCAGTGAGCGGA</td>\n",
       "    </tr>\n",
       "  </tbody>\n",
       "</table>\n",
       "</div>"
      ],
      "text/plain": [
       "     start      end  len_stem  len_loop   center  \\\n",
       "0  1354102  1354142        17         8  1354122   \n",
       "1  3773878  3773916        16         7  3773897   \n",
       "2  4215013  4215053        17         9  4215033   \n",
       "3  9648647  9648689        17        10  9648668   \n",
       "4  9898650  9898683        17         2  9898666   \n",
       "\n",
       "                                       struct                before  \\\n",
       "0    CAGGCAGGCGCAGGCCTGGTTTCGGGCCTAGCGCCAGGCT  TTCAACTACTGGGTTTAGGC   \n",
       "1      GGGGCCACGGCACCTGGGCACACCAGGTGGCGTCGCGC  CTCAGGGTTGTGTAGTTTCC   \n",
       "2    AGGCTGGAGTGCAGTGGCACAGTCACAACTCACTGCAGCC  TTTAACAGGCTCCATTGCCC   \n",
       "3  GCCCTCCCCGCGCCGCCTTCCACCTCCGGCCGCGCGGGGGCG  CCTACAGGGCTCCGTGCCCC   \n",
       "4           GATTGCAGTGAGCGGAGATCGCGCCACTGCACT  GCGTGAACCTGGGGGGCAGA   \n",
       "\n",
       "                  after            half_struct  \n",
       "0  GCCTGCCTGTCTTTGGTTTT   CAGGCAGGCGCAGGCCTGGT  \n",
       "1  CTTTGCTTTCCTGAGCCTTC    GGGGCCACGGCACCTGGGC  \n",
       "2  TTGACCACCTGGGCTTAAGC   AGGCTGGAGTGCAGTGGCAC  \n",
       "3  CTCCCCGGCCGGCTCTGTCG  GCCCTCCCCGCGCCGCCTTCC  \n",
       "4  CCAGCCTGGGTGACAGAGCG       GATTGCAGTGAGCGGA  "
      ]
     },
     "execution_count": 18,
     "metadata": {},
     "output_type": "execute_result"
    }
   ],
   "source": [
    "ss10bp = pd.read_csv('../data/sec_struct_0-10bp_to_nucleosome.csv', dtype='int')\n",
    "\n",
    "def add_bp_according2_start_end(neg_example):\n",
    "    \"\"\"\n",
    "adds nucleotides string according to start-end columns\n",
    "    :param neg_example: DataFrame with start-end columns\n",
    "    \"\"\"\n",
    "    from Bio import SeqIO\n",
    "    first_record = str(next(SeqIO.parse(\"/home/shared/hg19/chr1.fna\", \"fasta\")).seq)\n",
    "\n",
    "    temp = pd.DataFrame(np.ndarray((neg_example.shape[0], 4)),\n",
    "                        columns=[\"struct\", \"before\", \"after\", 'half_struct'], dtype='str')\n",
    "    for idx, row in neg_example.iterrows():\n",
    "        temp.loc[idx][0] = first_record[row['start']:row['end']]\n",
    "        temp.loc[idx][1] = first_record[row['start'] - 20:row['start']]\n",
    "        temp.loc[idx][2] = first_record[row['end']:row['end']    + 20]\n",
    "        temp.loc[idx][3] = first_record[row['start']:row['start'] + (row['end'] - row['start'])//2]\n",
    "\n",
    "    return pd.concat([neg_example, temp], axis=1)\n",
    "\n",
    "ss10bp = add_bp_according2_start_end(ss10bp)\n",
    "ss10bp.head()"
   ]
  },
  {
   "cell_type": "code",
   "execution_count": 4,
   "metadata": {
    "ExecuteTime": {
     "end_time": "2018-03-05T08:26:08.431496Z",
     "start_time": "2018-03-05T08:25:58.102524Z"
    }
   },
   "outputs": [
    {
     "data": {
      "text/html": [
       "<div>\n",
       "<style scoped>\n",
       "    .dataframe tbody tr th:only-of-type {\n",
       "        vertical-align: middle;\n",
       "    }\n",
       "\n",
       "    .dataframe tbody tr th {\n",
       "        vertical-align: top;\n",
       "    }\n",
       "\n",
       "    .dataframe thead th {\n",
       "        text-align: right;\n",
       "    }\n",
       "</style>\n",
       "<table border=\"1\" class=\"dataframe\">\n",
       "  <thead>\n",
       "    <tr style=\"text-align: right;\">\n",
       "      <th></th>\n",
       "      <th>index</th>\n",
       "      <th>start</th>\n",
       "      <th>end</th>\n",
       "      <th>len_stem</th>\n",
       "      <th>len_loop</th>\n",
       "      <th>struct</th>\n",
       "      <th>before</th>\n",
       "      <th>after</th>\n",
       "      <th>half_struct</th>\n",
       "    </tr>\n",
       "  </thead>\n",
       "  <tbody>\n",
       "    <tr>\n",
       "      <th>0</th>\n",
       "      <td>6066963</td>\n",
       "      <td>196143342</td>\n",
       "      <td>196143377</td>\n",
       "      <td>17</td>\n",
       "      <td>6</td>\n",
       "      <td>TTTTTAAGGCTCACTACACACAGTACTCTATGAAA</td>\n",
       "      <td>AGATCAGGGAGTCATAAGGA</td>\n",
       "      <td>AAGATTGTCAATGCTATGGA</td>\n",
       "      <td>TTTTTAAGGCTCACTAC</td>\n",
       "    </tr>\n",
       "    <tr>\n",
       "      <th>1</th>\n",
       "      <td>1577133</td>\n",
       "      <td>149980359</td>\n",
       "      <td>149980393</td>\n",
       "      <td>15</td>\n",
       "      <td>7</td>\n",
       "      <td>GAAAGATTAAACAAATAAAGCTTTGGGAAATTTT</td>\n",
       "      <td>TTTAAATAGGGGTCTCAAAA</td>\n",
       "      <td>CCAAGTTGTTGGCAACATAA</td>\n",
       "      <td>GAAAGATTAAACAAATA</td>\n",
       "    </tr>\n",
       "  </tbody>\n",
       "</table>\n",
       "</div>"
      ],
      "text/plain": [
       "     index      start        end  len_stem  len_loop  \\\n",
       "0  6066963  196143342  196143377        17         6   \n",
       "1  1577133  149980359  149980393        15         7   \n",
       "\n",
       "                                struct                before  \\\n",
       "0  TTTTTAAGGCTCACTACACACAGTACTCTATGAAA  AGATCAGGGAGTCATAAGGA   \n",
       "1   GAAAGATTAAACAAATAAAGCTTTGGGAAATTTT  TTTAAATAGGGGTCTCAAAA   \n",
       "\n",
       "                  after        half_struct  \n",
       "0  AAGATTGTCAATGCTATGGA  TTTTTAAGGCTCACTAC  \n",
       "1  CCAAGTTGTTGGCAACATAA  GAAAGATTAAACAAATA  "
      ]
     },
     "execution_count": 4,
     "metadata": {},
     "output_type": "execute_result"
    }
   ],
   "source": [
    "neg_example = df.sample(15000).reset_index()\n",
    "\n",
    "from Bio import SeqIO\n",
    "first_record = str(next(SeqIO.parse(\"/home/shared/hg19/chr1.fna\", \"fasta\")).seq)\n",
    "\n",
    "temp = pd.DataFrame(np.ndarray((neg_example.shape[0], 4)), columns=[\"struct\", \"before\", \"after\", 'half_struct'], dtype='str')\n",
    "for idx, row in neg_example.iterrows():\n",
    "    temp.loc[idx][0] = first_record[row['start']:row['end']]\n",
    "    temp.loc[idx][1] = first_record[row['start'] - 20:row['start']]\n",
    "    temp.loc[idx][2] = first_record[row['end']:row['end']    + 20] \n",
    "    temp.loc[idx][3] = first_record[row['start']:row['start'] + (row['end'] - row['start'])//2]\n",
    "\n",
    "neg_example = pd.concat([neg_example, temp], axis=1)\n",
    "neg_example.head(2)"
   ]
  },
  {
   "cell_type": "code",
   "execution_count": 19,
   "metadata": {
    "ExecuteTime": {
     "end_time": "2018-03-05T08:56:32.787343Z",
     "start_time": "2018-03-05T08:56:32.733870Z"
    }
   },
   "outputs": [
    {
     "data": {
      "text/html": [
       "<div>\n",
       "<style scoped>\n",
       "    .dataframe tbody tr th:only-of-type {\n",
       "        vertical-align: middle;\n",
       "    }\n",
       "\n",
       "    .dataframe tbody tr th {\n",
       "        vertical-align: top;\n",
       "    }\n",
       "\n",
       "    .dataframe thead th {\n",
       "        text-align: right;\n",
       "    }\n",
       "</style>\n",
       "<table border=\"1\" class=\"dataframe\">\n",
       "  <thead>\n",
       "    <tr style=\"text-align: right;\">\n",
       "      <th></th>\n",
       "      <th>after</th>\n",
       "      <th>before</th>\n",
       "      <th>center</th>\n",
       "      <th>end</th>\n",
       "      <th>half_struct</th>\n",
       "      <th>index</th>\n",
       "      <th>len_loop</th>\n",
       "      <th>len_stem</th>\n",
       "      <th>start</th>\n",
       "      <th>struct</th>\n",
       "      <th>value</th>\n",
       "    </tr>\n",
       "  </thead>\n",
       "  <tbody>\n",
       "    <tr>\n",
       "      <th>0</th>\n",
       "      <td>AAGATTGTCAATGCTATGGA</td>\n",
       "      <td>AGATCAGGGAGTCATAAGGA</td>\n",
       "      <td>NaN</td>\n",
       "      <td>196143377</td>\n",
       "      <td>TTTTTAAGGCTCACTAC</td>\n",
       "      <td>6066963.0</td>\n",
       "      <td>6</td>\n",
       "      <td>17</td>\n",
       "      <td>196143342</td>\n",
       "      <td>TTTTTAAGGCTCACTACACACAGTACTCTATGAAA</td>\n",
       "      <td>0</td>\n",
       "    </tr>\n",
       "    <tr>\n",
       "      <th>1</th>\n",
       "      <td>CCAAGTTGTTGGCAACATAA</td>\n",
       "      <td>TTTAAATAGGGGTCTCAAAA</td>\n",
       "      <td>NaN</td>\n",
       "      <td>149980393</td>\n",
       "      <td>GAAAGATTAAACAAATA</td>\n",
       "      <td>1577133.0</td>\n",
       "      <td>7</td>\n",
       "      <td>15</td>\n",
       "      <td>149980359</td>\n",
       "      <td>GAAAGATTAAACAAATAAAGCTTTGGGAAATTTT</td>\n",
       "      <td>0</td>\n",
       "    </tr>\n",
       "  </tbody>\n",
       "</table>\n",
       "</div>"
      ],
      "text/plain": [
       "                  after                before  center        end  \\\n",
       "0  AAGATTGTCAATGCTATGGA  AGATCAGGGAGTCATAAGGA     NaN  196143377   \n",
       "1  CCAAGTTGTTGGCAACATAA  TTTAAATAGGGGTCTCAAAA     NaN  149980393   \n",
       "\n",
       "         half_struct      index  len_loop  len_stem      start  \\\n",
       "0  TTTTTAAGGCTCACTAC  6066963.0         6        17  196143342   \n",
       "1  GAAAGATTAAACAAATA  1577133.0         7        15  149980359   \n",
       "\n",
       "                                struct  value  \n",
       "0  TTTTTAAGGCTCACTACACACAGTACTCTATGAAA      0  \n",
       "1   GAAAGATTAAACAAATAAAGCTTTGGGAAATTTT      0  "
      ]
     },
     "execution_count": 19,
     "metadata": {},
     "output_type": "execute_result"
    }
   ],
   "source": [
    "neg_example['value'] = 0\n",
    "ss10bp['value'] = 1\n",
    "concated = pd.concat([neg_example, ss10bp])\n",
    "concated.head(2)"
   ]
  },
  {
   "cell_type": "code",
   "execution_count": 20,
   "metadata": {
    "ExecuteTime": {
     "end_time": "2018-03-05T08:56:39.054468Z",
     "start_time": "2018-03-05T08:56:39.010654Z"
    }
   },
   "outputs": [
    {
     "data": {
      "text/plain": [
       "after              0\n",
       "before             0\n",
       "center         15000\n",
       "end                0\n",
       "half_struct        0\n",
       "index           3458\n",
       "len_loop           0\n",
       "len_stem           0\n",
       "start              0\n",
       "struct             0\n",
       "value              0\n",
       "dtype: int64"
      ]
     },
     "execution_count": 20,
     "metadata": {},
     "output_type": "execute_result"
    }
   ],
   "source": [
    "import matplotlib.pyplot as plt\n",
    "import numpy as np\n",
    "import pandas as pd\n",
    "from tqdm import tqdm_notebook as tqdm\n",
    "import re\n",
    "from MulticoreTSNE import MulticoreTSNE as TSNE  # https://github.com/DmitryUlyanov/Multicore-TSNE\n",
    "concated.isnull().sum()"
   ]
  },
  {
   "cell_type": "code",
   "execution_count": 28,
   "metadata": {
    "ExecuteTime": {
     "end_time": "2018-03-05T09:34:55.363350Z",
     "start_time": "2018-03-05T09:32:36.068686Z"
    }
   },
   "outputs": [
    {
     "data": {
      "text/html": [
       "<p>Failed to display Jupyter Widget of type <code>HBox</code>.</p>\n",
       "<p>\n",
       "  If you're reading this message in the Jupyter Notebook or JupyterLab Notebook, it may mean\n",
       "  that the widgets JavaScript is still loading. If this message persists, it\n",
       "  likely means that the widgets JavaScript library is either not installed or\n",
       "  not enabled. See the <a href=\"https://ipywidgets.readthedocs.io/en/stable/user_install.html\">Jupyter\n",
       "  Widgets Documentation</a> for setup instructions.\n",
       "</p>\n",
       "<p>\n",
       "  If you're reading this message in another frontend (for example, a static\n",
       "  rendering on GitHub or <a href=\"https://nbviewer.jupyter.org/\">NBViewer</a>),\n",
       "  it may mean that your frontend doesn't currently support widgets.\n",
       "</p>\n"
      ],
      "text/plain": [
       "HBox(children=(IntProgress(value=0, max=18458), HTML(value='')))"
      ]
     },
     "metadata": {},
     "output_type": "execute_result"
    },
    {
     "name": "stdout",
     "output_type": "stream",
     "text": [
      "\n"
     ]
    }
   ],
   "source": [
    "diprodb = pd.read_csv('../data/dprops.csv', index_col=0)\n",
    "\n",
    "features = []\n",
    "for struct in tqdm(concated.loc[:, concated.columns != 'value']['half_struct']):\n",
    "    strl = re.findall('..', struct)\n",
    "    temp = []\n",
    "    for dyad in strl:\n",
    "        temp.append(diprodb[diprodb['PropertyName'] == dyad].values.tolist()[0])\n",
    "    features.append(pd.DataFrame(temp, columns=diprodb.columns).sum())\n",
    "features = pd.DataFrame(features)\n",
    "\n",
    "\n",
    "# tsne = TSNE(n_jobs=8)\n",
    "# transformed = tsne.fit_transform(features.loc[:, features.columns != 'PropertyName'])\n",
    "\n",
    "# vis_x = transformed[:, 0]\n",
    "# vis_y = transformed[:, 1]\n",
    "\n",
    "\n",
    "\n",
    "# plt.scatter(vis_x, vis_y, c=concated['value'].map({0: 'blue', 1: 'orange'}))\n",
    "# # plt.clim(-0.5, 9.5)\n",
    "# plt.show()"
   ]
  },
  {
   "cell_type": "code",
   "execution_count": 29,
   "metadata": {
    "ExecuteTime": {
     "end_time": "2018-03-05T09:34:55.464739Z",
     "start_time": "2018-03-05T09:34:55.364377Z"
    }
   },
   "outputs": [],
   "source": [
    "from sklearn.model_selection import train_test_split\n",
    "x_train, x_test, y_train, y_test = train_test_split(\n",
    "    features.drop('PropertyName', axis=1).values, concated['value'].values,\n",
    "    test_size=0.2)\n",
    "\n",
    "import telepyth # push notif in telegram\n",
    "\n",
    "%telepyth -t 1260389131217015787\n",
    "\n",
    "import lightgbm as lgb\n",
    "from sklearn.metrics import roc_auc_score\n",
    "verbose = 1\n",
    "plot = 1\n",
    "params = {\n",
    "#     \"max_bin\": 1024,\n",
    "    \"learning_rate\": 0.01,\n",
    "    \"boosting_type\": \"goss\",\n",
    "    \"objective\": \"binary\",\n",
    "    'num_iterations':10000,\n",
    "    \"metric\": \"auc\",\n",
    "    \"num_leaves\": 10000,\n",
    "    \"verbose\": 1,\n",
    "#     \"min_data\": 100,\n",
    "#     \"boost_from_average\": True\n",
    "}\n",
    "\n",
    "d_train = lgb.Dataset(x_train, y_train)\n",
    "# d_valid = lgb.Dataset(X_test, label=y_test)\n",
    "model = lgb.train(params, d_train)\n",
    "# model.save_model('regressin')\n",
    "# model = lgb.Booster(model_file='regressin')\n",
    "\n",
    "y_pred = model.predict(x_test)\n",
    "print(roc_auc_score(y_test, y_pred))\n",
    "\n",
    "df_fi = pd.DataFrame(features.columns[1:], columns=['feature'])\n",
    "df_fi['importance'] = list(model.feature_importance('gain'))\n",
    "df_fi.sort_values('importance', ascending=False, inplace=True)\n",
    "# print(df_fi)\n",
    "if plot:\n",
    "    plt.figure()\n",
    "    df_fi.head(10).plot(kind='barh', x='feature', y='importance')\n",
    "    plt.title('Roc_auc is {}'.format(roc_auc_score(y_test, y_pred)))\n",
    "    plt.xlabel('relative importance')\n",
    "    plt.show()\n",
    "\n",
    "%telepyth 'lgb! \\n'"
   ]
  },
  {
   "cell_type": "code",
   "execution_count": 42,
   "metadata": {
    "ExecuteTime": {
     "end_time": "2018-03-08T06:03:57.157745Z",
     "start_time": "2018-03-08T06:03:56.722648Z"
    }
   },
   "outputs": [
    {
     "data": {
      "text/html": [
       "<div>\n",
       "<style scoped>\n",
       "    .dataframe tbody tr th:only-of-type {\n",
       "        vertical-align: middle;\n",
       "    }\n",
       "\n",
       "    .dataframe tbody tr th {\n",
       "        vertical-align: top;\n",
       "    }\n",
       "\n",
       "    .dataframe thead th {\n",
       "        text-align: right;\n",
       "    }\n",
       "</style>\n",
       "<table border=\"1\" class=\"dataframe\">\n",
       "  <thead>\n",
       "    <tr style=\"text-align: right;\">\n",
       "      <th></th>\n",
       "      <th>chr</th>\n",
       "      <th>start</th>\n",
       "      <th>end</th>\n",
       "    </tr>\n",
       "  </thead>\n",
       "  <tbody>\n",
       "    <tr>\n",
       "      <th>159631</th>\n",
       "      <td>chr1</td>\n",
       "      <td>10003</td>\n",
       "      <td>10024</td>\n",
       "    </tr>\n",
       "    <tr>\n",
       "      <th>159632</th>\n",
       "      <td>chr1</td>\n",
       "      <td>10027</td>\n",
       "      <td>10048</td>\n",
       "    </tr>\n",
       "    <tr>\n",
       "      <th>159633</th>\n",
       "      <td>chr1</td>\n",
       "      <td>10051</td>\n",
       "      <td>10072</td>\n",
       "    </tr>\n",
       "    <tr>\n",
       "      <th>159634</th>\n",
       "      <td>chr1</td>\n",
       "      <td>10075</td>\n",
       "      <td>10096</td>\n",
       "    </tr>\n",
       "    <tr>\n",
       "      <th>159635</th>\n",
       "      <td>chr1</td>\n",
       "      <td>10099</td>\n",
       "      <td>10119</td>\n",
       "    </tr>\n",
       "  </tbody>\n",
       "</table>\n",
       "</div>"
      ],
      "text/plain": [
       "         chr  start    end\n",
       "159631  chr1  10003  10024\n",
       "159632  chr1  10027  10048\n",
       "159633  chr1  10051  10072\n",
       "159634  chr1  10075  10096\n",
       "159635  chr1  10099  10119"
      ]
     },
     "execution_count": 42,
     "metadata": {},
     "output_type": "execute_result"
    }
   ],
   "source": [
    "all_quad_coords = pd.read_csv('/home/konovalovdmitry/results/all_quad_coords.tsv', sep='\\t', header=None)\n",
    "all_quad_coords = all_quad_coords[all_quad_coords[0] == 'chr1']\n",
    "cols = ['chr', 'start', 'end']\n",
    "all_quad_coords.columns = cols\n",
    "df = all_quad_coords.copy()\n",
    "df.head()"
   ]
  },
  {
   "cell_type": "code",
   "execution_count": 146,
   "metadata": {
    "ExecuteTime": {
     "end_time": "2018-03-08T08:58:20.350337Z",
     "start_time": "2018-03-08T08:58:20.006012Z"
    }
   },
   "outputs": [],
   "source": [
    "quadparser = pd.read_csv('/home/konovalovdmitry/results/fna/chr1.qp', sep='\\t').reset_index()\n",
    "# pd.DataFrame(quadparser['level_0'].str.split('-').values.tolist(), columns=['start', 'end'])\n",
    "quadparser.drop(quadparser.tail(1).index, inplace=True)\n",
    "df_str = pd.DataFrame(quadparser['level_0'].str.split('-').values.tolist(), columns=['start', 'end'])\n",
    "df_str.drop(df_str[df_str['start'] == 'Found 10206:5547:5196 overlapping:sequences:lines'].index, inplace=True)\n",
    "df_str = df_str.astype(int)\n",
    "df = pd.concat([quadparser['chr1'], df_str], axis=1)\n"
   ]
  },
  {
   "cell_type": "code",
   "execution_count": 147,
   "metadata": {
    "ExecuteTime": {
     "end_time": "2018-03-08T09:10:08.435926Z",
     "start_time": "2018-03-08T08:58:21.654299Z"
    }
   },
   "outputs": [
    {
     "data": {
      "text/html": [
       "<p>Failed to display Jupyter Widget of type <code>HBox</code>.</p>\n",
       "<p>\n",
       "  If you're reading this message in the Jupyter Notebook or JupyterLab Notebook, it may mean\n",
       "  that the widgets JavaScript is still loading. If this message persists, it\n",
       "  likely means that the widgets JavaScript library is either not installed or\n",
       "  not enabled. See the <a href=\"https://ipywidgets.readthedocs.io/en/stable/user_install.html\">Jupyter\n",
       "  Widgets Documentation</a> for setup instructions.\n",
       "</p>\n",
       "<p>\n",
       "  If you're reading this message in another frontend (for example, a static\n",
       "  rendering on GitHub or <a href=\"https://nbviewer.jupyter.org/\">NBViewer</a>),\n",
       "  it may mean that your frontend doesn't currently support widgets.\n",
       "</p>\n"
      ],
      "text/plain": [
       "HBox(children=(IntProgress(value=0, max=1037767), HTML(value='')))"
      ]
     },
     "metadata": {},
     "output_type": "execute_result"
    },
    {
     "name": "stdout",
     "output_type": "stream",
     "text": [
      "\n"
     ]
    },
    {
     "data": {
      "text/plain": [
       "Text(0.5,0,'Centered position')"
      ]
     },
     "execution_count": 147,
     "metadata": {},
     "output_type": "execute_result"
    },
    {
     "data": {
      "image/png": "[encoded data removed]",
      "text/plain": [
       "<matplotlib.figure.Figure at 0x7fd9fbaaec18>"
      ]
     },
     "metadata": {},
     "output_type": "display_data"
    }
   ],
   "source": [
    "cumsum_arr = np.zeros(1000)\n",
    "\n",
    "for peak_pos in tqdm(pd.to_numeric(uplifted.peak_pos)):\n",
    "    temp_df = df[(df['start'] > peak_pos - 500) & (df['end'] < peak_pos + 500)]\n",
    "    for ind, row in temp_df.iterrows():\n",
    "        for i in range(int(row['start']) - peak_pos + 500, int(row['end']) - peak_pos + 500):\n",
    "            cumsum_arr[i] += 1\n",
    "# cumsum_arr\n",
    "\n",
    "x = np.arange(-500, 500)\n",
    "plt.plot(x, cumsum_arr)\n",
    "plt.ylabel('Number of sec. structures')\n",
    "plt.xlabel('Centered position')"
   ]
  },
  {
   "cell_type": "code",
   "execution_count": 161,
   "metadata": {
    "ExecuteTime": {
     "end_time": "2018-03-08T10:01:11.960308Z",
     "start_time": "2018-03-08T09:50:48.576006Z"
    }
   },
   "outputs": [
    {
     "data": {
      "text/html": [
       "<p>Failed to display Jupyter Widget of type <code>HBox</code>.</p>\n",
       "<p>\n",
       "  If you're reading this message in the Jupyter Notebook or JupyterLab Notebook, it may mean\n",
       "  that the widgets JavaScript is still loading. If this message persists, it\n",
       "  likely means that the widgets JavaScript library is either not installed or\n",
       "  not enabled. See the <a href=\"https://ipywidgets.readthedocs.io/en/stable/user_install.html\">Jupyter\n",
       "  Widgets Documentation</a> for setup instructions.\n",
       "</p>\n",
       "<p>\n",
       "  If you're reading this message in another frontend (for example, a static\n",
       "  rendering on GitHub or <a href=\"https://nbviewer.jupyter.org/\">NBViewer</a>),\n",
       "  it may mean that your frontend doesn't currently support widgets.\n",
       "</p>\n"
      ],
      "text/plain": [
       "HBox(children=(IntProgress(value=0, max=1037767), HTML(value='')))"
      ]
     },
     "metadata": {},
     "output_type": "execute_result"
    },
    {
     "name": "stdout",
     "output_type": "stream",
     "text": [
      "\n"
     ]
    }
   ],
   "source": [
    "def make_10bp(df, uplifted):\n",
    "    \"\"\"\n",
    "Выделить все структуры, у которых основание ножки находятся на расстоянии от 0 до 10 нуклеотидов от границы нуклеосомы.\n",
    "    :param df: sec. struct. df\n",
    "    :param uplifted: nucleosome df\n",
    "    \"\"\"\n",
    "    arr_4_rows = []\n",
    "    for start_upl in tqdm(pd.to_numeric(uplifted.start)):\n",
    "        temp_df = df[(df['end'] > start_upl - 10) & (df['end'] < start_upl)]\n",
    "        if not temp_df.empty:\n",
    "            for ind, row in temp_df.iterrows():\n",
    "                arr_4_rows.append(row)\n",
    "    ss10bp = pd.DataFrame(arr_4_rows)\n",
    "#     ss10bp.to_csv('sec_struct_0-10bp_to_nucleosome.csv', index=False)\n",
    "    return ss10bp\n",
    "\n",
    "quad10bp = make_10bp(df, uplifted)"
   ]
  },
  {
   "cell_type": "code",
   "execution_count": 162,
   "metadata": {
    "ExecuteTime": {
     "end_time": "2018-03-08T10:01:12.163994Z",
     "start_time": "2018-03-08T10:01:11.961272Z"
    }
   },
   "outputs": [
    {
     "name": "stdout",
     "output_type": "stream",
     "text": [
      "1.4124860327192506\n"
     ]
    }
   ],
   "source": [
    "print(quad10bp.shape[0] / all_quad_coords.shape[0] * 100)"
   ]
  },
  {
   "cell_type": "code",
   "execution_count": 170,
   "metadata": {
    "ExecuteTime": {
     "end_time": "2018-03-08T10:05:20.855724Z",
     "start_time": "2018-03-08T10:05:20.638766Z"
    }
   },
   "outputs": [],
   "source": [
    "quad10bp[['start', 'end']] = quad10bp[['start', 'end']].astype(int)\n",
    "quad10bp = quad10bp.reset_index(drop=True)"
   ]
  },
  {
   "cell_type": "markdown",
   "metadata": {},
   "source": [
    "5% out of all quadruplexes are near nucleosomes"
   ]
  },
  {
   "cell_type": "code",
   "execution_count": 150,
   "metadata": {
    "ExecuteTime": {
     "end_time": "2018-03-08T09:29:00.275915Z",
     "start_time": "2018-03-08T09:28:58.207272Z"
    }
   },
   "outputs": [
    {
     "data": {
      "text/html": [
       "<p>Failed to display Jupyter Widget of type <code>HBox</code>.</p>\n",
       "<p>\n",
       "  If you're reading this message in the Jupyter Notebook or JupyterLab Notebook, it may mean\n",
       "  that the widgets JavaScript is still loading. If this message persists, it\n",
       "  likely means that the widgets JavaScript library is either not installed or\n",
       "  not enabled. See the <a href=\"https://ipywidgets.readthedocs.io/en/stable/user_install.html\">Jupyter\n",
       "  Widgets Documentation</a> for setup instructions.\n",
       "</p>\n",
       "<p>\n",
       "  If you're reading this message in another frontend (for example, a static\n",
       "  rendering on GitHub or <a href=\"https://nbviewer.jupyter.org/\">NBViewer</a>),\n",
       "  it may mean that your frontend doesn't currently support widgets.\n",
       "</p>\n"
      ],
      "text/plain": [
       "HBox(children=(IntProgress(value=0, max=493), HTML(value='')))"
      ]
     },
     "metadata": {},
     "output_type": "execute_result"
    },
    {
     "name": "stdout",
     "output_type": "stream",
     "text": [
      "\n"
     ]
    }
   ],
   "source": [
    "\n",
    "def make_go_terms(ss10bp, suffix='quad'):\n",
    "    \"\"\"\n",
    "makes go_terms.csv for pasting to http://revigo.irb.hr/ and getting genes and their types\n",
    "also makes relevant_goa_names.csv for names of this genes\n",
    "    :return:\n",
    "    \"\"\"\n",
    "    ptt = pd.read_csv('../data/ptt_hg19.txt', delimiter='\\t')\n",
    "    ptt1 = ptt[ptt['chrom'] == 'chr1']\n",
    "\n",
    "    def make_10bp_pr(df, uplifted):\n",
    "        arr_4_rows = []\n",
    "        for start_upl in tqdm(pd.to_numeric(uplifted.end)):\n",
    "            temp_df = df[(df['txStart'] - 1000 < start_upl) & (df['txEnd'] > start_upl) & (df.strand == '+')]\n",
    "            if not temp_df.empty:\n",
    "                for ind, row in temp_df.iterrows():\n",
    "                    arr_4_rows.append(row)\n",
    "        return pd.DataFrame(arr_4_rows)\n",
    "\n",
    "    relevant_ptt = make_10bp_pr(ptt1, ss10bp)\n",
    "\n",
    "    goa = pd.read_csv('../data/goa_human.gaf', delimiter='\\t', header=None)\n",
    "\n",
    "    relevant_goa = goa[goa[1].isin(relevant_ptt.proteinID)].drop_duplicates(1)\n",
    "    relevant_goa[9].to_csv('../data/relevant_goa_names_{}.csv'.format(suffix))\n",
    "    relevant_goa[4].to_csv('../data/go_terms_{}.csv'.format(suffix), index=False)\n",
    "\n",
    "make_go_terms(quad10bp)"
   ]
  },
  {
   "cell_type": "code",
   "execution_count": 172,
   "metadata": {
    "ExecuteTime": {
     "end_time": "2018-03-08T10:05:35.511942Z",
     "start_time": "2018-03-08T10:05:33.009577Z"
    }
   },
   "outputs": [],
   "source": [
    "def add_bp_according2_start_end(neg_example):\n",
    "    \"\"\"\n",
    "adds nucleotides string according to start-end columns\n",
    "    :param neg_example: DataFrame with start-end columns\n",
    "    \"\"\"\n",
    "    from Bio import SeqIO\n",
    "    first_record = str(next(SeqIO.parse(\"/home/shared/hg19/chr1.fna\", \"fasta\")).seq)\n",
    "\n",
    "    temp = pd.DataFrame(np.ndarray((neg_example.shape[0], 4)),\n",
    "                        columns=[\"struct\", \"before\", \"after\", 'half_struct'], dtype='str')\n",
    "    for idx, row in neg_example.iterrows():\n",
    "        temp.loc[idx][0] = first_record[row['start']:row['end']]\n",
    "        temp.loc[idx][1] = first_record[row['start'] - 20:row['start']]\n",
    "        temp.loc[idx][2] = first_record[row['end']:row['end']    + 20]\n",
    "        temp.loc[idx][3] = first_record[row['start']:row['start'] + (row['end'] - row['start'])//2]\n",
    "\n",
    "    return pd.concat([neg_example, temp], axis=1)\n",
    "\n",
    "quad10with_bps = add_bp_according2_start_end(quad10bp)\n"
   ]
  },
  {
   "cell_type": "code",
   "execution_count": 183,
   "metadata": {
    "ExecuteTime": {
     "end_time": "2018-03-08T10:10:09.946046Z",
     "start_time": "2018-03-08T10:10:05.285047Z"
    }
   },
   "outputs": [
    {
     "data": {
      "text/html": [
       "<div>\n",
       "<style scoped>\n",
       "    .dataframe tbody tr th:only-of-type {\n",
       "        vertical-align: middle;\n",
       "    }\n",
       "\n",
       "    .dataframe tbody tr th {\n",
       "        vertical-align: top;\n",
       "    }\n",
       "\n",
       "    .dataframe thead th {\n",
       "        text-align: right;\n",
       "    }\n",
       "</style>\n",
       "<table border=\"1\" class=\"dataframe\">\n",
       "  <thead>\n",
       "    <tr style=\"text-align: right;\">\n",
       "      <th></th>\n",
       "      <th>start</th>\n",
       "      <th>end</th>\n",
       "      <th>struct</th>\n",
       "      <th>before</th>\n",
       "      <th>after</th>\n",
       "      <th>half_struct</th>\n",
       "      <th>value</th>\n",
       "    </tr>\n",
       "  </thead>\n",
       "  <tbody>\n",
       "    <tr>\n",
       "      <th>0</th>\n",
       "      <td>46447073</td>\n",
       "      <td>46447097</td>\n",
       "      <td>GGGCAGGGGGCTAGGGAATGGGGG</td>\n",
       "      <td>TTTTTTAAGGATAGTTTGGT</td>\n",
       "      <td>AATGTTGAGTAGTTGAGTCA</td>\n",
       "      <td>GGGCAGGGGGCT</td>\n",
       "      <td>0</td>\n",
       "    </tr>\n",
       "    <tr>\n",
       "      <th>1</th>\n",
       "      <td>11837852</td>\n",
       "      <td>11837885</td>\n",
       "      <td>CCCCACAACCCCCAGGCCCTCCCTCTCCAGCCC</td>\n",
       "      <td>GGGCACTGCTCACATGCCTG</td>\n",
       "      <td>ATCCTCTGGCCTTTGGACTT</td>\n",
       "      <td>CCCCACAACCCCCAGG</td>\n",
       "      <td>0</td>\n",
       "    </tr>\n",
       "  </tbody>\n",
       "</table>\n",
       "</div>"
      ],
      "text/plain": [
       "      start       end                             struct  \\\n",
       "0  46447073  46447097           GGGCAGGGGGCTAGGGAATGGGGG   \n",
       "1  11837852  11837885  CCCCACAACCCCCAGGCCCTCCCTCTCCAGCCC   \n",
       "\n",
       "                 before                 after       half_struct  value  \n",
       "0  TTTTTTAAGGATAGTTTGGT  AATGTTGAGTAGTTGAGTCA      GGGCAGGGGGCT      0  \n",
       "1  GGGCACTGCTCACATGCCTG  ATCCTCTGGCCTTTGGACTT  CCCCACAACCCCCAGG      0  "
      ]
     },
     "execution_count": 183,
     "metadata": {},
     "output_type": "execute_result"
    }
   ],
   "source": [
    "neg_example = all_quad_coords.sample(5000).reset_index(drop=True)\n",
    "neg_example = add_bp_according2_start_end(neg_example)\n",
    "neg_example['value'] = 0\n",
    "quad10with_bps['value'] = 1\n",
    "quad10with_bps.drop('chr1', inplace=True, axis=1)\n",
    "neg_example.drop('chr', inplace=True, axis=1)\n",
    "concated = pd.concat([neg_example, quad10with_bps])\n",
    "concated.head(2)"
   ]
  },
  {
   "cell_type": "code",
   "execution_count": 184,
   "metadata": {
    "ExecuteTime": {
     "end_time": "2018-03-08T10:10:27.875403Z",
     "start_time": "2018-03-08T10:10:27.646440Z"
    }
   },
   "outputs": [
    {
     "data": {
      "text/html": [
       "<div>\n",
       "<style scoped>\n",
       "    .dataframe tbody tr th:only-of-type {\n",
       "        vertical-align: middle;\n",
       "    }\n",
       "\n",
       "    .dataframe tbody tr th {\n",
       "        vertical-align: top;\n",
       "    }\n",
       "\n",
       "    .dataframe thead th {\n",
       "        text-align: right;\n",
       "    }\n",
       "</style>\n",
       "<table border=\"1\" class=\"dataframe\">\n",
       "  <thead>\n",
       "    <tr style=\"text-align: right;\">\n",
       "      <th></th>\n",
       "      <th>start</th>\n",
       "      <th>end</th>\n",
       "      <th>struct</th>\n",
       "      <th>before</th>\n",
       "      <th>after</th>\n",
       "      <th>half_struct</th>\n",
       "      <th>value</th>\n",
       "    </tr>\n",
       "  </thead>\n",
       "  <tbody>\n",
       "    <tr>\n",
       "      <th>488</th>\n",
       "      <td>38300074</td>\n",
       "      <td>38300102</td>\n",
       "      <td>GGGTGGGGGCGGCGGGGGTGGGGGAAGG</td>\n",
       "      <td>CTTTGGGAGGCTGAGACAGA</td>\n",
       "      <td>GAAAGACTGCTTGGACCTTA</td>\n",
       "      <td>GGGTGGGGGCGGCG</td>\n",
       "      <td>1</td>\n",
       "    </tr>\n",
       "    <tr>\n",
       "      <th>489</th>\n",
       "      <td>38410448</td>\n",
       "      <td>38410479</td>\n",
       "      <td>GGGGAGCGGGAGGTGGGGCGGGGTAGGGGGG</td>\n",
       "      <td>TTTTTTGTAGAGATGGAGCC</td>\n",
       "      <td>GCGGTCTCGCTATGTTGCCC</td>\n",
       "      <td>GGGGAGCGGGAGGTG</td>\n",
       "      <td>1</td>\n",
       "    </tr>\n",
       "    <tr>\n",
       "      <th>490</th>\n",
       "      <td>41346049</td>\n",
       "      <td>41346078</td>\n",
       "      <td>GGGGTGGGGAGGCTGGGGGTGGGGTGGGG</td>\n",
       "      <td>GTCTGAACAAAAGGAGCAGT</td>\n",
       "      <td>GATGTTAGTGATGATGAGGG</td>\n",
       "      <td>GGGGTGGGGAGGCT</td>\n",
       "      <td>1</td>\n",
       "    </tr>\n",
       "    <tr>\n",
       "      <th>491</th>\n",
       "      <td>41922974</td>\n",
       "      <td>41923031</td>\n",
       "      <td>GGGTTGGATGGGGAGGCTCAGGGGGCCCAGAGGGTTCCGGGTGCCC...</td>\n",
       "      <td>GCCCATCCAGGCAGGTGTCA</td>\n",
       "      <td>GCATCTTGCAGTAGGAGCCC</td>\n",
       "      <td>GGGTTGGATGGGGAGGCTCAGGGGGCCC</td>\n",
       "      <td>1</td>\n",
       "    </tr>\n",
       "    <tr>\n",
       "      <th>492</th>\n",
       "      <td>45023093</td>\n",
       "      <td>45023115</td>\n",
       "      <td>GGGAGGGAGGGAGAGAGGGAGG</td>\n",
       "      <td>AGAGAGGAAGGAAGGAAGGA</td>\n",
       "      <td>GAAAGAAGGAAGGAAGGAAG</td>\n",
       "      <td>GGGAGGGAGGG</td>\n",
       "      <td>1</td>\n",
       "    </tr>\n",
       "  </tbody>\n",
       "</table>\n",
       "</div>"
      ],
      "text/plain": [
       "        start       end                                             struct  \\\n",
       "488  38300074  38300102                       GGGTGGGGGCGGCGGGGGTGGGGGAAGG   \n",
       "489  38410448  38410479                    GGGGAGCGGGAGGTGGGGCGGGGTAGGGGGG   \n",
       "490  41346049  41346078                      GGGGTGGGGAGGCTGGGGGTGGGGTGGGG   \n",
       "491  41922974  41923031  GGGTTGGATGGGGAGGCTCAGGGGGCCCAGAGGGTTCCGGGTGCCC...   \n",
       "492  45023093  45023115                             GGGAGGGAGGGAGAGAGGGAGG   \n",
       "\n",
       "                   before                 after                   half_struct  \\\n",
       "488  CTTTGGGAGGCTGAGACAGA  GAAAGACTGCTTGGACCTTA                GGGTGGGGGCGGCG   \n",
       "489  TTTTTTGTAGAGATGGAGCC  GCGGTCTCGCTATGTTGCCC               GGGGAGCGGGAGGTG   \n",
       "490  GTCTGAACAAAAGGAGCAGT  GATGTTAGTGATGATGAGGG                GGGGTGGGGAGGCT   \n",
       "491  GCCCATCCAGGCAGGTGTCA  GCATCTTGCAGTAGGAGCCC  GGGTTGGATGGGGAGGCTCAGGGGGCCC   \n",
       "492  AGAGAGGAAGGAAGGAAGGA  GAAAGAAGGAAGGAAGGAAG                   GGGAGGGAGGG   \n",
       "\n",
       "     value  \n",
       "488      1  \n",
       "489      1  \n",
       "490      1  \n",
       "491      1  \n",
       "492      1  "
      ]
     },
     "execution_count": 184,
     "metadata": {},
     "output_type": "execute_result"
    }
   ],
   "source": [
    "concated.tail()"
   ]
  },
  {
   "cell_type": "code",
   "execution_count": 185,
   "metadata": {
    "ExecuteTime": {
     "end_time": "2018-03-08T10:11:09.230631Z",
     "start_time": "2018-03-08T10:10:34.629037Z"
    }
   },
   "outputs": [
    {
     "data": {
      "text/html": [
       "<p>Failed to display Jupyter Widget of type <code>HBox</code>.</p>\n",
       "<p>\n",
       "  If you're reading this message in the Jupyter Notebook or JupyterLab Notebook, it may mean\n",
       "  that the widgets JavaScript is still loading. If this message persists, it\n",
       "  likely means that the widgets JavaScript library is either not installed or\n",
       "  not enabled. See the <a href=\"https://ipywidgets.readthedocs.io/en/stable/user_install.html\">Jupyter\n",
       "  Widgets Documentation</a> for setup instructions.\n",
       "</p>\n",
       "<p>\n",
       "  If you're reading this message in another frontend (for example, a static\n",
       "  rendering on GitHub or <a href=\"https://nbviewer.jupyter.org/\">NBViewer</a>),\n",
       "  it may mean that your frontend doesn't currently support widgets.\n",
       "</p>\n"
      ],
      "text/plain": [
       "HBox(children=(IntProgress(value=0, max=5493), HTML(value='')))"
      ]
     },
     "metadata": {},
     "output_type": "execute_result"
    },
    {
     "name": "stdout",
     "output_type": "stream",
     "text": [
      "\n"
     ]
    }
   ],
   "source": [
    "def calc_feats(concated, position='half_struct'):\n",
    "    \"\"\"\n",
    "calculate features from diprodb\n",
    "    :param position: struct, before, after or half_struct\n",
    "    :param concated: df with bp as after add_bp_according2_start_end\n",
    "    \"\"\"\n",
    "    diprodb = pd.read_csv('../data/dprops.csv', index_col=0)\n",
    "    import re\n",
    "    features = []\n",
    "    for struct in tqdm(concated.loc[:, concated.columns != 'value'][position]):\n",
    "        strl = re.findall('..', struct)\n",
    "        temp = []\n",
    "        for dyad in strl:\n",
    "            temp.append(diprodb[diprodb['PropertyName'] == dyad].values.tolist()[0])\n",
    "        features.append(pd.DataFrame(temp, columns=diprodb.columns).sum())\n",
    "    return pd.DataFrame(features)\n",
    "feats = calc_feats(concated)"
   ]
  },
  {
   "cell_type": "code",
   "execution_count": 186,
   "metadata": {
    "ExecuteTime": {
     "end_time": "2018-03-08T10:11:10.549700Z",
     "start_time": "2018-03-08T10:11:10.279939Z"
    }
   },
   "outputs": [
    {
     "data": {
      "text/html": [
       "<div>\n",
       "<style scoped>\n",
       "    .dataframe tbody tr th:only-of-type {\n",
       "        vertical-align: middle;\n",
       "    }\n",
       "\n",
       "    .dataframe tbody tr th {\n",
       "        vertical-align: top;\n",
       "    }\n",
       "\n",
       "    .dataframe thead th {\n",
       "        text-align: right;\n",
       "    }\n",
       "</style>\n",
       "<table border=\"1\" class=\"dataframe\">\n",
       "  <thead>\n",
       "    <tr style=\"text-align: right;\">\n",
       "      <th></th>\n",
       "      <th>PropertyName</th>\n",
       "      <th>Twist</th>\n",
       "      <th>Stacking_energy</th>\n",
       "      <th>Rise</th>\n",
       "      <th>Bend</th>\n",
       "      <th>Tip</th>\n",
       "      <th>Inclination</th>\n",
       "      <th>Major_Groove_Width</th>\n",
       "      <th>Major_Groove_Depth</th>\n",
       "      <th>Major_Groove_Size</th>\n",
       "      <th>...</th>\n",
       "      <th>Roll.3</th>\n",
       "      <th>Tilt.3</th>\n",
       "      <th>Twist.5</th>\n",
       "      <th>Roll.4</th>\n",
       "      <th>Twist.6</th>\n",
       "      <th>Flexibility_slide</th>\n",
       "      <th>Flexibility_shift</th>\n",
       "      <th>Enthalpy.1</th>\n",
       "      <th>Entropy.1</th>\n",
       "      <th>Free_energy.8</th>\n",
       "    </tr>\n",
       "  </thead>\n",
       "  <tbody>\n",
       "    <tr>\n",
       "      <th>0</th>\n",
       "      <td>GGGCAGGGGGCT</td>\n",
       "      <td>207.68</td>\n",
       "      <td>-64.7</td>\n",
       "      <td>23.31</td>\n",
       "      <td>14.16</td>\n",
       "      <td>6.43</td>\n",
       "      <td>3.33</td>\n",
       "      <td>88.04</td>\n",
       "      <td>51.94</td>\n",
       "      <td>24.60</td>\n",
       "      <td>...</td>\n",
       "      <td>2.2</td>\n",
       "      <td>-1.8</td>\n",
       "      <td>201.4</td>\n",
       "      <td>4.8</td>\n",
       "      <td>215.3</td>\n",
       "      <td>41.58</td>\n",
       "      <td>36.47</td>\n",
       "      <td>-49.4</td>\n",
       "      <td>-126.1</td>\n",
       "      <td>-10.32</td>\n",
       "    </tr>\n",
       "    <tr>\n",
       "      <th>1</th>\n",
       "      <td>CCCCACAACCCCCAGG</td>\n",
       "      <td>286.23</td>\n",
       "      <td>-83.6</td>\n",
       "      <td>30.20</td>\n",
       "      <td>20.42</td>\n",
       "      <td>5.67</td>\n",
       "      <td>-3.56</td>\n",
       "      <td>115.55</td>\n",
       "      <td>69.45</td>\n",
       "      <td>31.84</td>\n",
       "      <td>...</td>\n",
       "      <td>5.4</td>\n",
       "      <td>-1.0</td>\n",
       "      <td>269.3</td>\n",
       "      <td>14.7</td>\n",
       "      <td>283.1</td>\n",
       "      <td>61.44</td>\n",
       "      <td>47.24</td>\n",
       "      <td>-64.5</td>\n",
       "      <td>-165.9</td>\n",
       "      <td>-13.09</td>\n",
       "    </tr>\n",
       "    <tr>\n",
       "      <th>5491</th>\n",
       "      <td>GGGTTGGATGGGGAGGCTCAGGGGGCCC</td>\n",
       "      <td>518.38</td>\n",
       "      <td>-153.2</td>\n",
       "      <td>51.96</td>\n",
       "      <td>37.06</td>\n",
       "      <td>7.44</td>\n",
       "      <td>3.50</td>\n",
       "      <td>201.97</td>\n",
       "      <td>121.27</td>\n",
       "      <td>54.28</td>\n",
       "      <td>...</td>\n",
       "      <td>27.0</td>\n",
       "      <td>-1.9</td>\n",
       "      <td>471.5</td>\n",
       "      <td>38.7</td>\n",
       "      <td>495.3</td>\n",
       "      <td>90.26</td>\n",
       "      <td>78.46</td>\n",
       "      <td>-115.9</td>\n",
       "      <td>-299.7</td>\n",
       "      <td>-22.95</td>\n",
       "    </tr>\n",
       "    <tr>\n",
       "      <th>5492</th>\n",
       "      <td>GGGAGGGAGG</td>\n",
       "      <td>187.50</td>\n",
       "      <td>-51.3</td>\n",
       "      <td>19.18</td>\n",
       "      <td>11.50</td>\n",
       "      <td>4.83</td>\n",
       "      <td>2.67</td>\n",
       "      <td>74.33</td>\n",
       "      <td>42.87</td>\n",
       "      <td>18.46</td>\n",
       "      <td>...</td>\n",
       "      <td>7.9</td>\n",
       "      <td>-5.2</td>\n",
       "      <td>168.5</td>\n",
       "      <td>14.2</td>\n",
       "      <td>183.3</td>\n",
       "      <td>42.64</td>\n",
       "      <td>27.41</td>\n",
       "      <td>-40.4</td>\n",
       "      <td>-104.1</td>\n",
       "      <td>-8.12</td>\n",
       "    </tr>\n",
       "  </tbody>\n",
       "</table>\n",
       "<p>4 rows × 126 columns</p>\n",
       "</div>"
      ],
      "text/plain": [
       "                      PropertyName   Twist  Stacking_energy   Rise   Bend  \\\n",
       "0                     GGGCAGGGGGCT  207.68            -64.7  23.31  14.16   \n",
       "1                 CCCCACAACCCCCAGG  286.23            -83.6  30.20  20.42   \n",
       "5491  GGGTTGGATGGGGAGGCTCAGGGGGCCC  518.38           -153.2  51.96  37.06   \n",
       "5492                    GGGAGGGAGG  187.50            -51.3  19.18  11.50   \n",
       "\n",
       "       Tip  Inclination  Major_Groove_Width  Major_Groove_Depth  \\\n",
       "0     6.43         3.33               88.04               51.94   \n",
       "1     5.67        -3.56              115.55               69.45   \n",
       "5491  7.44         3.50              201.97              121.27   \n",
       "5492  4.83         2.67               74.33               42.87   \n",
       "\n",
       "      Major_Groove_Size      ...        Roll.3  Tilt.3  Twist.5  Roll.4  \\\n",
       "0                 24.60      ...           2.2    -1.8    201.4     4.8   \n",
       "1                 31.84      ...           5.4    -1.0    269.3    14.7   \n",
       "5491              54.28      ...          27.0    -1.9    471.5    38.7   \n",
       "5492              18.46      ...           7.9    -5.2    168.5    14.2   \n",
       "\n",
       "      Twist.6  Flexibility_slide  Flexibility_shift  Enthalpy.1  Entropy.1  \\\n",
       "0       215.3              41.58              36.47       -49.4     -126.1   \n",
       "1       283.1              61.44              47.24       -64.5     -165.9   \n",
       "5491    495.3              90.26              78.46      -115.9     -299.7   \n",
       "5492    183.3              42.64              27.41       -40.4     -104.1   \n",
       "\n",
       "      Free_energy.8  \n",
       "0            -10.32  \n",
       "1            -13.09  \n",
       "5491         -22.95  \n",
       "5492          -8.12  \n",
       "\n",
       "[4 rows x 126 columns]"
      ]
     },
     "execution_count": 186,
     "metadata": {},
     "output_type": "execute_result"
    }
   ],
   "source": [
    "feats.head(2).append(feats.tail(2))"
   ]
  },
  {
   "cell_type": "code",
   "execution_count": 187,
   "metadata": {
    "ExecuteTime": {
     "end_time": "2018-03-08T10:11:14.090689Z",
     "start_time": "2018-03-08T10:11:13.744776Z"
    }
   },
   "outputs": [],
   "source": [
    "import matplotlib.pyplot as plt\n",
    "import numpy as np\n",
    "import pandas as pd\n",
    "from tqdm import tqdm_notebook as tqdm\n",
    "import re\n",
    "from MulticoreTSNE import MulticoreTSNE as TSNE  # https://github.com/DmitryUlyanov/Multicore-TSNE\n",
    "\n",
    "\n",
    "def plot_tsne(ss10bp, position='struct'):\n",
    "    \"\"\"\n",
    "form  physical features dataframe and use t-sne on it\n",
    "https://lvdmaaten.github.io/tsne/\n",
    "    :param position: before, after or struct for position relative to structure\n",
    "    :param ss10bp: see preprocessing.py, sec. structs within 10bp from nucleosome\n",
    "    :return: plt for plt.show()\n",
    "    \"\"\"\n",
    "    diprodb = pd.read_csv('../data/dprops.csv', index_col=0)\n",
    "\n",
    "    features = []\n",
    "    for struct in tqdm(ss10bp[position]):\n",
    "        strl = re.findall('..', struct)\n",
    "        temp = []\n",
    "        for dyad in strl:\n",
    "            temp.append(diprodb[diprodb['PropertyName'] == dyad].values.tolist()[0])\n",
    "        features.append(pd.DataFrame(temp, columns=diprodb.columns).sum())\n",
    "    features = pd.DataFrame(features)\n",
    "\n",
    "\n",
    "    tsne = TSNE(n_jobs=8)\n",
    "    transformed = tsne.fit_transform(features.loc[:, features.columns != 'PropertyName'])\n",
    "\n",
    "    vis_x = transformed[:, 0]\n",
    "    vis_y = transformed[:, 1]\n",
    "\n",
    "    plt.scatter(vis_x, vis_y, cmap=plt.cm.get_cmap(\"jet\", 10))\n",
    "    plt.clim(-0.5, 9.5)\n",
    "    return plt\n",
    "    # plt.show()\n",
    "    # or we can do this and label relevant vs random\n",
    "    # diprodb = pd.read_csv('../data/dprops.csv', index_col=0)\n",
    "    #\n",
    "    # features = []\n",
    "    # for struct in tqdm(concated.loc[:, concated.columns != 'value']['before']):\n",
    "    #     strl = re.findall('..', struct)\n",
    "    #     temp = []\n",
    "    #     for dyad in strl:\n",
    "    #         temp.append(diprodb[diprodb['PropertyName'] == dyad].values.tolist()[0])\n",
    "    #     features.append(pd.DataFrame(temp, columns=diprodb.columns).sum())\n",
    "    # features = pd.DataFrame(features)\n",
    "    #\n",
    "    # tsne = TSNE(n_jobs=8)\n",
    "    # transformed = tsne.fit_transform(features.loc[:, features.columns != 'PropertyName'])\n",
    "    #\n",
    "    # vis_x = transformed[:, 0]\n",
    "    # vis_y = transformed[:, 1]\n",
    "    #\n",
    "    # plt.scatter(vis_x, vis_y, c=concated['value'].map({0: 'blue', 1: 'orange'}))\n",
    "    # # plt.clim(-0.5, 9.5)\n",
    "    # plt.show()\n",
    "\n"
   ]
  },
  {
   "cell_type": "code",
   "execution_count": 188,
   "metadata": {
    "ExecuteTime": {
     "end_time": "2018-03-08T10:11:21.463250Z",
     "start_time": "2018-03-08T10:11:14.797425Z"
    }
   },
   "outputs": [
    {
     "data": {
      "text/html": [
       "<p>Failed to display Jupyter Widget of type <code>HBox</code>.</p>\n",
       "<p>\n",
       "  If you're reading this message in the Jupyter Notebook or JupyterLab Notebook, it may mean\n",
       "  that the widgets JavaScript is still loading. If this message persists, it\n",
       "  likely means that the widgets JavaScript library is either not installed or\n",
       "  not enabled. See the <a href=\"https://ipywidgets.readthedocs.io/en/stable/user_install.html\">Jupyter\n",
       "  Widgets Documentation</a> for setup instructions.\n",
       "</p>\n",
       "<p>\n",
       "  If you're reading this message in another frontend (for example, a static\n",
       "  rendering on GitHub or <a href=\"https://nbviewer.jupyter.org/\">NBViewer</a>),\n",
       "  it may mean that your frontend doesn't currently support widgets.\n",
       "</p>\n"
      ],
      "text/plain": [
       "HBox(children=(IntProgress(value=0, max=493), HTML(value='')))"
      ]
     },
     "metadata": {},
     "output_type": "execute_result"
    },
    {
     "name": "stdout",
     "output_type": "stream",
     "text": [
      "\n"
     ]
    },
    {
     "data": {
      "text/plain": [
       "<module 'matplotlib.pyplot' from '/home/magas/.pyenv/versions/3.6.0/envs/general/lib/python3.6/site-packages/matplotlib/pyplot.py'>"
      ]
     },
     "execution_count": 188,
     "metadata": {},
     "output_type": "execute_result"
    },
    {
     "data": {
      "image/png": "[encoded data removed]",
      "text/plain": [
       "<matplotlib.figure.Figure at 0x7fda0de32358>"
      ]
     },
     "metadata": {},
     "output_type": "display_data"
    }
   ],
   "source": [
    "plot_tsne(quad10with_bps)"
   ]
  },
  {
   "cell_type": "code",
   "execution_count": 189,
   "metadata": {
    "ExecuteTime": {
     "end_time": "2018-03-08T10:11:33.303843Z",
     "start_time": "2018-03-08T10:11:21.464510Z"
    }
   },
   "outputs": [
    {
     "data": {
      "image/png": "[encoded data removed]",
      "text/plain": [
       "<matplotlib.figure.Figure at 0x7fda0de32cc0>"
      ]
     },
     "metadata": {},
     "output_type": "display_data"
    }
   ],
   "source": [
    "\n",
    "tsne = TSNE(n_jobs=8)\n",
    "transformed = tsne.fit_transform(feats.loc[:, feats.columns != 'PropertyName'])\n",
    "\n",
    "vis_x = transformed[:, 0]\n",
    "vis_y = transformed[:, 1]\n",
    "\n",
    "plt.scatter(vis_x, vis_y, c=concated['value'].map({0: 'blue', 1: 'orange'}))\n",
    "# plt.clim(-0.5, 9.5)\n",
    "plt.show()"
   ]
  },
  {
   "cell_type": "code",
   "execution_count": 190,
   "metadata": {
    "ExecuteTime": {
     "end_time": "2018-03-08T10:11:33.515986Z",
     "start_time": "2018-03-08T10:11:33.304818Z"
    }
   },
   "outputs": [
    {
     "name": "stdout",
     "output_type": "stream",
     "text": [
      "The wurlitzer extension is already loaded. To reload it, use:\n",
      "  %reload_ext wurlitzer\n"
     ]
    },
    {
     "name": "stderr",
     "output_type": "stream",
     "text": [
      "Use token 1260389131217015787.\n"
     ]
    }
   ],
   "source": [
    "from sklearn.model_selection import train_test_split\n",
    "x_train, x_test, y_train, y_test = train_test_split(\n",
    "    feats.drop('PropertyName', axis=1).values, concated['value'].values,\n",
    "    test_size=0.3)\n",
    "%load_ext wurlitzer  \n",
    "import telepyth # push notif in telegram\n",
    "\n",
    "%telepyth -t 1260389131217015787"
   ]
  },
  {
   "cell_type": "code",
   "execution_count": 191,
   "metadata": {
    "ExecuteTime": {
     "end_time": "2018-03-08T10:11:33.948331Z",
     "start_time": "2018-03-08T10:11:33.517082Z"
    },
    "scrolled": true
   },
   "outputs": [
    {
     "name": "stderr",
     "output_type": "stream",
     "text": [
      "/home/magas/.pyenv/versions/3.6.0/envs/general/lib/python3.6/site-packages/lightgbm/engine.py:104: UserWarning: Found `early_stopping_round` in params. Will use it instead of argument\n",
      "  warnings.warn(\"Found `{}` in params. Will use it instead of argument\".format(alias))\n"
     ]
    },
    {
     "name": "stdout",
     "output_type": "stream",
     "text": [
      "[1]\tvalid_0's auc: 0.774457[LightGBM] [Info] Number of positive: 338, number of negative: 3507\n",
      "[LightGBM] [Info] Total Bins 26398\n",
      "[LightGBM] [Info] Number of data: 3845, number of used features: 125\n",
      "[LightGBM] [Info] using GOSS\n",
      "\n",
      "Training until validation scores don't improve for 50 rounds.\n",
      "[2]\tvalid_0's auc: 0.78084\n",
      "[3]\tvalid_0's auc: 0.78744\n",
      "[4]\tvalid_0's auc: 0.787961\n",
      "[5]\tvalid_0's auc: 0.791358\n",
      "[6]\tvalid_0's auc: 0.796098\n",
      "[7]\tvalid_0's auc: 0.803589\n",
      "[8]\tvalid_0's auc: 0.800791\n",
      "[9]\tvalid_0's auc: 0.795586\n",
      "[10]\tvalid_0's auc: 0.78991\n",
      "[11]\tvalid_0's auc: 0.792611\n",
      "[12]\tvalid_0's auc: 0.802362\n",
      "[13]\tvalid_0's auc: 0.804775\n",
      "[14]\tvalid_0's auc: 0.804889\n",
      "[15]\tvalid_0's auc: 0.80014\n",
      "[16]\tvalid_0's auc: 0.807528\n",
      "[17]\tvalid_0's auc: 0.807067\n",
      "[18]\tvalid_0's auc: 0.806285\n",
      "[19]\tvalid_0's auc: 0.807683\n",
      "[20]\tvalid_0's auc: 0.809606\n",
      "[21]\tvalid_0's auc: 0.807121\n",
      "[22]\tvalid_0's auc: 0.809038\n",
      "[23]\tvalid_0's auc: 0.808496\n",
      "[24]\tvalid_0's auc: 0.80772\n",
      "[25]\tvalid_0's auc: 0.801942\n",
      "[26]\tvalid_0's auc: 0.801041\n",
      "[27]\tvalid_0's auc: 0.799942\n",
      "[28]\tvalid_0's auc: 0.801134\n",
      "[29]\tvalid_0's auc: 0.802349\n",
      "[30]\tvalid_0's auc: 0.80457\n",
      "[31]\tvalid_0's auc: 0.804401\n",
      "[32]\tvalid_0's auc: 0.801722\n",
      "[33]\tvalid_0's auc: 0.800456\n",
      "[34]\tvalid_0's auc: 0.799064\n",
      "[35]\tvalid_0's auc: 0.800197\n",
      "[36]\tvalid_0's auc: 0.799981\n",
      "[37]\tvalid_0's auc: 0.797552\n",
      "[38]\tvalid_0's auc: 0.798289\n",
      "[39]\tvalid_0's auc: 0.79688\n",
      "[40]\tvalid_0's auc: 0.794382\n",
      "[41]\tvalid_0's auc: 0.792658\n",
      "[42]\tvalid_0's auc: 0.791349\n",
      "[43]\tvalid_0's auc: 0.790515\n",
      "[44]\tvalid_0's auc: 0.790783\n",
      "[45]\tvalid_0's auc: 0.789452\n",
      "[46]\tvalid_0's auc: 0.787792\n",
      "[47]\tvalid_0's auc: 0.786825\n",
      "[48]\tvalid_0's auc: 0.787585\n",
      "[49]\tvalid_0's auc: 0.785874\n",
      "[50]\tvalid_0's auc: 0.784608\n",
      "[51]\tvalid_0's auc: 0.784664\n",
      "[52]\tvalid_0's auc: 0.785403\n",
      "[53]\tvalid_0's auc: 0.783571\n",
      "[54]\tvalid_0's auc: 0.782767\n",
      "[55]\tvalid_0's auc: 0.781773\n",
      "[56]\tvalid_0's auc: 0.781099\n",
      "[57]\tvalid_0's auc: 0.779902\n",
      "[58]\tvalid_0's auc: 0.778005\n",
      "[59]\tvalid_0's auc: 0.778679\n",
      "[60]\tvalid_0's auc: 0.776605\n",
      "[61]\tvalid_0's auc: 0.773839\n",
      "[62]\tvalid_0's auc: 0.775602\n",
      "[63]\tvalid_0's auc: 0.774315\n",
      "[64]\tvalid_0's auc: 0.774315\n",
      "[65]\tvalid_0's auc: 0.774721\n",
      "[66]\tvalid_0's auc: 0.774122\n",
      "[67]\tvalid_0's auc: 0.774796\n",
      "[68]\tvalid_0's auc: 0.776421\n",
      "[69]\tvalid_0's auc: 0.775756\n",
      "[70]\tvalid_0's auc: 0.776298\n",
      "Early stopping, best iteration is:\n",
      "[20]\tvalid_0's auc: 0.809606\n",
      "0.8096061188773416\n"
     ]
    }
   ],
   "source": [
    "import lightgbm as lgb\n",
    "from sklearn.metrics import roc_auc_score\n",
    "np.random.seed(42)\n",
    "verbose = 1\n",
    "plot = 1\n",
    "params = {\n",
    "#     \"max_bin\": 1024,\n",
    "#     \"learning_rate\": 0.01,\n",
    "    \"boosting_type\": \"goss\",\n",
    "    \"objective\": \"binary\",\n",
    "#     'num_iterations':10000,\n",
    "    \"metric\": \"auc\",\n",
    "#     \"num_leaves\": 10000,\n",
    "    \"verbose\": 1,\n",
    "#     \"min_data\": 100,\n",
    "#     \"boost_from_average\": True,\n",
    "    'early_stopping_round': 50\n",
    "}\n",
    "\n",
    "d_train = lgb.Dataset(x_train, y_train)\n",
    "d_valid = lgb.Dataset(x_test, label=y_test)\n",
    "model = lgb.train(params, d_train, valid_sets=d_valid)\n",
    "# model.save_model('regressin')\n",
    "# model = lgb.Booster(model_file='regressin')\n",
    "\n",
    "y_pred = model.predict(x_test)\n",
    "print(roc_auc_score(y_test, y_pred))"
   ]
  },
  {
   "cell_type": "code",
   "execution_count": 192,
   "metadata": {
    "ExecuteTime": {
     "end_time": "2018-03-08T10:11:34.698745Z",
     "start_time": "2018-03-08T10:11:33.949622Z"
    }
   },
   "outputs": [
    {
     "data": {
      "text/plain": [
       "<matplotlib.figure.Figure at 0x7fda0d4734e0>"
      ]
     },
     "metadata": {},
     "output_type": "display_data"
    },
    {
     "data": {
      "image/png": "[encoded data removed]",
      "text/plain": [
       "<matplotlib.figure.Figure at 0x7fd9fb7960f0>"
      ]
     },
     "metadata": {},
     "output_type": "display_data"
    },
    {
     "name": "stdout",
     "output_type": "stream",
     "text": [
      "Error in callback <function sys_pipes_forever at 0x7fd9faa2b378> (for pre_execute):\n"
     ]
    },
    {
     "ename": "RuntimeError",
     "evalue": "generator didn't yield",
     "traceback": [
      "\u001b[0;31m---------------------------------------------------------------------------\u001b[0m",
      "\u001b[0;31mRuntimeError\u001b[0m                              Traceback (most recent call last)",
      "\u001b[0;32m~/.pyenv/versions/3.6.0/envs/general/lib/python3.6/site-packages/wurlitzer.py\u001b[0m in \u001b[0;36msys_pipes_forever\u001b[0;34m(encoding)\u001b[0m\n\u001b[1;32m    288\u001b[0m     \u001b[0;32mif\u001b[0m \u001b[0m_mighty_wurlitzer\u001b[0m \u001b[0;32mis\u001b[0m \u001b[0;32mNone\u001b[0m\u001b[0;34m:\u001b[0m\u001b[0;34m\u001b[0m\u001b[0m\n\u001b[1;32m    289\u001b[0m         \u001b[0m_mighty_wurlitzer\u001b[0m \u001b[0;34m=\u001b[0m \u001b[0msys_pipes\u001b[0m\u001b[0;34m(\u001b[0m\u001b[0mencoding\u001b[0m\u001b[0;34m)\u001b[0m\u001b[0;34m\u001b[0m\u001b[0m\n\u001b[0;32m--> 290\u001b[0;31m     \u001b[0m_mighty_wurlitzer\u001b[0m\u001b[0;34m.\u001b[0m\u001b[0m__enter__\u001b[0m\u001b[0;34m(\u001b[0m\u001b[0;34m)\u001b[0m\u001b[0;34m\u001b[0m\u001b[0m\n\u001b[0m\u001b[1;32m    291\u001b[0m \u001b[0;34m\u001b[0m\u001b[0m\n\u001b[1;32m    292\u001b[0m \u001b[0;34m\u001b[0m\u001b[0m\n",
      "\u001b[0;32m~/.pyenv/versions/3.6.0/lib/python3.6/contextlib.py\u001b[0m in \u001b[0;36m__enter__\u001b[0;34m(self)\u001b[0m\n\u001b[1;32m     82\u001b[0m             \u001b[0;32mreturn\u001b[0m \u001b[0mnext\u001b[0m\u001b[0;34m(\u001b[0m\u001b[0mself\u001b[0m\u001b[0;34m.\u001b[0m\u001b[0mgen\u001b[0m\u001b[0;34m)\u001b[0m\u001b[0;34m\u001b[0m\u001b[0m\n\u001b[1;32m     83\u001b[0m         \u001b[0;32mexcept\u001b[0m \u001b[0mStopIteration\u001b[0m\u001b[0;34m:\u001b[0m\u001b[0;34m\u001b[0m\u001b[0m\n\u001b[0;32m---> 84\u001b[0;31m             \u001b[0;32mraise\u001b[0m \u001b[0mRuntimeError\u001b[0m\u001b[0;34m(\u001b[0m\u001b[0;34m\"generator didn't yield\"\u001b[0m\u001b[0;34m)\u001b[0m \u001b[0;32mfrom\u001b[0m \u001b[0;32mNone\u001b[0m\u001b[0;34m\u001b[0m\u001b[0m\n\u001b[0m\u001b[1;32m     85\u001b[0m \u001b[0;34m\u001b[0m\u001b[0m\n\u001b[1;32m     86\u001b[0m     \u001b[0;32mdef\u001b[0m \u001b[0m__exit__\u001b[0m\u001b[0;34m(\u001b[0m\u001b[0mself\u001b[0m\u001b[0;34m,\u001b[0m \u001b[0mtype\u001b[0m\u001b[0;34m,\u001b[0m \u001b[0mvalue\u001b[0m\u001b[0;34m,\u001b[0m \u001b[0mtraceback\u001b[0m\u001b[0;34m)\u001b[0m\u001b[0;34m:\u001b[0m\u001b[0;34m\u001b[0m\u001b[0m\n",
      "\u001b[0;31mRuntimeError\u001b[0m: generator didn't yield"
     ],
     "output_type": "error"
    },
    {
     "data": {
      "text/plain": [
       "'lgb! \\n'"
      ]
     },
     "execution_count": 192,
     "metadata": {},
     "output_type": "execute_result"
    }
   ],
   "source": [
    "df_fi = pd.DataFrame(features.columns[1:], columns=['feature'])\n",
    "df_fi['importance'] = list(model.feature_importance('gain'))\n",
    "df_fi.sort_values('importance', ascending=False, inplace=True)\n",
    "# print(df_fi)\n",
    "if plot:\n",
    "    plt.figure()\n",
    "    df_fi.head(10).plot(kind='barh', x='feature', y='importance')\n",
    "    plt.title('Roc_auc is {}'.format(roc_auc_score(y_test, y_pred)))\n",
    "    plt.xlabel('relative importance')\n",
    "    plt.show()\n",
    "\n",
    "%telepyth 'lgb! \\n'"
   ]
  },
  {
   "cell_type": "code",
   "execution_count": null,
   "metadata": {},
   "outputs": [],
   "source": []
  }
 ],
 "metadata": {
  "kernelspec": {
   "display_name": "Python 3",
   "language": "python",
   "name": "python3"
  },
  "language_info": {
   "codemirror_mode": {
    "name": "ipython",
    "version": 3
   },
   "file_extension": ".py",
   "mimetype": "text/x-python",
   "name": "python",
   "nbconvert_exporter": "python",
   "pygments_lexer": "ipython3",
   "version": "3.6.0"
  }
 },
 "nbformat": 4,
 "nbformat_minor": 2
}
