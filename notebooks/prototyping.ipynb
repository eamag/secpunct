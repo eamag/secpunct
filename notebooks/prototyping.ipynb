{
 "cells": [
  {
   "cell_type": "code",
   "execution_count": 3,
   "metadata": {
    "ExecuteTime": {
     "end_time": "2018-02-26T11:43:35.195116Z",
     "start_time": "2018-02-26T11:43:31.226393Z"
    }
   },
   "outputs": [
    {
     "name": "stderr",
     "output_type": "stream",
     "text": [
      "/home/magas/.pyenv/versions/3.6.0/envs/general/lib/python3.6/site-packages/numpy/lib/arraysetops.py:472: FutureWarning: elementwise comparison failed; returning scalar instead, but in the future will perform elementwise comparison\n",
      "  mask |= (ar1 == a)\n"
     ]
    },
    {
     "data": {
      "text/html": [
       "<div>\n",
       "<style scoped>\n",
       "    .dataframe tbody tr th:only-of-type {\n",
       "        vertical-align: middle;\n",
       "    }\n",
       "\n",
       "    .dataframe tbody tr th {\n",
       "        vertical-align: top;\n",
       "    }\n",
       "\n",
       "    .dataframe thead th {\n",
       "        text-align: right;\n",
       "    }\n",
       "</style>\n",
       "<table border=\"1\" class=\"dataframe\">\n",
       "  <thead>\n",
       "    <tr style=\"text-align: right;\">\n",
       "      <th></th>\n",
       "      <th>chrom</th>\n",
       "      <th>start</th>\n",
       "      <th>end</th>\n",
       "      <th>peak_pos</th>\n",
       "      <th>score</th>\n",
       "    </tr>\n",
       "  </thead>\n",
       "  <tbody>\n",
       "    <tr>\n",
       "      <th>1037952</th>\n",
       "      <td>chr22</td>\n",
       "      <td>51240000</td>\n",
       "      <td>51240029</td>\n",
       "      <td>51240015</td>\n",
       "      <td>0.88</td>\n",
       "    </tr>\n",
       "    <tr>\n",
       "      <th>1037953</th>\n",
       "      <td>chr22</td>\n",
       "      <td>51240123</td>\n",
       "      <td>51240147</td>\n",
       "      <td>51240135</td>\n",
       "      <td>0.81</td>\n",
       "    </tr>\n",
       "    <tr>\n",
       "      <th>1037954</th>\n",
       "      <td>chr22</td>\n",
       "      <td>51240936</td>\n",
       "      <td>51240962</td>\n",
       "      <td>51240949</td>\n",
       "      <td>0.81</td>\n",
       "    </tr>\n",
       "    <tr>\n",
       "      <th>1037955</th>\n",
       "      <td>chr22</td>\n",
       "      <td>51242531</td>\n",
       "      <td>51242561</td>\n",
       "      <td>51242546</td>\n",
       "      <td>0.76</td>\n",
       "    </tr>\n",
       "    <tr>\n",
       "      <th>1037956</th>\n",
       "      <td>chr22</td>\n",
       "      <td>51243098</td>\n",
       "      <td>51243127</td>\n",
       "      <td>51243116</td>\n",
       "      <td>0.83</td>\n",
       "    </tr>\n",
       "  </tbody>\n",
       "</table>\n",
       "</div>"
      ],
      "text/plain": [
       "         chrom     start       end  peak_pos  score\n",
       "1037952  chr22  51240000  51240029  51240015   0.88\n",
       "1037953  chr22  51240123  51240147  51240135   0.81\n",
       "1037954  chr22  51240936  51240962  51240949   0.81\n",
       "1037955  chr22  51242531  51242561  51242546   0.76\n",
       "1037956  chr22  51243098  51243127  51243116   0.83"
      ]
     },
     "execution_count": 3,
     "metadata": {},
     "output_type": "execute_result"
    }
   ],
   "source": [
    "%matplotlib inline\n",
    "import matplotlib.pyplot as plt\n",
    "import seaborn as sns\n",
    "import numpy as np\n",
    "import os\n",
    "import pandas as pd\n",
    "from tqdm import tqdm_notebook as tqdm\n",
    "\n",
    "uplifted = pd.read_csv('data/peaks.min_peak_score_0.6.thresh_0.5.csv', index_col=0)\n",
    "# uplifted.drop('Unnamed: 0', inplace=True, axis=1)\n",
    "uplifted.tail()"
   ]
  },
  {
   "cell_type": "code",
   "execution_count": 4,
   "metadata": {
    "ExecuteTime": {
     "end_time": "2018-02-26T11:43:37.899246Z",
     "start_time": "2018-02-26T11:43:35.196471Z"
    }
   },
   "outputs": [
    {
     "name": "stderr",
     "output_type": "stream",
     "text": [
      "/home/magas/.pyenv/versions/3.6.0/envs/general/lib/python3.6/site-packages/numpy/lib/arraysetops.py:472: FutureWarning: elementwise comparison failed; returning scalar instead, but in the future will perform elementwise comparison\n",
      "  mask |= (ar1 == a)\n"
     ]
    },
    {
     "data": {
      "text/html": [
       "<div>\n",
       "<style scoped>\n",
       "    .dataframe tbody tr th:only-of-type {\n",
       "        vertical-align: middle;\n",
       "    }\n",
       "\n",
       "    .dataframe tbody tr th {\n",
       "        vertical-align: top;\n",
       "    }\n",
       "\n",
       "    .dataframe thead th {\n",
       "        text-align: right;\n",
       "    }\n",
       "</style>\n",
       "<table border=\"1\" class=\"dataframe\">\n",
       "  <thead>\n",
       "    <tr style=\"text-align: right;\">\n",
       "      <th></th>\n",
       "      <th>start</th>\n",
       "      <th>end</th>\n",
       "      <th>len_stem</th>\n",
       "      <th>len_loop</th>\n",
       "    </tr>\n",
       "  </thead>\n",
       "  <tbody>\n",
       "    <tr>\n",
       "      <th>10941414</th>\n",
       "      <td>249239500.0</td>\n",
       "      <td>249239542.0</td>\n",
       "      <td>18.0</td>\n",
       "      <td>10.0</td>\n",
       "    </tr>\n",
       "    <tr>\n",
       "      <th>10941416</th>\n",
       "      <td>249239505.0</td>\n",
       "      <td>249239540.0</td>\n",
       "      <td>15.0</td>\n",
       "      <td>8.0</td>\n",
       "    </tr>\n",
       "    <tr>\n",
       "      <th>10941418</th>\n",
       "      <td>249239530.0</td>\n",
       "      <td>249239566.0</td>\n",
       "      <td>15.0</td>\n",
       "      <td>9.0</td>\n",
       "    </tr>\n",
       "    <tr>\n",
       "      <th>10941422</th>\n",
       "      <td>249239532.0</td>\n",
       "      <td>249239564.0</td>\n",
       "      <td>16.0</td>\n",
       "      <td>4.0</td>\n",
       "    </tr>\n",
       "    <tr>\n",
       "      <th>10941426</th>\n",
       "      <td>249239644.0</td>\n",
       "      <td>249239681.0</td>\n",
       "      <td>17.0</td>\n",
       "      <td>7.0</td>\n",
       "    </tr>\n",
       "  </tbody>\n",
       "</table>\n",
       "</div>"
      ],
      "text/plain": [
       "                start          end  len_stem  len_loop\n",
       "10941414  249239500.0  249239542.0      18.0      10.0\n",
       "10941416  249239505.0  249239540.0      15.0       8.0\n",
       "10941418  249239530.0  249239566.0      15.0       9.0\n",
       "10941422  249239532.0  249239564.0      16.0       4.0\n",
       "10941426  249239644.0  249239681.0      17.0       7.0"
      ]
     },
     "execution_count": 4,
     "metadata": {},
     "output_type": "execute_result"
    }
   ],
   "source": [
    "df = pd.read_csv('data/chr1.S15-30.filtered.csv', index_col=0)\n",
    "df.tail()"
   ]
  },
  {
   "cell_type": "code",
   "execution_count": 7,
   "metadata": {
    "ExecuteTime": {
     "end_time": "2018-02-26T11:44:18.467344Z",
     "start_time": "2018-02-26T11:44:17.706239Z"
    }
   },
   "outputs": [
    {
     "data": {
      "text/html": [
       "<p>Failed to display Jupyter Widget of type <code>HBox</code>.</p>\n",
       "<p>\n",
       "  If you're reading this message in the Jupyter Notebook or JupyterLab Notebook, it may mean\n",
       "  that the widgets JavaScript is still loading. If this message persists, it\n",
       "  likely means that the widgets JavaScript library is either not installed or\n",
       "  not enabled. See the <a href=\"https://ipywidgets.readthedocs.io/en/stable/user_install.html\">Jupyter\n",
       "  Widgets Documentation</a> for setup instructions.\n",
       "</p>\n",
       "<p>\n",
       "  If you're reading this message in another frontend (for example, a static\n",
       "  rendering on GitHub or <a href=\"https://nbviewer.jupyter.org/\">NBViewer</a>),\n",
       "  it may mean that your frontend doesn't currently support widgets.\n",
       "</p>\n"
      ],
      "text/plain": [
       "HBox(children=(IntProgress(value=0, max=100048), HTML(value='')))"
      ]
     },
     "metadata": {},
     "output_type": "execute_result"
    },
    {
     "name": "stdout",
     "output_type": "stream",
     "text": [
      "\n"
     ]
    },
    {
     "data": {
      "text/html": [
       "<div>\n",
       "<style scoped>\n",
       "    .dataframe tbody tr th:only-of-type {\n",
       "        vertical-align: middle;\n",
       "    }\n",
       "\n",
       "    .dataframe tbody tr th {\n",
       "        vertical-align: top;\n",
       "    }\n",
       "\n",
       "    .dataframe thead th {\n",
       "        text-align: right;\n",
       "    }\n",
       "</style>\n",
       "<table border=\"1\" class=\"dataframe\">\n",
       "  <thead>\n",
       "    <tr style=\"text-align: right;\">\n",
       "      <th></th>\n",
       "      <th>start</th>\n",
       "      <th>end</th>\n",
       "      <th>len_stem</th>\n",
       "      <th>len_loop</th>\n",
       "      <th>center</th>\n",
       "    </tr>\n",
       "  </thead>\n",
       "  <tbody>\n",
       "    <tr>\n",
       "      <th>0</th>\n",
       "      <td>10631.0</td>\n",
       "      <td>10680.0</td>\n",
       "      <td>21.0</td>\n",
       "      <td>10.0</td>\n",
       "      <td>10655</td>\n",
       "    </tr>\n",
       "    <tr>\n",
       "      <th>1</th>\n",
       "      <td>10660.0</td>\n",
       "      <td>10709.0</td>\n",
       "      <td>21.0</td>\n",
       "      <td>10.0</td>\n",
       "      <td>10684</td>\n",
       "    </tr>\n",
       "    <tr>\n",
       "      <th>2</th>\n",
       "      <td>10689.0</td>\n",
       "      <td>10738.0</td>\n",
       "      <td>21.0</td>\n",
       "      <td>10.0</td>\n",
       "      <td>10713</td>\n",
       "    </tr>\n",
       "    <tr>\n",
       "      <th>3</th>\n",
       "      <td>10718.0</td>\n",
       "      <td>10767.0</td>\n",
       "      <td>21.0</td>\n",
       "      <td>10.0</td>\n",
       "      <td>10742</td>\n",
       "    </tr>\n",
       "    <tr>\n",
       "      <th>4</th>\n",
       "      <td>10747.0</td>\n",
       "      <td>10796.0</td>\n",
       "      <td>21.0</td>\n",
       "      <td>10.0</td>\n",
       "      <td>10771</td>\n",
       "    </tr>\n",
       "  </tbody>\n",
       "</table>\n",
       "</div>"
      ],
      "text/plain": [
       "     start      end  len_stem  len_loop  center\n",
       "0  10631.0  10680.0      21.0      10.0   10655\n",
       "1  10660.0  10709.0      21.0      10.0   10684\n",
       "2  10689.0  10738.0      21.0      10.0   10713\n",
       "3  10718.0  10767.0      21.0      10.0   10742\n",
       "4  10747.0  10796.0      21.0      10.0   10771"
      ]
     },
     "execution_count": 7,
     "metadata": {},
     "output_type": "execute_result"
    }
   ],
   "source": [
    "base_path = \"/home/shared/STEMLOOPS/hg19/S16-50_L0-10_M3\"\n",
    "filename = \"chr1.fa.S16-50_L0-10_M3.pal.cleaned\"\n",
    "path_to_file = os.path.join(base_path, filename)\n",
    "with open(path_to_file , 'r') as f:\n",
    "#     next(f)  # if there is description line\n",
    "    splitted = f.read().split('\\n')  # raw file separated by \\n's\n",
    "\n",
    "cols = ['start', 'end', 'len_stem', 'len_loop']#, 'seq_left', 'seq_right', 'full_seq', '1', '2', '3']\n",
    "df = pd.DataFrame([sub.split(\"\\t\")[:4] for sub in tqdm(splitted)], columns=cols)  # TODO: full file (30 times bigger)\n",
    "df = df.apply(pd.to_numeric)\n",
    "df.drop(df.tail(1).index, inplace=True)\n",
    "df['center'] = df[['start', 'end']].mean(axis=1).astype('int')\n",
    "\n",
    "df = df.drop_duplicates(subset=['start']).drop_duplicates(['end'])\n",
    "df.head()\n"
   ]
  },
  {
   "cell_type": "markdown",
   "metadata": {},
   "source": [
    "Провести анализ, в какую область генома попали такие структуры - промотер, ген. Составить таблицу, в которой содержатся названия генов.\n"
   ]
  },
  {
   "cell_type": "code",
   "execution_count": 145,
   "metadata": {
    "ExecuteTime": {
     "end_time": "2018-02-26T17:45:17.037421Z",
     "start_time": "2018-02-26T17:45:16.371761Z"
    }
   },
   "outputs": [
    {
     "data": {
      "text/html": [
       "<div>\n",
       "<style scoped>\n",
       "    .dataframe tbody tr th:only-of-type {\n",
       "        vertical-align: middle;\n",
       "    }\n",
       "\n",
       "    .dataframe tbody tr th {\n",
       "        vertical-align: top;\n",
       "    }\n",
       "\n",
       "    .dataframe thead th {\n",
       "        text-align: right;\n",
       "    }\n",
       "</style>\n",
       "<table border=\"1\" class=\"dataframe\">\n",
       "  <thead>\n",
       "    <tr style=\"text-align: right;\">\n",
       "      <th></th>\n",
       "      <th>#name</th>\n",
       "      <th>chrom</th>\n",
       "      <th>strand</th>\n",
       "      <th>txStart</th>\n",
       "      <th>txEnd</th>\n",
       "      <th>cdsStart</th>\n",
       "      <th>cdsEnd</th>\n",
       "      <th>exonCount</th>\n",
       "      <th>exonStarts</th>\n",
       "      <th>exonEnds</th>\n",
       "      <th>proteinID</th>\n",
       "      <th>alignID</th>\n",
       "    </tr>\n",
       "  </thead>\n",
       "  <tbody>\n",
       "    <tr>\n",
       "      <th>7962</th>\n",
       "      <td>uc021pmg.1</td>\n",
       "      <td>chr1</td>\n",
       "      <td>+</td>\n",
       "      <td>249168446</td>\n",
       "      <td>249168518</td>\n",
       "      <td>249168446</td>\n",
       "      <td>249168446</td>\n",
       "      <td>1</td>\n",
       "      <td>249168446,</td>\n",
       "      <td>249168518,</td>\n",
       "      <td>NaN</td>\n",
       "      <td>uc021pmg.1</td>\n",
       "    </tr>\n",
       "    <tr>\n",
       "      <th>7963</th>\n",
       "      <td>uc021pmh.1</td>\n",
       "      <td>chr1</td>\n",
       "      <td>+</td>\n",
       "      <td>249211536</td>\n",
       "      <td>249212562</td>\n",
       "      <td>249211536</td>\n",
       "      <td>249212562</td>\n",
       "      <td>1</td>\n",
       "      <td>249211536,</td>\n",
       "      <td>249212562,</td>\n",
       "      <td>NP_001017434</td>\n",
       "      <td>uc021pmh.1</td>\n",
       "    </tr>\n",
       "    <tr>\n",
       "      <th>7964</th>\n",
       "      <td>uc001ifh.3</td>\n",
       "      <td>chr1</td>\n",
       "      <td>+</td>\n",
       "      <td>249200441</td>\n",
       "      <td>249213345</td>\n",
       "      <td>249208061</td>\n",
       "      <td>249212562</td>\n",
       "      <td>3</td>\n",
       "      <td>249200441,249208014,249210800,</td>\n",
       "      <td>249200541,249208078,249213345,</td>\n",
       "      <td>Q6P3X8</td>\n",
       "      <td>uc001ifh.3</td>\n",
       "    </tr>\n",
       "    <tr>\n",
       "      <th>7965</th>\n",
       "      <td>uc001ifg.3</td>\n",
       "      <td>chr1</td>\n",
       "      <td>+</td>\n",
       "      <td>249200441</td>\n",
       "      <td>249213345</td>\n",
       "      <td>249211536</td>\n",
       "      <td>249212562</td>\n",
       "      <td>3</td>\n",
       "      <td>249200441,249208014,249211477,</td>\n",
       "      <td>249200541,249208078,249213345,</td>\n",
       "      <td>NP_001017434</td>\n",
       "      <td>uc001ifg.3</td>\n",
       "    </tr>\n",
       "    <tr>\n",
       "      <th>7966</th>\n",
       "      <td>uc009xhd.3</td>\n",
       "      <td>chr1</td>\n",
       "      <td>+</td>\n",
       "      <td>249200441</td>\n",
       "      <td>249213345</td>\n",
       "      <td>249208750</td>\n",
       "      <td>249212562</td>\n",
       "      <td>4</td>\n",
       "      <td>249200441,249208014,249208637,249210800,</td>\n",
       "      <td>249200541,249208078,249208758,249213345,</td>\n",
       "      <td>F5H4U7</td>\n",
       "      <td>uc009xhd.3</td>\n",
       "    </tr>\n",
       "  </tbody>\n",
       "</table>\n",
       "</div>"
      ],
      "text/plain": [
       "           #name chrom strand    txStart      txEnd   cdsStart     cdsEnd  \\\n",
       "7962  uc021pmg.1  chr1      +  249168446  249168518  249168446  249168446   \n",
       "7963  uc021pmh.1  chr1      +  249211536  249212562  249211536  249212562   \n",
       "7964  uc001ifh.3  chr1      +  249200441  249213345  249208061  249212562   \n",
       "7965  uc001ifg.3  chr1      +  249200441  249213345  249211536  249212562   \n",
       "7966  uc009xhd.3  chr1      +  249200441  249213345  249208750  249212562   \n",
       "\n",
       "      exonCount                                exonStarts  \\\n",
       "7962          1                                249168446,   \n",
       "7963          1                                249211536,   \n",
       "7964          3            249200441,249208014,249210800,   \n",
       "7965          3            249200441,249208014,249211477,   \n",
       "7966          4  249200441,249208014,249208637,249210800,   \n",
       "\n",
       "                                      exonEnds     proteinID     alignID  \n",
       "7962                                249168518,           NaN  uc021pmg.1  \n",
       "7963                                249212562,  NP_001017434  uc021pmh.1  \n",
       "7964            249200541,249208078,249213345,        Q6P3X8  uc001ifh.3  \n",
       "7965            249200541,249208078,249213345,  NP_001017434  uc001ifg.3  \n",
       "7966  249200541,249208078,249208758,249213345,        F5H4U7  uc009xhd.3  "
      ]
     },
     "execution_count": 145,
     "metadata": {},
     "output_type": "execute_result"
    }
   ],
   "source": [
    "ptt = pd.read_csv('data/ptt_hg19.txt', delimiter='\\t')\n",
    "ptt1 = ptt[ptt['chrom'] == 'chr1']\n",
    "ptt1.tail()\n",
    "\n",
    "\n",
    "def make_10bp(df, uplifted):\n",
    "    arr_4_rows = []\n",
    "    for start_upl in tqdm(pd.to_numeric(uplifted.end)):\n",
    "        temp_df = df[(df['txStart'] - 1000 < start_upl) & (df['txEnd'] > start_upl) & (df.strand == '+')]\n",
    "        if not temp_df.empty:\n",
    "            for ind, row in temp_df.iterrows():\n",
    "                arr_4_rows.append(row)\n",
    "    return pd.DataFrame(arr_4_rows)\n",
    "relevant_ptt = make_10bp(ptt1, ss10bp)\n",
    "relevant_ptt.tail()\n",
    "\n",
    "goa = pd.read_csv('data/goa_human.gaf', delimiter='\\t', header=None)\n",
    "goa.tail()\n",
    "\n",
    "relevant_goa = goa[goa[1].isin(relevant_ptt.proteinID)].drop_duplicates(1)\n",
    "relevant_goa[9].to_csv('data/relevant_goa_names.csv')\n",
    "\n",
    "relevant_goa[4].to_csv('data/go_terms.csv', index=False)"
   ]
  },
  {
   "cell_type": "code",
   "execution_count": 189,
   "metadata": {
    "ExecuteTime": {
     "end_time": "2018-02-28T07:29:22.652875Z",
     "start_time": "2018-02-28T07:29:22.630285Z"
    }
   },
   "outputs": [
    {
     "data": {
      "text/html": [
       "<div>\n",
       "<style scoped>\n",
       "    .dataframe tbody tr th:only-of-type {\n",
       "        vertical-align: middle;\n",
       "    }\n",
       "\n",
       "    .dataframe tbody tr th {\n",
       "        vertical-align: top;\n",
       "    }\n",
       "\n",
       "    .dataframe thead th {\n",
       "        text-align: right;\n",
       "    }\n",
       "</style>\n",
       "<table border=\"1\" class=\"dataframe\">\n",
       "  <thead>\n",
       "    <tr style=\"text-align: right;\">\n",
       "      <th></th>\n",
       "      <th>start</th>\n",
       "      <th>end</th>\n",
       "      <th>len_stem</th>\n",
       "      <th>len_loop</th>\n",
       "      <th>center</th>\n",
       "    </tr>\n",
       "  </thead>\n",
       "  <tbody>\n",
       "    <tr>\n",
       "      <th>3453</th>\n",
       "      <td>46540271</td>\n",
       "      <td>46540305</td>\n",
       "      <td>18</td>\n",
       "      <td>1</td>\n",
       "      <td>46540288</td>\n",
       "    </tr>\n",
       "    <tr>\n",
       "      <th>3454</th>\n",
       "      <td>48949696</td>\n",
       "      <td>48949745</td>\n",
       "      <td>20</td>\n",
       "      <td>10</td>\n",
       "      <td>48949720</td>\n",
       "    </tr>\n",
       "    <tr>\n",
       "      <th>3455</th>\n",
       "      <td>48949697</td>\n",
       "      <td>48949742</td>\n",
       "      <td>19</td>\n",
       "      <td>8</td>\n",
       "      <td>48949719</td>\n",
       "    </tr>\n",
       "    <tr>\n",
       "      <th>3456</th>\n",
       "      <td>50160569</td>\n",
       "      <td>50160602</td>\n",
       "      <td>18</td>\n",
       "      <td>1</td>\n",
       "      <td>50160585</td>\n",
       "    </tr>\n",
       "    <tr>\n",
       "      <th>3457</th>\n",
       "      <td>50251558</td>\n",
       "      <td>50251593</td>\n",
       "      <td>16</td>\n",
       "      <td>4</td>\n",
       "      <td>50251575</td>\n",
       "    </tr>\n",
       "  </tbody>\n",
       "</table>\n",
       "</div>"
      ],
      "text/plain": [
       "         start       end  len_stem  len_loop    center\n",
       "3453  46540271  46540305        18         1  46540288\n",
       "3454  48949696  48949745        20        10  48949720\n",
       "3455  48949697  48949742        19         8  48949719\n",
       "3456  50160569  50160602        18         1  50160585\n",
       "3457  50251558  50251593        16         4  50251575"
      ]
     },
     "execution_count": 189,
     "metadata": {},
     "output_type": "execute_result"
    }
   ],
   "source": [
    "ss10bp = pd.read_csv('data/sec_struct_0-10bp_to_nucleosome.csv', dtype='int')\n",
    "ss10bp.tail()"
   ]
  },
  {
   "cell_type": "code",
   "execution_count": 190,
   "metadata": {
    "ExecuteTime": {
     "end_time": "2018-02-28T07:29:27.425895Z",
     "start_time": "2018-02-28T07:29:23.849997Z"
    }
   },
   "outputs": [
    {
     "data": {
      "text/html": [
       "<div>\n",
       "<style scoped>\n",
       "    .dataframe tbody tr th:only-of-type {\n",
       "        vertical-align: middle;\n",
       "    }\n",
       "\n",
       "    .dataframe tbody tr th {\n",
       "        vertical-align: top;\n",
       "    }\n",
       "\n",
       "    .dataframe thead th {\n",
       "        text-align: right;\n",
       "    }\n",
       "</style>\n",
       "<table border=\"1\" class=\"dataframe\">\n",
       "  <thead>\n",
       "    <tr style=\"text-align: right;\">\n",
       "      <th></th>\n",
       "      <th>start</th>\n",
       "      <th>end</th>\n",
       "      <th>len_stem</th>\n",
       "      <th>len_loop</th>\n",
       "      <th>center</th>\n",
       "      <th>struct</th>\n",
       "      <th>before</th>\n",
       "      <th>after</th>\n",
       "      <th>half_struct</th>\n",
       "    </tr>\n",
       "  </thead>\n",
       "  <tbody>\n",
       "    <tr>\n",
       "      <th>0</th>\n",
       "      <td>1354102</td>\n",
       "      <td>1354142</td>\n",
       "      <td>17</td>\n",
       "      <td>8</td>\n",
       "      <td>1354122</td>\n",
       "      <td>CAGGCAGGCGCAGGCCTGGTTTCGGGCCTAGCGCCAGGCT</td>\n",
       "      <td>TTCAACTACTGGGTTTAGGC</td>\n",
       "      <td>GCCTGCCTGTCTTTGGTTTT</td>\n",
       "      <td>CAGGCAGGCGCAGGCCTGGT</td>\n",
       "    </tr>\n",
       "    <tr>\n",
       "      <th>1</th>\n",
       "      <td>3773878</td>\n",
       "      <td>3773916</td>\n",
       "      <td>16</td>\n",
       "      <td>7</td>\n",
       "      <td>3773897</td>\n",
       "      <td>GGGGCCACGGCACCTGGGCACACCAGGTGGCGTCGCGC</td>\n",
       "      <td>CTCAGGGTTGTGTAGTTTCC</td>\n",
       "      <td>CTTTGCTTTCCTGAGCCTTC</td>\n",
       "      <td>GGGGCCACGGCACCTGGGC</td>\n",
       "    </tr>\n",
       "  </tbody>\n",
       "</table>\n",
       "</div>"
      ],
      "text/plain": [
       "     start      end  len_stem  len_loop   center  \\\n",
       "0  1354102  1354142        17         8  1354122   \n",
       "1  3773878  3773916        16         7  3773897   \n",
       "\n",
       "                                     struct                before  \\\n",
       "0  CAGGCAGGCGCAGGCCTGGTTTCGGGCCTAGCGCCAGGCT  TTCAACTACTGGGTTTAGGC   \n",
       "1    GGGGCCACGGCACCTGGGCACACCAGGTGGCGTCGCGC  CTCAGGGTTGTGTAGTTTCC   \n",
       "\n",
       "                  after           half_struct  \n",
       "0  GCCTGCCTGTCTTTGGTTTT  CAGGCAGGCGCAGGCCTGGT  \n",
       "1  CTTTGCTTTCCTGAGCCTTC   GGGGCCACGGCACCTGGGC  "
      ]
     },
     "execution_count": 190,
     "metadata": {},
     "output_type": "execute_result"
    }
   ],
   "source": [
    "from Bio import SeqIO\n",
    "first_record = str(next(SeqIO.parse(\"/home/shared/hg19/chr1.fna\", \"fasta\")).seq)\n",
    "\n",
    "temp = pd.DataFrame(np.ndarray((ss10bp.shape[0], 4)), columns=[\"struct\", \"before\", \"after\", 'half_struct'], dtype='str')\n",
    "for idx, row in ss10bp.iterrows():\n",
    "    temp.loc[idx][0] = first_record[row['start']:row['end']]\n",
    "    temp.loc[idx][1] = first_record[row['start'] - 20:row['start']]\n",
    "    temp.loc[idx][2] = first_record[row['end']:row['end'] + 20] \n",
    "    temp.loc[idx][3] = first_record[row['start']:row['start'] + (row['end'] - row['start'])//2]\n",
    "\n",
    "ss10bp = pd.concat([ss10bp, temp], axis=1)\n",
    "ss10bp.head(2)"
   ]
  },
  {
   "cell_type": "code",
   "execution_count": 191,
   "metadata": {
    "ExecuteTime": {
     "end_time": "2018-02-28T07:30:09.547654Z",
     "start_time": "2018-02-28T07:29:36.295779Z"
    }
   },
   "outputs": [
    {
     "data": {
      "text/html": [
       "<p>Failed to display Jupyter Widget of type <code>HBox</code>.</p>\n",
       "<p>\n",
       "  If you're reading this message in the Jupyter Notebook or JupyterLab Notebook, it may mean\n",
       "  that the widgets JavaScript is still loading. If this message persists, it\n",
       "  likely means that the widgets JavaScript library is either not installed or\n",
       "  not enabled. See the <a href=\"https://ipywidgets.readthedocs.io/en/stable/user_install.html\">Jupyter\n",
       "  Widgets Documentation</a> for setup instructions.\n",
       "</p>\n",
       "<p>\n",
       "  If you're reading this message in another frontend (for example, a static\n",
       "  rendering on GitHub or <a href=\"https://nbviewer.jupyter.org/\">NBViewer</a>),\n",
       "  it may mean that your frontend doesn't currently support widgets.\n",
       "</p>\n"
      ],
      "text/plain": [
       "HBox(children=(IntProgress(value=0, max=3458), HTML(value='')))"
      ]
     },
     "metadata": {},
     "output_type": "execute_result"
    },
    {
     "name": "stdout",
     "output_type": "stream",
     "text": [
      "\n"
     ]
    },
    {
     "data": {
      "image/png": "[encoded data removed]",
      "text/plain": [
       "<matplotlib.figure.Figure at 0x7f21f6ca2550>"
      ]
     },
     "metadata": {},
     "output_type": "display_data"
    }
   ],
   "source": [
    "diprodb = pd.read_csv('data/dprops.csv', index_col=0)\n",
    "\n",
    "import re\n",
    "features = []\n",
    "for struct in tqdm(ss10bp['half_struct']):\n",
    "    strl = re.findall('..', struct)\n",
    "    temp = []\n",
    "    for dyad in strl:\n",
    "        temp.append(diprodb[diprodb['PropertyName'] == dyad].values.tolist()[0])\n",
    "    features.append(pd.DataFrame(temp,columns=diprodb.columns ).sum())\n",
    "features = pd.DataFrame(features)\n",
    "\n",
    "\n",
    "from MulticoreTSNE import MulticoreTSNE as TSNE\n",
    "\n",
    "tsne = TSNE(n_jobs=8)\n",
    "Y = tsne.fit_transform(features.loc[:, features.columns != 'PropertyName'])\n",
    "\n",
    "vis_x = Y[:, 0]\n",
    "vis_y = Y[:, 1]\n",
    "\n",
    "plt.scatter(vis_x, vis_y, cmap=plt.cm.get_cmap(\"jet\", 10))\n",
    "# plt.colorbar(ticks=range(10))\n",
    "plt.clim(-0.5, 9.5)\n",
    "plt.show()"
   ]
  },
  {
   "cell_type": "code",
   "execution_count": 192,
   "metadata": {
    "ExecuteTime": {
     "end_time": "2018-02-28T07:30:09.552134Z",
     "start_time": "2018-02-28T07:30:09.548741Z"
    }
   },
   "outputs": [],
   "source": [
    "X = features.loc[:, features.columns != 'PropertyName'].values"
   ]
  },
  {
   "cell_type": "code",
   "execution_count": 193,
   "metadata": {
    "ExecuteTime": {
     "end_time": "2018-02-28T07:30:38.636792Z",
     "start_time": "2018-02-28T07:30:09.553218Z"
    }
   },
   "outputs": [
    {
     "name": "stdout",
     "output_type": "stream",
     "text": [
      "Estimated number of clusters: 121\n",
      "Silhouette Coefficient: 0.293\n"
     ]
    },
    {
     "data": {
      "image/png": "[encoded data removed]",
      "text/plain": [
       "<matplotlib.figure.Figure at 0x7f21e08e15f8>"
      ]
     },
     "metadata": {},
     "output_type": "display_data"
    }
   ],
   "source": [
    "from sklearn.cluster import AffinityPropagation\n",
    "from sklearn import metrics\n",
    "af = AffinityPropagation(damping=0.9).fit(X)\n",
    "cluster_centers_indices = af.cluster_centers_indices_\n",
    "labels = af.labels_\n",
    "\n",
    "n_clusters_ = len(cluster_centers_indices)\n",
    "\n",
    "print('Estimated number of clusters: %d' % n_clusters_)\n",
    "\n",
    "# print(\"Homogeneity: %0.3f\" % metrics.homogeneity_score(labels_true, labels))\n",
    "# print(\"Completeness: %0.3f\" % metrics.completeness_score(labels_true, labels))\n",
    "# print(\"V-measure: %0.3f\" % metrics.v_measure_score(labels_true, labels))\n",
    "# print(\"Adjusted Rand Index: %0.3f\"\n",
    "#       % metrics.adjusted_rand_score(labels_true, labels))\n",
    "# print(\"Adjusted Mutual Information: %0.3f\"\n",
    "#       % metrics.adjusted_mutual_info_score(labels_true, labels))\n",
    "print(\"Silhouette Coefficient: %0.3f\"\n",
    "      % metrics.silhouette_score(X, labels, metric='sqeuclidean'))\n",
    "\n",
    "# #############################################################################\n",
    "# Plot result\n",
    "import matplotlib.pyplot as plt\n",
    "from itertools import cycle\n",
    "\n",
    "plt.close('all')\n",
    "plt.figure(1)\n",
    "plt.clf()\n",
    "\n",
    "colors = cycle('bgrcmykbgrcmykbgrcmykbgrcmyk')\n",
    "for k, col in zip(range(n_clusters_), colors):\n",
    "    class_members = labels == k\n",
    "    cluster_center = X[cluster_centers_indices[k]]\n",
    "    plt.plot(X[class_members, 0], X[class_members, 1], col + '.')\n",
    "    plt.plot(cluster_center[0], cluster_center[1], 'o', markerfacecolor=col,\n",
    "             markeredgecolor='k', markersize=14)\n",
    "    for x in X[class_members]:\n",
    "        plt.plot([cluster_center[0], x[0]], [cluster_center[1], x[1]], col)\n",
    "\n",
    "plt.title('Estimated number of clusters: %d' % n_clusters_)\n",
    "plt.show()"
   ]
  },
  {
   "cell_type": "code",
   "execution_count": 194,
   "metadata": {
    "ExecuteTime": {
     "end_time": "2018-02-28T07:30:46.905445Z",
     "start_time": "2018-02-28T07:30:38.638332Z"
    }
   },
   "outputs": [
    {
     "data": {
      "image/png": "[encoded data removed]",
      "text/plain": [
       "<matplotlib.figure.Figure at 0x7f21d65bf7f0>"
      ]
     },
     "metadata": {},
     "output_type": "display_data"
    },
    {
     "data": {
      "image/png": "[encoded data removed]",
      "text/plain": [
       "<matplotlib.figure.Figure at 0x7f21e01dfdd8>"
      ]
     },
     "metadata": {},
     "output_type": "display_data"
    },
    {
     "data": {
      "image/png": "[encoded data removed]",
      "text/plain": [
       "<matplotlib.figure.Figure at 0x7f21d664c0b8>"
      ]
     },
     "metadata": {},
     "output_type": "display_data"
    },
    {
     "data": {
      "image/png": "[encoded data removed]",
      "text/plain": [
       "<matplotlib.figure.Figure at 0x7f21d1a8e0b8>"
      ]
     },
     "metadata": {},
     "output_type": "display_data"
    }
   ],
   "source": [
    "\n",
    "import time\n",
    "import matplotlib.pyplot as plt\n",
    "import numpy as np\n",
    "\n",
    "from sklearn.cluster import AgglomerativeClustering\n",
    "from sklearn.neighbors import kneighbors_graph\n",
    "\n",
    "# # Generate sample data\n",
    "# n_samples = 1500\n",
    "# np.random.seed(0)\n",
    "# t = 1.5 * np.pi * (1 + 3 * np.random.rand(1, n_samples))\n",
    "# x = t * np.cos(t)\n",
    "# y = t * np.sin(t)\n",
    "\n",
    "\n",
    "# X = np.concatenate((x, y))\n",
    "# X += .7 * np.random.randn(2, n_samples)\n",
    "# X = X.T\n",
    "\n",
    "# Create a graph capturing local connectivity. Larger number of neighbors\n",
    "# will give more homogeneous clusters to the cost of computation\n",
    "# time. A very large number of neighbors gives more evenly distributed\n",
    "# cluster sizes, but may not impose the local manifold structure of\n",
    "# the data\n",
    "knn_graph = kneighbors_graph(X, 30, include_self=False)\n",
    "\n",
    "for connectivity in (None, knn_graph):\n",
    "    for n_clusters in (30, 3):\n",
    "        plt.figure(figsize=(10, 4))\n",
    "        for index, linkage in enumerate(('average', 'complete', 'ward')):\n",
    "            plt.subplot(1, 3, index + 1)\n",
    "            model = AgglomerativeClustering(linkage=linkage,\n",
    "                                            connectivity=connectivity,\n",
    "                                            n_clusters=n_clusters)\n",
    "            t0 = time.time()\n",
    "            model.fit(X)\n",
    "            elapsed_time = time.time() - t0\n",
    "            plt.scatter(X[:, 0], X[:, 1], c=model.labels_,\n",
    "                        cmap=plt.cm.spectral)\n",
    "            plt.title('linkage=%s (time %.2fs)' % (linkage, elapsed_time),\n",
    "                      fontdict=dict(verticalalignment='top'))\n",
    "            plt.axis('equal')\n",
    "            plt.axis('off')\n",
    "\n",
    "            plt.subplots_adjust(bottom=0, top=.89, wspace=0,\n",
    "                                left=0, right=1)\n",
    "            plt.suptitle('n_cluster=%i, connectivity=%r' %\n",
    "                         (n_clusters, connectivity is not None), size=17)\n",
    "\n",
    "\n",
    "plt.show()"
   ]
  },
  {
   "cell_type": "code",
   "execution_count": 195,
   "metadata": {
    "ExecuteTime": {
     "end_time": "2018-02-28T07:30:47.195302Z",
     "start_time": "2018-02-28T07:30:46.906920Z"
    }
   },
   "outputs": [
    {
     "name": "stdout",
     "output_type": "stream",
     "text": [
      "Estimated number of clusters: 56\n"
     ]
    }
   ],
   "source": [
    "import numpy as np\n",
    "\n",
    "from sklearn.cluster import DBSCAN\n",
    "from sklearn import metrics\n",
    "from sklearn.datasets.samples_generator import make_blobs\n",
    "from sklearn.preprocessing import StandardScaler\n",
    "\n",
    "\n",
    "# #############################################################################\n",
    "# # Generate sample data\n",
    "# centers = [[1, 1], [-1, -1], [1, -1]]\n",
    "# X, labels_true = make_blobs(n_samples=750, centers=centers, cluster_std=0.4,\n",
    "#                             random_state=0)\n",
    "\n",
    "# X = StandardScaler().fit_transform(X)\n",
    "\n",
    "# #############################################################################\n",
    "# Compute DBSCAN\n",
    "db = DBSCAN(eps=80).fit(X)\n",
    "core_samples_mask = np.zeros_like(db.labels_, dtype=bool)\n",
    "core_samples_mask[db.core_sample_indices_] = True\n",
    "labels = db.labels_\n",
    "\n",
    "# Number of clusters in labels, ignoring noise if present.\n",
    "n_clusters_ = len(set(labels)) - (1 if -1 in labels else 0)\n",
    "\n",
    "print('Estimated number of clusters: %d' % n_clusters_)"
   ]
  },
  {
   "cell_type": "code",
   "execution_count": 196,
   "metadata": {
    "ExecuteTime": {
     "end_time": "2018-02-28T07:30:47.727752Z",
     "start_time": "2018-02-28T07:30:47.196772Z"
    }
   },
   "outputs": [
    {
     "name": "stdout",
     "output_type": "stream",
     "text": [
      "Silhouette Coefficient: -0.418\n"
     ]
    },
    {
     "data": {
      "image/png": "[encoded data removed]",
      "text/plain": [
       "<matplotlib.figure.Figure at 0x7f21f6a2ae48>"
      ]
     },
     "metadata": {},
     "output_type": "display_data"
    }
   ],
   "source": [
    "# print(\"Homogeneity: %0.3f\" % metrics.homogeneity_score(labels_true, labels))\n",
    "# print(\"Completeness: %0.3f\" % metrics.completeness_score(labels_true, labels))\n",
    "# print(\"V-measure: %0.3f\" % metrics.v_measure_score(labels_true, labels))\n",
    "# print(\"Adjusted Rand Index: %0.3f\"\n",
    "#       % metrics.adjusted_rand_score(labels_true, labels))\n",
    "# print(\"Adjusted Mutual Information: %0.3f\"\n",
    "#       % metrics.adjusted_mutual_info_score(labels_true, labels))\n",
    "print(\"Silhouette Coefficient: %0.3f\"\n",
    "      % metrics.silhouette_score(X, labels))\n",
    "\n",
    "# #############################################################################\n",
    "# Plot result\n",
    "import matplotlib.pyplot as plt\n",
    "\n",
    "# Black removed and is used for noise instead.\n",
    "unique_labels = set(labels)\n",
    "colors = [plt.cm.Spectral(each)\n",
    "          for each in np.linspace(0, 1, len(unique_labels))]\n",
    "for k, col in zip(unique_labels, colors):\n",
    "    if k == -1:\n",
    "        # Black used for noise.\n",
    "        col = [0, 0, 0, 1]\n",
    "\n",
    "    class_member_mask = (labels == k)\n",
    "\n",
    "    xy = X[class_member_mask & core_samples_mask]\n",
    "    plt.plot(xy[:, 0], xy[:, 1], 'o', markerfacecolor=tuple(col),\n",
    "             markeredgecolor='k', markersize=14)\n",
    "\n",
    "    xy = X[class_member_mask & ~core_samples_mask]\n",
    "    plt.plot(xy[:, 0], xy[:, 1], 'o', markerfacecolor=tuple(col),\n",
    "             markeredgecolor='k', markersize=6)\n",
    "\n",
    "plt.title('Estimated number of clusters: %d' % n_clusters_)\n",
    "plt.show()"
   ]
  },
  {
   "cell_type": "code",
   "execution_count": null,
   "metadata": {},
   "outputs": [],
   "source": []
  }
 ],
 "metadata": {
  "kernelspec": {
   "display_name": "Python 3",
   "language": "python",
   "name": "python3"
  },
  "language_info": {
   "codemirror_mode": {
    "name": "ipython",
    "version": 3
   },
   "file_extension": ".py",
   "mimetype": "text/x-python",
   "name": "python",
   "nbconvert_exporter": "python",
   "pygments_lexer": "ipython3",
   "version": "3.6.0"
  }
 },
 "nbformat": 4,
 "nbformat_minor": 2
}
