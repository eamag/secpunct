{
 "cells": [
  {
   "cell_type": "code",
   "execution_count": 1,
   "metadata": {
    "ExecuteTime": {
     "end_time": "2018-05-01T06:55:57.967955Z",
     "start_time": "2018-05-01T06:55:51.198608Z"
    }
   },
   "outputs": [
    {
     "name": "stdout",
     "output_type": "stream",
     "text": [
      "(93843, 5)\n"
     ]
    },
    {
     "name": "stderr",
     "output_type": "stream",
     "text": [
      "/home/magas/.pyenv/versions/3.6.0/envs/general/lib/python3.6/site-packages/numpy/lib/arraysetops.py:472: FutureWarning: elementwise comparison failed; returning scalar instead, but in the future will perform elementwise comparison\n",
      "  mask |= (ar1 == a)\n"
     ]
    },
    {
     "data": {
      "text/html": [
       "<div>\n",
       "<style scoped>\n",
       "    .dataframe tbody tr th:only-of-type {\n",
       "        vertical-align: middle;\n",
       "    }\n",
       "\n",
       "    .dataframe tbody tr th {\n",
       "        vertical-align: top;\n",
       "    }\n",
       "\n",
       "    .dataframe thead th {\n",
       "        text-align: right;\n",
       "    }\n",
       "</style>\n",
       "<table border=\"1\" class=\"dataframe\">\n",
       "  <thead>\n",
       "    <tr style=\"text-align: right;\">\n",
       "      <th></th>\n",
       "      <th>chrom</th>\n",
       "      <th>start</th>\n",
       "      <th>end</th>\n",
       "      <th>peak_pos</th>\n",
       "      <th>score</th>\n",
       "    </tr>\n",
       "  </thead>\n",
       "  <tbody>\n",
       "    <tr>\n",
       "      <th>93843</th>\n",
       "      <td>chr1</td>\n",
       "      <td>249231725</td>\n",
       "      <td>249231752</td>\n",
       "      <td>249231739</td>\n",
       "      <td>0.63</td>\n",
       "    </tr>\n",
       "    <tr>\n",
       "      <th>93844</th>\n",
       "      <td>chr1</td>\n",
       "      <td>249232614</td>\n",
       "      <td>249232644</td>\n",
       "      <td>249232636</td>\n",
       "      <td>0.88</td>\n",
       "    </tr>\n",
       "  </tbody>\n",
       "</table>\n",
       "</div>"
      ],
      "text/plain": [
       "      chrom      start        end   peak_pos  score\n",
       "93843  chr1  249231725  249231752  249231739   0.63\n",
       "93844  chr1  249232614  249232644  249232636   0.88"
      ]
     },
     "execution_count": 1,
     "metadata": {},
     "output_type": "execute_result"
    }
   ],
   "source": [
    "%matplotlib inline\n",
    "import matplotlib.pyplot as plt\n",
    "import seaborn as sns\n",
    "import numpy as np\n",
    "import os\n",
    "import pandas as pd\n",
    "from tqdm import tqdm_notebook as tqdm\n",
    "\n",
    "uplifted = pd.read_csv('../data/peaks.min_peak_score_0.6.thresh_0.5.csv', index_col=0)\n",
    "# uplifted.drop('Unnamed: 0', inplace=True, axis=1)\n",
    "uplifted = uplifted[uplifted.chrom == 'chr1'].copy()\n",
    "print(uplifted.shape)\n",
    "uplifted.tail(2)"
   ]
  },
  {
   "cell_type": "code",
   "execution_count": 3,
   "metadata": {
    "ExecuteTime": {
     "end_time": "2018-05-01T06:56:56.493108Z",
     "start_time": "2018-05-01T06:56:53.373129Z"
    }
   },
   "outputs": [
    {
     "name": "stderr",
     "output_type": "stream",
     "text": [
      "/home/magas/.pyenv/versions/3.6.0/envs/general/lib/python3.6/site-packages/numpy/lib/arraysetops.py:472: FutureWarning: elementwise comparison failed; returning scalar instead, but in the future will perform elementwise comparison\n",
      "  mask |= (ar1 == a)\n"
     ]
    },
    {
     "name": "stdout",
     "output_type": "stream",
     "text": [
      "(6743736, 4)\n"
     ]
    },
    {
     "data": {
      "text/html": [
       "<div>\n",
       "<style scoped>\n",
       "    .dataframe tbody tr th:only-of-type {\n",
       "        vertical-align: middle;\n",
       "    }\n",
       "\n",
       "    .dataframe tbody tr th {\n",
       "        vertical-align: top;\n",
       "    }\n",
       "\n",
       "    .dataframe thead th {\n",
       "        text-align: right;\n",
       "    }\n",
       "</style>\n",
       "<table border=\"1\" class=\"dataframe\">\n",
       "  <thead>\n",
       "    <tr style=\"text-align: right;\">\n",
       "      <th></th>\n",
       "      <th>start</th>\n",
       "      <th>end</th>\n",
       "      <th>len_stem</th>\n",
       "      <th>len_loop</th>\n",
       "    </tr>\n",
       "  </thead>\n",
       "  <tbody>\n",
       "    <tr>\n",
       "      <th>6743734</th>\n",
       "      <td>249239532</td>\n",
       "      <td>249239564</td>\n",
       "      <td>16</td>\n",
       "      <td>4</td>\n",
       "    </tr>\n",
       "    <tr>\n",
       "      <th>6743735</th>\n",
       "      <td>249239644</td>\n",
       "      <td>249239681</td>\n",
       "      <td>17</td>\n",
       "      <td>7</td>\n",
       "    </tr>\n",
       "  </tbody>\n",
       "</table>\n",
       "</div>"
      ],
      "text/plain": [
       "             start        end  len_stem  len_loop\n",
       "6743734  249239532  249239564        16         4\n",
       "6743735  249239644  249239681        17         7"
      ]
     },
     "execution_count": 3,
     "metadata": {},
     "output_type": "execute_result"
    }
   ],
   "source": [
    "df = pd.read_csv('../data/chr1.S15-30.filtered.csv', index_col=0, dtype='int').reset_index(drop=True)\n",
    "print(df.shape)\n",
    "df.tail(2)"
   ]
  },
  {
   "cell_type": "code",
   "execution_count": null,
   "metadata": {
    "ExecuteTime": {
     "end_time": "2018-04-07T07:16:17.252435Z",
     "start_time": "2018-04-07T07:16:15.607732Z"
    }
   },
   "outputs": [],
   "source": [
    "def make_n_bp(df, uplifted, n=70):\n",
    "        \"\"\"\n",
    "Return all 'df' elements where end in 10-70 range before start of 'uplifted' \n",
    "    :param df: sec. struct. df with columns start   end len_stem    len_loop (10941426 rows)\n",
    "    :param uplifted: nucleosome df with columns chrom   start   end peak_pos    score (1037956 rows)\n",
    "    \"\"\"\n",
    "    df1 = df.sort_values('end').reset_index(drop=True)\n",
    "\n",
    "    # getting indexes where should df.end be, if inserted into uplifted (nucl array)\n",
    "    indxes = np.searchsorted(uplifted.start.values, df1.end.values)\n",
    "\n",
    "    uplifted1 = uplifted.append(uplifted.tail(1))  # for df.end > uplifted.start.max()\n",
    "\n",
    "    uplifted_ind = uplifted1.iloc[indxes].reset_index(drop=True)  # getting all uplifted.start closest to df.end \n",
    "    uplifted_ind['df_end'] = df1.end.values\n",
    "    uplifted_ind['diff'] = uplifted_ind.start - uplifted_ind.df_end\n",
    "    mask = (uplifted_ind['diff'] >= 0) & (uplifted_ind['diff'] < n)\n",
    "    return df1[mask].reset_index(drop=True)\n",
    "ss10bp = make_n_bp(df, uplifted)"
   ]
  },
  {
   "cell_type": "code",
   "execution_count": null,
   "metadata": {
    "ExecuteTime": {
     "end_time": "2018-04-07T07:17:40.690734Z",
     "start_time": "2018-04-07T07:16:17.333413Z"
    }
   },
   "outputs": [],
   "source": [
    "def add_bp_according2_start_end(neg_example):\n",
    "    \"\"\"\n",
    "adds nucleotides string according to start-end columns\n",
    "    :param neg_example: DataFrame with start-end columns\n",
    "    \"\"\"\n",
    "    from Bio import SeqIO\n",
    "    first_record = str(next(SeqIO.parse(\"/home/shared/hg19/chr1.fna\", \"fasta\")).seq)\n",
    "\n",
    "    temp = pd.DataFrame(np.ndarray((neg_example.shape[0], 4)),\n",
    "                        columns=[\"struct\", \"before\", \"after\", 'half_struct'], dtype='str')\n",
    "    for idx, row in neg_example.iterrows():\n",
    "        temp.loc[idx][0] = first_record[row['start']:row['end']]\n",
    "        temp.loc[idx][1] = first_record[row['start'] - 20:row['start']]\n",
    "        temp.loc[idx][2] = first_record[row['end']:row['end']    + 20]\n",
    "        temp.loc[idx][3] = first_record[row['start']:row['start'] + (row['end'] - row['start'])//2]\n",
    "\n",
    "    return pd.concat([neg_example, temp], axis=1)\n",
    "\n",
    "ss10bp = add_bp_according2_start_end(ss10bp)\n",
    "ss10bp.head()"
   ]
  },
  {
   "cell_type": "code",
   "execution_count": null,
   "metadata": {
    "ExecuteTime": {
     "end_time": "2018-04-07T07:24:37.426743Z",
     "start_time": "2018-04-07T07:24:27.649005Z"
    }
   },
   "outputs": [],
   "source": [
    "neg_example = df.sample(15000).reset_index()\n",
    "\n",
    "from Bio import SeqIO\n",
    "first_record = str(next(SeqIO.parse(\"/home/shared/hg19/chr1.fna\", \"fasta\")).seq)\n",
    "\n",
    "temp = pd.DataFrame(np.ndarray((neg_example.shape[0], 4)), columns=[\"struct\", \"before\", \"after\", 'half_struct'], dtype='str')\n",
    "for idx, row in neg_example.iterrows():\n",
    "    temp.loc[idx][0] = first_record[row['start']:row['end']]\n",
    "    temp.loc[idx][1] = first_record[row['start'] - 20:row['start']]\n",
    "    temp.loc[idx][2] = first_record[row['end']:row['end']    + 20] \n",
    "    temp.loc[idx][3] = first_record[row['start']:row['start'] + (row['end'] - row['start'])//2]\n",
    "\n",
    "neg_example = pd.concat([neg_example, temp], axis=1)\n",
    "neg_example.head(2)"
   ]
  },
  {
   "cell_type": "code",
   "execution_count": null,
   "metadata": {
    "ExecuteTime": {
     "end_time": "2018-04-07T07:24:45.979522Z",
     "start_time": "2018-04-07T07:24:45.939983Z"
    }
   },
   "outputs": [],
   "source": [
    "neg_example['value'] = 0\n",
    "ss10bp['value'] = 1\n",
    "concated = pd.concat([neg_example, ss10bp], ignore_index=True)\n",
    "concated.tail(2)"
   ]
  },
  {
   "cell_type": "code",
   "execution_count": null,
   "metadata": {
    "ExecuteTime": {
     "end_time": "2018-04-07T07:24:49.279927Z",
     "start_time": "2018-04-07T07:24:48.786897Z"
    }
   },
   "outputs": [],
   "source": [
    "import matplotlib.pyplot as plt\n",
    "import numpy as np\n",
    "import pandas as pd\n",
    "from tqdm import tqdm_notebook as tqdm\n",
    "import re\n",
    "from MulticoreTSNE import MulticoreTSNE as TSNE  # https://github.com/DmitryUlyanov/Multicore-TSNE\n",
    "concated.isnull().sum()"
   ]
  },
  {
   "cell_type": "code",
   "execution_count": null,
   "metadata": {
    "ExecuteTime": {
     "end_time": "2018-04-07T08:02:56.047032Z",
     "start_time": "2018-04-07T07:26:10.846182Z"
    }
   },
   "outputs": [],
   "source": [
    "diprodb = pd.read_csv('../data/dprops.csv', index_col=0)\n",
    "\n",
    "features = []\n",
    "for struct in tqdm(concated.loc[:, concated.columns != 'value']['struct']):\n",
    "    strl = re.findall('..', struct)\n",
    "    temp = []\n",
    "    for dyad in strl:\n",
    "        temp.append(diprodb[diprodb['PropertyName'] == dyad].values.tolist()[0])\n",
    "    features.append(pd.DataFrame(temp, columns=diprodb.columns).sum())\n",
    "features = pd.DataFrame(features)\n",
    "features.tail()"
   ]
  },
  {
   "cell_type": "code",
   "execution_count": 22,
   "metadata": {
    "ExecuteTime": {
     "end_time": "2018-05-01T14:13:39.764266Z",
     "start_time": "2018-05-01T14:13:39.688976Z"
    }
   },
   "outputs": [],
   "source": [
    "def make_filtered_s15_30(base_path=\"/home/shared/STEMLOOPS/hg19/S15-30_L0-10_M5\",\n",
    "                         filename=\"chr1.fna.S15-30_L0-10_M5.pal\"):\n",
    "    \"\"\"\n",
    "make clean dataframe with 5 columns almost without duplicates\n",
    "Unnamed: 0\t    start\tend\t      len_stem\t       len_loop\n",
    "    :return: this df\n",
    "    \"\"\"\n",
    "    path_to_file = os.path.join(base_path, filename)\n",
    "    with open(path_to_file, 'r') as f:\n",
    "        #     next(f)  # if there is a description line\n",
    "        splitted = f.read().split('\\n')  # raw file separated by \\n's\n",
    "\n",
    "    from tqdm import tqdm_notebook as tqdm\n",
    "    cols = ['start', 'end', 'len_stem', 'len_loop']  # , 'seq_left', 'seq_right', 'full_seq', '1', '2', '3']\n",
    "    # will do in 2 parts because file is too big\n",
    "\n",
    "    df1 = pd.DataFrame([sub.split(\"\\t\")[:4] for sub in tqdm(splitted[:10000000])], columns=cols)\n",
    "    df1 = df1.apply(pd.to_numeric)\n",
    "    df1 = df1.drop_duplicates(subset=['start']).drop_duplicates(['end'])\n",
    "\n",
    "    df2 = pd.DataFrame([sub.split(\"\\t\")[:4] for sub in tqdm(splitted[10000000:])], columns=cols)\n",
    "    df2 = df2.apply(pd.to_numeric)\n",
    "    df2 = df2.drop_duplicates(subset=['start']).drop_duplicates(['end'])\n",
    "\n",
    "    df = pd.concat([df1, df2])\n",
    "    df.dropna(inplace=True)\n",
    "#     df.to_csv('chr1.S15-30.filtered.csv')\n",
    "    return df"
   ]
  },
  {
   "cell_type": "code",
   "execution_count": 23,
   "metadata": {
    "ExecuteTime": {
     "end_time": "2018-05-01T14:14:28.003300Z",
     "start_time": "2018-05-01T14:14:27.026858Z"
    }
   },
   "outputs": [
    {
     "data": {
      "application/vnd.jupyter.widget-view+json": {
       "model_id": "a44c6eee58a1471983f20c2c8036a115",
       "version_major": 2,
       "version_minor": 0
      },
      "text/html": [
       "<p>Failed to display Jupyter Widget of type <code>HBox</code>.</p>\n",
       "<p>\n",
       "  If you're reading this message in the Jupyter Notebook or JupyterLab Notebook, it may mean\n",
       "  that the widgets JavaScript is still loading. If this message persists, it\n",
       "  likely means that the widgets JavaScript library is either not installed or\n",
       "  not enabled. See the <a href=\"https://ipywidgets.readthedocs.io/en/stable/user_install.html\">Jupyter\n",
       "  Widgets Documentation</a> for setup instructions.\n",
       "</p>\n",
       "<p>\n",
       "  If you're reading this message in another frontend (for example, a static\n",
       "  rendering on GitHub or <a href=\"https://nbviewer.jupyter.org/\">NBViewer</a>),\n",
       "  it may mean that your frontend doesn't currently support widgets.\n",
       "</p>\n"
      ],
      "text/plain": [
       "HBox(children=(IntProgress(value=0, max=100048), HTML(value='')))"
      ]
     },
     "metadata": {},
     "output_type": "display_data"
    },
    {
     "name": "stdout",
     "output_type": "stream",
     "text": [
      "\n"
     ]
    },
    {
     "data": {
      "application/vnd.jupyter.widget-view+json": {
       "model_id": "8e4636a141384cba899bbe538724215e",
       "version_major": 2,
       "version_minor": 0
      },
      "text/html": [
       "<p>Failed to display Jupyter Widget of type <code>HBox</code>.</p>\n",
       "<p>\n",
       "  If you're reading this message in the Jupyter Notebook or JupyterLab Notebook, it may mean\n",
       "  that the widgets JavaScript is still loading. If this message persists, it\n",
       "  likely means that the widgets JavaScript library is either not installed or\n",
       "  not enabled. See the <a href=\"https://ipywidgets.readthedocs.io/en/stable/user_install.html\">Jupyter\n",
       "  Widgets Documentation</a> for setup instructions.\n",
       "</p>\n",
       "<p>\n",
       "  If you're reading this message in another frontend (for example, a static\n",
       "  rendering on GitHub or <a href=\"https://nbviewer.jupyter.org/\">NBViewer</a>),\n",
       "  it may mean that your frontend doesn't currently support widgets.\n",
       "</p>\n"
      ],
      "text/plain": [
       "HBox(children=(IntProgress(value=1, bar_style='info', max=1), HTML(value='')))"
      ]
     },
     "metadata": {},
     "output_type": "display_data"
    },
    {
     "name": "stdout",
     "output_type": "stream",
     "text": [
      "\n"
     ]
    }
   ],
   "source": [
    "base_path = \"/home/shared/STEMLOOPS/hg19/S16-50_L0-10_M3\"\n",
    "filename = \"chr1.fa.S16-50_L0-10_M3.pal.cleaned\"\n",
    "df = make_filtered_s15_30(base_path, filename)"
   ]
  },
  {
   "cell_type": "code",
   "execution_count": 24,
   "metadata": {
    "ExecuteTime": {
     "end_time": "2018-05-01T14:14:30.756120Z",
     "start_time": "2018-05-01T14:14:30.700574Z"
    }
   },
   "outputs": [
    {
     "data": {
      "text/html": [
       "<div>\n",
       "<style scoped>\n",
       "    .dataframe tbody tr th:only-of-type {\n",
       "        vertical-align: middle;\n",
       "    }\n",
       "\n",
       "    .dataframe tbody tr th {\n",
       "        vertical-align: top;\n",
       "    }\n",
       "\n",
       "    .dataframe thead th {\n",
       "        text-align: right;\n",
       "    }\n",
       "</style>\n",
       "<table border=\"1\" class=\"dataframe\">\n",
       "  <thead>\n",
       "    <tr style=\"text-align: right;\">\n",
       "      <th></th>\n",
       "      <th>start</th>\n",
       "      <th>end</th>\n",
       "      <th>len_stem</th>\n",
       "      <th>len_loop</th>\n",
       "    </tr>\n",
       "  </thead>\n",
       "  <tbody>\n",
       "    <tr>\n",
       "      <th>0</th>\n",
       "      <td>10631.0</td>\n",
       "      <td>10680.0</td>\n",
       "      <td>21.0</td>\n",
       "      <td>10.0</td>\n",
       "    </tr>\n",
       "    <tr>\n",
       "      <th>1</th>\n",
       "      <td>10660.0</td>\n",
       "      <td>10709.0</td>\n",
       "      <td>21.0</td>\n",
       "      <td>10.0</td>\n",
       "    </tr>\n",
       "    <tr>\n",
       "      <th>2</th>\n",
       "      <td>10689.0</td>\n",
       "      <td>10738.0</td>\n",
       "      <td>21.0</td>\n",
       "      <td>10.0</td>\n",
       "    </tr>\n",
       "    <tr>\n",
       "      <th>3</th>\n",
       "      <td>10718.0</td>\n",
       "      <td>10767.0</td>\n",
       "      <td>21.0</td>\n",
       "      <td>10.0</td>\n",
       "    </tr>\n",
       "    <tr>\n",
       "      <th>4</th>\n",
       "      <td>10747.0</td>\n",
       "      <td>10796.0</td>\n",
       "      <td>21.0</td>\n",
       "      <td>10.0</td>\n",
       "    </tr>\n",
       "    <tr>\n",
       "      <th>5</th>\n",
       "      <td>13125.0</td>\n",
       "      <td>13164.0</td>\n",
       "      <td>17.0</td>\n",
       "      <td>7.0</td>\n",
       "    </tr>\n",
       "    <tr>\n",
       "      <th>6</th>\n",
       "      <td>24704.0</td>\n",
       "      <td>24746.0</td>\n",
       "      <td>17.0</td>\n",
       "      <td>10.0</td>\n",
       "    </tr>\n",
       "    <tr>\n",
       "      <th>7</th>\n",
       "      <td>24735.0</td>\n",
       "      <td>24770.0</td>\n",
       "      <td>16.0</td>\n",
       "      <td>4.0</td>\n",
       "    </tr>\n",
       "    <tr>\n",
       "      <th>8</th>\n",
       "      <td>30406.0</td>\n",
       "      <td>30460.0</td>\n",
       "      <td>23.0</td>\n",
       "      <td>9.0</td>\n",
       "    </tr>\n",
       "    <tr>\n",
       "      <th>9</th>\n",
       "      <td>30411.0</td>\n",
       "      <td>30455.0</td>\n",
       "      <td>20.0</td>\n",
       "      <td>7.0</td>\n",
       "    </tr>\n",
       "    <tr>\n",
       "      <th>10</th>\n",
       "      <td>33975.0</td>\n",
       "      <td>34008.0</td>\n",
       "      <td>16.0</td>\n",
       "      <td>2.0</td>\n",
       "    </tr>\n",
       "    <tr>\n",
       "      <th>11</th>\n",
       "      <td>41165.0</td>\n",
       "      <td>41203.0</td>\n",
       "      <td>16.0</td>\n",
       "      <td>9.0</td>\n",
       "    </tr>\n",
       "    <tr>\n",
       "      <th>12</th>\n",
       "      <td>46716.0</td>\n",
       "      <td>46750.0</td>\n",
       "      <td>16.0</td>\n",
       "      <td>3.0</td>\n",
       "    </tr>\n",
       "    <tr>\n",
       "      <th>13</th>\n",
       "      <td>52162.0</td>\n",
       "      <td>52198.0</td>\n",
       "      <td>17.0</td>\n",
       "      <td>4.0</td>\n",
       "    </tr>\n",
       "    <tr>\n",
       "      <th>14</th>\n",
       "      <td>56667.0</td>\n",
       "      <td>56699.0</td>\n",
       "      <td>17.0</td>\n",
       "      <td>1.0</td>\n",
       "    </tr>\n",
       "    <tr>\n",
       "      <th>15</th>\n",
       "      <td>57125.0</td>\n",
       "      <td>57163.0</td>\n",
       "      <td>17.0</td>\n",
       "      <td>5.0</td>\n",
       "    </tr>\n",
       "    <tr>\n",
       "      <th>16</th>\n",
       "      <td>63967.0</td>\n",
       "      <td>64006.0</td>\n",
       "      <td>17.0</td>\n",
       "      <td>7.0</td>\n",
       "    </tr>\n",
       "    <tr>\n",
       "      <th>17</th>\n",
       "      <td>66157.0</td>\n",
       "      <td>66200.0</td>\n",
       "      <td>22.0</td>\n",
       "      <td>0.0</td>\n",
       "    </tr>\n",
       "    <tr>\n",
       "      <th>18</th>\n",
       "      <td>66159.0</td>\n",
       "      <td>66202.0</td>\n",
       "      <td>19.0</td>\n",
       "      <td>7.0</td>\n",
       "    </tr>\n",
       "    <tr>\n",
       "      <th>19</th>\n",
       "      <td>66160.0</td>\n",
       "      <td>66215.0</td>\n",
       "      <td>24.0</td>\n",
       "      <td>9.0</td>\n",
       "    </tr>\n",
       "    <tr>\n",
       "      <th>20</th>\n",
       "      <td>66166.0</td>\n",
       "      <td>66217.0</td>\n",
       "      <td>21.0</td>\n",
       "      <td>10.0</td>\n",
       "    </tr>\n",
       "    <tr>\n",
       "      <th>21</th>\n",
       "      <td>66167.0</td>\n",
       "      <td>66239.0</td>\n",
       "      <td>33.0</td>\n",
       "      <td>10.0</td>\n",
       "    </tr>\n",
       "    <tr>\n",
       "      <th>22</th>\n",
       "      <td>66191.0</td>\n",
       "      <td>66241.0</td>\n",
       "      <td>21.0</td>\n",
       "      <td>9.0</td>\n",
       "    </tr>\n",
       "    <tr>\n",
       "      <th>23</th>\n",
       "      <td>66192.0</td>\n",
       "      <td>66266.0</td>\n",
       "      <td>33.0</td>\n",
       "      <td>10.0</td>\n",
       "    </tr>\n",
       "    <tr>\n",
       "      <th>24</th>\n",
       "      <td>66195.0</td>\n",
       "      <td>66244.0</td>\n",
       "      <td>23.0</td>\n",
       "      <td>5.0</td>\n",
       "    </tr>\n",
       "    <tr>\n",
       "      <th>25</th>\n",
       "      <td>66201.0</td>\n",
       "      <td>66246.0</td>\n",
       "      <td>22.0</td>\n",
       "      <td>3.0</td>\n",
       "    </tr>\n",
       "    <tr>\n",
       "      <th>26</th>\n",
       "      <td>66204.0</td>\n",
       "      <td>66272.0</td>\n",
       "      <td>30.0</td>\n",
       "      <td>10.0</td>\n",
       "    </tr>\n",
       "    <tr>\n",
       "      <th>27</th>\n",
       "      <td>66221.0</td>\n",
       "      <td>66287.0</td>\n",
       "      <td>29.0</td>\n",
       "      <td>10.0</td>\n",
       "    </tr>\n",
       "    <tr>\n",
       "      <th>28</th>\n",
       "      <td>66224.0</td>\n",
       "      <td>66276.0</td>\n",
       "      <td>23.0</td>\n",
       "      <td>9.0</td>\n",
       "    </tr>\n",
       "    <tr>\n",
       "      <th>29</th>\n",
       "      <td>66233.0</td>\n",
       "      <td>66305.0</td>\n",
       "      <td>33.0</td>\n",
       "      <td>8.0</td>\n",
       "    </tr>\n",
       "    <tr>\n",
       "      <th>...</th>\n",
       "      <td>...</td>\n",
       "      <td>...</td>\n",
       "      <td>...</td>\n",
       "      <td>...</td>\n",
       "    </tr>\n",
       "    <tr>\n",
       "      <th>100017</th>\n",
       "      <td>249104963.0</td>\n",
       "      <td>249104998.0</td>\n",
       "      <td>17.0</td>\n",
       "      <td>4.0</td>\n",
       "    </tr>\n",
       "    <tr>\n",
       "      <th>100018</th>\n",
       "      <td>249109614.0</td>\n",
       "      <td>249109674.0</td>\n",
       "      <td>26.0</td>\n",
       "      <td>10.0</td>\n",
       "    </tr>\n",
       "    <tr>\n",
       "      <th>100019</th>\n",
       "      <td>249109619.0</td>\n",
       "      <td>249109670.0</td>\n",
       "      <td>23.0</td>\n",
       "      <td>9.0</td>\n",
       "    </tr>\n",
       "    <tr>\n",
       "      <th>100020</th>\n",
       "      <td>249122149.0</td>\n",
       "      <td>249122187.0</td>\n",
       "      <td>16.0</td>\n",
       "      <td>7.0</td>\n",
       "    </tr>\n",
       "    <tr>\n",
       "      <th>100021</th>\n",
       "      <td>249128461.0</td>\n",
       "      <td>249128502.0</td>\n",
       "      <td>18.0</td>\n",
       "      <td>8.0</td>\n",
       "    </tr>\n",
       "    <tr>\n",
       "      <th>100022</th>\n",
       "      <td>249129458.0</td>\n",
       "      <td>249129500.0</td>\n",
       "      <td>18.0</td>\n",
       "      <td>9.0</td>\n",
       "    </tr>\n",
       "    <tr>\n",
       "      <th>100023</th>\n",
       "      <td>249133605.0</td>\n",
       "      <td>249133639.0</td>\n",
       "      <td>17.0</td>\n",
       "      <td>2.0</td>\n",
       "    </tr>\n",
       "    <tr>\n",
       "      <th>100024</th>\n",
       "      <td>249138258.0</td>\n",
       "      <td>249138290.0</td>\n",
       "      <td>16.0</td>\n",
       "      <td>1.0</td>\n",
       "    </tr>\n",
       "    <tr>\n",
       "      <th>100025</th>\n",
       "      <td>249153220.0</td>\n",
       "      <td>249153253.0</td>\n",
       "      <td>17.0</td>\n",
       "      <td>2.0</td>\n",
       "    </tr>\n",
       "    <tr>\n",
       "      <th>100026</th>\n",
       "      <td>249153645.0</td>\n",
       "      <td>249153674.0</td>\n",
       "      <td>16.0</td>\n",
       "      <td>0.0</td>\n",
       "    </tr>\n",
       "    <tr>\n",
       "      <th>100027</th>\n",
       "      <td>249170821.0</td>\n",
       "      <td>249170860.0</td>\n",
       "      <td>16.0</td>\n",
       "      <td>10.0</td>\n",
       "    </tr>\n",
       "    <tr>\n",
       "      <th>100028</th>\n",
       "      <td>249171199.0</td>\n",
       "      <td>249171240.0</td>\n",
       "      <td>16.0</td>\n",
       "      <td>10.0</td>\n",
       "    </tr>\n",
       "    <tr>\n",
       "      <th>100029</th>\n",
       "      <td>249171200.0</td>\n",
       "      <td>249171252.0</td>\n",
       "      <td>24.0</td>\n",
       "      <td>8.0</td>\n",
       "    </tr>\n",
       "    <tr>\n",
       "      <th>100030</th>\n",
       "      <td>249171583.0</td>\n",
       "      <td>249171622.0</td>\n",
       "      <td>17.0</td>\n",
       "      <td>7.0</td>\n",
       "    </tr>\n",
       "    <tr>\n",
       "      <th>100031</th>\n",
       "      <td>249181166.0</td>\n",
       "      <td>249181205.0</td>\n",
       "      <td>16.0</td>\n",
       "      <td>8.0</td>\n",
       "    </tr>\n",
       "    <tr>\n",
       "      <th>100032</th>\n",
       "      <td>249181931.0</td>\n",
       "      <td>249181990.0</td>\n",
       "      <td>25.0</td>\n",
       "      <td>10.0</td>\n",
       "    </tr>\n",
       "    <tr>\n",
       "      <th>100033</th>\n",
       "      <td>249186273.0</td>\n",
       "      <td>249186309.0</td>\n",
       "      <td>17.0</td>\n",
       "      <td>5.0</td>\n",
       "    </tr>\n",
       "    <tr>\n",
       "      <th>100034</th>\n",
       "      <td>249199961.0</td>\n",
       "      <td>249199998.0</td>\n",
       "      <td>17.0</td>\n",
       "      <td>6.0</td>\n",
       "    </tr>\n",
       "    <tr>\n",
       "      <th>100035</th>\n",
       "      <td>249205024.0</td>\n",
       "      <td>249205060.0</td>\n",
       "      <td>17.0</td>\n",
       "      <td>4.0</td>\n",
       "    </tr>\n",
       "    <tr>\n",
       "      <th>100036</th>\n",
       "      <td>249211238.0</td>\n",
       "      <td>249211272.0</td>\n",
       "      <td>16.0</td>\n",
       "      <td>3.0</td>\n",
       "    </tr>\n",
       "    <tr>\n",
       "      <th>100037</th>\n",
       "      <td>249220471.0</td>\n",
       "      <td>249220513.0</td>\n",
       "      <td>17.0</td>\n",
       "      <td>10.0</td>\n",
       "    </tr>\n",
       "    <tr>\n",
       "      <th>100038</th>\n",
       "      <td>249223120.0</td>\n",
       "      <td>249223162.0</td>\n",
       "      <td>17.0</td>\n",
       "      <td>10.0</td>\n",
       "    </tr>\n",
       "    <tr>\n",
       "      <th>100039</th>\n",
       "      <td>249223821.0</td>\n",
       "      <td>249223861.0</td>\n",
       "      <td>17.0</td>\n",
       "      <td>9.0</td>\n",
       "    </tr>\n",
       "    <tr>\n",
       "      <th>100040</th>\n",
       "      <td>249224608.0</td>\n",
       "      <td>249224641.0</td>\n",
       "      <td>17.0</td>\n",
       "      <td>1.0</td>\n",
       "    </tr>\n",
       "    <tr>\n",
       "      <th>100041</th>\n",
       "      <td>249228912.0</td>\n",
       "      <td>249228945.0</td>\n",
       "      <td>17.0</td>\n",
       "      <td>2.0</td>\n",
       "    </tr>\n",
       "    <tr>\n",
       "      <th>100042</th>\n",
       "      <td>249239154.0</td>\n",
       "      <td>249239198.0</td>\n",
       "      <td>18.0</td>\n",
       "      <td>10.0</td>\n",
       "    </tr>\n",
       "    <tr>\n",
       "      <th>100043</th>\n",
       "      <td>249239158.0</td>\n",
       "      <td>249239199.0</td>\n",
       "      <td>17.0</td>\n",
       "      <td>10.0</td>\n",
       "    </tr>\n",
       "    <tr>\n",
       "      <th>100044</th>\n",
       "      <td>249239183.0</td>\n",
       "      <td>249239227.0</td>\n",
       "      <td>18.0</td>\n",
       "      <td>10.0</td>\n",
       "    </tr>\n",
       "    <tr>\n",
       "      <th>100045</th>\n",
       "      <td>249239187.0</td>\n",
       "      <td>249239228.0</td>\n",
       "      <td>17.0</td>\n",
       "      <td>10.0</td>\n",
       "    </tr>\n",
       "    <tr>\n",
       "      <th>100046</th>\n",
       "      <td>249239305.0</td>\n",
       "      <td>249239345.0</td>\n",
       "      <td>16.0</td>\n",
       "      <td>9.0</td>\n",
       "    </tr>\n",
       "  </tbody>\n",
       "</table>\n",
       "<p>100047 rows × 4 columns</p>\n",
       "</div>"
      ],
      "text/plain": [
       "              start          end  len_stem  len_loop\n",
       "0           10631.0      10680.0      21.0      10.0\n",
       "1           10660.0      10709.0      21.0      10.0\n",
       "2           10689.0      10738.0      21.0      10.0\n",
       "3           10718.0      10767.0      21.0      10.0\n",
       "4           10747.0      10796.0      21.0      10.0\n",
       "5           13125.0      13164.0      17.0       7.0\n",
       "6           24704.0      24746.0      17.0      10.0\n",
       "7           24735.0      24770.0      16.0       4.0\n",
       "8           30406.0      30460.0      23.0       9.0\n",
       "9           30411.0      30455.0      20.0       7.0\n",
       "10          33975.0      34008.0      16.0       2.0\n",
       "11          41165.0      41203.0      16.0       9.0\n",
       "12          46716.0      46750.0      16.0       3.0\n",
       "13          52162.0      52198.0      17.0       4.0\n",
       "14          56667.0      56699.0      17.0       1.0\n",
       "15          57125.0      57163.0      17.0       5.0\n",
       "16          63967.0      64006.0      17.0       7.0\n",
       "17          66157.0      66200.0      22.0       0.0\n",
       "18          66159.0      66202.0      19.0       7.0\n",
       "19          66160.0      66215.0      24.0       9.0\n",
       "20          66166.0      66217.0      21.0      10.0\n",
       "21          66167.0      66239.0      33.0      10.0\n",
       "22          66191.0      66241.0      21.0       9.0\n",
       "23          66192.0      66266.0      33.0      10.0\n",
       "24          66195.0      66244.0      23.0       5.0\n",
       "25          66201.0      66246.0      22.0       3.0\n",
       "26          66204.0      66272.0      30.0      10.0\n",
       "27          66221.0      66287.0      29.0      10.0\n",
       "28          66224.0      66276.0      23.0       9.0\n",
       "29          66233.0      66305.0      33.0       8.0\n",
       "...             ...          ...       ...       ...\n",
       "100017  249104963.0  249104998.0      17.0       4.0\n",
       "100018  249109614.0  249109674.0      26.0      10.0\n",
       "100019  249109619.0  249109670.0      23.0       9.0\n",
       "100020  249122149.0  249122187.0      16.0       7.0\n",
       "100021  249128461.0  249128502.0      18.0       8.0\n",
       "100022  249129458.0  249129500.0      18.0       9.0\n",
       "100023  249133605.0  249133639.0      17.0       2.0\n",
       "100024  249138258.0  249138290.0      16.0       1.0\n",
       "100025  249153220.0  249153253.0      17.0       2.0\n",
       "100026  249153645.0  249153674.0      16.0       0.0\n",
       "100027  249170821.0  249170860.0      16.0      10.0\n",
       "100028  249171199.0  249171240.0      16.0      10.0\n",
       "100029  249171200.0  249171252.0      24.0       8.0\n",
       "100030  249171583.0  249171622.0      17.0       7.0\n",
       "100031  249181166.0  249181205.0      16.0       8.0\n",
       "100032  249181931.0  249181990.0      25.0      10.0\n",
       "100033  249186273.0  249186309.0      17.0       5.0\n",
       "100034  249199961.0  249199998.0      17.0       6.0\n",
       "100035  249205024.0  249205060.0      17.0       4.0\n",
       "100036  249211238.0  249211272.0      16.0       3.0\n",
       "100037  249220471.0  249220513.0      17.0      10.0\n",
       "100038  249223120.0  249223162.0      17.0      10.0\n",
       "100039  249223821.0  249223861.0      17.0       9.0\n",
       "100040  249224608.0  249224641.0      17.0       1.0\n",
       "100041  249228912.0  249228945.0      17.0       2.0\n",
       "100042  249239154.0  249239198.0      18.0      10.0\n",
       "100043  249239158.0  249239199.0      17.0      10.0\n",
       "100044  249239183.0  249239227.0      18.0      10.0\n",
       "100045  249239187.0  249239228.0      17.0      10.0\n",
       "100046  249239305.0  249239345.0      16.0       9.0\n",
       "\n",
       "[100047 rows x 4 columns]"
      ]
     },
     "execution_count": 24,
     "metadata": {},
     "output_type": "execute_result"
    }
   ],
   "source": [
    "df"
   ]
  },
  {
   "cell_type": "code",
   "execution_count": 25,
   "metadata": {
    "ExecuteTime": {
     "end_time": "2018-05-01T14:15:51.377425Z",
     "start_time": "2018-05-01T14:14:45.658463Z"
    }
   },
   "outputs": [
    {
     "data": {
      "application/vnd.jupyter.widget-view+json": {
       "model_id": "f4e132ee82294f388ae6171516488d09",
       "version_major": 2,
       "version_minor": 0
      },
      "text/html": [
       "<p>Failed to display Jupyter Widget of type <code>HBox</code>.</p>\n",
       "<p>\n",
       "  If you're reading this message in the Jupyter Notebook or JupyterLab Notebook, it may mean\n",
       "  that the widgets JavaScript is still loading. If this message persists, it\n",
       "  likely means that the widgets JavaScript library is either not installed or\n",
       "  not enabled. See the <a href=\"https://ipywidgets.readthedocs.io/en/stable/user_install.html\">Jupyter\n",
       "  Widgets Documentation</a> for setup instructions.\n",
       "</p>\n",
       "<p>\n",
       "  If you're reading this message in another frontend (for example, a static\n",
       "  rendering on GitHub or <a href=\"https://nbviewer.jupyter.org/\">NBViewer</a>),\n",
       "  it may mean that your frontend doesn't currently support widgets.\n",
       "</p>\n"
      ],
      "text/plain": [
       "HBox(children=(IntProgress(value=0, max=93843), HTML(value='')))"
      ]
     },
     "metadata": {},
     "output_type": "display_data"
    },
    {
     "name": "stdout",
     "output_type": "stream",
     "text": [
      "\n"
     ]
    }
   ],
   "source": [
    "cumsum_arr = np.zeros((1000))\n",
    "\n",
    "for peak_pos in tqdm(pd.to_numeric(uplifted.peak_pos)):\n",
    "    temp_df = df[(df['start'] > peak_pos - 500) & (df['end'] < peak_pos + 500)]\n",
    "    for ind, row in temp_df.iterrows():\n",
    "        for i in range(int(row['start']) - peak_pos + 500, int(row['end']) - peak_pos + 500):\n",
    "            cumsum_arr[i] += 1\n",
    "# cumsum_arr"
   ]
  },
  {
   "cell_type": "code",
   "execution_count": 28,
   "metadata": {
    "ExecuteTime": {
     "end_time": "2018-05-01T14:33:21.093810Z",
     "start_time": "2018-05-01T14:33:20.769177Z"
    }
   },
   "outputs": [
    {
     "data": {
      "image/png": "[encoded data removed]",
      "text/plain": [
       "<matplotlib.figure.Figure at 0x7effeb0a10f0>"
      ]
     },
     "metadata": {},
     "output_type": "display_data"
    }
   ],
   "source": [
    "x = np.arange(-500, 500)\n",
    "plt.plot(x, cumsum_arr)\n",
    "plt.ylabel('Количество вторичных структур')\n",
    "plt.xlabel('Позиция относительно центра нуклеосомы')\n",
    "# plt.ylim(75000, 110000)\n",
    "plt.tight_layout()\n",
    "plt.savefig('../pictures/chr1_S16-50_nucleosome-centered.png', dpi=300)\n",
    "plt.savefig('../epses/chr1_S16-50_nucleosome-centered.eps', format='eps', dpi=1000)"
   ]
  },
  {
   "cell_type": "code",
   "execution_count": null,
   "metadata": {
    "ExecuteTime": {
     "start_time": "2018-05-01T19:23:42.317Z"
    }
   },
   "outputs": [],
   "source": [
    "def plot_centered(df, uplifted):\n",
    "    \"\"\"\n",
    "Center uplifted on \"peak_pos\", create array with number of sec struct in df in range from it. Warning: kind of slow.\n",
    "    :param df: sec. structs\n",
    "    :param uplifted: nucleosome positioning\n",
    "    :return:\n",
    "    \"\"\"\n",
    "    cumsum_arr = np.zeros((1000))\n",
    "    for peak_pos in tqdm(pd.to_numeric(uplifted.peak_pos)):\n",
    "        temp_df = df[(df['start'] > peak_pos - 500) & (df['end'] < peak_pos + 500)]\n",
    "        for ind, row in temp_df.iterrows():\n",
    "            for i in range(int(row['start']) - peak_pos + 500, int(row['end']) - peak_pos + 500):\n",
    "                cumsum_arr[i] += 1\n",
    "    x = np.arange(-500, 500)\n",
    "    plt.plot(x, cumsum_arr)\n",
    "    # plt.ylabel('Количество вторичных структур')\n",
    "    # plt.xlabel('Позиция относительно центра нуклеосомы')\n",
    "    # plt.ylim(75000, 110000)\n",
    "    return plt\n",
    "plt = plot_centered(df, uplifted)\n",
    "plt.ylabel('Количество вторичных структур')\n",
    "plt.xlabel('Позиция относительно центра нуклеосомы')\n",
    "# plt.ylim(75000, 110000)\n",
    "plt.tight_layout()"
   ]
  },
  {
   "cell_type": "code",
   "execution_count": 30,
   "metadata": {
    "ExecuteTime": {
     "end_time": "2018-05-01T14:37:27.419657Z",
     "start_time": "2018-05-01T14:36:25.543372Z"
    }
   },
   "outputs": [
    {
     "data": {
      "application/vnd.jupyter.widget-view+json": {
       "model_id": "e532d36688fd42deaa6ea4653a4d438e",
       "version_major": 2,
       "version_minor": 0
      },
      "text/html": [
       "<p>Failed to display Jupyter Widget of type <code>HBox</code>.</p>\n",
       "<p>\n",
       "  If you're reading this message in the Jupyter Notebook or JupyterLab Notebook, it may mean\n",
       "  that the widgets JavaScript is still loading. If this message persists, it\n",
       "  likely means that the widgets JavaScript library is either not installed or\n",
       "  not enabled. See the <a href=\"https://ipywidgets.readthedocs.io/en/stable/user_install.html\">Jupyter\n",
       "  Widgets Documentation</a> for setup instructions.\n",
       "</p>\n",
       "<p>\n",
       "  If you're reading this message in another frontend (for example, a static\n",
       "  rendering on GitHub or <a href=\"https://nbviewer.jupyter.org/\">NBViewer</a>),\n",
       "  it may mean that your frontend doesn't currently support widgets.\n",
       "</p>\n"
      ],
      "text/plain": [
       "HBox(children=(IntProgress(value=0, max=93843), HTML(value='')))"
      ]
     },
     "metadata": {},
     "output_type": "display_data"
    },
    {
     "name": "stdout",
     "output_type": "stream",
     "text": [
      "\n"
     ]
    }
   ],
   "source": [
    "def quadr(uplifted):\n",
    "    \"\"\"\n",
    "see s15_30\n",
    "    :param uplifted: uplifted array from function above\n",
    "    \"\"\"\n",
    "    base_path = \"/home/konovalovdmitry/results\"\n",
    "    filename = \"chr1.out\"\n",
    "    path_to_file = os.path.join(base_path, filename)\n",
    "    df = pd.read_csv(path_to_file, sep=' ', header=None)\n",
    "    cols = ['chr', 'start', 'end', 'seq']\n",
    "    df.columns = cols\n",
    "    df.drop(['seq', 'chr'], axis=1, inplace=True)\n",
    "    df = df.apply(pd.to_numeric)\n",
    "\n",
    "    # # or you can open it like this:\n",
    "    # all_quad_coords = pd.read_csv('/home/konovalovdmitry/results/all_quad_coords.tsv', sep='\\t', header=None)\n",
    "    # all_quad_coords = all_quad_coords[all_quad_coords[0] == 'chr1']\n",
    "    # cols = ['chr', 'start', 'end']\n",
    "    # all_quad_coords.columns = cols\n",
    "    # df = all_quad_coords.copy()\n",
    "\n",
    "    cumsum_arr = np.zeros(1000)\n",
    "\n",
    "    for peak_pos in tqdm(pd.to_numeric(uplifted.peak_pos)):\n",
    "        temp_df = df[(df['start'] > peak_pos - 500) & (df['end'] < peak_pos + 500)]\n",
    "        for ind, row in temp_df.iterrows():\n",
    "            for i in range(int(row['start']) - peak_pos + 500, int(row['end']) - peak_pos + 500):\n",
    "                cumsum_arr[i] += 1\n",
    "    return cumsum_arr\n",
    "cumsum_arr = quadr(uplifted)"
   ]
  },
  {
   "cell_type": "code",
   "execution_count": 31,
   "metadata": {
    "ExecuteTime": {
     "end_time": "2018-05-01T14:37:29.797921Z",
     "start_time": "2018-05-01T14:37:29.544643Z"
    }
   },
   "outputs": [
    {
     "data": {
      "image/png": "[encoded data removed]",
      "text/plain": [
       "<matplotlib.figure.Figure at 0x7effeaa16be0>"
      ]
     },
     "metadata": {},
     "output_type": "display_data"
    }
   ],
   "source": [
    "x = np.arange(-500, 500)\n",
    "plt.plot(x, cumsum_arr)\n",
    "plt.ylabel('Количество вторичных структур (квадруплексов)')\n",
    "plt.xlabel('Позиция относительно центра нуклеосомы')\n",
    "# plt.ylim(75000, 110000)\n",
    "plt.tight_layout()\n",
    "plt.savefig('../pictures/quad_nucleosome-centered.png', dpi=300)\n",
    "plt.savefig('../epses/quad_nucleosome-centered.eps', format='eps', dpi=1000)"
   ]
  },
  {
   "cell_type": "code",
   "execution_count": null,
   "metadata": {},
   "outputs": [],
   "source": [
    "# tsne = TSNE(n_jobs=8)\n",
    "# transformed = tsne.fit_transform(features.loc[:, features.columns != 'PropertyName'])\n",
    "# vis_x = transformed[:, 0]\n",
    "# vis_y = transformed[:, 1]\n",
    "# plt.scatter(vis_x, vis_y, c=concated['value'].map({0: 'blue', 1: 'orange'}))\n",
    "# # plt.clim(-0.5, 9.5)\n",
    "# plt.show()"
   ]
  },
  {
   "cell_type": "code",
   "execution_count": null,
   "metadata": {
    "ExecuteTime": {
     "end_time": "2018-04-07T08:12:28.945199Z",
     "start_time": "2018-04-07T08:12:28.913000Z"
    }
   },
   "outputs": [],
   "source": [
    "csv_feats = pd.concat([features, concated['value']], axis=1, ignore_index=True)\n",
    "csv_feats.columns = features.columns.tolist() + ['target']"
   ]
  },
  {
   "cell_type": "code",
   "execution_count": null,
   "metadata": {
    "ExecuteTime": {
     "end_time": "2018-04-07T08:12:55.573540Z",
     "start_time": "2018-04-07T08:12:33.371287Z"
    }
   },
   "outputs": [],
   "source": [
    "csv_feats.to_csv('../data/features_df_70bp.csv', index=False)"
   ]
  },
  {
   "cell_type": "code",
   "execution_count": null,
   "metadata": {
    "ExecuteTime": {
     "end_time": "2018-04-07T11:27:27.259634Z",
     "start_time": "2018-04-07T11:27:19.982305Z"
    }
   },
   "outputs": [],
   "source": [
    "csv_feats = pd.read_csv('../data/features_df_70bp.csv')\n",
    "csv_feats"
   ]
  },
  {
   "cell_type": "code",
   "execution_count": 8,
   "metadata": {
    "ExecuteTime": {
     "end_time": "2018-04-07T11:27:35.611355Z",
     "start_time": "2018-04-07T11:27:34.752282Z"
    }
   },
   "outputs": [],
   "source": [
    "from sklearn.model_selection import train_test_split\n",
    "x_train, x_test, y_train, y_test = train_test_split(\n",
    "    csv_feats.drop(['PropertyName', 'target'], axis=1).values, csv_feats['target'].values,\n",
    "    test_size=0.2)"
   ]
  },
  {
   "cell_type": "code",
   "execution_count": null,
   "metadata": {
    "ExecuteTime": {
     "end_time": "2018-04-07T11:27:57.841986Z",
     "start_time": "2018-04-07T11:27:37.452466Z"
    }
   },
   "outputs": [],
   "source": [
    "from sklearn.linear_model import LogisticRegression\n",
    "logreg = LogisticRegression(n_jobs=-1)\n",
    "logreg.fit(x_train, y_train)\n",
    "\n",
    "y_pred = logreg.predict_proba(x_test)[:, 1]"
   ]
  },
  {
   "cell_type": "code",
   "execution_count": 11,
   "metadata": {
    "ExecuteTime": {
     "end_time": "2018-04-07T11:28:38.502675Z",
     "start_time": "2018-04-07T11:28:38.493797Z"
    }
   },
   "outputs": [
    {
     "name": "stdout",
     "output_type": "stream",
     "text": [
      "0.5722438983477709\n",
      "0.004077317003306824\n"
     ]
    }
   ],
   "source": [
    "from sklearn.metrics import roc_auc_score, r2_score\n",
    "print(roc_auc_score(y_test, y_pred))\n",
    "print(r2_score(y_test, y_pred))"
   ]
  },
  {
   "cell_type": "code",
   "execution_count": 14,
   "metadata": {
    "ExecuteTime": {
     "end_time": "2018-04-07T11:38:49.360641Z",
     "start_time": "2018-04-07T11:34:13.866643Z"
    }
   },
   "outputs": [
    {
     "name": "stderr",
     "output_type": "stream",
     "text": [
      "Use token 1260389131217015787.\n",
      "/home/magas/.pyenv/versions/3.6.0/envs/general/lib/python3.6/site-packages/lightgbm/engine.py:99: UserWarning: Found `num_iterations` in params. Will use it instead of argument\n",
      "  warnings.warn(\"Found `{}` in params. Will use it instead of argument\".format(alias))\n",
      "ERROR:root:Internal Python error in the inspect module.\n",
      "Below is the traceback from this internal error.\n",
      "\n"
     ]
    },
    {
     "name": "stdout",
     "output_type": "stream",
     "text": [
      "Traceback (most recent call last):\n",
      "  File \"/home/magas/.pyenv/versions/3.6.0/envs/general/lib/python3.6/site-packages/IPython/core/interactiveshell.py\", line 2910, in run_code\n",
      "    exec(code_obj, self.user_global_ns, self.user_ns)\n",
      "  File \"<ipython-input-14-b615db5e1cc4>\", line 23, in <module>\n",
      "    model = lgb.train(params, d_train)\n",
      "  File \"/home/magas/.pyenv/versions/3.6.0/envs/general/lib/python3.6/site-packages/lightgbm/engine.py\", line 201, in train\n",
      "    booster.update(fobj=fobj)\n",
      "  File \"/home/magas/.pyenv/versions/3.6.0/envs/general/lib/python3.6/site-packages/lightgbm/basic.py\", line 1521, in update\n",
      "    ctypes.byref(is_finished)))\n",
      "KeyboardInterrupt\n",
      "\n",
      "During handling of the above exception, another exception occurred:\n",
      "\n",
      "Traceback (most recent call last):\n",
      "  File \"/home/magas/.pyenv/versions/3.6.0/envs/general/lib/python3.6/site-packages/IPython/core/interactiveshell.py\", line 1828, in showtraceback\n",
      "    stb = value._render_traceback_()\n",
      "AttributeError: 'KeyboardInterrupt' object has no attribute '_render_traceback_'\n",
      "\n",
      "During handling of the above exception, another exception occurred:\n",
      "\n",
      "Traceback (most recent call last):\n",
      "  File \"/home/magas/.pyenv/versions/3.6.0/envs/general/lib/python3.6/site-packages/IPython/core/ultratb.py\", line 1090, in get_records\n",
      "    return _fixed_getinnerframes(etb, number_of_lines_of_context, tb_offset)\n",
      "  File \"/home/magas/.pyenv/versions/3.6.0/envs/general/lib/python3.6/site-packages/IPython/core/ultratb.py\", line 311, in wrapped\n",
      "    return f(*args, **kwargs)\n",
      "  File \"/home/magas/.pyenv/versions/3.6.0/envs/general/lib/python3.6/site-packages/IPython/core/ultratb.py\", line 345, in _fixed_getinnerframes\n",
      "    records = fix_frame_records_filenames(inspect.getinnerframes(etb, context))\n",
      "  File \"/home/magas/.pyenv/versions/3.6.0/lib/python3.6/inspect.py\", line 1454, in getinnerframes\n",
      "    frameinfo = (tb.tb_frame,) + getframeinfo(tb, context)\n",
      "  File \"/home/magas/.pyenv/versions/3.6.0/lib/python3.6/inspect.py\", line 1411, in getframeinfo\n",
      "    filename = getsourcefile(frame) or getfile(frame)\n",
      "  File \"/home/magas/.pyenv/versions/3.6.0/lib/python3.6/inspect.py\", line 666, in getsourcefile\n",
      "    if getattr(getmodule(object, filename), '__loader__', None) is not None:\n",
      "  File \"/home/magas/.pyenv/versions/3.6.0/lib/python3.6/inspect.py\", line 702, in getmodule\n",
      "    for modname, module in list(sys.modules.items()):\n",
      "KeyboardInterrupt\n"
     ]
    },
    {
     "ename": "KeyboardInterrupt",
     "evalue": "",
     "output_type": "error",
     "traceback": [
      "\u001b[0;31m---------------------------------------------------------------------------\u001b[0m"
     ]
    }
   ],
   "source": [
    "import lightgbm as lgb\n",
    "import telepyth # push notif in telegram\n",
    "%telepyth -t 1260389131217015787\n",
    "from sklearn.metrics import roc_auc_score\n",
    "%load_ext wurlitzer\n",
    "verbose = 1\n",
    "plot = 1\n",
    "params = {\n",
    "#     \"max_bin\": 1024,\n",
    "    \"learning_rate\": 0.01,\n",
    "    \"boosting_type\": \"goss\",\n",
    "    \"objective\": \"binary\",\n",
    "    'num_iterations':10000,\n",
    "    \"metric\": \"auc\",\n",
    "    \"num_leaves\": 10000,\n",
    "    \"verbose\": 1,\n",
    "#     \"min_data\": 100,\n",
    "#     \"boost_from_average\": True\n",
    "}\n",
    "\n",
    "d_train = lgb.Dataset(x_train, y_train)\n",
    "# d_valid = lgb.Dataset(X_test, label=y_test)\n",
    "model = lgb.train(params, d_train)\n",
    "# model.save_model('regressin')\n",
    "# model = lgb.Booster(model_file='regressin')\n",
    "\n",
    "y_pred = model.predict(x_test)\n",
    "print(roc_auc_score(y_test, y_pred))\n",
    "\n",
    "df_fi = pd.DataFrame(features.columns[1:], columns=['feature'])\n",
    "df_fi['importance'] = list(model.feature_importance('gain'))\n",
    "df_fi.sort_values('importance', ascending=False, inplace=True)\n",
    "# print(df_fi)\n",
    "if plot:\n",
    "    plt.figure()\n",
    "    df_fi.head(10).plot(kind='barh', x='feature', y='importance')\n",
    "    plt.title('Roc_auc is {}'.format(roc_auc_score(y_test, y_pred)))\n",
    "    plt.xlabel('relative importance')\n",
    "    plt.show()\n",
    "\n",
    "%telepyth 'lgb! \\n'"
   ]
  },
  {
   "cell_type": "code",
   "execution_count": null,
   "metadata": {
    "ExecuteTime": {
     "end_time": "2018-03-08T06:03:57.157745Z",
     "start_time": "2018-03-08T06:03:56.722648Z"
    }
   },
   "outputs": [],
   "source": [
    "all_quad_coords = pd.read_csv('/home/konovalovdmitry/results/all_quad_coords.tsv', sep='\\t', header=None)\n",
    "all_quad_coords = all_quad_coords[all_quad_coords[0] == 'chr1']\n",
    "cols = ['chr', 'start', 'end']\n",
    "all_quad_coords.columns = cols\n",
    "df = all_quad_coords.copy()\n",
    "df.head()"
   ]
  },
  {
   "cell_type": "code",
   "execution_count": null,
   "metadata": {
    "ExecuteTime": {
     "end_time": "2018-03-08T08:58:20.350337Z",
     "start_time": "2018-03-08T08:58:20.006012Z"
    }
   },
   "outputs": [],
   "source": [
    "quadparser = pd.read_csv('/home/konovalovdmitry/results/fna/chr1.qp', sep='\\t').reset_index()\n",
    "# pd.DataFrame(quadparser['level_0'].str.split('-').values.tolist(), columns=['start', 'end'])\n",
    "quadparser.drop(quadparser.tail(1).index, inplace=True)\n",
    "df_str = pd.DataFrame(quadparser['level_0'].str.split('-').values.tolist(), columns=['start', 'end'])\n",
    "df_str.drop(df_str[df_str['start'] == 'Found 10206:5547:5196 overlapping:sequences:lines'].index, inplace=True)\n",
    "df_str = df_str.astype(int)\n",
    "df = pd.concat([quadparser['chr1'], df_str], axis=1)\n"
   ]
  },
  {
   "cell_type": "code",
   "execution_count": null,
   "metadata": {
    "ExecuteTime": {
     "end_time": "2018-03-08T09:10:08.435926Z",
     "start_time": "2018-03-08T08:58:21.654299Z"
    }
   },
   "outputs": [],
   "source": [
    "cumsum_arr = np.zeros(1000)\n",
    "\n",
    "for peak_pos in tqdm(pd.to_numeric(uplifted.peak_pos)):\n",
    "    temp_df = df[(df['start'] > peak_pos - 500) & (df['end'] < peak_pos + 500)]\n",
    "    for ind, row in temp_df.iterrows():\n",
    "        for i in range(int(row['start']) - peak_pos + 500, int(row['end']) - peak_pos + 500):\n",
    "            cumsum_arr[i] += 1\n",
    "# cumsum_arr\n",
    "\n",
    "x = np.arange(-500, 500)\n",
    "plt.plot(x, cumsum_arr)\n",
    "plt.ylabel('Number of sec. structures')\n",
    "plt.xlabel('Centered position')"
   ]
  },
  {
   "cell_type": "code",
   "execution_count": null,
   "metadata": {
    "ExecuteTime": {
     "end_time": "2018-03-08T10:01:11.960308Z",
     "start_time": "2018-03-08T09:50:48.576006Z"
    }
   },
   "outputs": [],
   "source": [
    "def make_10bp(df, uplifted):\n",
    "    \"\"\"\n",
    "Выделить все структуры, у которых основание ножки находятся на расстоянии от 0 до 10 нуклеотидов от границы нуклеосомы.\n",
    "    :param df: sec. struct. df\n",
    "    :param uplifted: nucleosome df\n",
    "    \"\"\"\n",
    "    arr_4_rows = []\n",
    "    for start_upl in tqdm(pd.to_numeric(uplifted.start)):\n",
    "        temp_df = df[(df['end'] > start_upl - 10) & (df['end'] < start_upl)]\n",
    "        if not temp_df.empty:\n",
    "            for ind, row in temp_df.iterrows():\n",
    "                arr_4_rows.append(row)\n",
    "    ss10bp = pd.DataFrame(arr_4_rows)\n",
    "#     ss10bp.to_csv('sec_struct_0-10bp_to_nucleosome.csv', index=False)\n",
    "    return ss10bp\n",
    "\n",
    "quad10bp = make_10bp(df, uplifted)"
   ]
  },
  {
   "cell_type": "code",
   "execution_count": null,
   "metadata": {
    "ExecuteTime": {
     "end_time": "2018-03-08T10:01:12.163994Z",
     "start_time": "2018-03-08T10:01:11.961272Z"
    }
   },
   "outputs": [],
   "source": [
    "print(quad10bp.shape[0] / all_quad_coords.shape[0] * 100)"
   ]
  },
  {
   "cell_type": "code",
   "execution_count": null,
   "metadata": {
    "ExecuteTime": {
     "end_time": "2018-03-08T10:05:20.855724Z",
     "start_time": "2018-03-08T10:05:20.638766Z"
    }
   },
   "outputs": [],
   "source": [
    "quad10bp[['start', 'end']] = quad10bp[['start', 'end']].astype(int)\n",
    "quad10bp = quad10bp.reset_index(drop=True)"
   ]
  },
  {
   "cell_type": "markdown",
   "metadata": {},
   "source": [
    "5% out of all quadruplexes are near nucleosomes"
   ]
  },
  {
   "cell_type": "code",
   "execution_count": null,
   "metadata": {
    "ExecuteTime": {
     "end_time": "2018-03-08T09:29:00.275915Z",
     "start_time": "2018-03-08T09:28:58.207272Z"
    }
   },
   "outputs": [],
   "source": [
    "\n",
    "def make_go_terms(ss10bp, suffix='quad'):\n",
    "    \"\"\"\n",
    "makes go_terms.csv for pasting to http://revigo.irb.hr/ and getting genes and their types\n",
    "also makes relevant_goa_names.csv for names of this genes\n",
    "    :return:\n",
    "    \"\"\"\n",
    "    ptt = pd.read_csv('../data/ptt_hg19.txt', delimiter='\\t')\n",
    "    ptt1 = ptt[ptt['chrom'] == 'chr1']\n",
    "\n",
    "    def make_10bp_pr(df, uplifted):\n",
    "        arr_4_rows = []\n",
    "        for start_upl in tqdm(pd.to_numeric(uplifted.end)):\n",
    "            temp_df = df[(df['txStart'] - 1000 < start_upl) & (df['txEnd'] > start_upl) & (df.strand == '+')]\n",
    "            if not temp_df.empty:\n",
    "                for ind, row in temp_df.iterrows():\n",
    "                    arr_4_rows.append(row)\n",
    "        return pd.DataFrame(arr_4_rows)\n",
    "\n",
    "    relevant_ptt = make_10bp_pr(ptt1, ss10bp)\n",
    "\n",
    "    goa = pd.read_csv('../data/goa_human.gaf', delimiter='\\t', header=None)\n",
    "\n",
    "    relevant_goa = goa[goa[1].isin(relevant_ptt.proteinID)].drop_duplicates(1)\n",
    "    relevant_goa[9].to_csv('../data/relevant_goa_names_{}.csv'.format(suffix))\n",
    "    relevant_goa[4].to_csv('../data/go_terms_{}.csv'.format(suffix), index=False)\n",
    "\n",
    "make_go_terms(quad10bp)"
   ]
  },
  {
   "cell_type": "code",
   "execution_count": null,
   "metadata": {
    "ExecuteTime": {
     "end_time": "2018-03-08T10:05:35.511942Z",
     "start_time": "2018-03-08T10:05:33.009577Z"
    }
   },
   "outputs": [],
   "source": [
    "def add_bp_according2_start_end(neg_example):\n",
    "    \"\"\"\n",
    "adds nucleotides string according to start-end columns\n",
    "    :param neg_example: DataFrame with start-end columns\n",
    "    \"\"\"\n",
    "    from Bio import SeqIO\n",
    "    first_record = str(next(SeqIO.parse(\"/home/shared/hg19/chr1.fna\", \"fasta\")).seq)\n",
    "\n",
    "    temp = pd.DataFrame(np.ndarray((neg_example.shape[0], 4)),\n",
    "                        columns=[\"struct\", \"before\", \"after\", 'half_struct'], dtype='str')\n",
    "    for idx, row in neg_example.iterrows():\n",
    "        temp.loc[idx][0] = first_record[row['start']:row['end']]\n",
    "        temp.loc[idx][1] = first_record[row['start'] - 20:row['start']]\n",
    "        temp.loc[idx][2] = first_record[row['end']:row['end']    + 20]\n",
    "        temp.loc[idx][3] = first_record[row['start']:row['start'] + (row['end'] - row['start'])//2]\n",
    "\n",
    "    return pd.concat([neg_example, temp], axis=1)\n",
    "\n",
    "quad10with_bps = add_bp_according2_start_end(quad10bp)\n"
   ]
  },
  {
   "cell_type": "code",
   "execution_count": null,
   "metadata": {
    "ExecuteTime": {
     "end_time": "2018-03-08T10:10:09.946046Z",
     "start_time": "2018-03-08T10:10:05.285047Z"
    }
   },
   "outputs": [],
   "source": [
    "neg_example = all_quad_coords.sample(5000).reset_index(drop=True)\n",
    "neg_example = add_bp_according2_start_end(neg_example)\n",
    "neg_example['value'] = 0\n",
    "quad10with_bps['value'] = 1\n",
    "quad10with_bps.drop('chr1', inplace=True, axis=1)\n",
    "neg_example.drop('chr', inplace=True, axis=1)\n",
    "concated = pd.concat([neg_example, quad10with_bps])\n",
    "concated.head(2)"
   ]
  },
  {
   "cell_type": "code",
   "execution_count": null,
   "metadata": {
    "ExecuteTime": {
     "end_time": "2018-03-08T10:10:27.875403Z",
     "start_time": "2018-03-08T10:10:27.646440Z"
    }
   },
   "outputs": [],
   "source": [
    "concated.tail()"
   ]
  },
  {
   "cell_type": "code",
   "execution_count": null,
   "metadata": {
    "ExecuteTime": {
     "end_time": "2018-03-08T10:11:09.230631Z",
     "start_time": "2018-03-08T10:10:34.629037Z"
    }
   },
   "outputs": [],
   "source": [
    "def calc_feats(concated, position='half_struct'):\n",
    "    \"\"\"\n",
    "calculate features from diprodb\n",
    "    :param position: struct, before, after or half_struct\n",
    "    :param concated: df with bp as after add_bp_according2_start_end\n",
    "    \"\"\"\n",
    "    diprodb = pd.read_csv('../data/dprops.csv', index_col=0)\n",
    "    import re\n",
    "    features = []\n",
    "    for struct in tqdm(concated.loc[:, concated.columns != 'value'][position]):\n",
    "        strl = re.findall('..', struct)\n",
    "        temp = []\n",
    "        for dyad in strl:\n",
    "            temp.append(diprodb[diprodb['PropertyName'] == dyad].values.tolist()[0])\n",
    "        features.append(pd.DataFrame(temp, columns=diprodb.columns).sum())\n",
    "    return pd.DataFrame(features)\n",
    "feats = calc_feats(concated)"
   ]
  },
  {
   "cell_type": "code",
   "execution_count": null,
   "metadata": {
    "ExecuteTime": {
     "end_time": "2018-03-08T10:11:10.549700Z",
     "start_time": "2018-03-08T10:11:10.279939Z"
    }
   },
   "outputs": [],
   "source": [
    "feats.head(2).append(feats.tail(2))"
   ]
  },
  {
   "cell_type": "code",
   "execution_count": null,
   "metadata": {
    "ExecuteTime": {
     "end_time": "2018-03-08T10:11:14.090689Z",
     "start_time": "2018-03-08T10:11:13.744776Z"
    }
   },
   "outputs": [],
   "source": [
    "import matplotlib.pyplot as plt\n",
    "import numpy as np\n",
    "import pandas as pd\n",
    "from tqdm import tqdm_notebook as tqdm\n",
    "import re\n",
    "from MulticoreTSNE import MulticoreTSNE as TSNE  # https://github.com/DmitryUlyanov/Multicore-TSNE\n",
    "\n",
    "\n",
    "def plot_tsne(ss10bp, position='struct'):\n",
    "    \"\"\"\n",
    "form  physical features dataframe and use t-sne on it\n",
    "https://lvdmaaten.github.io/tsne/\n",
    "    :param position: before, after or struct for position relative to structure\n",
    "    :param ss10bp: see preprocessing.py, sec. structs within 10bp from nucleosome\n",
    "    :return: plt for plt.show()\n",
    "    \"\"\"\n",
    "    diprodb = pd.read_csv('../data/dprops.csv', index_col=0)\n",
    "\n",
    "    features = []\n",
    "    for struct in tqdm(ss10bp[position]):\n",
    "        strl = re.findall('..', struct)\n",
    "        temp = []\n",
    "        for dyad in strl:\n",
    "            temp.append(diprodb[diprodb['PropertyName'] == dyad].values.tolist()[0])\n",
    "        features.append(pd.DataFrame(temp, columns=diprodb.columns).sum())\n",
    "    features = pd.DataFrame(features)\n",
    "\n",
    "\n",
    "    tsne = TSNE(n_jobs=8)\n",
    "    transformed = tsne.fit_transform(features.loc[:, features.columns != 'PropertyName'])\n",
    "\n",
    "    vis_x = transformed[:, 0]\n",
    "    vis_y = transformed[:, 1]\n",
    "\n",
    "    plt.scatter(vis_x, vis_y, cmap=plt.cm.get_cmap(\"jet\", 10))\n",
    "    plt.clim(-0.5, 9.5)\n",
    "    return plt\n",
    "    # plt.show()\n",
    "    # or we can do this and label relevant vs random\n",
    "    # diprodb = pd.read_csv('../data/dprops.csv', index_col=0)\n",
    "    #\n",
    "    # features = []\n",
    "    # for struct in tqdm(concated.loc[:, concated.columns != 'value']['before']):\n",
    "    #     strl = re.findall('..', struct)\n",
    "    #     temp = []\n",
    "    #     for dyad in strl:\n",
    "    #         temp.append(diprodb[diprodb['PropertyName'] == dyad].values.tolist()[0])\n",
    "    #     features.append(pd.DataFrame(temp, columns=diprodb.columns).sum())\n",
    "    # features = pd.DataFrame(features)\n",
    "    #\n",
    "    # tsne = TSNE(n_jobs=8)\n",
    "    # transformed = tsne.fit_transform(features.loc[:, features.columns != 'PropertyName'])\n",
    "    #\n",
    "    # vis_x = transformed[:, 0]\n",
    "    # vis_y = transformed[:, 1]\n",
    "    #\n",
    "    # plt.scatter(vis_x, vis_y, c=concated['value'].map({0: 'blue', 1: 'orange'}))\n",
    "    # # plt.clim(-0.5, 9.5)\n",
    "    # plt.show()\n",
    "\n"
   ]
  },
  {
   "cell_type": "code",
   "execution_count": null,
   "metadata": {
    "ExecuteTime": {
     "end_time": "2018-03-08T10:11:21.463250Z",
     "start_time": "2018-03-08T10:11:14.797425Z"
    }
   },
   "outputs": [],
   "source": [
    "plot_tsne(quad10with_bps)"
   ]
  },
  {
   "cell_type": "code",
   "execution_count": null,
   "metadata": {
    "ExecuteTime": {
     "end_time": "2018-03-08T10:11:33.303843Z",
     "start_time": "2018-03-08T10:11:21.464510Z"
    }
   },
   "outputs": [],
   "source": [
    "\n",
    "tsne = TSNE(n_jobs=8)\n",
    "transformed = tsne.fit_transform(feats.loc[:, feats.columns != 'PropertyName'])\n",
    "\n",
    "vis_x = transformed[:, 0]\n",
    "vis_y = transformed[:, 1]\n",
    "\n",
    "plt.scatter(vis_x, vis_y, c=concated['value'].map({0: 'blue', 1: 'orange'}))\n",
    "# plt.clim(-0.5, 9.5)\n",
    "plt.show()"
   ]
  },
  {
   "cell_type": "code",
   "execution_count": null,
   "metadata": {
    "ExecuteTime": {
     "end_time": "2018-03-08T10:11:33.515986Z",
     "start_time": "2018-03-08T10:11:33.304818Z"
    }
   },
   "outputs": [],
   "source": [
    "from sklearn.model_selection import train_test_split\n",
    "x_train, x_test, y_train, y_test = train_test_split(\n",
    "    feats.drop('PropertyName', axis=1).values, concated['value'].values,\n",
    "    test_size=0.3)\n",
    "%load_ext wurlitzer  \n",
    "import telepyth # push notif in telegram\n",
    "\n",
    "%telepyth -t 1260389131217015787"
   ]
  },
  {
   "cell_type": "code",
   "execution_count": null,
   "metadata": {
    "ExecuteTime": {
     "end_time": "2018-03-08T10:11:33.948331Z",
     "start_time": "2018-03-08T10:11:33.517082Z"
    },
    "scrolled": true
   },
   "outputs": [],
   "source": [
    "import lightgbm as lgb\n",
    "from sklearn.metrics import roc_auc_score\n",
    "np.random.seed(42)\n",
    "verbose = 1\n",
    "plot = 1\n",
    "params = {\n",
    "#     \"max_bin\": 1024,\n",
    "#     \"learning_rate\": 0.01,\n",
    "    \"boosting_type\": \"goss\",\n",
    "    \"objective\": \"binary\",\n",
    "#     'num_iterations':10000,\n",
    "    \"metric\": \"auc\",\n",
    "#     \"num_leaves\": 10000,\n",
    "    \"verbose\": 1,\n",
    "#     \"min_data\": 100,\n",
    "#     \"boost_from_average\": True,\n",
    "    'early_stopping_round': 50\n",
    "}\n",
    "\n",
    "d_train = lgb.Dataset(x_train, y_train)\n",
    "d_valid = lgb.Dataset(x_test, label=y_test)\n",
    "model = lgb.train(params, d_train, valid_sets=d_valid)\n",
    "# model.save_model('regressin')\n",
    "# model = lgb.Booster(model_file='regressin')\n",
    "\n",
    "y_pred = model.predict(x_test)\n",
    "print(roc_auc_score(y_test, y_pred))"
   ]
  },
  {
   "cell_type": "code",
   "execution_count": null,
   "metadata": {
    "ExecuteTime": {
     "end_time": "2018-03-08T10:11:34.698745Z",
     "start_time": "2018-03-08T10:11:33.949622Z"
    }
   },
   "outputs": [],
   "source": [
    "df_fi = pd.DataFrame(features.columns[1:], columns=['feature'])\n",
    "df_fi['importance'] = list(model.feature_importance('gain'))\n",
    "df_fi.sort_values('importance', ascending=False, inplace=True)\n",
    "# print(df_fi)\n",
    "if plot:\n",
    "    plt.figure()\n",
    "    df_fi.head(10).plot(kind='barh', x='feature', y='importance')\n",
    "    plt.title('Roc_auc is {}'.format(roc_auc_score(y_test, y_pred)))\n",
    "    plt.xlabel('relative importance')\n",
    "    plt.show()\n",
    "\n",
    "%telepyth 'lgb! \\n'"
   ]
  },
  {
   "cell_type": "code",
   "execution_count": null,
   "metadata": {
    "ExecuteTime": {
     "end_time": "2018-03-09T05:37:39.971518Z",
     "start_time": "2018-03-09T05:37:38.903881Z"
    }
   },
   "outputs": [],
   "source": [
    "feats['Tilt_shift']"
   ]
  }
 ],
 "metadata": {
  "kernelspec": {
   "display_name": "Python 3",
   "language": "python",
   "name": "python3"
  },
  "language_info": {
   "codemirror_mode": {
    "name": "ipython",
    "version": 3
   },
   "file_extension": ".py",
   "mimetype": "text/x-python",
   "name": "python",
   "nbconvert_exporter": "python",
   "pygments_lexer": "ipython3",
   "version": "3.6.0"
  }
 },
 "nbformat": 4,
 "nbformat_minor": 2
}
