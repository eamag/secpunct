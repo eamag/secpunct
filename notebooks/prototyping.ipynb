{
 "cells": [
  {
   "cell_type": "code",
   "execution_count": 1,
   "metadata": {
    "ExecuteTime": {
     "end_time": "2018-05-04T08:34:30.069704Z",
     "start_time": "2018-05-04T08:34:22.710935Z"
    }
   },
   "outputs": [
    {
     "name": "stdout",
     "output_type": "stream",
     "text": [
      "(93843, 5)\n"
     ]
    },
    {
     "name": "stderr",
     "output_type": "stream",
     "text": [
      "/home/magas/.pyenv/versions/3.6.0/envs/general/lib/python3.6/site-packages/numpy/lib/arraysetops.py:472: FutureWarning: elementwise comparison failed; returning scalar instead, but in the future will perform elementwise comparison\n",
      "  mask |= (ar1 == a)\n"
     ]
    },
    {
     "data": {
      "text/html": [
       "<div>\n",
       "<style scoped>\n",
       "    .dataframe tbody tr th:only-of-type {\n",
       "        vertical-align: middle;\n",
       "    }\n",
       "\n",
       "    .dataframe tbody tr th {\n",
       "        vertical-align: top;\n",
       "    }\n",
       "\n",
       "    .dataframe thead th {\n",
       "        text-align: right;\n",
       "    }\n",
       "</style>\n",
       "<table border=\"1\" class=\"dataframe\">\n",
       "  <thead>\n",
       "    <tr style=\"text-align: right;\">\n",
       "      <th></th>\n",
       "      <th>chrom</th>\n",
       "      <th>start</th>\n",
       "      <th>end</th>\n",
       "      <th>peak_pos</th>\n",
       "      <th>score</th>\n",
       "    </tr>\n",
       "  </thead>\n",
       "  <tbody>\n",
       "    <tr>\n",
       "      <th>93843</th>\n",
       "      <td>chr1</td>\n",
       "      <td>249231725</td>\n",
       "      <td>249231752</td>\n",
       "      <td>249231739</td>\n",
       "      <td>0.63</td>\n",
       "    </tr>\n",
       "    <tr>\n",
       "      <th>93844</th>\n",
       "      <td>chr1</td>\n",
       "      <td>249232614</td>\n",
       "      <td>249232644</td>\n",
       "      <td>249232636</td>\n",
       "      <td>0.88</td>\n",
       "    </tr>\n",
       "  </tbody>\n",
       "</table>\n",
       "</div>"
      ],
      "text/plain": [
       "      chrom      start        end   peak_pos  score\n",
       "93843  chr1  249231725  249231752  249231739   0.63\n",
       "93844  chr1  249232614  249232644  249232636   0.88"
      ]
     },
     "execution_count": 1,
     "metadata": {},
     "output_type": "execute_result"
    }
   ],
   "source": [
    "%matplotlib inline\n",
    "import matplotlib.pyplot as plt\n",
    "import seaborn as sns\n",
    "import numpy as np\n",
    "import os\n",
    "import pandas as pd\n",
    "from tqdm import tqdm_notebook as tqdm\n",
    "\n",
    "uplifted = pd.read_csv('../data/peaks.min_peak_score_0.6.thresh_0.5.csv', index_col=0)\n",
    "# uplifted.drop('Unnamed: 0', inplace=True, axis=1)\n",
    "uplifted = uplifted[uplifted.chrom == 'chr1'].copy()\n",
    "print(uplifted.shape)\n",
    "uplifted.tail(2)"
   ]
  },
  {
   "cell_type": "code",
   "execution_count": null,
   "metadata": {
    "ExecuteTime": {
     "end_time": "2018-05-04T09:07:25.057549Z",
     "start_time": "2018-05-04T09:07:24.364866Z"
    }
   },
   "outputs": [],
   "source": [
    "import six\n",
    "def render_mpl_table(data, col_width=3.0, row_height=0.625, font_size=14,\n",
    "                     header_color='#40466e', row_colors=['#f1f1f2', 'w'], edge_color='w',\n",
    "                     bbox=[0, 0, 1, 1], header_columns=0, title='test',\n",
    "                     ax=None, **kwargs):\n",
    "    if ax is None:\n",
    "        size = (np.array(data.shape[::-1]) + np.array([0, 1])) * np.array([col_width, row_height])\n",
    "        fig, ax = plt.subplots(figsize=size)\n",
    "        ax.axis('off')\n",
    "    fig.suptitle(title, fontsize=15)\n",
    "\n",
    "    mpl_table = ax.table(cellText=data.values, bbox=bbox, colLabels=data.columns, **kwargs)\n",
    "\n",
    "    mpl_table.auto_set_font_size(False)\n",
    "    mpl_table.set_fontsize(font_size)\n",
    "    for k, cell in  six.iteritems(mpl_table._cells):\n",
    "        cell.set_edgecolor(edge_color)\n",
    "        if k[0] == 0 or k[1] < header_columns:\n",
    "            cell.set_text_props(weight='bold', color='w')\n",
    "            cell.set_facecolor(header_color)\n",
    "        else:\n",
    "            cell.set_facecolor(row_colors[k[0]%len(row_colors) ])\n",
    "    return ax"
   ]
  },
  {
   "cell_type": "code",
   "execution_count": 29,
   "metadata": {
    "ExecuteTime": {
     "end_time": "2018-05-04T09:07:25.057549Z",
     "start_time": "2018-05-04T09:07:24.364866Z"
    }
   },
   "outputs": [
    {
     "data": {
      "image/png": "[encoded data removed]",
      "text/plain": [
       "<matplotlib.figure.Figure at 0x7fb6ad44a8d0>"
      ]
     },
     "metadata": {},
     "output_type": "display_data"
    }
   ],
   "source": [
    "ax = render_mpl_table(uplifted.head(), title='Пример таблицы с нуклеосомной разметкой')#, header_columns=0, col_width=2.0)\n",
    "\n",
    "plt.savefig('../pictures/nucl_uplifted_table_example.png', dpi=300)\n",
    "plt.savefig('../epses/nucl_uplifted_table_example.eps', format='eps', dpi=1000)"
   ]
  },
  {
   "cell_type": "code",
   "execution_count": 30,
   "metadata": {
    "ExecuteTime": {
     "end_time": "2018-05-04T09:09:16.827989Z",
     "start_time": "2018-05-04T09:09:13.107325Z"
    }
   },
   "outputs": [
    {
     "name": "stderr",
     "output_type": "stream",
     "text": [
      "/home/magas/.pyenv/versions/3.6.0/envs/general/lib/python3.6/site-packages/numpy/lib/arraysetops.py:472: FutureWarning: elementwise comparison failed; returning scalar instead, but in the future will perform elementwise comparison\n",
      "  mask |= (ar1 == a)\n"
     ]
    },
    {
     "name": "stdout",
     "output_type": "stream",
     "text": [
      "(6743736, 4)\n"
     ]
    },
    {
     "data": {
      "text/html": [
       "<div>\n",
       "<style scoped>\n",
       "    .dataframe tbody tr th:only-of-type {\n",
       "        vertical-align: middle;\n",
       "    }\n",
       "\n",
       "    .dataframe tbody tr th {\n",
       "        vertical-align: top;\n",
       "    }\n",
       "\n",
       "    .dataframe thead th {\n",
       "        text-align: right;\n",
       "    }\n",
       "</style>\n",
       "<table border=\"1\" class=\"dataframe\">\n",
       "  <thead>\n",
       "    <tr style=\"text-align: right;\">\n",
       "      <th></th>\n",
       "      <th>start</th>\n",
       "      <th>end</th>\n",
       "      <th>len_stem</th>\n",
       "      <th>len_loop</th>\n",
       "    </tr>\n",
       "  </thead>\n",
       "  <tbody>\n",
       "    <tr>\n",
       "      <th>6743734</th>\n",
       "      <td>249239532</td>\n",
       "      <td>249239564</td>\n",
       "      <td>16</td>\n",
       "      <td>4</td>\n",
       "    </tr>\n",
       "    <tr>\n",
       "      <th>6743735</th>\n",
       "      <td>249239644</td>\n",
       "      <td>249239681</td>\n",
       "      <td>17</td>\n",
       "      <td>7</td>\n",
       "    </tr>\n",
       "  </tbody>\n",
       "</table>\n",
       "</div>"
      ],
      "text/plain": [
       "             start        end  len_stem  len_loop\n",
       "6743734  249239532  249239564        16         4\n",
       "6743735  249239644  249239681        17         7"
      ]
     },
     "execution_count": 30,
     "metadata": {},
     "output_type": "execute_result"
    }
   ],
   "source": [
    "df = pd.read_csv('../data/chr1.S15-30.filtered.csv', index_col=0, dtype='int').reset_index(drop=True)\n",
    "print(df.shape)\n",
    "df.tail(2)"
   ]
  },
  {
   "cell_type": "code",
   "execution_count": 33,
   "metadata": {
    "ExecuteTime": {
     "end_time": "2018-05-04T09:10:11.467540Z",
     "start_time": "2018-05-04T09:10:10.992722Z"
    }
   },
   "outputs": [
    {
     "data": {
      "image/png": "[encoded data removed]",
      "text/plain": [
       "<matplotlib.figure.Figure at 0x7fb6ad2ff2e8>"
      ]
     },
     "metadata": {},
     "output_type": "display_data"
    }
   ],
   "source": [
    "ax = render_mpl_table(df.head(), title='Пример таблицы с разметкой вторичными структурами')#, header_columns=0, col_width=2.0)\n",
    "\n",
    "plt.savefig('../pictures/sec_struct_uplifted_table_example.png', dpi=300)\n",
    "plt.savefig('../epses/sec_struct_uplifted_table_example.eps', format='eps', dpi=1000)"
   ]
  },
  {
   "cell_type": "code",
   "execution_count": null,
   "metadata": {
    "ExecuteTime": {
     "end_time": "2018-04-07T07:16:17.252435Z",
     "start_time": "2018-04-07T07:16:15.607732Z"
    }
   },
   "outputs": [],
   "source": [
    "def make_n_bp(df, uplifted, n=70):\n",
    "        \"\"\"\n",
    "Return all 'df' elements where end in 10-70 range before start of 'uplifted' \n",
    "    :param df: sec. struct. df with columns start   end len_stem    len_loop (10941426 rows)\n",
    "    :param uplifted: nucleosome df with columns chrom   start   end peak_pos    score (1037956 rows)\n",
    "    \"\"\"\n",
    "    df1 = df.sort_values('end').reset_index(drop=True)\n",
    "\n",
    "    # getting indexes where should df.end be, if inserted into uplifted (nucl array)\n",
    "    indxes = np.searchsorted(uplifted.start.values, df1.end.values)\n",
    "\n",
    "    uplifted1 = uplifted.append(uplifted.tail(1))  # for df.end > uplifted.start.max()\n",
    "\n",
    "    uplifted_ind = uplifted1.iloc[indxes].reset_index(drop=True)  # getting all uplifted.start closest to df.end \n",
    "    uplifted_ind['df_end'] = df1.end.values\n",
    "    uplifted_ind['diff'] = uplifted_ind.start - uplifted_ind.df_end\n",
    "    mask = (uplifted_ind['diff'] >= 0) & (uplifted_ind['diff'] < n)\n",
    "    return df1[mask].reset_index(drop=True)\n",
    "ss10bp = make_n_bp(df, uplifted)"
   ]
  },
  {
   "cell_type": "code",
   "execution_count": null,
   "metadata": {
    "ExecuteTime": {
     "end_time": "2018-04-07T07:17:40.690734Z",
     "start_time": "2018-04-07T07:16:17.333413Z"
    }
   },
   "outputs": [],
   "source": [
    "def add_bp_according2_start_end(neg_example):\n",
    "    \"\"\"\n",
    "adds nucleotides string according to start-end columns\n",
    "    :param neg_example: DataFrame with start-end columns\n",
    "    \"\"\"\n",
    "    from Bio import SeqIO\n",
    "    first_record = str(next(SeqIO.parse(\"/home/shared/hg19/chr1.fna\", \"fasta\")).seq)\n",
    "\n",
    "    temp = pd.DataFrame(np.ndarray((neg_example.shape[0], 4)),\n",
    "                        columns=[\"struct\", \"before\", \"after\", 'half_struct'], dtype='str')\n",
    "    for idx, row in neg_example.iterrows():\n",
    "        temp.loc[idx][0] = first_record[row['start']:row['end']]\n",
    "        temp.loc[idx][1] = first_record[row['start'] - 20:row['start']]\n",
    "        temp.loc[idx][2] = first_record[row['end']:row['end']    + 20]\n",
    "        temp.loc[idx][3] = first_record[row['start']:row['start'] + (row['end'] - row['start'])//2]\n",
    "\n",
    "    return pd.concat([neg_example, temp], axis=1)\n",
    "\n",
    "ss10bp = add_bp_according2_start_end(ss10bp)\n",
    "ss10bp.head()"
   ]
  },
  {
   "cell_type": "code",
   "execution_count": null,
   "metadata": {
    "ExecuteTime": {
     "end_time": "2018-04-07T07:24:37.426743Z",
     "start_time": "2018-04-07T07:24:27.649005Z"
    }
   },
   "outputs": [],
   "source": [
    "neg_example = df.sample(15000).reset_index()\n",
    "\n",
    "from Bio import SeqIO\n",
    "first_record = str(next(SeqIO.parse(\"/home/shared/hg19/chr1.fna\", \"fasta\")).seq)\n",
    "\n",
    "temp = pd.DataFrame(np.ndarray((neg_example.shape[0], 4)), columns=[\"struct\", \"before\", \"after\", 'half_struct'], dtype='str')\n",
    "for idx, row in neg_example.iterrows():\n",
    "    temp.loc[idx][0] = first_record[row['start']:row['end']]\n",
    "    temp.loc[idx][1] = first_record[row['start'] - 20:row['start']]\n",
    "    temp.loc[idx][2] = first_record[row['end']:row['end']    + 20] \n",
    "    temp.loc[idx][3] = first_record[row['start']:row['start'] + (row['end'] - row['start'])//2]\n",
    "\n",
    "neg_example = pd.concat([neg_example, temp], axis=1)\n",
    "neg_example.head(2)"
   ]
  },
  {
   "cell_type": "code",
   "execution_count": null,
   "metadata": {
    "ExecuteTime": {
     "end_time": "2018-04-07T07:24:45.979522Z",
     "start_time": "2018-04-07T07:24:45.939983Z"
    }
   },
   "outputs": [],
   "source": [
    "neg_example['value'] = 0\n",
    "ss10bp['value'] = 1\n",
    "concated = pd.concat([neg_example, ss10bp], ignore_index=True)\n",
    "concated.tail(2)"
   ]
  },
  {
   "cell_type": "code",
   "execution_count": null,
   "metadata": {
    "ExecuteTime": {
     "end_time": "2018-04-07T07:24:49.279927Z",
     "start_time": "2018-04-07T07:24:48.786897Z"
    }
   },
   "outputs": [],
   "source": [
    "import matplotlib.pyplot as plt\n",
    "import numpy as np\n",
    "import pandas as pd\n",
    "from tqdm import tqdm_notebook as tqdm\n",
    "import re\n",
    "from MulticoreTSNE import MulticoreTSNE as TSNE  # https://github.com/DmitryUlyanov/Multicore-TSNE\n",
    "concated.isnull().sum()"
   ]
  },
  {
   "cell_type": "code",
   "execution_count": null,
   "metadata": {
    "ExecuteTime": {
     "end_time": "2018-04-07T08:02:56.047032Z",
     "start_time": "2018-04-07T07:26:10.846182Z"
    }
   },
   "outputs": [],
   "source": [
    "diprodb = pd.read_csv('../data/dprops.csv', index_col=0)\n",
    "\n",
    "features = []\n",
    "for struct in tqdm(concated.loc[:, concated.columns != 'value']['struct']):\n",
    "    strl = re.findall('..', struct)\n",
    "    temp = []\n",
    "    for dyad in strl:\n",
    "        temp.append(diprodb[diprodb['PropertyName'] == dyad].values.tolist()[0])\n",
    "    features.append(pd.DataFrame(temp, columns=diprodb.columns).sum())\n",
    "features = pd.DataFrame(features)\n",
    "features.tail()"
   ]
  },
  {
   "cell_type": "code",
   "execution_count": 22,
   "metadata": {
    "ExecuteTime": {
     "end_time": "2018-05-01T14:13:39.764266Z",
     "start_time": "2018-05-01T14:13:39.688976Z"
    }
   },
   "outputs": [],
   "source": [
    "def make_filtered_s15_30(base_path=\"/home/shared/STEMLOOPS/hg19/S15-30_L0-10_M5\",\n",
    "                         filename=\"chr1.fna.S15-30_L0-10_M5.pal\"):\n",
    "    \"\"\"\n",
    "make clean dataframe with 5 columns almost without duplicates\n",
    "Unnamed: 0\t    start\tend\t      len_stem\t       len_loop\n",
    "    :return: this df\n",
    "    \"\"\"\n",
    "    path_to_file = os.path.join(base_path, filename)\n",
    "    with open(path_to_file, 'r') as f:\n",
    "        #     next(f)  # if there is a description line\n",
    "        splitted = f.read().split('\\n')  # raw file separated by \\n's\n",
    "\n",
    "    from tqdm import tqdm_notebook as tqdm\n",
    "    cols = ['start', 'end', 'len_stem', 'len_loop']  # , 'seq_left', 'seq_right', 'full_seq', '1', '2', '3']\n",
    "    # will do in 2 parts because file is too big\n",
    "\n",
    "    df1 = pd.DataFrame([sub.split(\"\\t\")[:4] for sub in tqdm(splitted[:10000000])], columns=cols)\n",
    "    df1 = df1.apply(pd.to_numeric)\n",
    "    df1 = df1.drop_duplicates(subset=['start']).drop_duplicates(['end'])\n",
    "\n",
    "    df2 = pd.DataFrame([sub.split(\"\\t\")[:4] for sub in tqdm(splitted[10000000:])], columns=cols)\n",
    "    df2 = df2.apply(pd.to_numeric)\n",
    "    df2 = df2.drop_duplicates(subset=['start']).drop_duplicates(['end'])\n",
    "\n",
    "    df = pd.concat([df1, df2])\n",
    "    df.dropna(inplace=True)\n",
    "#     df.to_csv('chr1.S15-30.filtered.csv')\n",
    "    return df"
   ]
  },
  {
   "cell_type": "code",
   "execution_count": 23,
   "metadata": {
    "ExecuteTime": {
     "end_time": "2018-05-01T14:14:28.003300Z",
     "start_time": "2018-05-01T14:14:27.026858Z"
    }
   },
   "outputs": [
    {
     "data": {
      "application/vnd.jupyter.widget-view+json": {
       "model_id": "a44c6eee58a1471983f20c2c8036a115",
       "version_major": 2,
       "version_minor": 0
      },
      "text/html": [
       "<p>Failed to display Jupyter Widget of type <code>HBox</code>.</p>\n",
       "<p>\n",
       "  If you're reading this message in the Jupyter Notebook or JupyterLab Notebook, it may mean\n",
       "  that the widgets JavaScript is still loading. If this message persists, it\n",
       "  likely means that the widgets JavaScript library is either not installed or\n",
       "  not enabled. See the <a href=\"https://ipywidgets.readthedocs.io/en/stable/user_install.html\">Jupyter\n",
       "  Widgets Documentation</a> for setup instructions.\n",
       "</p>\n",
       "<p>\n",
       "  If you're reading this message in another frontend (for example, a static\n",
       "  rendering on GitHub or <a href=\"https://nbviewer.jupyter.org/\">NBViewer</a>),\n",
       "  it may mean that your frontend doesn't currently support widgets.\n",
       "</p>\n"
      ],
      "text/plain": [
       "HBox(children=(IntProgress(value=0, max=100048), HTML(value='')))"
      ]
     },
     "metadata": {},
     "output_type": "display_data"
    },
    {
     "name": "stdout",
     "output_type": "stream",
     "text": [
      "\n"
     ]
    },
    {
     "data": {
      "application/vnd.jupyter.widget-view+json": {
       "model_id": "8e4636a141384cba899bbe538724215e",
       "version_major": 2,
       "version_minor": 0
      },
      "text/html": [
       "<p>Failed to display Jupyter Widget of type <code>HBox</code>.</p>\n",
       "<p>\n",
       "  If you're reading this message in the Jupyter Notebook or JupyterLab Notebook, it may mean\n",
       "  that the widgets JavaScript is still loading. If this message persists, it\n",
       "  likely means that the widgets JavaScript library is either not installed or\n",
       "  not enabled. See the <a href=\"https://ipywidgets.readthedocs.io/en/stable/user_install.html\">Jupyter\n",
       "  Widgets Documentation</a> for setup instructions.\n",
       "</p>\n",
       "<p>\n",
       "  If you're reading this message in another frontend (for example, a static\n",
       "  rendering on GitHub or <a href=\"https://nbviewer.jupyter.org/\">NBViewer</a>),\n",
       "  it may mean that your frontend doesn't currently support widgets.\n",
       "</p>\n"
      ],
      "text/plain": [
       "HBox(children=(IntProgress(value=1, bar_style='info', max=1), HTML(value='')))"
      ]
     },
     "metadata": {},
     "output_type": "display_data"
    },
    {
     "name": "stdout",
     "output_type": "stream",
     "text": [
      "\n"
     ]
    }
   ],
   "source": [
    "base_path = \"/home/shared/STEMLOOPS/hg19/S16-50_L0-10_M3\"\n",
    "filename = \"chr1.fa.S16-50_L0-10_M3.pal.cleaned\"\n",
    "df = make_filtered_s15_30(base_path, filename)"
   ]
  },
  {
   "cell_type": "code",
   "execution_count": 25,
   "metadata": {
    "ExecuteTime": {
     "end_time": "2018-05-01T14:15:51.377425Z",
     "start_time": "2018-05-01T14:14:45.658463Z"
    }
   },
   "outputs": [
    {
     "data": {
      "application/vnd.jupyter.widget-view+json": {
       "model_id": "f4e132ee82294f388ae6171516488d09",
       "version_major": 2,
       "version_minor": 0
      },
      "text/html": [
       "<p>Failed to display Jupyter Widget of type <code>HBox</code>.</p>\n",
       "<p>\n",
       "  If you're reading this message in the Jupyter Notebook or JupyterLab Notebook, it may mean\n",
       "  that the widgets JavaScript is still loading. If this message persists, it\n",
       "  likely means that the widgets JavaScript library is either not installed or\n",
       "  not enabled. See the <a href=\"https://ipywidgets.readthedocs.io/en/stable/user_install.html\">Jupyter\n",
       "  Widgets Documentation</a> for setup instructions.\n",
       "</p>\n",
       "<p>\n",
       "  If you're reading this message in another frontend (for example, a static\n",
       "  rendering on GitHub or <a href=\"https://nbviewer.jupyter.org/\">NBViewer</a>),\n",
       "  it may mean that your frontend doesn't currently support widgets.\n",
       "</p>\n"
      ],
      "text/plain": [
       "HBox(children=(IntProgress(value=0, max=93843), HTML(value='')))"
      ]
     },
     "metadata": {},
     "output_type": "display_data"
    },
    {
     "name": "stdout",
     "output_type": "stream",
     "text": [
      "\n"
     ]
    }
   ],
   "source": [
    "cumsum_arr = np.zeros((1000))\n",
    "\n",
    "for peak_pos in tqdm(pd.to_numeric(uplifted.peak_pos)):\n",
    "    temp_df = df[(df['start'] > peak_pos - 500) & (df['end'] < peak_pos + 500)]\n",
    "    for ind, row in temp_df.iterrows():\n",
    "        for i in range(int(row['start']) - peak_pos + 500, int(row['end']) - peak_pos + 500):\n",
    "            cumsum_arr[i] += 1\n",
    "# cumsum_arr"
   ]
  },
  {
   "cell_type": "code",
   "execution_count": 28,
   "metadata": {
    "ExecuteTime": {
     "end_time": "2018-05-01T14:33:21.093810Z",
     "start_time": "2018-05-01T14:33:20.769177Z"
    }
   },
   "outputs": [
    {
     "data": {
      "image/png": "[encoded data removed]",
      "text/plain": [
       "<matplotlib.figure.Figure at 0x7effeb0a10f0>"
      ]
     },
     "metadata": {},
     "output_type": "display_data"
    }
   ],
   "source": [
    "x = np.arange(-500, 500)\n",
    "plt.plot(x, cumsum_arr)\n",
    "plt.ylabel('Количество вторичных структур')\n",
    "plt.xlabel('Позиция относительно центра нуклеосомы')\n",
    "# plt.ylim(75000, 110000)\n",
    "plt.tight_layout()\n",
    "plt.savefig('../pictures/chr1_S16-50_nucleosome-centered.png', dpi=300)\n",
    "plt.savefig('../epses/chr1_S16-50_nucleosome-centered.eps', format='eps', dpi=1000)"
   ]
  },
  {
   "cell_type": "code",
   "execution_count": 43,
   "metadata": {
    "ExecuteTime": {
     "end_time": "2018-05-04T12:53:54.082251Z",
     "start_time": "2018-05-04T12:53:54.079027Z"
    }
   },
   "outputs": [],
   "source": [
    "df['peak_pos'] = (df.start + df.end) // 2"
   ]
  },
  {
   "cell_type": "code",
   "execution_count": 42,
   "metadata": {
    "ExecuteTime": {
     "end_time": "2018-05-04T12:53:46.516405Z",
     "start_time": "2018-05-04T12:53:46.483666Z"
    }
   },
   "outputs": [],
   "source": [
    "def quadr(uplifted):\n",
    "    \"\"\"\n",
    "see s15_30\n",
    "    :param uplifted: uplifted array from function above\n",
    "    \"\"\"\n",
    "    base_path = \"/home/konovalovdmitry/results\"\n",
    "    filename = \"chr1.out\"\n",
    "    path_to_file = os.path.join(base_path, filename)\n",
    "    df = pd.read_csv(path_to_file, sep=' ', header=None)\n",
    "    cols = ['chr', 'start', 'end', 'seq']\n",
    "    df.columns = cols\n",
    "    df.drop(['seq', 'chr'], axis=1, inplace=True)\n",
    "    df = df.apply(pd.to_numeric)\n",
    "    return df\n",
    "df = quadr(uplifted)"
   ]
  },
  {
   "cell_type": "code",
   "execution_count": null,
   "metadata": {
    "ExecuteTime": {
     "end_time": "2018-05-04T12:55:04.848332Z",
     "start_time": "2018-05-04T12:54:35.345486Z"
    }
   },
   "outputs": [],
   "source": [
    "def plot_centered(uplifted, df):\n",
    "    \"\"\"\n",
    "Center uplifted on \"peak_pos\", create array with number of sec struct in df in range from it. Warning: kind of slow.\n",
    "    :param df: sec. structs\n",
    "    :param uplifted: nucleosome positioning\n",
    "    :return:\n",
    "    \"\"\"\n",
    "    cumsum_arr = np.zeros((1000))\n",
    "    for peak_pos in tqdm(pd.to_numeric(uplifted.peak_pos)):\n",
    "        temp_df = df[(df['start'] > peak_pos - 500) & (df['end'] < peak_pos + 500)]\n",
    "        for ind, row in temp_df.iterrows():\n",
    "            for i in range(int(row['start']) - peak_pos + 500, int(row['end']) - peak_pos + 500):\n",
    "                cumsum_arr[i] += 1\n",
    "    x = np.arange(-500, 500)\n",
    "    return x, cumsum_arr\n",
    "\n",
    "x, cumsum_arr = plot_centered(df, uplifted)"
   ]
  },
  {
   "cell_type": "code",
   "execution_count": 48,
   "metadata": {
    "ExecuteTime": {
     "end_time": "2018-05-04T12:57:40.831994Z",
     "start_time": "2018-05-04T12:57:40.521459Z"
    }
   },
   "outputs": [
    {
     "data": {
      "image/png": "[encoded data removed]",
      "text/plain": [
       "<matplotlib.figure.Figure at 0x7fb6ad2977b8>"
      ]
     },
     "metadata": {},
     "output_type": "display_data"
    }
   ],
   "source": [
    "plt.plot(x, cumsum_arr)\n",
    "plt.ylabel('Количество нуклеосом')\n",
    "plt.xlabel('Позиция относительно центра квадруплекса')\n",
    "plt.ylim(150, 550)\n",
    "plt.xlim(-450, 450)\n",
    "plt.tight_layout()\n",
    "plt.savefig('../pictures/nucleosome_quad-centered.png', dpi=300)\n",
    "plt.savefig('../epses/nucleosome_quad-centered.eps', format='eps', dpi=1000)"
   ]
  },
  {
   "cell_type": "code",
   "execution_count": 40,
   "metadata": {
    "ExecuteTime": {
     "end_time": "2018-05-04T12:45:47.148129Z",
     "start_time": "2018-05-04T12:45:47.146047Z"
    }
   },
   "outputs": [],
   "source": []
  },
  {
   "cell_type": "code",
   "execution_count": 31,
   "metadata": {
    "ExecuteTime": {
     "end_time": "2018-05-01T14:37:29.797921Z",
     "start_time": "2018-05-01T14:37:29.544643Z"
    }
   },
   "outputs": [
    {
     "data": {
      "image/png": "[encoded data removed]",
      "text/plain": [
       "<matplotlib.figure.Figure at 0x7effeaa16be0>"
      ]
     },
     "metadata": {},
     "output_type": "display_data"
    }
   ],
   "source": [
    "x = np.arange(-500, 500)\n",
    "plt.plot(x, cumsum_arr)\n",
    "plt.ylabel('Количество вторичных структур (квадруплексов)')\n",
    "plt.xlabel('Позиция относительно центра нуклеосомы')\n",
    "# plt.ylim(75000, 110000)\n",
    "plt.tight_layout()"
   ]
  },
  {
   "cell_type": "code",
   "execution_count": null,
   "metadata": {},
   "outputs": [],
   "source": [
    "# tsne = TSNE(n_jobs=8)\n",
    "# transformed = tsne.fit_transform(features.loc[:, features.columns != 'PropertyName'])\n",
    "# vis_x = transformed[:, 0]\n",
    "# vis_y = transformed[:, 1]\n",
    "# plt.scatter(vis_x, vis_y, c=concated['value'].map({0: 'blue', 1: 'orange'}))\n",
    "# # plt.clim(-0.5, 9.5)\n",
    "# plt.show()"
   ]
  },
  {
   "cell_type": "code",
   "execution_count": null,
   "metadata": {
    "ExecuteTime": {
     "end_time": "2018-04-07T08:12:28.945199Z",
     "start_time": "2018-04-07T08:12:28.913000Z"
    }
   },
   "outputs": [],
   "source": [
    "csv_feats = pd.concat([features, concated['value']], axis=1, ignore_index=True)\n",
    "csv_feats.columns = features.columns.tolist() + ['target']"
   ]
  },
  {
   "cell_type": "code",
   "execution_count": null,
   "metadata": {
    "ExecuteTime": {
     "end_time": "2018-04-07T08:12:55.573540Z",
     "start_time": "2018-04-07T08:12:33.371287Z"
    }
   },
   "outputs": [],
   "source": [
    "csv_feats.to_csv('../data/features_df_70bp.csv', index=False)"
   ]
  },
  {
   "cell_type": "code",
   "execution_count": null,
   "metadata": {
    "ExecuteTime": {
     "end_time": "2018-04-07T11:27:27.259634Z",
     "start_time": "2018-04-07T11:27:19.982305Z"
    }
   },
   "outputs": [],
   "source": [
    "csv_feats = pd.read_csv('../data/features_df_70bp.csv')\n",
    "csv_feats"
   ]
  },
  {
   "cell_type": "code",
   "execution_count": 8,
   "metadata": {
    "ExecuteTime": {
     "end_time": "2018-04-07T11:27:35.611355Z",
     "start_time": "2018-04-07T11:27:34.752282Z"
    }
   },
   "outputs": [],
   "source": [
    "from sklearn.model_selection import train_test_split\n",
    "x_train, x_test, y_train, y_test = train_test_split(\n",
    "    csv_feats.drop(['PropertyName', 'target'], axis=1).values, csv_feats['target'].values,\n",
    "    test_size=0.2)"
   ]
  },
  {
   "cell_type": "code",
   "execution_count": null,
   "metadata": {
    "ExecuteTime": {
     "end_time": "2018-04-07T11:27:57.841986Z",
     "start_time": "2018-04-07T11:27:37.452466Z"
    }
   },
   "outputs": [],
   "source": [
    "from sklearn.linear_model import LogisticRegression\n",
    "logreg = LogisticRegression(n_jobs=-1)\n",
    "logreg.fit(x_train, y_train)\n",
    "\n",
    "y_pred = logreg.predict_proba(x_test)[:, 1]"
   ]
  },
  {
   "cell_type": "code",
   "execution_count": 11,
   "metadata": {
    "ExecuteTime": {
     "end_time": "2018-04-07T11:28:38.502675Z",
     "start_time": "2018-04-07T11:28:38.493797Z"
    }
   },
   "outputs": [
    {
     "name": "stdout",
     "output_type": "stream",
     "text": [
      "0.5722438983477709\n",
      "0.004077317003306824\n"
     ]
    }
   ],
   "source": [
    "from sklearn.metrics import roc_auc_score, r2_score\n",
    "print(roc_auc_score(y_test, y_pred))\n",
    "print(r2_score(y_test, y_pred))"
   ]
  },
  {
   "cell_type": "code",
   "execution_count": 14,
   "metadata": {
    "ExecuteTime": {
     "end_time": "2018-04-07T11:38:49.360641Z",
     "start_time": "2018-04-07T11:34:13.866643Z"
    }
   },
   "outputs": [
    {
     "name": "stderr",
     "output_type": "stream",
     "text": [
      "Use token 1260389131217015787.\n",
      "/home/magas/.pyenv/versions/3.6.0/envs/general/lib/python3.6/site-packages/lightgbm/engine.py:99: UserWarning: Found `num_iterations` in params. Will use it instead of argument\n",
      "  warnings.warn(\"Found `{}` in params. Will use it instead of argument\".format(alias))\n",
      "ERROR:root:Internal Python error in the inspect module.\n",
      "Below is the traceback from this internal error.\n",
      "\n"
     ]
    },
    {
     "name": "stdout",
     "output_type": "stream",
     "text": [
      "Traceback (most recent call last):\n",
      "  File \"/home/magas/.pyenv/versions/3.6.0/envs/general/lib/python3.6/site-packages/IPython/core/interactiveshell.py\", line 2910, in run_code\n",
      "    exec(code_obj, self.user_global_ns, self.user_ns)\n",
      "  File \"<ipython-input-14-b615db5e1cc4>\", line 23, in <module>\n",
      "    model = lgb.train(params, d_train)\n",
      "  File \"/home/magas/.pyenv/versions/3.6.0/envs/general/lib/python3.6/site-packages/lightgbm/engine.py\", line 201, in train\n",
      "    booster.update(fobj=fobj)\n",
      "  File \"/home/magas/.pyenv/versions/3.6.0/envs/general/lib/python3.6/site-packages/lightgbm/basic.py\", line 1521, in update\n",
      "    ctypes.byref(is_finished)))\n",
      "KeyboardInterrupt\n",
      "\n",
      "During handling of the above exception, another exception occurred:\n",
      "\n",
      "Traceback (most recent call last):\n",
      "  File \"/home/magas/.pyenv/versions/3.6.0/envs/general/lib/python3.6/site-packages/IPython/core/interactiveshell.py\", line 1828, in showtraceback\n",
      "    stb = value._render_traceback_()\n",
      "AttributeError: 'KeyboardInterrupt' object has no attribute '_render_traceback_'\n",
      "\n",
      "During handling of the above exception, another exception occurred:\n",
      "\n",
      "Traceback (most recent call last):\n",
      "  File \"/home/magas/.pyenv/versions/3.6.0/envs/general/lib/python3.6/site-packages/IPython/core/ultratb.py\", line 1090, in get_records\n",
      "    return _fixed_getinnerframes(etb, number_of_lines_of_context, tb_offset)\n",
      "  File \"/home/magas/.pyenv/versions/3.6.0/envs/general/lib/python3.6/site-packages/IPython/core/ultratb.py\", line 311, in wrapped\n",
      "    return f(*args, **kwargs)\n",
      "  File \"/home/magas/.pyenv/versions/3.6.0/envs/general/lib/python3.6/site-packages/IPython/core/ultratb.py\", line 345, in _fixed_getinnerframes\n",
      "    records = fix_frame_records_filenames(inspect.getinnerframes(etb, context))\n",
      "  File \"/home/magas/.pyenv/versions/3.6.0/lib/python3.6/inspect.py\", line 1454, in getinnerframes\n",
      "    frameinfo = (tb.tb_frame,) + getframeinfo(tb, context)\n",
      "  File \"/home/magas/.pyenv/versions/3.6.0/lib/python3.6/inspect.py\", line 1411, in getframeinfo\n",
      "    filename = getsourcefile(frame) or getfile(frame)\n",
      "  File \"/home/magas/.pyenv/versions/3.6.0/lib/python3.6/inspect.py\", line 666, in getsourcefile\n",
      "    if getattr(getmodule(object, filename), '__loader__', None) is not None:\n",
      "  File \"/home/magas/.pyenv/versions/3.6.0/lib/python3.6/inspect.py\", line 702, in getmodule\n",
      "    for modname, module in list(sys.modules.items()):\n",
      "KeyboardInterrupt\n"
     ]
    },
    {
     "ename": "KeyboardInterrupt",
     "evalue": "",
     "output_type": "error",
     "traceback": [
      "\u001b[0;31m---------------------------------------------------------------------------\u001b[0m"
     ]
    }
   ],
   "source": [
    "import lightgbm as lgb\n",
    "import telepyth # push notif in telegram\n",
    "%telepyth -t 1260389131217015787\n",
    "from sklearn.metrics import roc_auc_score\n",
    "%load_ext wurlitzer\n",
    "verbose = 1\n",
    "plot = 1\n",
    "params = {\n",
    "#     \"max_bin\": 1024,\n",
    "    \"learning_rate\": 0.01,\n",
    "    \"boosting_type\": \"goss\",\n",
    "    \"objective\": \"binary\",\n",
    "    'num_iterations':10000,\n",
    "    \"metric\": \"auc\",\n",
    "    \"num_leaves\": 10000,\n",
    "    \"verbose\": 1,\n",
    "#     \"min_data\": 100,\n",
    "#     \"boost_from_average\": True\n",
    "}\n",
    "\n",
    "d_train = lgb.Dataset(x_train, y_train)\n",
    "# d_valid = lgb.Dataset(X_test, label=y_test)\n",
    "model = lgb.train(params, d_train)\n",
    "# model.save_model('regressin')\n",
    "# model = lgb.Booster(model_file='regressin')\n",
    "\n",
    "y_pred = model.predict(x_test)\n",
    "print(roc_auc_score(y_test, y_pred))\n",
    "\n",
    "df_fi = pd.DataFrame(features.columns[1:], columns=['feature'])\n",
    "df_fi['importance'] = list(model.feature_importance('gain'))\n",
    "df_fi.sort_values('importance', ascending=False, inplace=True)\n",
    "# print(df_fi)\n",
    "if plot:\n",
    "    plt.figure()\n",
    "    df_fi.head(10).plot(kind='barh', x='feature', y='importance')\n",
    "    plt.title('Roc_auc is {}'.format(roc_auc_score(y_test, y_pred)))\n",
    "    plt.xlabel('relative importance')\n",
    "    plt.show()\n",
    "\n",
    "%telepyth 'lgb! \\n'"
   ]
  },
  {
   "cell_type": "code",
   "execution_count": null,
   "metadata": {
    "ExecuteTime": {
     "end_time": "2018-03-08T06:03:57.157745Z",
     "start_time": "2018-03-08T06:03:56.722648Z"
    }
   },
   "outputs": [],
   "source": [
    "all_quad_coords = pd.read_csv('/home/konovalovdmitry/results/all_quad_coords.tsv', sep='\\t', header=None)\n",
    "all_quad_coords = all_quad_coords[all_quad_coords[0] == 'chr1']\n",
    "cols = ['chr', 'start', 'end']\n",
    "all_quad_coords.columns = cols\n",
    "df = all_quad_coords.copy()\n",
    "df.head()"
   ]
  },
  {
   "cell_type": "code",
   "execution_count": null,
   "metadata": {
    "ExecuteTime": {
     "end_time": "2018-03-08T08:58:20.350337Z",
     "start_time": "2018-03-08T08:58:20.006012Z"
    }
   },
   "outputs": [],
   "source": [
    "quadparser = pd.read_csv('/home/konovalovdmitry/results/fna/chr1.qp', sep='\\t').reset_index()\n",
    "# pd.DataFrame(quadparser['level_0'].str.split('-').values.tolist(), columns=['start', 'end'])\n",
    "quadparser.drop(quadparser.tail(1).index, inplace=True)\n",
    "df_str = pd.DataFrame(quadparser['level_0'].str.split('-').values.tolist(), columns=['start', 'end'])\n",
    "df_str.drop(df_str[df_str['start'] == 'Found 10206:5547:5196 overlapping:sequences:lines'].index, inplace=True)\n",
    "df_str = df_str.astype(int)\n",
    "df = pd.concat([quadparser['chr1'], df_str], axis=1)\n"
   ]
  },
  {
   "cell_type": "code",
   "execution_count": null,
   "metadata": {
    "ExecuteTime": {
     "end_time": "2018-03-08T09:10:08.435926Z",
     "start_time": "2018-03-08T08:58:21.654299Z"
    }
   },
   "outputs": [],
   "source": [
    "cumsum_arr = np.zeros(1000)\n",
    "\n",
    "for peak_pos in tqdm(pd.to_numeric(uplifted.peak_pos)):\n",
    "    temp_df = df[(df['start'] > peak_pos - 500) & (df['end'] < peak_pos + 500)]\n",
    "    for ind, row in temp_df.iterrows():\n",
    "        for i in range(int(row['start']) - peak_pos + 500, int(row['end']) - peak_pos + 500):\n",
    "            cumsum_arr[i] += 1\n",
    "# cumsum_arr\n",
    "\n",
    "x = np.arange(-500, 500)\n",
    "plt.plot(x, cumsum_arr)\n",
    "plt.ylabel('Number of sec. structures')\n",
    "plt.xlabel('Centered position')"
   ]
  },
  {
   "cell_type": "code",
   "execution_count": null,
   "metadata": {
    "ExecuteTime": {
     "end_time": "2018-03-08T10:01:11.960308Z",
     "start_time": "2018-03-08T09:50:48.576006Z"
    }
   },
   "outputs": [],
   "source": [
    "def make_10bp(df, uplifted):\n",
    "    \"\"\"\n",
    "Выделить все структуры, у которых основание ножки находятся на расстоянии от 0 до 10 нуклеотидов от границы нуклеосомы.\n",
    "    :param df: sec. struct. df\n",
    "    :param uplifted: nucleosome df\n",
    "    \"\"\"\n",
    "    arr_4_rows = []\n",
    "    for start_upl in tqdm(pd.to_numeric(uplifted.start)):\n",
    "        temp_df = df[(df['end'] > start_upl - 10) & (df['end'] < start_upl)]\n",
    "        if not temp_df.empty:\n",
    "            for ind, row in temp_df.iterrows():\n",
    "                arr_4_rows.append(row)\n",
    "    ss10bp = pd.DataFrame(arr_4_rows)\n",
    "#     ss10bp.to_csv('sec_struct_0-10bp_to_nucleosome.csv', index=False)\n",
    "    return ss10bp\n",
    "\n",
    "quad10bp = make_10bp(df, uplifted)"
   ]
  },
  {
   "cell_type": "code",
   "execution_count": null,
   "metadata": {
    "ExecuteTime": {
     "end_time": "2018-03-08T10:01:12.163994Z",
     "start_time": "2018-03-08T10:01:11.961272Z"
    }
   },
   "outputs": [],
   "source": [
    "print(quad10bp.shape[0] / all_quad_coords.shape[0] * 100)"
   ]
  },
  {
   "cell_type": "code",
   "execution_count": null,
   "metadata": {
    "ExecuteTime": {
     "end_time": "2018-03-08T10:05:20.855724Z",
     "start_time": "2018-03-08T10:05:20.638766Z"
    }
   },
   "outputs": [],
   "source": [
    "quad10bp[['start', 'end']] = quad10bp[['start', 'end']].astype(int)\n",
    "quad10bp = quad10bp.reset_index(drop=True)"
   ]
  },
  {
   "cell_type": "markdown",
   "metadata": {},
   "source": [
    "5% out of all quadruplexes are near nucleosomes"
   ]
  },
  {
   "cell_type": "code",
   "execution_count": null,
   "metadata": {
    "ExecuteTime": {
     "end_time": "2018-03-08T09:29:00.275915Z",
     "start_time": "2018-03-08T09:28:58.207272Z"
    }
   },
   "outputs": [],
   "source": [
    "\n",
    "def make_go_terms(ss10bp, suffix='quad'):\n",
    "    \"\"\"\n",
    "makes go_terms.csv for pasting to http://revigo.irb.hr/ and getting genes and their types\n",
    "also makes relevant_goa_names.csv for names of this genes\n",
    "    :return:\n",
    "    \"\"\"\n",
    "    ptt = pd.read_csv('../data/ptt_hg19.txt', delimiter='\\t')\n",
    "    ptt1 = ptt[ptt['chrom'] == 'chr1']\n",
    "\n",
    "    def make_10bp_pr(df, uplifted):\n",
    "        arr_4_rows = []\n",
    "        for start_upl in tqdm(pd.to_numeric(uplifted.end)):\n",
    "            temp_df = df[(df['txStart'] - 1000 < start_upl) & (df['txEnd'] > start_upl) & (df.strand == '+')]\n",
    "            if not temp_df.empty:\n",
    "                for ind, row in temp_df.iterrows():\n",
    "                    arr_4_rows.append(row)\n",
    "        return pd.DataFrame(arr_4_rows)\n",
    "\n",
    "    relevant_ptt = make_10bp_pr(ptt1, ss10bp)\n",
    "\n",
    "    goa = pd.read_csv('../data/goa_human.gaf', delimiter='\\t', header=None)\n",
    "\n",
    "    relevant_goa = goa[goa[1].isin(relevant_ptt.proteinID)].drop_duplicates(1)\n",
    "    relevant_goa[9].to_csv('../data/relevant_goa_names_{}.csv'.format(suffix))\n",
    "    relevant_goa[4].to_csv('../data/go_terms_{}.csv'.format(suffix), index=False)\n",
    "\n",
    "make_go_terms(quad10bp)"
   ]
  },
  {
   "cell_type": "code",
   "execution_count": null,
   "metadata": {
    "ExecuteTime": {
     "end_time": "2018-03-08T10:05:35.511942Z",
     "start_time": "2018-03-08T10:05:33.009577Z"
    }
   },
   "outputs": [],
   "source": [
    "def add_bp_according2_start_end(neg_example):\n",
    "    \"\"\"\n",
    "adds nucleotides string according to start-end columns\n",
    "    :param neg_example: DataFrame with start-end columns\n",
    "    \"\"\"\n",
    "    from Bio import SeqIO\n",
    "    first_record = str(next(SeqIO.parse(\"/home/shared/hg19/chr1.fna\", \"fasta\")).seq)\n",
    "\n",
    "    temp = pd.DataFrame(np.ndarray((neg_example.shape[0], 4)),\n",
    "                        columns=[\"struct\", \"before\", \"after\", 'half_struct'], dtype='str')\n",
    "    for idx, row in neg_example.iterrows():\n",
    "        temp.loc[idx][0] = first_record[row['start']:row['end']]\n",
    "        temp.loc[idx][1] = first_record[row['start'] - 20:row['start']]\n",
    "        temp.loc[idx][2] = first_record[row['end']:row['end']    + 20]\n",
    "        temp.loc[idx][3] = first_record[row['start']:row['start'] + (row['end'] - row['start'])//2]\n",
    "\n",
    "    return pd.concat([neg_example, temp], axis=1)\n",
    "\n",
    "quad10with_bps = add_bp_according2_start_end(quad10bp)\n"
   ]
  },
  {
   "cell_type": "code",
   "execution_count": null,
   "metadata": {
    "ExecuteTime": {
     "end_time": "2018-03-08T10:10:09.946046Z",
     "start_time": "2018-03-08T10:10:05.285047Z"
    }
   },
   "outputs": [],
   "source": [
    "neg_example = all_quad_coords.sample(5000).reset_index(drop=True)\n",
    "neg_example = add_bp_according2_start_end(neg_example)\n",
    "neg_example['value'] = 0\n",
    "quad10with_bps['value'] = 1\n",
    "quad10with_bps.drop('chr1', inplace=True, axis=1)\n",
    "neg_example.drop('chr', inplace=True, axis=1)\n",
    "concated = pd.concat([neg_example, quad10with_bps])\n",
    "concated.head(2)"
   ]
  },
  {
   "cell_type": "code",
   "execution_count": null,
   "metadata": {
    "ExecuteTime": {
     "end_time": "2018-03-08T10:10:27.875403Z",
     "start_time": "2018-03-08T10:10:27.646440Z"
    }
   },
   "outputs": [],
   "source": [
    "concated.tail()"
   ]
  },
  {
   "cell_type": "code",
   "execution_count": null,
   "metadata": {
    "ExecuteTime": {
     "end_time": "2018-03-08T10:11:09.230631Z",
     "start_time": "2018-03-08T10:10:34.629037Z"
    }
   },
   "outputs": [],
   "source": [
    "def calc_feats(concated, position='half_struct'):\n",
    "    \"\"\"\n",
    "calculate features from diprodb\n",
    "    :param position: struct, before, after or half_struct\n",
    "    :param concated: df with bp as after add_bp_according2_start_end\n",
    "    \"\"\"\n",
    "    diprodb = pd.read_csv('../data/dprops.csv', index_col=0)\n",
    "    import re\n",
    "    features = []\n",
    "    for struct in tqdm(concated.loc[:, concated.columns != 'value'][position]):\n",
    "        strl = re.findall('..', struct)\n",
    "        temp = []\n",
    "        for dyad in strl:\n",
    "            temp.append(diprodb[diprodb['PropertyName'] == dyad].values.tolist()[0])\n",
    "        features.append(pd.DataFrame(temp, columns=diprodb.columns).sum())\n",
    "    return pd.DataFrame(features)\n",
    "feats = calc_feats(concated)"
   ]
  },
  {
   "cell_type": "code",
   "execution_count": null,
   "metadata": {
    "ExecuteTime": {
     "end_time": "2018-03-08T10:11:10.549700Z",
     "start_time": "2018-03-08T10:11:10.279939Z"
    }
   },
   "outputs": [],
   "source": [
    "feats.head(2).append(feats.tail(2))"
   ]
  },
  {
   "cell_type": "code",
   "execution_count": null,
   "metadata": {
    "ExecuteTime": {
     "end_time": "2018-03-08T10:11:14.090689Z",
     "start_time": "2018-03-08T10:11:13.744776Z"
    }
   },
   "outputs": [],
   "source": [
    "import matplotlib.pyplot as plt\n",
    "import numpy as np\n",
    "import pandas as pd\n",
    "from tqdm import tqdm_notebook as tqdm\n",
    "import re\n",
    "from MulticoreTSNE import MulticoreTSNE as TSNE  # https://github.com/DmitryUlyanov/Multicore-TSNE\n",
    "\n",
    "\n",
    "def plot_tsne(ss10bp, position='struct'):\n",
    "    \"\"\"\n",
    "form  physical features dataframe and use t-sne on it\n",
    "https://lvdmaaten.github.io/tsne/\n",
    "    :param position: before, after or struct for position relative to structure\n",
    "    :param ss10bp: see preprocessing.py, sec. structs within 10bp from nucleosome\n",
    "    :return: plt for plt.show()\n",
    "    \"\"\"\n",
    "    diprodb = pd.read_csv('../data/dprops.csv', index_col=0)\n",
    "\n",
    "    features = []\n",
    "    for struct in tqdm(ss10bp[position]):\n",
    "        strl = re.findall('..', struct)\n",
    "        temp = []\n",
    "        for dyad in strl:\n",
    "            temp.append(diprodb[diprodb['PropertyName'] == dyad].values.tolist()[0])\n",
    "        features.append(pd.DataFrame(temp, columns=diprodb.columns).sum())\n",
    "    features = pd.DataFrame(features)\n",
    "\n",
    "\n",
    "    tsne = TSNE(n_jobs=8)\n",
    "    transformed = tsne.fit_transform(features.loc[:, features.columns != 'PropertyName'])\n",
    "\n",
    "    vis_x = transformed[:, 0]\n",
    "    vis_y = transformed[:, 1]\n",
    "\n",
    "    plt.scatter(vis_x, vis_y, cmap=plt.cm.get_cmap(\"jet\", 10))\n",
    "    plt.clim(-0.5, 9.5)\n",
    "    return plt\n",
    "    # plt.show()\n",
    "    # or we can do this and label relevant vs random\n",
    "    # diprodb = pd.read_csv('../data/dprops.csv', index_col=0)\n",
    "    #\n",
    "    # features = []\n",
    "    # for struct in tqdm(concated.loc[:, concated.columns != 'value']['before']):\n",
    "    #     strl = re.findall('..', struct)\n",
    "    #     temp = []\n",
    "    #     for dyad in strl:\n",
    "    #         temp.append(diprodb[diprodb['PropertyName'] == dyad].values.tolist()[0])\n",
    "    #     features.append(pd.DataFrame(temp, columns=diprodb.columns).sum())\n",
    "    # features = pd.DataFrame(features)\n",
    "    #\n",
    "    # tsne = TSNE(n_jobs=8)\n",
    "    # transformed = tsne.fit_transform(features.loc[:, features.columns != 'PropertyName'])\n",
    "    #\n",
    "    # vis_x = transformed[:, 0]\n",
    "    # vis_y = transformed[:, 1]\n",
    "    #\n",
    "    # plt.scatter(vis_x, vis_y, c=concated['value'].map({0: 'blue', 1: 'orange'}))\n",
    "    # # plt.clim(-0.5, 9.5)\n",
    "    # plt.show()\n",
    "\n"
   ]
  },
  {
   "cell_type": "code",
   "execution_count": null,
   "metadata": {
    "ExecuteTime": {
     "end_time": "2018-03-08T10:11:21.463250Z",
     "start_time": "2018-03-08T10:11:14.797425Z"
    }
   },
   "outputs": [],
   "source": [
    "plot_tsne(quad10with_bps)"
   ]
  },
  {
   "cell_type": "code",
   "execution_count": null,
   "metadata": {
    "ExecuteTime": {
     "end_time": "2018-03-08T10:11:33.303843Z",
     "start_time": "2018-03-08T10:11:21.464510Z"
    }
   },
   "outputs": [],
   "source": [
    "\n",
    "tsne = TSNE(n_jobs=8)\n",
    "transformed = tsne.fit_transform(feats.loc[:, feats.columns != 'PropertyName'])\n",
    "\n",
    "vis_x = transformed[:, 0]\n",
    "vis_y = transformed[:, 1]\n",
    "\n",
    "plt.scatter(vis_x, vis_y, c=concated['value'].map({0: 'blue', 1: 'orange'}))\n",
    "# plt.clim(-0.5, 9.5)\n",
    "plt.show()"
   ]
  },
  {
   "cell_type": "code",
   "execution_count": null,
   "metadata": {
    "ExecuteTime": {
     "end_time": "2018-03-08T10:11:33.515986Z",
     "start_time": "2018-03-08T10:11:33.304818Z"
    }
   },
   "outputs": [],
   "source": [
    "from sklearn.model_selection import train_test_split\n",
    "x_train, x_test, y_train, y_test = train_test_split(\n",
    "    feats.drop('PropertyName', axis=1).values, concated['value'].values,\n",
    "    test_size=0.3)\n",
    "%load_ext wurlitzer  \n",
    "import telepyth # push notif in telegram\n",
    "\n",
    "%telepyth -t 1260389131217015787"
   ]
  },
  {
   "cell_type": "code",
   "execution_count": null,
   "metadata": {
    "ExecuteTime": {
     "end_time": "2018-03-08T10:11:33.948331Z",
     "start_time": "2018-03-08T10:11:33.517082Z"
    },
    "scrolled": true
   },
   "outputs": [],
   "source": [
    "import lightgbm as lgb\n",
    "from sklearn.metrics import roc_auc_score\n",
    "np.random.seed(42)\n",
    "verbose = 1\n",
    "plot = 1\n",
    "params = {\n",
    "#     \"max_bin\": 1024,\n",
    "#     \"learning_rate\": 0.01,\n",
    "    \"boosting_type\": \"goss\",\n",
    "    \"objective\": \"binary\",\n",
    "#     'num_iterations':10000,\n",
    "    \"metric\": \"auc\",\n",
    "#     \"num_leaves\": 10000,\n",
    "    \"verbose\": 1,\n",
    "#     \"min_data\": 100,\n",
    "#     \"boost_from_average\": True,\n",
    "    'early_stopping_round': 50\n",
    "}\n",
    "\n",
    "d_train = lgb.Dataset(x_train, y_train)\n",
    "d_valid = lgb.Dataset(x_test, label=y_test)\n",
    "model = lgb.train(params, d_train, valid_sets=d_valid)\n",
    "# model.save_model('regressin')\n",
    "# model = lgb.Booster(model_file='regressin')\n",
    "\n",
    "y_pred = model.predict(x_test)\n",
    "print(roc_auc_score(y_test, y_pred))"
   ]
  },
  {
   "cell_type": "code",
   "execution_count": null,
   "metadata": {
    "ExecuteTime": {
     "end_time": "2018-03-08T10:11:34.698745Z",
     "start_time": "2018-03-08T10:11:33.949622Z"
    }
   },
   "outputs": [],
   "source": [
    "df_fi = pd.DataFrame(features.columns[1:], columns=['feature'])\n",
    "df_fi['importance'] = list(model.feature_importance('gain'))\n",
    "df_fi.sort_values('importance', ascending=False, inplace=True)\n",
    "# print(df_fi)\n",
    "if plot:\n",
    "    plt.figure()\n",
    "    df_fi.head(10).plot(kind='barh', x='feature', y='importance')\n",
    "    plt.title('Roc_auc is {}'.format(roc_auc_score(y_test, y_pred)))\n",
    "    plt.xlabel('relative importance')\n",
    "    plt.show()\n",
    "\n",
    "%telepyth 'lgb! \\n'"
   ]
  },
  {
   "cell_type": "code",
   "execution_count": null,
   "metadata": {
    "ExecuteTime": {
     "end_time": "2018-03-09T05:37:39.971518Z",
     "start_time": "2018-03-09T05:37:38.903881Z"
    }
   },
   "outputs": [],
   "source": [
    "feats['Tilt_shift']"
   ]
  }
 ],
 "metadata": {
  "kernelspec": {
   "display_name": "Python 3",
   "language": "python",
   "name": "python3"
  },
  "language_info": {
   "codemirror_mode": {
    "name": "ipython",
    "version": 3
   },
   "file_extension": ".py",
   "mimetype": "text/x-python",
   "name": "python",
   "nbconvert_exporter": "python",
   "pygments_lexer": "ipython3",
   "version": "3.6.0"
  }
 },
 "nbformat": 4,
 "nbformat_minor": 2
}
