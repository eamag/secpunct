{
 "cells": [
  {
   "cell_type": "code",
   "execution_count": 1,
   "metadata": {
    "ExecuteTime": {
     "end_time": "2018-05-06T08:14:35.470960Z",
     "start_time": "2018-05-06T08:14:29.202895Z"
    }
   },
   "outputs": [],
   "source": [
    "import os\n",
    "import matplotlib.pyplot as plt\n",
    "import numpy as np\n",
    "import pandas as pd\n",
    "from tqdm import tqdm_notebook as tqdm\n",
    "%matplotlib inline"
   ]
  },
  {
   "cell_type": "code",
   "execution_count": 2,
   "metadata": {
    "ExecuteTime": {
     "end_time": "2018-05-06T08:14:41.050551Z",
     "start_time": "2018-05-06T08:14:35.473199Z"
    }
   },
   "outputs": [
    {
     "name": "stderr",
     "output_type": "stream",
     "text": [
      "/home/magas/.pyenv/versions/3.6.0/envs/general/lib/python3.6/site-packages/numpy/lib/arraysetops.py:472: FutureWarning: elementwise comparison failed; returning scalar instead, but in the future will perform elementwise comparison\n",
      "  mask |= (ar1 == a)\n"
     ]
    },
    {
     "data": {
      "text/plain": [
       "(6743736, 4)"
      ]
     },
     "execution_count": 2,
     "metadata": {},
     "output_type": "execute_result"
    }
   ],
   "source": [
    "df = pd.read_csv('../data/chr1.S15-30.filtered.csv', index_col=0, dtype='int').reset_index(drop=True)\n",
    "df.shape"
   ]
  },
  {
   "cell_type": "code",
   "execution_count": 3,
   "metadata": {
    "ExecuteTime": {
     "end_time": "2018-05-06T08:14:42.369972Z",
     "start_time": "2018-05-06T08:14:41.052613Z"
    }
   },
   "outputs": [
    {
     "name": "stderr",
     "output_type": "stream",
     "text": [
      "/home/magas/.pyenv/versions/3.6.0/envs/general/lib/python3.6/site-packages/numpy/lib/arraysetops.py:472: FutureWarning: elementwise comparison failed; returning scalar instead, but in the future will perform elementwise comparison\n",
      "  mask |= (ar1 == a)\n"
     ]
    }
   ],
   "source": [
    "uplifted = pd.read_csv('../data/peaks.min_peak_score_0.6.thresh_0.5.csv', index_col=0)\n",
    "# uplifted.drop('Unnamed: 0', inplace=True, axis=1)\n",
    "uplifted = uplifted[uplifted.chrom == 'chr1'].copy()\n"
   ]
  },
  {
   "cell_type": "code",
   "execution_count": 4,
   "metadata": {
    "ExecuteTime": {
     "end_time": "2018-05-06T08:14:43.440159Z",
     "start_time": "2018-05-06T08:14:42.372066Z"
    }
   },
   "outputs": [],
   "source": [
    "def make_n_bp(df, uplifted, n=70):\n",
    "    \"\"\"\n",
    "Return all 'df' elements where end in range n before start of 'uplifted'\n",
    "    :param n: max number of bp from df.end to uplifted.start\n",
    "    :param df: sec. struct. df with columns start   end len_stem    len_loop (10941426 rows)\n",
    "    :param uplifted: nucleosome df with columns chrom   start   end peak_pos    score (1037956 rows)\n",
    "    \"\"\"\n",
    "    df1 = df.sort_values('end').reset_index(drop=True)\n",
    "    # getting indexes where should df.end be, if inserted into uplifted\n",
    "    indexes = np.searchsorted(uplifted.start.values, df1.end.values)\n",
    "    uplifted1 = uplifted.append(uplifted.tail(1))  # for df.end > uplifted.start.max()\n",
    "    uplifted_ind = uplifted1.iloc[indexes].reset_index(drop=True)  # getting all uplifted.start closest to df.end\n",
    "    uplifted_ind['df_end'] = df1.end.values\n",
    "    uplifted_ind['diff'] = uplifted_ind.start - uplifted_ind.df_end\n",
    "    mask = (uplifted_ind['diff'] >= 0) & (uplifted_ind['diff'] < n)\n",
    "    return df1[mask].reset_index(drop=True)\n",
    "ss70bp = make_n_bp(df, uplifted)"
   ]
  },
  {
   "cell_type": "code",
   "execution_count": 5,
   "metadata": {
    "ExecuteTime": {
     "end_time": "2018-05-06T08:14:43.448286Z",
     "start_time": "2018-05-06T08:14:43.442255Z"
    }
   },
   "outputs": [
    {
     "data": {
      "text/plain": [
       "0.02479945834178562"
      ]
     },
     "execution_count": 5,
     "metadata": {},
     "output_type": "execute_result"
    }
   ],
   "source": [
    "ss70bp.shape[0]/df.shape[0]"
   ]
  },
  {
   "cell_type": "code",
   "execution_count": 11,
   "metadata": {
    "ExecuteTime": {
     "end_time": "2018-05-06T11:23:41.494326Z",
     "start_time": "2018-05-06T11:23:41.470240Z"
    }
   },
   "outputs": [],
   "source": [
    "def render_mpl_table(data, title='test', col_width=3.0, row_height=0.625, font_size=14,\n",
    "                     header_color='#40466e', row_colors=['#f1f1f2', 'w'], edge_color='w',\n",
    "                     bbox=[0, 0, 1, 1], header_columns=0,\n",
    "                     ax=None, **kwargs):\n",
    "    if ax is None:\n",
    "        size = (np.array(data.shape[::-1]) + np.array([0, 1])) * np.array([col_width, row_height])\n",
    "        fig, ax = plt.subplots(figsize=size)\n",
    "        ax.axis('off')\n",
    "    fig.suptitle(title, fontsize=15)\n",
    "\n",
    "    mpl_table = ax.table(cellText=data.values, bbox=bbox, colLabels=data.columns, **kwargs)\n",
    "\n",
    "    mpl_table.auto_set_font_size(False)\n",
    "    mpl_table.set_fontsize(font_size)\n",
    "    import six\n",
    "    for k, cell in  six.iteritems(mpl_table._cells):\n",
    "        cell.set_edgecolor(edge_color)\n",
    "        if k[0] == 0 or k[1] < header_columns:\n",
    "            cell.set_text_props(weight='bold', color='w')\n",
    "            cell.set_facecolor(header_color)\n",
    "        else:\n",
    "            cell.set_facecolor(row_colors[k[0]%len(row_colors) ])\n",
    "    return ax"
   ]
  },
  {
   "cell_type": "code",
   "execution_count": 28,
   "metadata": {
    "ExecuteTime": {
     "end_time": "2018-05-04T15:18:01.840369Z",
     "start_time": "2018-05-04T15:18:01.345995Z"
    }
   },
   "outputs": [
    {
     "data": {
      "image/png": "[encoded data removed]",
      "text/plain": [
       "<matplotlib.figure.Figure at 0x7fe9655da278>"
      ]
     },
     "metadata": {},
     "output_type": "display_data"
    }
   ],
   "source": [
    "ax = render_mpl_table(ss70bp.head(), title='Шпильки, заканчивающиеся в области 70 бп до начала нуклеосомы')\n",
    "plt.savefig('../pictures/ss70bp.png', dpi=300)\n",
    "plt.savefig('../epses/ss70bp.eps', format='eps', dpi=1000)"
   ]
  },
  {
   "cell_type": "code",
   "execution_count": null,
   "metadata": {
    "ExecuteTime": {
     "end_time": "2018-05-05T08:55:58.965758Z",
     "start_time": "2018-05-05T08:55:41.085119Z"
    }
   },
   "outputs": [],
   "source": [
    "def make_go_terms(ss10bp, suffix='quad'):\n",
    "    \"\"\"\n",
    "makes go_terms.csv for pasting to http://revigo.irb.hr/ and getting genes and their types\n",
    "also makes relevant_goa_names.csv for names of this genes\n",
    "    \"\"\"\n",
    "    ptt = pd.read_csv('../data/ptt_hg19.txt', delimiter='\\t')\n",
    "    ptt1 = ptt[ptt['chrom'] == 'chr1']\n",
    "\n",
    "    def make_10bp_pr(df, uplifted):\n",
    "        arr_4_rows = []\n",
    "        for start_upl in tqdm(pd.to_numeric(uplifted.end)):\n",
    "            temp_df = df[(df['txStart'] - 1000 < start_upl) & (df['txEnd'] > start_upl)]\n",
    "            if not temp_df.empty:\n",
    "                for ind, row in temp_df.iterrows():\n",
    "                    arr_4_rows.append(row)\n",
    "        return pd.DataFrame(arr_4_rows)\n",
    "\n",
    "    relevant_ptt = make_10bp_pr(ptt1, ss10bp)\n",
    "\n",
    "    goa = pd.read_csv('../data/goa_human.gaf', delimiter='\\t', header=None)\n",
    "\n",
    "    relevant_goa = goa[goa[1].isin(relevant_ptt.proteinID)].drop_duplicates(1).drop_duplicates(4).drop_duplicates(9)\n",
    "    relevant_goa[9].to_csv('../data/relevant_goa_names_{}.csv'.format(suffix))\n",
    "    relevant_goa[4].to_csv('../data/go_terms_{}.csv'.format(suffix), index=False)\n",
    "    return relevant_goa, relevant_ptt \n",
    "relevant_goa, relevant_ptt = make_go_terms(ss70bp, 'ss70bp')"
   ]
  },
  {
   "cell_type": "code",
   "execution_count": 51,
   "metadata": {
    "ExecuteTime": {
     "end_time": "2018-05-05T07:46:43.004206Z",
     "start_time": "2018-05-05T07:46:42.988965Z"
    }
   },
   "outputs": [
    {
     "data": {
      "text/html": [
       "<div>\n",
       "<style scoped>\n",
       "    .dataframe tbody tr th:only-of-type {\n",
       "        vertical-align: middle;\n",
       "    }\n",
       "\n",
       "    .dataframe tbody tr th {\n",
       "        vertical-align: top;\n",
       "    }\n",
       "\n",
       "    .dataframe thead th {\n",
       "        text-align: right;\n",
       "    }\n",
       "</style>\n",
       "<table border=\"1\" class=\"dataframe\">\n",
       "  <thead>\n",
       "    <tr style=\"text-align: right;\">\n",
       "      <th></th>\n",
       "      <th>0</th>\n",
       "      <th>1</th>\n",
       "      <th>2</th>\n",
       "      <th>3</th>\n",
       "      <th>4</th>\n",
       "      <th>5</th>\n",
       "      <th>6</th>\n",
       "      <th>7</th>\n",
       "      <th>8</th>\n",
       "      <th>9</th>\n",
       "      <th>10</th>\n",
       "      <th>11</th>\n",
       "      <th>12</th>\n",
       "      <th>13</th>\n",
       "      <th>14</th>\n",
       "      <th>15</th>\n",
       "      <th>16</th>\n",
       "    </tr>\n",
       "  </thead>\n",
       "  <tbody>\n",
       "    <tr>\n",
       "      <th>1996</th>\n",
       "      <td>UniProtKB</td>\n",
       "      <td>A0PJX8</td>\n",
       "      <td>TMEM82</td>\n",
       "      <td>NaN</td>\n",
       "      <td>GO:0016021</td>\n",
       "      <td>GO_REF:0000037</td>\n",
       "      <td>IEA</td>\n",
       "      <td>UniProtKB-KW:KW-0812</td>\n",
       "      <td>C</td>\n",
       "      <td>Transmembrane protein 82</td>\n",
       "      <td>TMM82_HUMAN|TMEM82</td>\n",
       "      <td>protein</td>\n",
       "      <td>taxon:9606</td>\n",
       "      <td>20171216</td>\n",
       "      <td>UniProt</td>\n",
       "      <td>NaN</td>\n",
       "      <td>NaN</td>\n",
       "    </tr>\n",
       "    <tr>\n",
       "      <th>2231</th>\n",
       "      <td>UniProtKB</td>\n",
       "      <td>A1L453</td>\n",
       "      <td>PRSS38</td>\n",
       "      <td>NaN</td>\n",
       "      <td>GO:0004252</td>\n",
       "      <td>GO_REF:0000002</td>\n",
       "      <td>IEA</td>\n",
       "      <td>InterPro:IPR001254|InterPro:IPR001314|InterPro...</td>\n",
       "      <td>F</td>\n",
       "      <td>Serine protease 38</td>\n",
       "      <td>PRS38_HUMAN|PRSS38|MPN2</td>\n",
       "      <td>protein</td>\n",
       "      <td>taxon:9606</td>\n",
       "      <td>20171216</td>\n",
       "      <td>InterPro</td>\n",
       "      <td>NaN</td>\n",
       "      <td>NaN</td>\n",
       "    </tr>\n",
       "    <tr>\n",
       "      <th>2460</th>\n",
       "      <td>UniProtKB</td>\n",
       "      <td>A2PYH4</td>\n",
       "      <td>HFM1</td>\n",
       "      <td>NaN</td>\n",
       "      <td>GO:0000712</td>\n",
       "      <td>GO_REF:0000107</td>\n",
       "      <td>IEA</td>\n",
       "      <td>UniProtKB:D3Z4R1|ensembl:ENSMUSP00000108310</td>\n",
       "      <td>P</td>\n",
       "      <td>Probable ATP-dependent DNA helicase HFM1</td>\n",
       "      <td>HFM1_HUMAN|HFM1|SEC3D1</td>\n",
       "      <td>protein</td>\n",
       "      <td>taxon:9606</td>\n",
       "      <td>20171216</td>\n",
       "      <td>Ensembl</td>\n",
       "      <td>NaN</td>\n",
       "      <td>NaN</td>\n",
       "    </tr>\n",
       "    <tr>\n",
       "      <th>2556</th>\n",
       "      <td>UniProtKB</td>\n",
       "      <td>A2RUH7</td>\n",
       "      <td>MYBPHL</td>\n",
       "      <td>NaN</td>\n",
       "      <td>GO:0003674</td>\n",
       "      <td>GO_REF:0000015</td>\n",
       "      <td>ND</td>\n",
       "      <td>NaN</td>\n",
       "      <td>F</td>\n",
       "      <td>Myosin-binding protein H-like</td>\n",
       "      <td>MBPHL_HUMAN|MYBPHL</td>\n",
       "      <td>protein</td>\n",
       "      <td>taxon:9606</td>\n",
       "      <td>20090327</td>\n",
       "      <td>BHF-UCL</td>\n",
       "      <td>NaN</td>\n",
       "      <td>NaN</td>\n",
       "    </tr>\n",
       "    <tr>\n",
       "      <th>2587</th>\n",
       "      <td>UniProtKB</td>\n",
       "      <td>A2VCK2</td>\n",
       "      <td>DCDC2B</td>\n",
       "      <td>NaN</td>\n",
       "      <td>GO:0005515</td>\n",
       "      <td>PMID:25416956</td>\n",
       "      <td>IPI</td>\n",
       "      <td>UniProtKB:Q13643</td>\n",
       "      <td>F</td>\n",
       "      <td>Doublecortin domain-containing protein 2B</td>\n",
       "      <td>DCD2B_HUMAN|DCDC2B</td>\n",
       "      <td>protein</td>\n",
       "      <td>taxon:9606</td>\n",
       "      <td>20171218</td>\n",
       "      <td>IntAct</td>\n",
       "      <td>NaN</td>\n",
       "      <td>NaN</td>\n",
       "    </tr>\n",
       "  </tbody>\n",
       "</table>\n",
       "</div>"
      ],
      "text/plain": [
       "             0       1       2    3           4               5    6   \\\n",
       "1996  UniProtKB  A0PJX8  TMEM82  NaN  GO:0016021  GO_REF:0000037  IEA   \n",
       "2231  UniProtKB  A1L453  PRSS38  NaN  GO:0004252  GO_REF:0000002  IEA   \n",
       "2460  UniProtKB  A2PYH4    HFM1  NaN  GO:0000712  GO_REF:0000107  IEA   \n",
       "2556  UniProtKB  A2RUH7  MYBPHL  NaN  GO:0003674  GO_REF:0000015   ND   \n",
       "2587  UniProtKB  A2VCK2  DCDC2B  NaN  GO:0005515   PMID:25416956  IPI   \n",
       "\n",
       "                                                     7  8   \\\n",
       "1996                               UniProtKB-KW:KW-0812  C   \n",
       "2231  InterPro:IPR001254|InterPro:IPR001314|InterPro...  F   \n",
       "2460        UniProtKB:D3Z4R1|ensembl:ENSMUSP00000108310  P   \n",
       "2556                                                NaN  F   \n",
       "2587                                   UniProtKB:Q13643  F   \n",
       "\n",
       "                                             9                        10  \\\n",
       "1996                   Transmembrane protein 82       TMM82_HUMAN|TMEM82   \n",
       "2231                         Serine protease 38  PRS38_HUMAN|PRSS38|MPN2   \n",
       "2460   Probable ATP-dependent DNA helicase HFM1   HFM1_HUMAN|HFM1|SEC3D1   \n",
       "2556              Myosin-binding protein H-like       MBPHL_HUMAN|MYBPHL   \n",
       "2587  Doublecortin domain-containing protein 2B       DCD2B_HUMAN|DCDC2B   \n",
       "\n",
       "           11          12        13        14   15  16  \n",
       "1996  protein  taxon:9606  20171216   UniProt  NaN NaN  \n",
       "2231  protein  taxon:9606  20171216  InterPro  NaN NaN  \n",
       "2460  protein  taxon:9606  20171216   Ensembl  NaN NaN  \n",
       "2556  protein  taxon:9606  20090327   BHF-UCL  NaN NaN  \n",
       "2587  protein  taxon:9606  20171218    IntAct  NaN NaN  "
      ]
     },
     "execution_count": 51,
     "metadata": {},
     "output_type": "execute_result"
    }
   ],
   "source": [
    "relevant_goa.head()"
   ]
  },
  {
   "cell_type": "code",
   "execution_count": 8,
   "metadata": {
    "ExecuteTime": {
     "end_time": "2018-05-06T11:22:51.571214Z",
     "start_time": "2018-05-06T11:21:28.257503Z"
    }
   },
   "outputs": [],
   "source": [
    "def add_bp_according2_start_end(neg_example):\n",
    "    \"\"\"\n",
    "adds nucleotides string according to start-end columns\n",
    "    :param neg_example: DataFrame with start-end columns\n",
    "    \"\"\"\n",
    "    from Bio import SeqIO\n",
    "    first_record = str(next(SeqIO.parse(\"/home/shared/hg19/chr1.fna\", \"fasta\")).seq)\n",
    "\n",
    "    temp = pd.DataFrame(np.ndarray((neg_example.shape[0], 4)),\n",
    "                        columns=[\"struct\", \"before\", \"after\", 'half_struct'], dtype='str')\n",
    "    for idx, row in neg_example.iterrows():\n",
    "        temp.loc[idx][0] = first_record[row['start']:row['end']]\n",
    "        temp.loc[idx][1] = first_record[row['start'] - 20:row['start']]\n",
    "        temp.loc[idx][2] = first_record[row['end']:row['end']    + 20]\n",
    "        temp.loc[idx][3] = first_record[row['start']:row['start'] + (row['end'] - row['start'])//2]\n",
    "\n",
    "    return pd.concat([neg_example, temp], axis=1)\n",
    "concated =  add_bp_according2_start_end(ss70bp)"
   ]
  },
  {
   "cell_type": "code",
   "execution_count": 9,
   "metadata": {
    "ExecuteTime": {
     "end_time": "2018-05-06T11:22:56.264675Z",
     "start_time": "2018-05-06T11:22:51.688858Z"
    }
   },
   "outputs": [],
   "source": [
    "def make_neg_example_and_concat(df, quad10with_bps):\n",
    "    \"\"\"\n",
    "    :param df: DataFrame with start-end coordinates\n",
    "    :param quad10with_bps: second DataFrame to be concated (ie ss10bp)\n",
    "    :return: concated df for feature calculations\n",
    "    \"\"\"\n",
    "    neg_example = df.sample(5000).reset_index(drop=True)\n",
    "    neg_example = add_bp_according2_start_end(neg_example)\n",
    "    neg_example['value'] = 0\n",
    "    quad10with_bps['value'] = 1\n",
    "    concated = pd.concat([neg_example, quad10with_bps])\n",
    "    return concated\n",
    "\n",
    "concated = make_neg_example_and_concat(df, concated)"
   ]
  },
  {
   "cell_type": "code",
   "execution_count": 13,
   "metadata": {
    "ExecuteTime": {
     "end_time": "2018-05-06T11:46:43.948123Z",
     "start_time": "2018-05-06T11:24:01.994481Z"
    }
   },
   "outputs": [
    {
     "data": {
      "application/vnd.jupyter.widget-view+json": {
       "model_id": "50830ff55ca34da2a2ce4ef849002793",
       "version_major": 2,
       "version_minor": 0
      },
      "text/html": [
       "<p>Failed to display Jupyter Widget of type <code>HBox</code>.</p>\n",
       "<p>\n",
       "  If you're reading this message in the Jupyter Notebook or JupyterLab Notebook, it may mean\n",
       "  that the widgets JavaScript is still loading. If this message persists, it\n",
       "  likely means that the widgets JavaScript library is either not installed or\n",
       "  not enabled. See the <a href=\"https://ipywidgets.readthedocs.io/en/stable/user_install.html\">Jupyter\n",
       "  Widgets Documentation</a> for setup instructions.\n",
       "</p>\n",
       "<p>\n",
       "  If you're reading this message in another frontend (for example, a static\n",
       "  rendering on GitHub or <a href=\"https://nbviewer.jupyter.org/\">NBViewer</a>),\n",
       "  it may mean that your frontend doesn't currently support widgets.\n",
       "</p>\n"
      ],
      "text/plain": [
       "HBox(children=(IntProgress(value=0, max=172241), HTML(value='')))"
      ]
     },
     "metadata": {},
     "output_type": "display_data"
    },
    {
     "name": "stdout",
     "output_type": "stream",
     "text": [
      "\n"
     ]
    }
   ],
   "source": [
    "def calc_feats(concated, position='half_struct'):\n",
    "    \"\"\"\n",
    "calculate features from diprodb\n",
    "    :param position: struct, before, after or half_struct\n",
    "    :param concated: df with bp as after add_bp_according2_start_end\n",
    "    \"\"\"\n",
    "    diprodb = pd.read_csv('../data/dprops.csv', index_col=0)\n",
    "    import re\n",
    "    features = []\n",
    "    for struct in tqdm(concated.loc[:, concated.columns != 'value'][position]):\n",
    "        strl = re.findall('..', struct)\n",
    "        temp = []\n",
    "        for dyad in strl:\n",
    "            temp.append(diprodb[diprodb['PropertyName'] == dyad].values.tolist()[0])\n",
    "        features.append(pd.DataFrame(temp, columns=diprodb.columns).sum())\n",
    "    return pd.DataFrame(features)\n",
    "\n",
    "features = calc_feats(concated)"
   ]
  },
  {
   "cell_type": "code",
   "execution_count": 15,
   "metadata": {
    "ExecuteTime": {
     "end_time": "2018-05-06T12:13:17.876337Z",
     "start_time": "2018-05-06T12:12:41.583778Z"
    }
   },
   "outputs": [],
   "source": [
    "features.to_csv('feats70.csv', index_label=False)"
   ]
  },
  {
   "cell_type": "code",
   "execution_count": 20,
   "metadata": {
    "ExecuteTime": {
     "end_time": "2018-05-06T12:23:39.101588Z",
     "start_time": "2018-05-06T12:21:58.122398Z"
    }
   },
   "outputs": [
    {
     "name": "stdout",
     "output_type": "stream",
     "text": [
      "The wurlitzer extension is already loaded. To reload it, use:\n",
      "  %reload_ext wurlitzer\n"
     ]
    },
    {
     "name": "stderr",
     "output_type": "stream",
     "text": [
      "/home/magas/.pyenv/versions/3.6.0/envs/general/lib/python3.6/site-packages/lightgbm/engine.py:104: UserWarning: Found `early_stopping_round` in params. Will use it instead of argument\n",
      "  warnings.warn(\"Found `{}` in params. Will use it instead of argument\".format(alias))\n"
     ]
    },
    {
     "name": "stdout",
     "output_type": "stream",
     "text": [
      "[LightGBM] [Info] Number of positive: 117096, number of negative: 3472\n",
      "[LightGBM] [Info] Total Bins 29087\n",
      "[LightGBM] [Info] Number of data: 120568, number of used features: 125\n",
      "[LightGBM] [Info] using GOSS\n",
      "[1]\tvalid_0's auc: 0.573315\n",
      "Training until validation scores don't improve for 50 rounds.\n",
      "[2]\tvalid_0's auc: 0.579112\n",
      "[3]\tvalid_0's auc: 0.578547\n",
      "[4]\tvalid_0's auc: 0.576841\n",
      "[5]\tvalid_0's auc: 0.577787\n",
      "[6]\tvalid_0's auc: 0.577496\n",
      "[7]\tvalid_0's auc: 0.577868\n",
      "[8]\tvalid_0's auc: 0.579151\n",
      "[9]\tvalid_0's auc: 0.579724\n",
      "[10]\tvalid_0's auc: 0.579916\n",
      "[11]\tvalid_0's auc: 0.579983\n",
      "[12]\tvalid_0's auc: 0.580529\n",
      "[13]\tvalid_0's auc: 0.581122\n",
      "[14]\tvalid_0's auc: 0.580154\n",
      "[15]\tvalid_0's auc: 0.58055\n",
      "[16]\tvalid_0's auc: 0.581113\n",
      "[17]\tvalid_0's auc: 0.58188\n",
      "[18]\tvalid_0's auc: 0.583085\n",
      "[19]\tvalid_0's auc: 0.58237\n",
      "[20]\tvalid_0's auc: 0.581482\n",
      "[21]\tvalid_0's auc: 0.581949\n",
      "[22]\tvalid_0's auc: 0.582045\n",
      "[23]\tvalid_0's auc: 0.582044\n",
      "[24]\tvalid_0's auc: 0.58199\n",
      "[25]\tvalid_0's auc: 0.58193\n",
      "[26]\tvalid_0's auc: 0.582565\n",
      "[27]\tvalid_0's auc: 0.582841\n",
      "[28]\tvalid_0's auc: 0.581275\n",
      "[29]\tvalid_0's auc: 0.580006\n",
      "[30]\tvalid_0's auc: 0.580696\n",
      "[31]\tvalid_0's auc: 0.580015\n",
      "[32]\tvalid_0's auc: 0.58034\n",
      "[33]\tvalid_0's auc: 0.579381\n",
      "[34]\tvalid_0's auc: 0.577975\n",
      "[35]\tvalid_0's auc: 0.577619\n",
      "[36]\tvalid_0's auc: 0.578004\n",
      "[37]\tvalid_0's auc: 0.577238\n",
      "[38]\tvalid_0's auc: 0.577098\n",
      "[39]\tvalid_0's auc: 0.576708\n",
      "[40]\tvalid_0's auc: 0.577169\n",
      "[41]\tvalid_0's auc: 0.576302\n",
      "[42]\tvalid_0's auc: 0.57591\n",
      "[43]\tvalid_0's auc: 0.576076\n",
      "[44]\tvalid_0's auc: 0.576489\n",
      "[45]\tvalid_0's auc: 0.576677\n",
      "[46]\tvalid_0's auc: 0.576295\n",
      "[47]\tvalid_0's auc: 0.57474\n",
      "[48]\tvalid_0's auc: 0.574961\n",
      "[49]\tvalid_0's auc: 0.574598\n",
      "[50]\tvalid_0's auc: 0.574616\n",
      "[51]\tvalid_0's auc: 0.574262\n",
      "[52]\tvalid_0's auc: 0.574803\n",
      "[53]\tvalid_0's auc: 0.576173\n",
      "[54]\tvalid_0's auc: 0.576207\n",
      "[55]\tvalid_0's auc: 0.577125\n",
      "[56]\tvalid_0's auc: 0.577231\n",
      "[57]\tvalid_0's auc: 0.576964\n",
      "[58]\tvalid_0's auc: 0.577445\n",
      "[59]\tvalid_0's auc: 0.577742\n",
      "[60]\tvalid_0's auc: 0.575958\n",
      "[61]\tvalid_0's auc: 0.575991\n",
      "[62]\tvalid_0's auc: 0.575889\n",
      "[63]\tvalid_0's auc: 0.576569\n",
      "[64]\tvalid_0's auc: 0.576939\n",
      "[65]\tvalid_0's auc: 0.578758\n",
      "[66]\tvalid_0's auc: 0.579494\n",
      "[67]\tvalid_0's auc: 0.579634\n",
      "[68]\tvalid_0's auc: 0.578868\n",
      "Early stopping, best iteration is:\n",
      "[18]\tvalid_0's auc: 0.583085\n",
      "0.5830854461851206\n"
     ]
    },
    {
     "data": {
      "text/plain": [
       "<matplotlib.figure.Figure at 0x7f9221075748>"
      ]
     },
     "metadata": {},
     "output_type": "display_data"
    },
    {
     "data": {
      "image/png": "[encoded data removed]",
      "text/plain": [
       "<matplotlib.figure.Figure at 0x7f9221075fd0>"
      ]
     },
     "metadata": {},
     "output_type": "display_data"
    }
   ],
   "source": [
    "from sklearn.model_selection import train_test_split\n",
    "import numpy as np\n",
    "%load_ext wurlitzer\n",
    "# c++ output to jupyter\n",
    "# import telepyth  # push notif in telegram\n",
    "# %telepyth - t 1260389131217015787\n",
    "\n",
    "\n",
    "def lgbm(feats, concated):\n",
    "    \"\"\"\n",
    "fit lgbm with default params\n",
    "    :param feats: DataFrame to be splitted and fitted\n",
    "    :param concated: from this Dataframe target is taken\n",
    "    :return: model and plt for plt.show()\n",
    "    \"\"\"\n",
    "    x_train, x_test, y_train, y_test = train_test_split(\n",
    "        feats.drop('PropertyName', axis=1).values, concated['value'].values,\n",
    "        test_size=0.3)\n",
    "\n",
    "\n",
    "    import lightgbm as lgb\n",
    "    from sklearn.metrics import roc_auc_score\n",
    "    np.random.seed(42)\n",
    "    params = {\n",
    "    #     \"max_bin\": 1024,\n",
    "    #     \"learning_rate\": 0.01,\n",
    "        \"boosting_type\": \"goss\",\n",
    "        \"objective\": \"binary\",\n",
    "    #     'num_iterations':10000,\n",
    "        \"metric\": \"auc\",\n",
    "    #     \"num_leaves\": 10000,\n",
    "        \"verbose\": 1,\n",
    "    #     \"min_data\": 100,\n",
    "    #     \"boost_from_average\": True,\n",
    "        'early_stopping_round': 50\n",
    "    }\n",
    "\n",
    "    d_train = lgb.Dataset(x_train, y_train)\n",
    "    d_valid = lgb.Dataset(x_test, label=y_test)\n",
    "    model = lgb.train(params, d_train, valid_sets=d_valid)\n",
    "    # model.save_model('lgbm')\n",
    "    # model = lgb.Booster(model_file='lgbm')\n",
    "\n",
    "    y_pred = model.predict(x_test)\n",
    "    print(roc_auc_score(y_test, y_pred))\n",
    "    def plot_feat_import(features, model, y_test, y_pred):\n",
    "        from sklearn.metrics import roc_auc_score\n",
    "        df_fi = pd.DataFrame(features.columns[1:], columns=['feature'])\n",
    "        df_fi['importance'] = list(model.feature_importance('gain'))\n",
    "        df_fi.sort_values('importance', ascending=False, inplace=True)\n",
    "        # print(df_fi)\n",
    "        plt.figure()\n",
    "        df_fi.head(10).plot(kind='barh', x='feature', y='importance')\n",
    "        plt.title('Roc_auc is {}'.format(roc_auc_score(y_test, y_pred)))\n",
    "        plt.xlabel('relative importance')\n",
    "        return plt\n",
    "    plot = plot_feat_import(feats, model, y_test, y_pred)\n",
    "    return model, plot\n",
    "model, plot = lgbm(features, concated)"
   ]
  },
  {
   "cell_type": "code",
   "execution_count": null,
   "metadata": {
    "ExecuteTime": {
     "end_time": "2018-05-06T12:26:27.145510Z",
     "start_time": "2018-05-06T12:25:52.720884Z"
    }
   },
   "outputs": [],
   "source": [
    "features = pd.read_csv('../data/features_df.csv')\n",
    "\n",
    "x_train, x_test, y_train, y_test = train_test_split(\n",
    "        features.drop(['PropertyName', 'target'], axis=1).values, features['target'].values,\n",
    "        test_size=0.3)\n",
    "\n",
    "\n",
    "import lightgbm as lgb\n",
    "from sklearn.metrics import roc_auc_score\n",
    "np.random.seed(42)\n",
    "params = {\n",
    "#     \"max_bin\": 1024,\n",
    "#     \"learning_rate\": 0.01,\n",
    "    \"boosting_type\": \"goss\",\n",
    "    \"objective\": \"binary\",\n",
    "#     'num_iterations':10000,\n",
    "    \"metric\": \"auc\",\n",
    "#     \"num_leaves\": 10000,\n",
    "    \"verbose\": 1,\n",
    "#     \"min_data\": 100,\n",
    "#     \"boost_from_average\": True,\n",
    "    'early_stopping_round': 50\n",
    "}\n",
    "\n",
    "d_train = lgb.Dataset(x_train, y_train)\n",
    "d_valid = lgb.Dataset(x_test, label=y_test)\n",
    "model = lgb.train(params, d_train, valid_sets=d_valid)\n",
    "# model.save_model('lgbm')\n",
    "# model = lgb.Booster(model_file='lgbm')"
   ]
  },
  {
   "cell_type": "code",
   "execution_count": 55,
   "metadata": {
    "ExecuteTime": {
     "end_time": "2018-05-07T09:18:26.005780Z",
     "start_time": "2018-05-07T09:18:24.489220Z"
    }
   },
   "outputs": [
    {
     "name": "stdout",
     "output_type": "stream",
     "text": [
      "0.819758520877117\n"
     ]
    },
    {
     "data": {
      "text/plain": [
       "<matplotlib.figure.Figure at 0x7f9210933048>"
      ]
     },
     "metadata": {},
     "output_type": "display_data"
    },
    {
     "data": {
      "image/png": "[encoded data removed]",
      "text/plain": [
       "<matplotlib.figure.Figure at 0x7f9214a3fd68>"
      ]
     },
     "metadata": {},
     "output_type": "display_data"
    }
   ],
   "source": [
    "y_pred = model.predict(x_test)\n",
    "print(roc_auc_score(y_test, y_pred))\n",
    "# def plot_feat_import(features, model, y_test, y_pred):\n",
    "from sklearn.metrics import roc_auc_score\n",
    "df_fi = pd.DataFrame(features.drop('target', axis=1).columns[1:], columns=['feature'])\n",
    "df_fi['importance'] = list(model.feature_importance())\n",
    "df_fi.sort_values('importance', ascending=False, inplace=True)\n",
    "# print(df_fi)\n",
    "plt.figure()\n",
    "df_fi.head(10).plot(kind='barh', x='feature', y='importance')\n",
    "plt.title(\"LightGBM\")\n",
    "plt.xlabel('Вклад в модель')\n",
    "plt.ylabel('Физические свойства')\n",
    "plt.tight_layout()\n",
    "#     return plt\n",
    "# plot = plot_feat_import(features.drop('target', axis=1), model, y_test, y_pred)\n",
    "plt.savefig('../pictures/feat_importance_lgbm.png', dpi=300)\n",
    "plt.savefig('../epses/feat_importance_lgbm.eps', format='eps', dpi=1000)"
   ]
  },
  {
   "cell_type": "code",
   "execution_count": 41,
   "metadata": {
    "ExecuteTime": {
     "end_time": "2018-05-07T08:32:36.772003Z",
     "start_time": "2018-05-07T08:32:36.542477Z"
    }
   },
   "outputs": [
    {
     "ename": "ValueError",
     "evalue": "Classification metrics can't handle a mix of binary and continuous targets",
     "output_type": "error",
     "traceback": [
      "\u001b[0;31m---------------------------------------------------------------------------\u001b[0m",
      "\u001b[0;31mValueError\u001b[0m                                Traceback (most recent call last)",
      "\u001b[0;32m<ipython-input-41-0b01f6afb7b2>\u001b[0m in \u001b[0;36m<module>\u001b[0;34m()\u001b[0m\n\u001b[1;32m      1\u001b[0m \u001b[0;32mfrom\u001b[0m \u001b[0msklearn\u001b[0m\u001b[0;34m.\u001b[0m\u001b[0mmetrics\u001b[0m \u001b[0;32mimport\u001b[0m \u001b[0mconfusion_matrix\u001b[0m\u001b[0;34m\u001b[0m\u001b[0m\n\u001b[0;32m----> 2\u001b[0;31m \u001b[0mconfusion_matrix\u001b[0m\u001b[0;34m(\u001b[0m\u001b[0my_test\u001b[0m\u001b[0;34m,\u001b[0m \u001b[0my_pred\u001b[0m\u001b[0;34m)\u001b[0m\u001b[0;34m\u001b[0m\u001b[0m\n\u001b[0m",
      "\u001b[0;32m~/.pyenv/versions/3.6.0/envs/general/lib/python3.6/site-packages/sklearn/metrics/classification.py\u001b[0m in \u001b[0;36mconfusion_matrix\u001b[0;34m(y_true, y_pred, labels, sample_weight)\u001b[0m\n\u001b[1;32m    248\u001b[0m \u001b[0;34m\u001b[0m\u001b[0m\n\u001b[1;32m    249\u001b[0m     \"\"\"\n\u001b[0;32m--> 250\u001b[0;31m     \u001b[0my_type\u001b[0m\u001b[0;34m,\u001b[0m \u001b[0my_true\u001b[0m\u001b[0;34m,\u001b[0m \u001b[0my_pred\u001b[0m \u001b[0;34m=\u001b[0m \u001b[0m_check_targets\u001b[0m\u001b[0;34m(\u001b[0m\u001b[0my_true\u001b[0m\u001b[0;34m,\u001b[0m \u001b[0my_pred\u001b[0m\u001b[0;34m)\u001b[0m\u001b[0;34m\u001b[0m\u001b[0m\n\u001b[0m\u001b[1;32m    251\u001b[0m     \u001b[0;32mif\u001b[0m \u001b[0my_type\u001b[0m \u001b[0;32mnot\u001b[0m \u001b[0;32min\u001b[0m \u001b[0;34m(\u001b[0m\u001b[0;34m\"binary\"\u001b[0m\u001b[0;34m,\u001b[0m \u001b[0;34m\"multiclass\"\u001b[0m\u001b[0;34m)\u001b[0m\u001b[0;34m:\u001b[0m\u001b[0;34m\u001b[0m\u001b[0m\n\u001b[1;32m    252\u001b[0m         \u001b[0;32mraise\u001b[0m \u001b[0mValueError\u001b[0m\u001b[0;34m(\u001b[0m\u001b[0;34m\"%s is not supported\"\u001b[0m \u001b[0;34m%\u001b[0m \u001b[0my_type\u001b[0m\u001b[0;34m)\u001b[0m\u001b[0;34m\u001b[0m\u001b[0m\n",
      "\u001b[0;32m~/.pyenv/versions/3.6.0/envs/general/lib/python3.6/site-packages/sklearn/metrics/classification.py\u001b[0m in \u001b[0;36m_check_targets\u001b[0;34m(y_true, y_pred)\u001b[0m\n\u001b[1;32m     79\u001b[0m     \u001b[0;32mif\u001b[0m \u001b[0mlen\u001b[0m\u001b[0;34m(\u001b[0m\u001b[0my_type\u001b[0m\u001b[0;34m)\u001b[0m \u001b[0;34m>\u001b[0m \u001b[0;36m1\u001b[0m\u001b[0;34m:\u001b[0m\u001b[0;34m\u001b[0m\u001b[0m\n\u001b[1;32m     80\u001b[0m         raise ValueError(\"Classification metrics can't handle a mix of {0} \"\n\u001b[0;32m---> 81\u001b[0;31m                          \"and {1} targets\".format(type_true, type_pred))\n\u001b[0m\u001b[1;32m     82\u001b[0m \u001b[0;34m\u001b[0m\u001b[0m\n\u001b[1;32m     83\u001b[0m     \u001b[0;31m# We can't have more than one value on y_type => The set is no more needed\u001b[0m\u001b[0;34m\u001b[0m\u001b[0;34m\u001b[0m\u001b[0m\n",
      "\u001b[0;31mValueError\u001b[0m: Classification metrics can't handle a mix of binary and continuous targets"
     ]
    }
   ],
   "source": [
    "from sklearn.metrics import confusion_matrix\n",
    "confusion_matrix(y_test, y_pred)"
   ]
  },
  {
   "cell_type": "code",
   "execution_count": 52,
   "metadata": {
    "ExecuteTime": {
     "end_time": "2018-05-07T09:12:55.760289Z",
     "start_time": "2018-05-07T09:12:52.850744Z"
    }
   },
   "outputs": [
    {
     "name": "stderr",
     "output_type": "stream",
     "text": [
      "/home/magas/.pyenv/versions/3.6.0/envs/general/lib/python3.6/site-packages/sklearn/linear_model/logistic.py:1228: UserWarning: 'n_jobs' > 1 does not have any effect when 'solver' is set to 'liblinear'. Got 'n_jobs' = -1.\n",
      "  \" = {}.\".format(self.n_jobs))\n"
     ]
    },
    {
     "name": "stdout",
     "output_type": "stream",
     "text": [
      "0.7783819486247963\n"
     ]
    }
   ],
   "source": [
    "from sklearn.linear_model import LogisticRegression\n",
    "lr = LogisticRegression(n_jobs=-1)\n",
    "lr.fit(x_train, y_train)\n",
    "y_pred_lr = lr.predict_proba(x_test)\n",
    "\n",
    "print(roc_auc_score(y_test, y_pred_lr[:, 1]))\n"
   ]
  },
  {
   "cell_type": "code",
   "execution_count": 44,
   "metadata": {
    "ExecuteTime": {
     "end_time": "2018-05-07T08:33:37.620243Z",
     "start_time": "2018-05-07T08:33:37.210767Z"
    }
   },
   "outputs": [
    {
     "data": {
      "text/plain": [
       "array([[4460,   76],\n",
       "       [ 691,  311]])"
      ]
     },
     "execution_count": 44,
     "metadata": {},
     "output_type": "execute_result"
    }
   ],
   "source": [
    "confusion_matrix(y_test, y_pred_lr)"
   ]
  }
 ],
 "metadata": {
  "kernelspec": {
   "display_name": "Python 3",
   "language": "python",
   "name": "python3"
  },
  "language_info": {
   "codemirror_mode": {
    "name": "ipython",
    "version": 3
   },
   "file_extension": ".py",
   "mimetype": "text/x-python",
   "name": "python",
   "nbconvert_exporter": "python",
   "pygments_lexer": "ipython3",
   "version": "3.6.0"
  }
 },
 "nbformat": 4,
 "nbformat_minor": 2
}
