{
 "cells": [
  {
   "cell_type": "markdown",
   "metadata": {},
   "source": [
    "## #TODO:\n",
    "* Plans for tonight's computation\n",
    "* All chromosomes, dump in pkl\n",
    "* Concat pandas dfs"
   ]
  },
  {
   "cell_type": "markdown",
   "metadata": {},
   "source": [
    "positioning.sample1m.txt.gz\n",
    "\n",
    "The file positioning.sample1m.txt.gz contains nucleosome positioning \n",
    "scores calculated for a random sample of 1 million 200bp regions that\n",
    "contain at least 50 midpoints.\n",
    "\n",
    "These were used to generate figure 2A in our paper.\n",
    "\n",
    "The columns are as follows:\n",
    "\n",
    "CHR - chromosome\n",
    "START - start of 200bp window (inclusive numbering with first chromosome base numbered 1)\n",
    "END - end of 200bp window\n",
    "PEAK - max score position in window\n",
    "PEAK.NODUP - peak score position after filtering duplicate read pairs\n",
    "PEAK.SIM - peak score position from simulated read pairs\n",
    "PEAK.SE - peak score position using only single-end read data\n",
    "N.MIDS - number of midpoints in window\n",
    "N.NODUP.MIDS - number of non-duplicate midpoints in window \n",
    "N.SIM.MIDS - number of simulated midpoints in window\n",
    "N.SE.MIDS - number of single-end midpoints in window\n",
    "SCORE - max score of window\n",
    "NODUP.SCORE - max non-duplicate score of window\n",
    "SIM.SCORE - max simulated score of window\n",
    "SE.SCORE - max single-end score of window\n",
    "STRINGENCY - Valouev et al. 2011 stringency of window\n",
    "SIM.STRINGENCY - Valouev et al. 2011 stringency for simulated read pairs\n",
    "\n",
    "\n",
    "-----------------------------------------------\n",
    "\n",
    "peaks.min_peak_score_0.6.thresh_0.5.txt\n",
    "\n",
    "\n",
    "The file peaks.min_peak_score_0.6.thresh_0.5.txt contains the locations\n",
    "of well-positioned nucleosomes. This file contains \n",
    "regions that exceed a score threshold of 0.5, and that \n",
    "contain a 'peak' region of at least 0.6. The file contains\n",
    "the following columns:\n",
    "\n",
    "Chromosome\n",
    "Start position of region with score > 0.5 (inclusive, first base is 1)\n",
    "End position of region with score > 0.5\n",
    "Peak position (position with max positioning score, position closest to\n",
    "               midpoint of region breaks ties)\n",
    "Score at peak position\n",
    "\n",
    "\n"
   ]
  },
  {
   "cell_type": "code",
   "execution_count": 4,
   "metadata": {},
   "outputs": [
    {
     "data": {
      "text/html": [
       "<div>\n",
       "<style scoped>\n",
       "    .dataframe tbody tr th:only-of-type {\n",
       "        vertical-align: middle;\n",
       "    }\n",
       "\n",
       "    .dataframe tbody tr th {\n",
       "        vertical-align: top;\n",
       "    }\n",
       "\n",
       "    .dataframe thead th {\n",
       "        text-align: right;\n",
       "    }\n",
       "</style>\n",
       "<table border=\"1\" class=\"dataframe\">\n",
       "  <thead>\n",
       "    <tr style=\"text-align: right;\">\n",
       "      <th></th>\n",
       "      <th>chrom</th>\n",
       "      <th>start</th>\n",
       "      <th>end</th>\n",
       "      <th>peak_pos</th>\n",
       "      <th>score</th>\n",
       "    </tr>\n",
       "  </thead>\n",
       "  <tbody>\n",
       "    <tr>\n",
       "      <th>1037762</th>\n",
       "      <td>chr22</td>\n",
       "      <td>51240000</td>\n",
       "      <td>51240029</td>\n",
       "      <td>51240015</td>\n",
       "      <td>0.88</td>\n",
       "    </tr>\n",
       "    <tr>\n",
       "      <th>1037763</th>\n",
       "      <td>chr22</td>\n",
       "      <td>51240123</td>\n",
       "      <td>51240147</td>\n",
       "      <td>51240135</td>\n",
       "      <td>0.81</td>\n",
       "    </tr>\n",
       "    <tr>\n",
       "      <th>1037764</th>\n",
       "      <td>chr22</td>\n",
       "      <td>51240936</td>\n",
       "      <td>51240962</td>\n",
       "      <td>51240949</td>\n",
       "      <td>0.81</td>\n",
       "    </tr>\n",
       "    <tr>\n",
       "      <th>1037765</th>\n",
       "      <td>chr22</td>\n",
       "      <td>51242531</td>\n",
       "      <td>51242561</td>\n",
       "      <td>51242546</td>\n",
       "      <td>0.76</td>\n",
       "    </tr>\n",
       "    <tr>\n",
       "      <th>1037766</th>\n",
       "      <td>chr22</td>\n",
       "      <td>51243098</td>\n",
       "      <td>51243127</td>\n",
       "      <td>51243116</td>\n",
       "      <td>0.83</td>\n",
       "    </tr>\n",
       "  </tbody>\n",
       "</table>\n",
       "</div>"
      ],
      "text/plain": [
       "         chrom     start       end  peak_pos  score\n",
       "1037762  chr22  51240000  51240029  51240015   0.88\n",
       "1037763  chr22  51240123  51240147  51240135   0.81\n",
       "1037764  chr22  51240936  51240962  51240949   0.81\n",
       "1037765  chr22  51242531  51242561  51242546   0.76\n",
       "1037766  chr22  51243098  51243127  51243116   0.83"
      ]
     },
     "execution_count": 4,
     "metadata": {},
     "output_type": "execute_result"
    }
   ],
   "source": [
    "%matplotlib inline\n",
    "import matplotlib.pyplot as plt\n",
    "import seaborn as sns\n",
    "import numpy as np\n",
    "import os\n",
    "import pandas as pd\n",
    "from tqdm import tqdm_notebook as tqdm\n",
    "\n",
    "uplifted = pd.read_csv('peaks.min_peak_score_0.6.thresh_0.5.csv')\n",
    "uplifted.drop('Unnamed: 0', inplace=True, axis=1)\n",
    "uplifted.tail()"
   ]
  },
  {
   "cell_type": "code",
   "execution_count": 3,
   "metadata": {},
   "outputs": [
    {
     "ename": "FileNotFoundError",
     "evalue": "[Errno 2] No such file or directory: 'peaks.min_peak_score_0.6.thresh_0.5.txt'",
     "output_type": "error",
     "traceback": [
      "\u001b[0;31m---------------------------------------------------------------------------\u001b[0m",
      "\u001b[0;31mFileNotFoundError\u001b[0m                         Traceback (most recent call last)",
      "\u001b[0;32m<ipython-input-3-e2c2775ce951>\u001b[0m in \u001b[0;36m<module>\u001b[0;34m()\u001b[0m\n\u001b[1;32m      1\u001b[0m \u001b[0;31m# Preparing data from web\u001b[0m\u001b[0;34m\u001b[0m\u001b[0;34m\u001b[0m\u001b[0m\n\u001b[1;32m      2\u001b[0m \u001b[0;34m\u001b[0m\u001b[0m\n\u001b[0;32m----> 3\u001b[0;31m \u001b[0;32mwith\u001b[0m \u001b[0mopen\u001b[0m\u001b[0;34m(\u001b[0m\u001b[0;34m'peaks.min_peak_score_0.6.thresh_0.5.txt'\u001b[0m \u001b[0;34m,\u001b[0m \u001b[0;34m'r'\u001b[0m\u001b[0;34m)\u001b[0m \u001b[0;32mas\u001b[0m \u001b[0mf\u001b[0m\u001b[0;34m:\u001b[0m\u001b[0;34m\u001b[0m\u001b[0m\n\u001b[0m\u001b[1;32m      4\u001b[0m \u001b[0;31m#     next(f)\u001b[0m\u001b[0;34m\u001b[0m\u001b[0;34m\u001b[0m\u001b[0m\n\u001b[1;32m      5\u001b[0m     \u001b[0mpeaks\u001b[0m \u001b[0;34m=\u001b[0m \u001b[0mf\u001b[0m\u001b[0;34m.\u001b[0m\u001b[0mread\u001b[0m\u001b[0;34m(\u001b[0m\u001b[0;34m)\u001b[0m\u001b[0;34m\u001b[0m\u001b[0m\n",
      "\u001b[0;31mFileNotFoundError\u001b[0m: [Errno 2] No such file or directory: 'peaks.min_peak_score_0.6.thresh_0.5.txt'"
     ]
    }
   ],
   "source": [
    "# Preparing data from web\n",
    "\n",
    "with open('peaks.min_peak_score_0.6.thresh_0.5.txt' , 'r') as f:\n",
    "#     next(f)\n",
    "    peaks = f.read()\n",
    "# [4:] is because of the annotation lines\n",
    "df_peaks = pd.DataFrame([sub.split(\"\\t\") for sub in peaks.split('\\n')][4:], columns=['chrom', 'start', 'end', 'peak_pos', 'score'])\n",
    "df_peaks.drop(df_peaks.tail(1).index, inplace=True)\n",
    "df_peaks.head()\n",
    "\n",
    "# https://pypi.python.org/pypi/pyliftover\n",
    "from pyliftover import LiftOver\n",
    "lo = LiftOver('hg18', 'hg19')\n",
    "lo.convert_coordinate('chr1', 1000000)  # testing \n",
    "\n",
    "row_to_delete = []\n",
    "def liftover(row):\n",
    "    value = lo.convert_coordinate(row['chrom'], int(row['start']))\n",
    "    if value == []:\n",
    "        row_to_delete.append(row)\n",
    "    else:\n",
    "        row['start'] = int(value[0][1])\n",
    "    \n",
    "    value = lo.convert_coordinate(row['chrom'], int(row['end']))\n",
    "    if value == []:\n",
    "        row_to_delete.append(row)\n",
    "    else:\n",
    "        row['end'] = int(value[0][1])\n",
    "    \n",
    "    value = lo.convert_coordinate(row['chrom'], int(row['peak_pos']))\n",
    "    if value == []:\n",
    "        row_to_delete.append(row)\n",
    "    else:\n",
    "        row['peak_pos'] = int(value[0][1])\n",
    "    \n",
    "    return row\n",
    "\n",
    "uplifted = df_peaks.apply(liftover, axis=1)\n",
    "#df_peaks.iloc[0,0]\n",
    "\n",
    "# Deleting rows that can't be uplifted\n",
    "ind_row_to_delete = [x.name for x in row_to_delete]\n",
    "ind_row_to_delete = list(set(ind_row_to_delete))\n",
    "len(ind_row_to_delete)\n",
    "uplifted.drop(ind_row_to_delete, inplace=True)\n",
    "# uplifted.to_csv('peaks.min_peak_score_0.6.thresh_0.5.csv')\n",
    "uplifted.head()"
   ]
  },
  {
   "cell_type": "code",
   "execution_count": null,
   "metadata": {},
   "outputs": [],
   "source": [
    "\n",
    "base_path = \"/home/shared/STEMLOOPS/hg19/S15-30_L0-10_M5\"\n",
    "filename = \"chr1.fna.S15-30_L0-10_M5.pal\"\n",
    "path_to_file = os.path.join(base_path, filename)\n",
    "with open(path_to_file , 'r') as f:\n",
    "#     next(f)  # if there is description line\n",
    "    splitted = f.read().split('\\n')  # raw file separated by \\n's\n",
    "\n",
    "from tqdm import tqdm_notebook as tqdm\n",
    "cols = ['start', 'end', 'len_stem', 'len_loop']#, 'seq_left', 'seq_right', 'full_seq', '1', '2', '3']\n",
    "df = pd.DataFrame([sub.split(\"\\t\")[:4] for sub in tqdm(splitted[:1000000])], columns=cols)  # TODO: full file (30 times bigger)\n",
    "df = df.apply(pd.to_numeric)\n",
    "df.head()"
   ]
  },
  {
   "cell_type": "code",
   "execution_count": null,
   "metadata": {},
   "outputs": [],
   "source": [
    "cumsum_arr = np.zeros((1000))\n",
    "\n",
    "for peak_pos in tqdm(pd.to_numeric(uplifted.peak_pos)):\n",
    "    temp_df = df[(df['start']> peak_pos-500) & (df['end']< peak_pos+500)]\n",
    "    for ind, row in temp_df.iterrows():\n",
    "        for i in range(int(row['start']) - peak_pos + 500, int(row['end']) - peak_pos + 500):\n",
    "            cumsum_arr[i] +=1\n",
    "# cumsum_arr\n",
    "\n",
    "x = np.arange(-500, 500)\n",
    "plt.plot(x, cumsum_arr)\n",
    "plt.ylabel('Number of sec. structures')\n",
    "plt.xlabel('Centered position')\n",
    "plt.savefig('Chr1_S15-30_centered_plot.png')"
   ]
  },
  {
   "cell_type": "markdown",
   "metadata": {},
   "source": [
    "### Because S15-30 gave irrelevant result, we'll test S16-30"
   ]
  },
  {
   "cell_type": "code",
   "execution_count": 5,
   "metadata": {},
   "outputs": [
    {
     "data": {
      "application/vnd.jupyter.widget-view+json": {
       "model_id": "1e7a56653b5f4326bc59bbf5f88f9827",
       "version_major": 2,
       "version_minor": 0
      },
      "text/html": [
       "<p>Failed to display Jupyter Widget of type <code>HBox</code>.</p>\n",
       "<p>\n",
       "  If you're reading this message in the Jupyter Notebook or JupyterLab Notebook, it may mean\n",
       "  that the widgets JavaScript is still loading. If this message persists, it\n",
       "  likely means that the widgets JavaScript library is either not installed or\n",
       "  not enabled. See the <a href=\"https://ipywidgets.readthedocs.io/en/stable/user_install.html\">Jupyter\n",
       "  Widgets Documentation</a> for setup instructions.\n",
       "</p>\n",
       "<p>\n",
       "  If you're reading this message in another frontend (for example, a static\n",
       "  rendering on GitHub or <a href=\"https://nbviewer.jupyter.org/\">NBViewer</a>),\n",
       "  it may mean that your frontend doesn't currently support widgets.\n",
       "</p>\n"
      ],
      "text/plain": [
       "HBox(children=(IntProgress(value=0, max=100048), HTML(value='')))"
      ]
     },
     "metadata": {},
     "output_type": "display_data"
    },
    {
     "name": "stdout",
     "output_type": "stream",
     "text": [
      "\n"
     ]
    },
    {
     "data": {
      "text/html": [
       "<div>\n",
       "<style scoped>\n",
       "    .dataframe tbody tr th:only-of-type {\n",
       "        vertical-align: middle;\n",
       "    }\n",
       "\n",
       "    .dataframe tbody tr th {\n",
       "        vertical-align: top;\n",
       "    }\n",
       "\n",
       "    .dataframe thead th {\n",
       "        text-align: right;\n",
       "    }\n",
       "</style>\n",
       "<table border=\"1\" class=\"dataframe\">\n",
       "  <thead>\n",
       "    <tr style=\"text-align: right;\">\n",
       "      <th></th>\n",
       "      <th>start</th>\n",
       "      <th>end</th>\n",
       "      <th>len_stem</th>\n",
       "      <th>len_loop</th>\n",
       "      <th>center</th>\n",
       "    </tr>\n",
       "  </thead>\n",
       "  <tbody>\n",
       "    <tr>\n",
       "      <th>100042</th>\n",
       "      <td>249239154.0</td>\n",
       "      <td>249239198.0</td>\n",
       "      <td>18.0</td>\n",
       "      <td>10.0</td>\n",
       "      <td>249239176</td>\n",
       "    </tr>\n",
       "    <tr>\n",
       "      <th>100043</th>\n",
       "      <td>249239158.0</td>\n",
       "      <td>249239199.0</td>\n",
       "      <td>17.0</td>\n",
       "      <td>10.0</td>\n",
       "      <td>249239178</td>\n",
       "    </tr>\n",
       "    <tr>\n",
       "      <th>100044</th>\n",
       "      <td>249239183.0</td>\n",
       "      <td>249239227.0</td>\n",
       "      <td>18.0</td>\n",
       "      <td>10.0</td>\n",
       "      <td>249239205</td>\n",
       "    </tr>\n",
       "    <tr>\n",
       "      <th>100045</th>\n",
       "      <td>249239187.0</td>\n",
       "      <td>249239228.0</td>\n",
       "      <td>17.0</td>\n",
       "      <td>10.0</td>\n",
       "      <td>249239207</td>\n",
       "    </tr>\n",
       "    <tr>\n",
       "      <th>100046</th>\n",
       "      <td>249239305.0</td>\n",
       "      <td>249239345.0</td>\n",
       "      <td>16.0</td>\n",
       "      <td>9.0</td>\n",
       "      <td>249239325</td>\n",
       "    </tr>\n",
       "  </tbody>\n",
       "</table>\n",
       "</div>"
      ],
      "text/plain": [
       "              start          end  len_stem  len_loop     center\n",
       "100042  249239154.0  249239198.0      18.0      10.0  249239176\n",
       "100043  249239158.0  249239199.0      17.0      10.0  249239178\n",
       "100044  249239183.0  249239227.0      18.0      10.0  249239205\n",
       "100045  249239187.0  249239228.0      17.0      10.0  249239207\n",
       "100046  249239305.0  249239345.0      16.0       9.0  249239325"
      ]
     },
     "execution_count": 5,
     "metadata": {},
     "output_type": "execute_result"
    }
   ],
   "source": [
    "base_path = \"/home/shared/STEMLOOPS/hg19/S16-50_L0-10_M3\"\n",
    "filename = \"chr1.fa.S16-50_L0-10_M3.pal.cleaned\"\n",
    "path_to_file = os.path.join(base_path, filename)\n",
    "with open(path_to_file , 'r') as f:\n",
    "#     next(f)  # if there is description line\n",
    "    splitted = f.read().split('\\n')  # raw file separated by \\n's\n",
    "\n",
    "cols = ['start', 'end', 'len_stem', 'len_loop']#, 'seq_left', 'seq_right', 'full_seq', '1', '2', '3']\n",
    "df = pd.DataFrame([sub.split(\"\\t\")[:4] for sub in tqdm(splitted)], columns=cols)  # TODO: full file (30 times bigger)\n",
    "df = df.apply(pd.to_numeric)\n",
    "df.drop(df.tail(1).index, inplace=True)\n",
    "df['center'] = df[['start', 'end']].mean(axis=1).astype('int')\n",
    "df.tail()"
   ]
  },
  {
   "cell_type": "code",
   "execution_count": null,
   "metadata": {},
   "outputs": [],
   "source": [
    "cumsum_arr = np.zeros((1000))\n",
    "\n",
    "for peak_pos in tqdm(pd.to_numeric(uplifted.peak_pos)):\n",
    "    temp_df = df[(df['start']> peak_pos-500) & (df['end']< peak_pos+500)]\n",
    "    for ind, row in temp_df.iterrows():\n",
    "        for i in range(int(row['start']) - peak_pos + 500, int(row['end']) - peak_pos + 500):\n",
    "            cumsum_arr[i] +=1\n",
    "# cumsum_arr\n",
    "\n",
    "x = np.arange(-500, 500)\n",
    "plt.plot(x, cumsum_arr)\n",
    "plt.ylabel('Number of sec. structures')\n",
    "plt.xlabel('Centered position')\n",
    "plt.savefig('pictures/Chr1_S16-50_centered_plot.png')"
   ]
  },
  {
   "cell_type": "code",
   "execution_count": 6,
   "metadata": {},
   "outputs": [
    {
     "data": {
      "application/vnd.jupyter.widget-view+json": {
       "model_id": "3ec729ec4a574d9b9da1732f64996b63",
       "version_major": 2,
       "version_minor": 0
      },
      "text/html": [
       "<p>Failed to display Jupyter Widget of type <code>HBox</code>.</p>\n",
       "<p>\n",
       "  If you're reading this message in the Jupyter Notebook or JupyterLab Notebook, it may mean\n",
       "  that the widgets JavaScript is still loading. If this message persists, it\n",
       "  likely means that the widgets JavaScript library is either not installed or\n",
       "  not enabled. See the <a href=\"https://ipywidgets.readthedocs.io/en/stable/user_install.html\">Jupyter\n",
       "  Widgets Documentation</a> for setup instructions.\n",
       "</p>\n",
       "<p>\n",
       "  If you're reading this message in another frontend (for example, a static\n",
       "  rendering on GitHub or <a href=\"https://nbviewer.jupyter.org/\">NBViewer</a>),\n",
       "  it may mean that your frontend doesn't currently support widgets.\n",
       "</p>\n"
      ],
      "text/plain": [
       "HBox(children=(IntProgress(value=0, max=100047), HTML(value='')))"
      ]
     },
     "metadata": {},
     "output_type": "display_data"
    },
    {
     "name": "stdout",
     "output_type": "stream",
     "text": [
      "\n"
     ]
    },
    {
     "data": {
      "image/png": "[encoded data removed]",
      "text/plain": [
       "<matplotlib.figure.Figure at 0x7f47896a2550>"
      ]
     },
     "metadata": {},
     "output_type": "display_data"
    }
   ],
   "source": [
    "# Let's reverse and center sec.structures and count nucleosomes around\n",
    "uplifted = uplifted[uplifted['chrom'] == 'chr1']\n",
    "uplifted.drop('chrom', axis=1, inplace=True)\n",
    "uplifted = uplifted.apply(pd.to_numeric)\n",
    "uplifted.tail()\n",
    "\n",
    "cumsum_arr = np.zeros((1000))\n",
    "\n",
    "for peak_pos in tqdm(df.center):\n",
    "    temp_df = uplifted[(uplifted['start']> peak_pos-500) & (uplifted['end']< peak_pos+500)]\n",
    "    for ind, row in temp_df.iterrows():\n",
    "        for i in range(int(row['start']) - peak_pos + 500, int(row['end']) - peak_pos + 500):\n",
    "            cumsum_arr[i] +=1\n",
    "# cumsum_arr\n",
    "\n",
    "x = np.arange(-500, 500)\n",
    "plt.plot(x, cumsum_arr)\n",
    "plt.ylabel('Number of nucleosomes')\n",
    "plt.xlabel('Structure(S16-50)-centered_nucleosome_positions')\n",
    "plt.savefig('pictures/structure(S16-50)-centered_plot_Chr1_nucleosome_positions.png')"
   ]
  },
  {
   "cell_type": "markdown",
   "metadata": {},
   "source": [
    "### It's better. Let's check quadruplexes:"
   ]
  },
  {
   "cell_type": "code",
   "execution_count": null,
   "metadata": {},
   "outputs": [],
   "source": [
    "base_path = \"/home/konovalovdmitry/results\"\n",
    "filename = \"chr1.out\"\n",
    "path_to_file = os.path.join(base_path, filename)\n",
    "df = pd.read_csv(path_to_file, sep=' ', header=None)#, usecols=['chr', 'start', 'end', 'seq'])\n",
    "cols = ['chr', 'start', 'end', 'seq']\n",
    "df.columns = cols\n",
    "df.drop(['seq', 'chr'], axis=1, inplace=True)\n",
    "df = df.apply(pd.to_numeric)\n",
    "df.tail()"
   ]
  },
  {
   "cell_type": "code",
   "execution_count": null,
   "metadata": {},
   "outputs": [],
   "source": [
    "cumsum_arr = np.zeros((1000))\n",
    "\n",
    "for peak_pos in tqdm(pd.to_numeric(uplifted.peak_pos)):\n",
    "    temp_df = df[(df['start']> peak_pos-500) & (df['end']< peak_pos+500)]\n",
    "    for ind, row in temp_df.iterrows():\n",
    "        for i in range(int(row['start']) - peak_pos + 500, int(row['end']) - peak_pos + 500):\n",
    "            cumsum_arr[i] +=1\n",
    "# cumsum_arr\n",
    "\n",
    "x = np.arange(-500, 500)\n",
    "plt.plot(x, cumsum_arr)\n",
    "plt.ylabel('Number of sec. structures')\n",
    "plt.xlabel('Centered position')\n",
    "plt.savefig('Chr1_quadruplexes_centered_plot.png')"
   ]
  },
  {
   "cell_type": "markdown",
   "metadata": {},
   "source": [
    "### Hmm"
   ]
  }
 ],
 "metadata": {
  "kernelspec": {
   "display_name": "Python 3",
   "language": "python",
   "name": "python3"
  },
  "language_info": {
   "codemirror_mode": {
    "name": "ipython",
    "version": 3
   },
   "file_extension": ".py",
   "mimetype": "text/x-python",
   "name": "python",
   "nbconvert_exporter": "python",
   "pygments_lexer": "ipython3",
   "version": "3.6.0"
  }
 },
 "nbformat": 4,
 "nbformat_minor": 2
}
