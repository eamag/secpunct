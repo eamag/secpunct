{
 "cells": [
  {
   "cell_type": "markdown",
   "metadata": {},
   "source": [
    "## #TODO:\n",
    "* Plans for tonight's computation\n",
    "* All chromosomes, dump in pkl\n",
    "* Concat pandas dfs"
   ]
  },
  {
   "cell_type": "markdown",
   "metadata": {},
   "source": [
    "positioning.sample1m.txt.gz\n",
    "\n",
    "The file positioning.sample1m.txt.gz contains nucleosome positioning \n",
    "scores calculated for a random sample of 1 million 200bp regions that\n",
    "contain at least 50 midpoints.\n",
    "\n",
    "These were used to generate figure 2A in our paper.\n",
    "\n",
    "The columns are as follows:\n",
    "\n",
    "CHR - chromosome\n",
    "START - start of 200bp window (inclusive numbering with first chromosome base numbered 1)\n",
    "END - end of 200bp window\n",
    "PEAK - max score position in window\n",
    "PEAK.NODUP - peak score position after filtering duplicate read pairs\n",
    "PEAK.SIM - peak score position from simulated read pairs\n",
    "PEAK.SE - peak score position using only single-end read data\n",
    "N.MIDS - number of midpoints in window\n",
    "N.NODUP.MIDS - number of non-duplicate midpoints in window \n",
    "N.SIM.MIDS - number of simulated midpoints in window\n",
    "N.SE.MIDS - number of single-end midpoints in window\n",
    "SCORE - max score of window\n",
    "NODUP.SCORE - max non-duplicate score of window\n",
    "SIM.SCORE - max simulated score of window\n",
    "SE.SCORE - max single-end score of window\n",
    "STRINGENCY - Valouev et al. 2011 stringency of window\n",
    "SIM.STRINGENCY - Valouev et al. 2011 stringency for simulated read pairs\n",
    "\n",
    "\n",
    "-----------------------------------------------\n",
    "\n",
    "peaks.min_peak_score_0.6.thresh_0.5.txt\n",
    "\n",
    "\n",
    "The file peaks.min_peak_score_0.6.thresh_0.5.txt contains the locations\n",
    "of well-positioned nucleosomes. This file contains \n",
    "regions that exceed a score threshold of 0.5, and that \n",
    "contain a 'peak' region of at least 0.6. The file contains\n",
    "the following columns:\n",
    "\n",
    "Chromosome\n",
    "Start position of region with score > 0.5 (inclusive, first base is 1)\n",
    "End position of region with score > 0.5\n",
    "Peak position (position with max positioning score, position closest to\n",
    "               midpoint of region breaks ties)\n",
    "Score at peak position\n",
    "\n",
    "\n"
   ]
  },
  {
   "cell_type": "code",
   "execution_count": null,
   "metadata": {},
   "outputs": [],
   "source": [
    "%matplotlib inline\n",
    "import matplotlib.pyplot as plt\n",
    "import seaborn as sns\n",
    "import numpy as np\n",
    "import os\n",
    "import pandas as pd\n",
    "from tqdm import tqdm_notebook as tqdm\n",
    "\n",
    "# Preparing data from web\n",
    "\n",
    "with open('peaks.min_peak_score_0.6.thresh_0.5.txt' , 'r') as f:\n",
    "#     next(f)\n",
    "    peaks = f.read()\n",
    "# [4:] is because of the annotation lines\n",
    "df_peaks = pd.DataFrame([sub.split(\"\\t\") for sub in peaks.split('\\n')][4:], columns=['chrom', 'start', 'end', 'peak_pos', 'score'])\n",
    "df_peaks.drop(df_peaks.tail(1).index, inplace=True)\n",
    "df_peaks.head()\n",
    "\n",
    "# https://pypi.python.org/pypi/pyliftover\n",
    "from pyliftover import LiftOver\n",
    "lo = LiftOver('hg18', 'hg19')\n",
    "lo.convert_coordinate('chr1', 1000000)  # testing \n",
    "\n",
    "row_to_delete = []\n",
    "def liftover(row):\n",
    "    value = lo.convert_coordinate(row['chrom'], int(row['start']))\n",
    "    if value == []:\n",
    "        row_to_delete.append(row)\n",
    "    else:\n",
    "        row['start'] = int(value[0][1])\n",
    "    \n",
    "    value = lo.convert_coordinate(row['chrom'], int(row['end']))\n",
    "    if value == []:\n",
    "        row_to_delete.append(row)\n",
    "    else:\n",
    "        row['end'] = int(value[0][1])\n",
    "    \n",
    "    value = lo.convert_coordinate(row['chrom'], int(row['peak_pos']))\n",
    "    if value == []:\n",
    "        row_to_delete.append(row)\n",
    "    else:\n",
    "        row['peak_pos'] = int(value[0][1])\n",
    "    \n",
    "    return row\n",
    "\n",
    "uplifted = df_peaks.apply(liftover, axis=1)\n",
    "#df_peaks.iloc[0,0]\n",
    "\n",
    "# Deleting rows that can't be uplifted\n",
    "ind_row_to_delete = [x.name for x in row_to_delete]\n",
    "ind_row_to_delete = list(set(ind_row_to_delete))\n",
    "len(ind_row_to_delete)\n",
    "uplifted.drop(ind_row_to_delete, inplace=True)\n",
    "# uplifted.to_csv('peaks.min_peak_score_0.6.thresh_0.5.csv')\n",
    "uplifted.head()"
   ]
  },
  {
   "cell_type": "code",
   "execution_count": 79,
   "metadata": {},
   "outputs": [
    {
     "data": {
      "application/vnd.jupyter.widget-view+json": {
       "model_id": "8368216c363742d69a5b53a4fdda5601",
       "version_major": 2,
       "version_minor": 0
      },
      "text/html": [
       "<p>Failed to display Jupyter Widget of type <code>HBox</code>.</p>\n",
       "<p>\n",
       "  If you're reading this message in the Jupyter Notebook or JupyterLab Notebook, it may mean\n",
       "  that the widgets JavaScript is still loading. If this message persists, it\n",
       "  likely means that the widgets JavaScript library is either not installed or\n",
       "  not enabled. See the <a href=\"https://ipywidgets.readthedocs.io/en/stable/user_install.html\">Jupyter\n",
       "  Widgets Documentation</a> for setup instructions.\n",
       "</p>\n",
       "<p>\n",
       "  If you're reading this message in another frontend (for example, a static\n",
       "  rendering on GitHub or <a href=\"https://nbviewer.jupyter.org/\">NBViewer</a>),\n",
       "  it may mean that your frontend doesn't currently support widgets.\n",
       "</p>\n"
      ],
      "text/plain": [
       "HBox(children=(IntProgress(value=0, max=1000000), HTML(value='')))"
      ]
     },
     "metadata": {},
     "output_type": "display_data"
    },
    {
     "name": "stdout",
     "output_type": "stream",
     "text": [
      "\n"
     ]
    },
    {
     "data": {
      "text/html": [
       "<div>\n",
       "<style scoped>\n",
       "    .dataframe tbody tr th:only-of-type {\n",
       "        vertical-align: middle;\n",
       "    }\n",
       "\n",
       "    .dataframe tbody tr th {\n",
       "        vertical-align: top;\n",
       "    }\n",
       "\n",
       "    .dataframe thead th {\n",
       "        text-align: right;\n",
       "    }\n",
       "</style>\n",
       "<table border=\"1\" class=\"dataframe\">\n",
       "  <thead>\n",
       "    <tr style=\"text-align: right;\">\n",
       "      <th></th>\n",
       "      <th>start</th>\n",
       "      <th>end</th>\n",
       "      <th>len_stem</th>\n",
       "      <th>len_loop</th>\n",
       "    </tr>\n",
       "  </thead>\n",
       "  <tbody>\n",
       "    <tr>\n",
       "      <th>0</th>\n",
       "      <td>10476</td>\n",
       "      <td>10510</td>\n",
       "      <td>16</td>\n",
       "      <td>6</td>\n",
       "    </tr>\n",
       "    <tr>\n",
       "      <th>1</th>\n",
       "      <td>10476</td>\n",
       "      <td>10511</td>\n",
       "      <td>16</td>\n",
       "      <td>7</td>\n",
       "    </tr>\n",
       "    <tr>\n",
       "      <th>2</th>\n",
       "      <td>10476</td>\n",
       "      <td>10511</td>\n",
       "      <td>16</td>\n",
       "      <td>6</td>\n",
       "    </tr>\n",
       "    <tr>\n",
       "      <th>3</th>\n",
       "      <td>10500</td>\n",
       "      <td>10533</td>\n",
       "      <td>16</td>\n",
       "      <td>4</td>\n",
       "    </tr>\n",
       "    <tr>\n",
       "      <th>4</th>\n",
       "      <td>10500</td>\n",
       "      <td>10533</td>\n",
       "      <td>16</td>\n",
       "      <td>3</td>\n",
       "    </tr>\n",
       "  </tbody>\n",
       "</table>\n",
       "</div>"
      ],
      "text/plain": [
       "   start    end  len_stem  len_loop\n",
       "0  10476  10510        16         6\n",
       "1  10476  10511        16         7\n",
       "2  10476  10511        16         6\n",
       "3  10500  10533        16         4\n",
       "4  10500  10533        16         3"
      ]
     },
     "execution_count": 79,
     "metadata": {},
     "output_type": "execute_result"
    }
   ],
   "source": [
    "\n",
    "base_path = \"/home/shared/STEMLOOPS/hg19/S15-30_L0-10_M5\"\n",
    "filename = \"chr1.fna.S15-30_L0-10_M5.pal\"\n",
    "path_to_file = os.path.join(base_path, filename)\n",
    "with open(path_to_file , 'r') as f:\n",
    "#     next(f)  # if there is description line\n",
    "    splitted = f.read().split('\\n')  # raw file separated by \\n's\n",
    "\n",
    "from tqdm import tqdm_notebook as tqdm\n",
    "cols = ['start', 'end', 'len_stem', 'len_loop']#, 'seq_left', 'seq_right', 'full_seq', '1', '2', '3']\n",
    "df = pd.DataFrame([sub.split(\"\\t\")[:4] for sub in tqdm(splitted[:1000000])], columns=cols)  # TODO: full file (30 times bigger)\n",
    "df = df.apply(pd.to_numeric)\n",
    "df.head()"
   ]
  },
  {
   "cell_type": "code",
   "execution_count": null,
   "metadata": {},
   "outputs": [],
   "source": [
    "cumsum_arr = np.zeros((1000))\n",
    "\n",
    "for peak_pos in tqdm(pd.to_numeric(uplifted.peak_pos)):\n",
    "    temp_df = df[(df['start']> peak_pos-500) & (df['end']< peak_pos+500)]\n",
    "    for ind, row in temp_df.iterrows():\n",
    "        for i in range(int(row['start']) - peak_pos + 500, int(row['end']) - peak_pos + 500):\n",
    "            cumsum_arr[i] +=1\n",
    "# cumsum_arr\n",
    "\n",
    "x = np.arange(-500, 500)\n",
    "plt.plot(x, cumsum_arr)\n",
    "plt.ylabel('Number of sec. structures')\n",
    "plt.xlabel('Centered position')\n",
    "plt.savefig('Chr1_S15-30_centered_plot.png')"
   ]
  },
  {
   "cell_type": "markdown",
   "metadata": {},
   "source": [
    "### Because S15-30 gave irrelevant result, we'll test S16-30"
   ]
  },
  {
   "cell_type": "code",
   "execution_count": 82,
   "metadata": {},
   "outputs": [
    {
     "data": {
      "application/vnd.jupyter.widget-view+json": {
       "model_id": "e61652f7b5fe41c6ab1ee9e162ce3bc9",
       "version_major": 2,
       "version_minor": 0
      },
      "text/html": [
       "<p>Failed to display Jupyter Widget of type <code>HBox</code>.</p>\n",
       "<p>\n",
       "  If you're reading this message in the Jupyter Notebook or JupyterLab Notebook, it may mean\n",
       "  that the widgets JavaScript is still loading. If this message persists, it\n",
       "  likely means that the widgets JavaScript library is either not installed or\n",
       "  not enabled. See the <a href=\"https://ipywidgets.readthedocs.io/en/stable/user_install.html\">Jupyter\n",
       "  Widgets Documentation</a> for setup instructions.\n",
       "</p>\n",
       "<p>\n",
       "  If you're reading this message in another frontend (for example, a static\n",
       "  rendering on GitHub or <a href=\"https://nbviewer.jupyter.org/\">NBViewer</a>),\n",
       "  it may mean that your frontend doesn't currently support widgets.\n",
       "</p>\n"
      ],
      "text/plain": [
       "HBox(children=(IntProgress(value=0, max=100048), HTML(value='')))"
      ]
     },
     "metadata": {},
     "output_type": "display_data"
    },
    {
     "name": "stdout",
     "output_type": "stream",
     "text": [
      "\n"
     ]
    },
    {
     "data": {
      "text/html": [
       "<div>\n",
       "<style scoped>\n",
       "    .dataframe tbody tr th:only-of-type {\n",
       "        vertical-align: middle;\n",
       "    }\n",
       "\n",
       "    .dataframe tbody tr th {\n",
       "        vertical-align: top;\n",
       "    }\n",
       "\n",
       "    .dataframe thead th {\n",
       "        text-align: right;\n",
       "    }\n",
       "</style>\n",
       "<table border=\"1\" class=\"dataframe\">\n",
       "  <thead>\n",
       "    <tr style=\"text-align: right;\">\n",
       "      <th></th>\n",
       "      <th>start</th>\n",
       "      <th>end</th>\n",
       "      <th>len_stem</th>\n",
       "      <th>len_loop</th>\n",
       "    </tr>\n",
       "  </thead>\n",
       "  <tbody>\n",
       "    <tr>\n",
       "      <th>0</th>\n",
       "      <td>10631.0</td>\n",
       "      <td>10680.0</td>\n",
       "      <td>21.0</td>\n",
       "      <td>10.0</td>\n",
       "    </tr>\n",
       "    <tr>\n",
       "      <th>1</th>\n",
       "      <td>10660.0</td>\n",
       "      <td>10709.0</td>\n",
       "      <td>21.0</td>\n",
       "      <td>10.0</td>\n",
       "    </tr>\n",
       "    <tr>\n",
       "      <th>2</th>\n",
       "      <td>10689.0</td>\n",
       "      <td>10738.0</td>\n",
       "      <td>21.0</td>\n",
       "      <td>10.0</td>\n",
       "    </tr>\n",
       "    <tr>\n",
       "      <th>3</th>\n",
       "      <td>10718.0</td>\n",
       "      <td>10767.0</td>\n",
       "      <td>21.0</td>\n",
       "      <td>10.0</td>\n",
       "    </tr>\n",
       "    <tr>\n",
       "      <th>4</th>\n",
       "      <td>10747.0</td>\n",
       "      <td>10796.0</td>\n",
       "      <td>21.0</td>\n",
       "      <td>10.0</td>\n",
       "    </tr>\n",
       "  </tbody>\n",
       "</table>\n",
       "</div>"
      ],
      "text/plain": [
       "     start      end  len_stem  len_loop\n",
       "0  10631.0  10680.0      21.0      10.0\n",
       "1  10660.0  10709.0      21.0      10.0\n",
       "2  10689.0  10738.0      21.0      10.0\n",
       "3  10718.0  10767.0      21.0      10.0\n",
       "4  10747.0  10796.0      21.0      10.0"
      ]
     },
     "execution_count": 82,
     "metadata": {},
     "output_type": "execute_result"
    }
   ],
   "source": [
    "base_path = \"/home/shared/STEMLOOPS/hg19/S16-50_L0-10_M3\"\n",
    "filename = \"chr1.fa.S16-50_L0-10_M3.pal.cleaned\"\n",
    "path_to_file = os.path.join(base_path, filename)\n",
    "with open(path_to_file , 'r') as f:\n",
    "#     next(f)  # if there is description line\n",
    "    splitted = f.read().split('\\n')  # raw file separated by \\n's\n",
    "\n",
    "cols = ['start', 'end', 'len_stem', 'len_loop']#, 'seq_left', 'seq_right', 'full_seq', '1', '2', '3']\n",
    "df = pd.DataFrame([sub.split(\"\\t\")[:4] for sub in tqdm(splitted)], columns=cols)  # TODO: full file (30 times bigger)\n",
    "df = df.apply(pd.to_numeric)\n",
    "df.head()"
   ]
  },
  {
   "cell_type": "code",
   "execution_count": 84,
   "metadata": {},
   "outputs": [
    {
     "data": {
      "application/vnd.jupyter.widget-view+json": {
       "model_id": "a3d2f3fcff974dfab389970eaa9ee71c",
       "version_major": 2,
       "version_minor": 0
      },
      "text/html": [
       "<p>Failed to display Jupyter Widget of type <code>HBox</code>.</p>\n",
       "<p>\n",
       "  If you're reading this message in the Jupyter Notebook or JupyterLab Notebook, it may mean\n",
       "  that the widgets JavaScript is still loading. If this message persists, it\n",
       "  likely means that the widgets JavaScript library is either not installed or\n",
       "  not enabled. See the <a href=\"https://ipywidgets.readthedocs.io/en/stable/user_install.html\">Jupyter\n",
       "  Widgets Documentation</a> for setup instructions.\n",
       "</p>\n",
       "<p>\n",
       "  If you're reading this message in another frontend (for example, a static\n",
       "  rendering on GitHub or <a href=\"https://nbviewer.jupyter.org/\">NBViewer</a>),\n",
       "  it may mean that your frontend doesn't currently support widgets.\n",
       "</p>\n"
      ],
      "text/plain": [
       "HBox(children=(IntProgress(value=0, max=1037767), HTML(value='')))"
      ]
     },
     "metadata": {},
     "output_type": "display_data"
    },
    {
     "name": "stdout",
     "output_type": "stream",
     "text": [
      "\n"
     ]
    },
    {
     "data": {
      "image/png": "[encoded data removed]",
      "text/plain": [
       "<matplotlib.figure.Figure at 0x7fc5e8c82d30>"
      ]
     },
     "metadata": {},
     "output_type": "display_data"
    }
   ],
   "source": [
    "cumsum_arr = np.zeros((1000))\n",
    "\n",
    "for peak_pos in tqdm(pd.to_numeric(uplifted.peak_pos)):\n",
    "    temp_df = df[(df['start']> peak_pos-500) & (df['end']< peak_pos+500)]\n",
    "    for ind, row in temp_df.iterrows():\n",
    "        for i in range(int(row['start']) - peak_pos + 500, int(row['end']) - peak_pos + 500):\n",
    "            cumsum_arr[i] +=1\n",
    "# cumsum_arr\n",
    "\n",
    "x = np.arange(-500, 500)\n",
    "plt.plot(x, cumsum_arr)\n",
    "plt.ylabel('Number of sec. structures')\n",
    "plt.xlabel('Centered position')\n",
    "plt.savefig('Chr1_S16-50_centered_plot.png')"
   ]
  },
  {
   "cell_type": "markdown",
   "metadata": {},
   "source": [
    "### It's better. Let's check quadruplexes:"
   ]
  },
  {
   "cell_type": "code",
   "execution_count": 99,
   "metadata": {},
   "outputs": [
    {
     "data": {
      "text/html": [
       "<div>\n",
       "<style scoped>\n",
       "    .dataframe tbody tr th:only-of-type {\n",
       "        vertical-align: middle;\n",
       "    }\n",
       "\n",
       "    .dataframe tbody tr th {\n",
       "        vertical-align: top;\n",
       "    }\n",
       "\n",
       "    .dataframe thead th {\n",
       "        text-align: right;\n",
       "    }\n",
       "</style>\n",
       "<table border=\"1\" class=\"dataframe\">\n",
       "  <thead>\n",
       "    <tr style=\"text-align: right;\">\n",
       "      <th></th>\n",
       "      <th>start</th>\n",
       "      <th>end</th>\n",
       "    </tr>\n",
       "  </thead>\n",
       "  <tbody>\n",
       "    <tr>\n",
       "      <th>34898</th>\n",
       "      <td>249123916</td>\n",
       "      <td>249123941</td>\n",
       "    </tr>\n",
       "    <tr>\n",
       "      <th>34899</th>\n",
       "      <td>249155610</td>\n",
       "      <td>249155635</td>\n",
       "    </tr>\n",
       "    <tr>\n",
       "      <th>34900</th>\n",
       "      <td>249197010</td>\n",
       "      <td>249197036</td>\n",
       "    </tr>\n",
       "    <tr>\n",
       "      <th>34901</th>\n",
       "      <td>249239808</td>\n",
       "      <td>249239833</td>\n",
       "    </tr>\n",
       "    <tr>\n",
       "      <th>34902</th>\n",
       "      <td>249240358</td>\n",
       "      <td>249240380</td>\n",
       "    </tr>\n",
       "  </tbody>\n",
       "</table>\n",
       "</div>"
      ],
      "text/plain": [
       "           start        end\n",
       "34898  249123916  249123941\n",
       "34899  249155610  249155635\n",
       "34900  249197010  249197036\n",
       "34901  249239808  249239833\n",
       "34902  249240358  249240380"
      ]
     },
     "execution_count": 99,
     "metadata": {},
     "output_type": "execute_result"
    }
   ],
   "source": [
    "base_path = \"/home/konovalovdmitry/results\"\n",
    "filename = \"chr1.out\"\n",
    "path_to_file = os.path.join(base_path, filename)\n",
    "df = pd.read_csv(path_to_file, sep=' ', header=None)#, usecols=['chr', 'start', 'end', 'seq'])\n",
    "cols = ['chr', 'start', 'end', 'seq']\n",
    "df.columns = cols\n",
    "df.drop(['seq', 'chr'], axis=1, inplace=True)\n",
    "df = df.apply(pd.to_numeric)\n",
    "df.tail()"
   ]
  },
  {
   "cell_type": "code",
   "execution_count": 100,
   "metadata": {},
   "outputs": [
    {
     "data": {
      "application/vnd.jupyter.widget-view+json": {
       "model_id": "bf4905ce2662477aa16e9118384b6bae",
       "version_major": 2,
       "version_minor": 0
      },
      "text/html": [
       "<p>Failed to display Jupyter Widget of type <code>HBox</code>.</p>\n",
       "<p>\n",
       "  If you're reading this message in the Jupyter Notebook or JupyterLab Notebook, it may mean\n",
       "  that the widgets JavaScript is still loading. If this message persists, it\n",
       "  likely means that the widgets JavaScript library is either not installed or\n",
       "  not enabled. See the <a href=\"https://ipywidgets.readthedocs.io/en/stable/user_install.html\">Jupyter\n",
       "  Widgets Documentation</a> for setup instructions.\n",
       "</p>\n",
       "<p>\n",
       "  If you're reading this message in another frontend (for example, a static\n",
       "  rendering on GitHub or <a href=\"https://nbviewer.jupyter.org/\">NBViewer</a>),\n",
       "  it may mean that your frontend doesn't currently support widgets.\n",
       "</p>\n"
      ],
      "text/plain": [
       "HBox(children=(IntProgress(value=0, max=1037767), HTML(value='')))"
      ]
     },
     "metadata": {},
     "output_type": "display_data"
    },
    {
     "name": "stdout",
     "output_type": "stream",
     "text": [
      "\n"
     ]
    },
    {
     "data": {
      "image/png": "[encoded data removed]",
      "text/plain": [
       "<matplotlib.figure.Figure at 0x7fc5e8d27908>"
      ]
     },
     "metadata": {},
     "output_type": "display_data"
    }
   ],
   "source": [
    "cumsum_arr = np.zeros((1000))\n",
    "\n",
    "for peak_pos in tqdm(pd.to_numeric(uplifted.peak_pos)):\n",
    "    temp_df = df[(df['start']> peak_pos-500) & (df['end']< peak_pos+500)]\n",
    "    for ind, row in temp_df.iterrows():\n",
    "        for i in range(int(row['start']) - peak_pos + 500, int(row['end']) - peak_pos + 500):\n",
    "            cumsum_arr[i] +=1\n",
    "# cumsum_arr\n",
    "\n",
    "x = np.arange(-500, 500)\n",
    "plt.plot(x, cumsum_arr)\n",
    "plt.ylabel('Number of sec. structures')\n",
    "plt.xlabel('Centered position')\n",
    "plt.savefig('Chr1_quadruplexes_centered_plot.png')"
   ]
  },
  {
   "cell_type": "markdown",
   "metadata": {},
   "source": [
    "### Hmm"
   ]
  }
 ],
 "metadata": {
  "kernelspec": {
   "display_name": "Python 3",
   "language": "python",
   "name": "python3"
  },
  "language_info": {
   "codemirror_mode": {
    "name": "ipython",
    "version": 3
   },
   "file_extension": ".py",
   "mimetype": "text/x-python",
   "name": "python",
   "nbconvert_exporter": "python",
   "pygments_lexer": "ipython3",
   "version": "3.6.0"
  }
 },
 "nbformat": 4,
 "nbformat_minor": 2
}
